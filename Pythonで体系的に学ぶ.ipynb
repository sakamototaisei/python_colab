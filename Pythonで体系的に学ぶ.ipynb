{
  "nbformat": 4,
  "nbformat_minor": 0,
  "metadata": {
    "colab": {
      "provenance": [],
      "toc_visible": true,
      "authorship_tag": "ABX9TyMr/9nWMtShCmWwAGb1zSjb",
      "include_colab_link": true
    },
    "kernelspec": {
      "name": "python3",
      "display_name": "Python 3"
    },
    "language_info": {
      "name": "python"
    }
  },
  "cells": [
    {
      "cell_type": "markdown",
      "metadata": {
        "id": "view-in-github",
        "colab_type": "text"
      },
      "source": [
        "<a href=\"https://colab.research.google.com/github/sakamototaisei/python_colab/blob/main/Python%E3%81%A7%E4%BD%93%E7%B3%BB%E7%9A%84%E3%81%AB%E5%AD%A6%E3%81%B6.ipynb\" target=\"_parent\"><img src=\"https://colab.research.google.com/assets/colab-badge.svg\" alt=\"Open In Colab\"/></a>"
      ]
    },
    {
      "cell_type": "markdown",
      "source": [
        "# **変数に関するクイズ**"
      ],
      "metadata": {
        "id": "W7o1J9K2wSGV"
      }
    },
    {
      "cell_type": "markdown",
      "source": [
        "aの値とbの値を入れ替えたい"
      ],
      "metadata": {
        "id": "ZaUPue1Wwpx_"
      }
    },
    {
      "cell_type": "code",
      "execution_count": 2,
      "metadata": {
        "colab": {
          "base_uri": "https://localhost:8080/"
        },
        "id": "CTnNl-8uvwJO",
        "outputId": "c717fd66-b465-41d8-d091-a8684e870975"
      },
      "outputs": [
        {
          "output_type": "stream",
          "name": "stdout",
          "text": [
            "a = 3, b = 5\n",
            "a = 5, b = 3\n"
          ]
        }
      ],
      "source": [
        "a = 3\n",
        "b = 5\n",
        "print(f'a = {a}, b = {b}')\n",
        "tmp = a\n",
        "a = b\n",
        "b = tmp\n",
        "print(f'a = {a}, b = {b}')"
      ]
    },
    {
      "cell_type": "code",
      "source": [],
      "metadata": {
        "id": "7SfjPvOdw93y"
      },
      "execution_count": null,
      "outputs": []
    }
  ]
}