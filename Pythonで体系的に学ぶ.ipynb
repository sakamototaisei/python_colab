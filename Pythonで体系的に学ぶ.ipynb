{
  "nbformat": 4,
  "nbformat_minor": 0,
  "metadata": {
    "colab": {
      "provenance": [],
      "collapsed_sections": [
        "W7o1J9K2wSGV",
        "EIAf-gqxxn1L",
        "RuPM_65Nz-yk",
        "sieShFT8LQpv",
        "a8K4ppsPLG5J",
        "42rzCfTAN2z6",
        "vRwFnq96ODGw",
        "-Hq6x8QFPjV3",
        "UAzJhkPlQGw6"
      ],
      "toc_visible": true,
      "authorship_tag": "ABX9TyOP1aliY/DxTRhah0mSh010",
      "include_colab_link": true
    },
    "kernelspec": {
      "name": "python3",
      "display_name": "Python 3"
    },
    "language_info": {
      "name": "python"
    }
  },
  "cells": [
    {
      "cell_type": "markdown",
      "metadata": {
        "id": "view-in-github",
        "colab_type": "text"
      },
      "source": [
        "<a href=\"https://colab.research.google.com/github/sakamototaisei/python_colab/blob/main/Python%E3%81%A7%E4%BD%93%E7%B3%BB%E7%9A%84%E3%81%AB%E5%AD%A6%E3%81%B6.ipynb\" target=\"_parent\"><img src=\"https://colab.research.google.com/assets/colab-badge.svg\" alt=\"Open In Colab\"/></a>"
      ]
    },
    {
      "cell_type": "markdown",
      "source": [
        "# **変数に関するクイズ**"
      ],
      "metadata": {
        "id": "W7o1J9K2wSGV"
      }
    },
    {
      "cell_type": "markdown",
      "source": [
        "aの値とbの値を入れ替えたい"
      ],
      "metadata": {
        "id": "ZaUPue1Wwpx_"
      }
    },
    {
      "cell_type": "code",
      "execution_count": null,
      "metadata": {
        "colab": {
          "base_uri": "https://localhost:8080/"
        },
        "id": "CTnNl-8uvwJO",
        "outputId": "c717fd66-b465-41d8-d091-a8684e870975"
      },
      "outputs": [
        {
          "output_type": "stream",
          "name": "stdout",
          "text": [
            "a = 3, b = 5\n",
            "a = 5, b = 3\n"
          ]
        }
      ],
      "source": [
        "a = 3\n",
        "b = 5\n",
        "print(f'a = {a}, b = {b}')\n",
        "tmp = a\n",
        "a = b\n",
        "b = tmp\n",
        "print(f'a = {a}, b = {b}')"
      ]
    },
    {
      "cell_type": "code",
      "source": [
        "c = 10\n",
        "d = 1\n",
        "print(f'c = {c}, d = {d}')\n",
        "c, d = d, c\n",
        "print(f'c = {c}, d = {d}')"
      ],
      "metadata": {
        "colab": {
          "base_uri": "https://localhost:8080/"
        },
        "id": "7SfjPvOdw93y",
        "outputId": "1c3340b1-0e03-4ddf-bfc0-1cfe9a731a9f"
      },
      "execution_count": null,
      "outputs": [
        {
          "output_type": "stream",
          "name": "stdout",
          "text": [
            "c = 10, d = 1\n",
            "c = 1, d = 10\n"
          ]
        }
      ]
    },
    {
      "cell_type": "markdown",
      "source": [
        "# **参照割り当て**"
      ],
      "metadata": {
        "id": "EIAf-gqxxn1L"
      }
    },
    {
      "cell_type": "markdown",
      "source": [
        "参照とはデータを指し示す名前やアドレスのこと\n",
        "\n",
        "以下では、aが示すメモリ空間上のアドレス位置に整数型のオブジェクトである1を割り当てている"
      ],
      "metadata": {
        "id": "gZ0QEKJQxt5L"
      }
    },
    {
      "cell_type": "code",
      "source": [
        "a = 1\n",
        "print(id(a))"
      ],
      "metadata": {
        "colab": {
          "base_uri": "https://localhost:8080/"
        },
        "id": "0AVaznL2xjMD",
        "outputId": "13bb7d62-0004-456a-b2bf-19f3f4d36f17"
      },
      "execution_count": null,
      "outputs": [
        {
          "output_type": "stream",
          "name": "stdout",
          "text": [
            "140094139547888\n"
          ]
        }
      ]
    },
    {
      "cell_type": "code",
      "source": [
        "b = 2\n",
        "print(id(b))"
      ],
      "metadata": {
        "colab": {
          "base_uri": "https://localhost:8080/"
        },
        "id": "m1jSHadzx-_t",
        "outputId": "cc1330b9-0484-4da8-8ab3-f3d468fa4f5c"
      },
      "execution_count": null,
      "outputs": [
        {
          "output_type": "stream",
          "name": "stdout",
          "text": [
            "140094139547920\n"
          ]
        }
      ]
    },
    {
      "cell_type": "code",
      "source": [
        "c = b\n",
        "# cはbと同じアドレス先となっている\n",
        "print(id(c))"
      ],
      "metadata": {
        "colab": {
          "base_uri": "https://localhost:8080/"
        },
        "id": "tfBXUr9eyI4X",
        "outputId": "07c4a900-94c9-4156-d55a-4e7629ee379f"
      },
      "execution_count": null,
      "outputs": [
        {
          "output_type": "stream",
          "name": "stdout",
          "text": [
            "140094139547920\n"
          ]
        }
      ]
    },
    {
      "cell_type": "markdown",
      "source": [
        "参照の割り当てが起きて、変数bの別名として変数cができたということ\n",
        "\n",
        "どちらも整数型のオブジェクト2を参照している"
      ],
      "metadata": {
        "id": "H8lAvaopyevX"
      }
    },
    {
      "cell_type": "code",
      "source": [
        "b == c"
      ],
      "metadata": {
        "colab": {
          "base_uri": "https://localhost:8080/"
        },
        "id": "Z9QnAooSyMaQ",
        "outputId": "c484f147-6172-4284-853a-1a7a2f6c9bda"
      },
      "execution_count": null,
      "outputs": [
        {
          "output_type": "execute_result",
          "data": {
            "text/plain": [
              "True"
            ]
          },
          "metadata": {},
          "execution_count": 11
        }
      ]
    },
    {
      "cell_type": "code",
      "source": [
        "b is c"
      ],
      "metadata": {
        "colab": {
          "base_uri": "https://localhost:8080/"
        },
        "id": "ALar94t0yssi",
        "outputId": "0a93fcd7-86a5-4512-9ce1-e717523549b6"
      },
      "execution_count": null,
      "outputs": [
        {
          "output_type": "execute_result",
          "data": {
            "text/plain": [
              "True"
            ]
          },
          "metadata": {},
          "execution_count": 12
        }
      ]
    },
    {
      "cell_type": "code",
      "source": [
        "d = 2\n",
        "print(id(d))\n",
        "d = 7\n",
        "print(id(d))"
      ],
      "metadata": {
        "colab": {
          "base_uri": "https://localhost:8080/"
        },
        "id": "x9QEOEO9yvly",
        "outputId": "9647902e-bf74-4bc0-f3ca-5ef7a6fe0fd6"
      },
      "execution_count": null,
      "outputs": [
        {
          "output_type": "stream",
          "name": "stdout",
          "text": [
            "140094139547920\n",
            "140094139548080\n"
          ]
        }
      ]
    },
    {
      "cell_type": "markdown",
      "source": [
        "# **ブーリアン型と論理演算子**"
      ],
      "metadata": {
        "id": "RuPM_65Nz-yk"
      }
    },
    {
      "cell_type": "code",
      "source": [
        "# ド・モルガンの法則\n",
        "p = True\n",
        "q = False"
      ],
      "metadata": {
        "id": "rXKyfBl6y19-"
      },
      "execution_count": null,
      "outputs": []
    },
    {
      "cell_type": "code",
      "source": [
        "print(not (p or q))\n",
        "print((not p) and (not q))\n",
        "print(not (p and q))\n",
        "print((not p) or (not q))"
      ],
      "metadata": {
        "colab": {
          "base_uri": "https://localhost:8080/"
        },
        "id": "IJ4R80-f0Qoe",
        "outputId": "cd2af526-9a15-4358-ee71-044ac22b81dc"
      },
      "execution_count": null,
      "outputs": [
        {
          "output_type": "stream",
          "name": "stdout",
          "text": [
            "False\n",
            "False\n",
            "True\n",
            "True\n"
          ]
        }
      ]
    },
    {
      "cell_type": "code",
      "source": [
        "# NAND\n",
        "p = True\n",
        "q = True\n",
        "print(not (p and q))"
      ],
      "metadata": {
        "colab": {
          "base_uri": "https://localhost:8080/"
        },
        "id": "9DpRnFuI0VFC",
        "outputId": "bed9db5f-1709-4124-eeda-30bf9e22aeb5"
      },
      "execution_count": null,
      "outputs": [
        {
          "output_type": "stream",
          "name": "stdout",
          "text": [
            "False\n"
          ]
        }
      ]
    },
    {
      "cell_type": "code",
      "source": [
        "# XOR 排他的論理和\n",
        "p = True\n",
        "q = False\n",
        "print((p and not q) or (not p and q))"
      ],
      "metadata": {
        "colab": {
          "base_uri": "https://localhost:8080/"
        },
        "id": "w1oi34GM08tu",
        "outputId": "e5ff10c2-36ed-42c1-b8f1-2bcbf5eeda45"
      },
      "execution_count": null,
      "outputs": [
        {
          "output_type": "stream",
          "name": "stdout",
          "text": [
            "True\n"
          ]
        }
      ]
    },
    {
      "cell_type": "markdown",
      "source": [
        "# **構造化プログラミング**"
      ],
      "metadata": {
        "id": "sieShFT8LQpv"
      }
    },
    {
      "cell_type": "markdown",
      "source": [
        "## **繰り返し構造、様々なループ**"
      ],
      "metadata": {
        "id": "a8K4ppsPLG5J"
      }
    },
    {
      "cell_type": "code",
      "source": [
        "a = [0, 1, 2, 3, 4, 5]\n",
        "for i, x in enumerate(a):\n",
        "    print(f'i = {i}, x = {x}')"
      ],
      "metadata": {
        "colab": {
          "base_uri": "https://localhost:8080/"
        },
        "id": "jvRf4ys61HTB",
        "outputId": "9edde652-ac9e-4c5b-82f6-716f4d9818bd"
      },
      "execution_count": null,
      "outputs": [
        {
          "output_type": "stream",
          "name": "stdout",
          "text": [
            "i = 0, x = 0\n",
            "i = 1, x = 1\n",
            "i = 2, x = 2\n",
            "i = 3, x = 3\n",
            "i = 4, x = 4\n",
            "i = 5, x = 5\n"
          ]
        }
      ]
    },
    {
      "cell_type": "code",
      "source": [
        "b = [1, 2, 3, 4, 5]\n",
        "c = [6, 7, 8, 9, 10]\n",
        "for x, y in zip(b, c):\n",
        "    print(f'b = {x}, c = {y}')"
      ],
      "metadata": {
        "colab": {
          "base_uri": "https://localhost:8080/"
        },
        "id": "gVJg1C6OLni1",
        "outputId": "ba9ed5c4-f5ee-466a-ad69-29a76edf704b"
      },
      "execution_count": null,
      "outputs": [
        {
          "output_type": "stream",
          "name": "stdout",
          "text": [
            "b = 1, c = 6\n",
            "b = 2, c = 7\n",
            "b = 3, c = 8\n",
            "b = 4, c = 9\n",
            "b = 5, c = 10\n"
          ]
        }
      ]
    },
    {
      "cell_type": "code",
      "source": [
        "# 2重ループによる九九の表を作成する\n",
        "for i in range(1, 10):\n",
        "    for j in range(1, 10):\n",
        "        print(f'{i} * {j} = {i*j}', end='■')\n",
        "    print()"
      ],
      "metadata": {
        "colab": {
          "base_uri": "https://localhost:8080/"
        },
        "id": "6OCOztwoL7hK",
        "outputId": "eef0c396-3eea-4391-8b82-198af09a8d7a"
      },
      "execution_count": null,
      "outputs": [
        {
          "output_type": "stream",
          "name": "stdout",
          "text": [
            "1 * 1 = 1■1 * 2 = 2■1 * 3 = 3■1 * 4 = 4■1 * 5 = 5■1 * 6 = 6■1 * 7 = 7■1 * 8 = 8■1 * 9 = 9■\n",
            "2 * 1 = 2■2 * 2 = 4■2 * 3 = 6■2 * 4 = 8■2 * 5 = 10■2 * 6 = 12■2 * 7 = 14■2 * 8 = 16■2 * 9 = 18■\n",
            "3 * 1 = 3■3 * 2 = 6■3 * 3 = 9■3 * 4 = 12■3 * 5 = 15■3 * 6 = 18■3 * 7 = 21■3 * 8 = 24■3 * 9 = 27■\n",
            "4 * 1 = 4■4 * 2 = 8■4 * 3 = 12■4 * 4 = 16■4 * 5 = 20■4 * 6 = 24■4 * 7 = 28■4 * 8 = 32■4 * 9 = 36■\n",
            "5 * 1 = 5■5 * 2 = 10■5 * 3 = 15■5 * 4 = 20■5 * 5 = 25■5 * 6 = 30■5 * 7 = 35■5 * 8 = 40■5 * 9 = 45■\n",
            "6 * 1 = 6■6 * 2 = 12■6 * 3 = 18■6 * 4 = 24■6 * 5 = 30■6 * 6 = 36■6 * 7 = 42■6 * 8 = 48■6 * 9 = 54■\n",
            "7 * 1 = 7■7 * 2 = 14■7 * 3 = 21■7 * 4 = 28■7 * 5 = 35■7 * 6 = 42■7 * 7 = 49■7 * 8 = 56■7 * 9 = 63■\n",
            "8 * 1 = 8■8 * 2 = 16■8 * 3 = 24■8 * 4 = 32■8 * 5 = 40■8 * 6 = 48■8 * 7 = 56■8 * 8 = 64■8 * 9 = 72■\n",
            "9 * 1 = 9■9 * 2 = 18■9 * 3 = 27■9 * 4 = 36■9 * 5 = 45■9 * 6 = 54■9 * 7 = 63■9 * 8 = 72■9 * 9 = 81■\n"
          ]
        }
      ]
    },
    {
      "cell_type": "code",
      "source": [
        "while True:\n",
        "    try:\n",
        "        x = int(input('Please enter a number: '))\n",
        "        print(x)\n",
        "        break\n",
        "    except:\n",
        "        print('Try agein.')"
      ],
      "metadata": {
        "colab": {
          "base_uri": "https://localhost:8080/"
        },
        "id": "VYQJMgIHMaVS",
        "outputId": "60ecb3cb-75b8-4d1f-fff0-7c8db38f24c5"
      },
      "execution_count": null,
      "outputs": [
        {
          "output_type": "stream",
          "name": "stdout",
          "text": [
            "Please enter a number: g\n",
            "Try agein.\n",
            "Please enter a number: 1\n",
            "1\n"
          ]
        }
      ]
    },
    {
      "cell_type": "markdown",
      "source": [
        "# **リスト内包表記**"
      ],
      "metadata": {
        "id": "42rzCfTAN2z6"
      }
    },
    {
      "cell_type": "markdown",
      "source": [
        "## **素数の判定**"
      ],
      "metadata": {
        "id": "vRwFnq96ODGw"
      }
    },
    {
      "cell_type": "markdown",
      "source": [
        "素数とは1とその数自身以外では割り切れない数のこと、ただし1は素数ではない"
      ],
      "metadata": {
        "id": "q9EL4vAkOG0e"
      }
    },
    {
      "cell_type": "code",
      "source": [
        "n = 7\n",
        "a = True\n",
        "for i in range(2, n):\n",
        "    if n % i == 0:\n",
        "        a = False\n",
        "\n",
        "if(a):\n",
        "    print('素数')\n",
        "else:\n",
        "    print('素数ではない')"
      ],
      "metadata": {
        "colab": {
          "base_uri": "https://localhost:8080/"
        },
        "id": "-7FdJxPMNmJc",
        "outputId": "3e8a3974-c7b3-4a2f-981e-361e422a7ecf"
      },
      "execution_count": null,
      "outputs": [
        {
          "output_type": "stream",
          "name": "stdout",
          "text": [
            "素数\n"
          ]
        }
      ]
    },
    {
      "cell_type": "markdown",
      "source": [
        "## **リスト内包表記**"
      ],
      "metadata": {
        "id": "-Hq6x8QFPjV3"
      }
    },
    {
      "cell_type": "code",
      "source": [
        "x = [1, 2, 3, 4, 5]\n",
        "x_s = [n * n for n in x]\n",
        "print(x_s)"
      ],
      "metadata": {
        "colab": {
          "base_uri": "https://localhost:8080/"
        },
        "id": "p4jnjz-5PLri",
        "outputId": "cf4af2ea-9bf7-4592-efb9-c0b571168ecc"
      },
      "execution_count": null,
      "outputs": [
        {
          "output_type": "stream",
          "name": "stdout",
          "text": [
            "[1, 4, 9, 16, 25]\n"
          ]
        }
      ]
    },
    {
      "cell_type": "code",
      "source": [
        "x = [1, 2, 3, 4, 5]\n",
        "x_s = [n * n for n in x if n % 2 == 0]\n",
        "print(x_s)"
      ],
      "metadata": {
        "colab": {
          "base_uri": "https://localhost:8080/"
        },
        "id": "1YgXv_nXPw9K",
        "outputId": "35f805fd-b35d-40a7-a3b9-7f05c64efb5b"
      },
      "execution_count": null,
      "outputs": [
        {
          "output_type": "stream",
          "name": "stdout",
          "text": [
            "[4, 16]\n"
          ]
        }
      ]
    },
    {
      "cell_type": "markdown",
      "source": [
        "# **誤差**"
      ],
      "metadata": {
        "id": "UAzJhkPlQGw6"
      }
    },
    {
      "cell_type": "code",
      "source": [
        "# 丸め誤差\n",
        "x = 0.0\n",
        "for i in range(1000000):\n",
        "    x += 0.1\n",
        "\n",
        "print(x)"
      ],
      "metadata": {
        "id": "D7JdTiePP308",
        "colab": {
          "base_uri": "https://localhost:8080/"
        },
        "outputId": "83121c1f-8cb2-4f68-d17c-623d474b9a3a"
      },
      "execution_count": 1,
      "outputs": [
        {
          "output_type": "stream",
          "name": "stdout",
          "text": [
            "100000.00000133288\n"
          ]
        }
      ]
    },
    {
      "cell_type": "code",
      "source": [
        "from decimal import *\n",
        "\n",
        "x = Decimal('0.0')\n",
        "\n",
        "for i in range(1000000):\n",
        "    x += Decimal('0.1')\n",
        "\n",
        "print(x)"
      ],
      "metadata": {
        "colab": {
          "base_uri": "https://localhost:8080/"
        },
        "id": "3plIrIiFpRT4",
        "outputId": "5f78ecab-6cea-4d9a-dc6b-d7580ab691c6"
      },
      "execution_count": 2,
      "outputs": [
        {
          "output_type": "stream",
          "name": "stdout",
          "text": [
            "100000.0\n"
          ]
        }
      ]
    },
    {
      "cell_type": "code",
      "source": [
        "# 桁落ちによる誤差\n",
        "import math\n",
        "\n",
        "# 1x10の16乗\n",
        "x = 1e16\n",
        "\n",
        "ans = math.sqrt(x+1) - math.sqrt(x)\n",
        "\n",
        "print(ans)"
      ],
      "metadata": {
        "colab": {
          "base_uri": "https://localhost:8080/"
        },
        "id": "QSE-A4tNplY6",
        "outputId": "1ddb230c-6641-44ed-a11c-cc99eef20e44"
      },
      "execution_count": 3,
      "outputs": [
        {
          "output_type": "stream",
          "name": "stdout",
          "text": [
            "0.0\n"
          ]
        }
      ]
    },
    {
      "cell_type": "code",
      "source": [
        "# 分子の有理化による改善を行う\n",
        "x = 1e16\n",
        "ans = 1 / (math.sqrt(x+1) + math.sqrt(x))\n",
        "print(ans)"
      ],
      "metadata": {
        "colab": {
          "base_uri": "https://localhost:8080/"
        },
        "id": "9RW61x4lqETD",
        "outputId": "40b34115-508b-450d-f4cd-ee513a7712c6"
      },
      "execution_count": 4,
      "outputs": [
        {
          "output_type": "stream",
          "name": "stdout",
          "text": [
            "5e-09\n"
          ]
        }
      ]
    },
    {
      "cell_type": "code",
      "source": [
        "# 情報落ちによる誤差\n",
        "x1 = 1e10\n",
        "x2 = 1e-8\n",
        "for i in range(1000000):\n",
        "    x1 += x2\n",
        "print(x1)"
      ],
      "metadata": {
        "colab": {
          "base_uri": "https://localhost:8080/"
        },
        "id": "yodG9uGcqgEr",
        "outputId": "d8d05e1c-f1dc-4bd6-bcd7-91ab7aefb99e"
      },
      "execution_count": 6,
      "outputs": [
        {
          "output_type": "stream",
          "name": "stdout",
          "text": [
            "10000000000.0\n"
          ]
        }
      ]
    },
    {
      "cell_type": "code",
      "source": [
        "# 計算順序の変更による改善\n",
        "x1 = 1e10\n",
        "x2 = 0\n",
        "for i in range(1000000):\n",
        "    x2 += 1e-8\n",
        "x1 += x2\n",
        "print(x1)"
      ],
      "metadata": {
        "colab": {
          "base_uri": "https://localhost:8080/"
        },
        "id": "rHZmMzIJq1Au",
        "outputId": "04d5c9f2-c489-4eaf-940d-f0c9e1b5abb0"
      },
      "execution_count": 7,
      "outputs": [
        {
          "output_type": "stream",
          "name": "stdout",
          "text": [
            "10000000000.01\n"
          ]
        }
      ]
    },
    {
      "cell_type": "markdown",
      "source": [
        "# **2分法**"
      ],
      "metadata": {
        "id": "86NJHzyyrxH2"
      }
    },
    {
      "cell_type": "code",
      "source": [
        "def f(x):\n",
        "    return x * x -2\n",
        "\n",
        "x1 = 1.0\n",
        "x2 = 2.0\n",
        "while (x2 - x1) * (x2 - x1) > 1e-30:\n",
        "    print(x1, x2)\n",
        "    xmid = (x2 + x1) / 2\n",
        "    if (xmid) > 0:\n",
        "        x2 = xmid\n",
        "    else:\n",
        "        x1 = xmid\n",
        "    print(x1, x2)\n",
        "    print((x1+x2 )/ 2)"
      ],
      "metadata": {
        "id": "Y7tVfbgsrNmo"
      },
      "execution_count": null,
      "outputs": []
    },
    {
      "cell_type": "code",
      "source": [
        "%matplotlib inline\n",
        "import matplotlib.pyplot as plt\n",
        "import numpy as np\n",
        "\n",
        "def f(x):\n",
        "    return x * x -2\n",
        "\n",
        "x = np.arange(1, 2.1, 0.1)\n",
        "y = f(x)\n",
        "\n",
        "plt.plot(x, y, color='r')\n",
        "\n",
        "x1 = 1.0\n",
        "x2 = 2.0\n",
        "plt.axvline(x=x1)\n",
        "plt.axvline(x=x2)\n",
        "plt.axhline(y=0)\n",
        "\n",
        "while (x2 - x1) * (x2 - x1) > 1e-30:\n",
        "    xmid = (x2 + x1) / 2\n",
        "    if (xmid) > 0:\n",
        "        x2 = xmid\n",
        "        plt.axvline(x=x2)\n",
        "    else:\n",
        "        x1 = xmid\n",
        "        plt.axvline(x=x1)"
      ],
      "metadata": {
        "colab": {
          "base_uri": "https://localhost:8080/",
          "height": 430
        },
        "id": "Ljl4DflfsqcR",
        "outputId": "513f90d4-6031-48df-b01e-8b2c7870df9f"
      },
      "execution_count": 10,
      "outputs": [
        {
          "output_type": "display_data",
          "data": {
            "text/plain": [
              "<Figure size 640x480 with 1 Axes>"
            ],
            "image/png": "[encoded data removed]"
          },
          "metadata": {}
        }
      ]
    },
    {
      "cell_type": "code",
      "source": [],
      "metadata": {
        "id": "pyXZiwV3tzQ0"
      },
      "execution_count": 9,
      "outputs": []
    }
  ]
}