{
  "nbformat": 4,
  "nbformat_minor": 0,
  "metadata": {
    "colab": {
      "provenance": [],
      "authorship_tag": "ABX9TyM+mygAWuln5BBMhEPnSp4g",
      "include_colab_link": true
    },
    "kernelspec": {
      "name": "python3",
      "display_name": "Python 3"
    },
    "language_info": {
      "name": "python"
    }
  },
  "cells": [
    {
      "cell_type": "markdown",
      "metadata": {
        "id": "view-in-github",
        "colab_type": "text"
      },
      "source": [
        "<a href=\"https://colab.research.google.com/github/sakamototaisei/python_colab/blob/main/JARVIS_API.ipynb\" target=\"_parent\"><img src=\"https://colab.research.google.com/assets/colab-badge.svg\" alt=\"Open In Colab\"/></a>"
      ]
    },
    {
      "cell_type": "markdown",
      "source": [
        "# **グルメサーチAPIによるホットペッパー掲載データの収集**"
      ],
      "metadata": {
        "id": "gPM22P9IE2Ut"
      }
    },
    {
      "cell_type": "code",
      "execution_count": 1,
      "metadata": {
        "id": "dlS_nXXy-8T4"
      },
      "outputs": [],
      "source": [
        "import requests"
      ]
    },
    {
      "cell_type": "code",
      "source": [
        "URL = 'https://webservice.recruit.co.jp/hotpepper/gourmet/v1'\n",
        "API_KEY = 'a0e17fd871284fa3'"
      ],
      "metadata": {
        "id": "D6P5gKiZHFAr"
      },
      "execution_count": 12,
      "outputs": []
    },
    {
      "cell_type": "code",
      "source": [
        "params = {\n",
        "    'key':API_KEY,\n",
        "    'keyword': '埼玉',\n",
        "    'format': 'json',\n",
        "    'count':100\n",
        "}\n",
        "res = requests.get(URL, params)\n",
        "res.status_code"
      ],
      "metadata": {
        "colab": {
          "base_uri": "https://localhost:8080/"
        },
        "id": "40Noc-qEHbTS",
        "outputId": "65adb517-21da-4557-dca8-6a4add82677c"
      },
      "execution_count": 43,
      "outputs": [
        {
          "output_type": "execute_result",
          "data": {
            "text/plain": [
              "200"
            ]
          },
          "metadata": {},
          "execution_count": 43
        }
      ]
    },
    {
      "cell_type": "code",
      "source": [
        "result = res.json()\n",
        "items = result['results']['shop']\n",
        "len(items)"
      ],
      "metadata": {
        "colab": {
          "base_uri": "https://localhost:8080/"
        },
        "id": "zHFXuLA3HlXD",
        "outputId": "43b4380d-b233-408c-b361-2bc388ca0c43"
      },
      "execution_count": 44,
      "outputs": [
        {
          "output_type": "execute_result",
          "data": {
            "text/plain": [
              "100"
            ]
          },
          "metadata": {},
          "execution_count": 44
        }
      ]
    },
    {
      "cell_type": "code",
      "source": [
        "import pandas as pd"
      ],
      "metadata": {
        "id": "l67iCMwhH0qo"
      },
      "execution_count": 45,
      "outputs": []
    },
    {
      "cell_type": "code",
      "source": [
        "df = pd.DataFrame(items)"
      ],
      "metadata": {
        "id": "dvNL9uW-JWlu"
      },
      "execution_count": 54,
      "outputs": []
    },
    {
      "cell_type": "code",
      "source": [
        "df.columns"
      ],
      "metadata": {
        "colab": {
          "base_uri": "https://localhost:8080/"
        },
        "id": "BZJ4S_yoJqv7",
        "outputId": "f4ebcc27-48d4-414b-9a6c-1e799c42aee2"
      },
      "execution_count": 55,
      "outputs": [
        {
          "output_type": "execute_result",
          "data": {
            "text/plain": [
              "Index(['access', 'address', 'band', 'barrier_free', 'budget', 'budget_memo',\n",
              "       'capacity', 'card', 'catch', 'charter', 'child', 'close', 'coupon_urls',\n",
              "       'course', 'english', 'free_drink', 'free_food', 'genre', 'horigotatsu',\n",
              "       'id', 'karaoke', 'ktai_coupon', 'large_area', 'large_service_area',\n",
              "       'lat', 'lng', 'logo_image', 'lunch', 'middle_area', 'midnight',\n",
              "       'mobile_access', 'name', 'name_kana', 'non_smoking', 'open',\n",
              "       'other_memo', 'parking', 'party_capacity', 'pet', 'photo',\n",
              "       'private_room', 'service_area', 'shop_detail_memo', 'show',\n",
              "       'small_area', 'station_name', 'sub_genre', 'tatami', 'tv', 'urls',\n",
              "       'wedding', 'wifi'],\n",
              "      dtype='object')"
            ]
          },
          "metadata": {},
          "execution_count": 55
        }
      ]
    },
    {
      "cell_type": "code",
      "source": [
        "df = df[['address', 'name', 'urls', 'wifi']]\n",
        "df.head()"
      ],
      "metadata": {
        "colab": {
          "base_uri": "https://localhost:8080/",
          "height": 206
        },
        "id": "cVkclAB3J2ks",
        "outputId": "61b7de59-001d-435a-e088-a6461870b30c"
      },
      "execution_count": 56,
      "outputs": [
        {
          "output_type": "execute_result",
          "data": {
            "text/plain": [
              "                           address                name  \\\n",
              "0       埼玉県さいたま市大宮区仲町１-１大宮タウンビル　5F  肉和食 TOMORI ともり 大宮店   \n",
              "1       埼玉県草加市氷川町2126-5 第３ケイユービル3F        居酒屋 土間土間 草加店   \n",
              "2               埼玉県川越市新富町１-19-5-B1      チーズの海に溺れたい 川越店   \n",
              "3           埼玉県川越市菅原町22-2 第2MSビル1F          よしむら 川越駅前店   \n",
              "4  愛知県名古屋市中村区名駅４-2-28 名古屋第二埼玉ビルB1F    大衆居酒屋 きらく家 名古屋駅店   \n",
              "\n",
              "                                                urls wifi  \n",
              "0  {'pc': 'https://www.hotpepper.jp/strJ000746616...   あり  \n",
              "1  {'pc': 'https://www.hotpepper.jp/strJ000179818...   あり  \n",
              "2  {'pc': 'https://www.hotpepper.jp/strJ001246252...   あり  \n",
              "3  {'pc': 'https://www.hotpepper.jp/strJ001203020...  未確認  \n",
              "4  {'pc': 'https://www.hotpepper.jp/strJ001294728...   なし  "
            ],
            "text/html": [
              "\n",
              "  <div id=\"df-b0e73f62-e590-4f2c-a437-f5769411e3de\">\n",
              "    <div class=\"colab-df-container\">\n",
              "      <div>\n",
              "<style scoped>\n",
              "    .dataframe tbody tr th:only-of-type {\n",
              "        vertical-align: middle;\n",
              "    }\n",
              "\n",
              "    .dataframe tbody tr th {\n",
              "        vertical-align: top;\n",
              "    }\n",
              "\n",
              "    .dataframe thead th {\n",
              "        text-align: right;\n",
              "    }\n",
              "</style>\n",
              "<table border=\"1\" class=\"dataframe\">\n",
              "  <thead>\n",
              "    <tr style=\"text-align: right;\">\n",
              "      <th></th>\n",
              "      <th>address</th>\n",
              "      <th>name</th>\n",
              "      <th>urls</th>\n",
              "      <th>wifi</th>\n",
              "    </tr>\n",
              "  </thead>\n",
              "  <tbody>\n",
              "    <tr>\n",
              "      <th>0</th>\n",
              "      <td>埼玉県さいたま市大宮区仲町１-１大宮タウンビル　5F</td>\n",
              "      <td>肉和食 TOMORI ともり 大宮店</td>\n",
              "      <td>{'pc': 'https://www.hotpepper.jp/strJ000746616...</td>\n",
              "      <td>あり</td>\n",
              "    </tr>\n",
              "    <tr>\n",
              "      <th>1</th>\n",
              "      <td>埼玉県草加市氷川町2126-5 第３ケイユービル3F</td>\n",
              "      <td>居酒屋 土間土間 草加店</td>\n",
              "      <td>{'pc': 'https://www.hotpepper.jp/strJ000179818...</td>\n",
              "      <td>あり</td>\n",
              "    </tr>\n",
              "    <tr>\n",
              "      <th>2</th>\n",
              "      <td>埼玉県川越市新富町１-19-5-B1</td>\n",
              "      <td>チーズの海に溺れたい 川越店</td>\n",
              "      <td>{'pc': 'https://www.hotpepper.jp/strJ001246252...</td>\n",
              "      <td>あり</td>\n",
              "    </tr>\n",
              "    <tr>\n",
              "      <th>3</th>\n",
              "      <td>埼玉県川越市菅原町22-2 第2MSビル1F</td>\n",
              "      <td>よしむら 川越駅前店</td>\n",
              "      <td>{'pc': 'https://www.hotpepper.jp/strJ001203020...</td>\n",
              "      <td>未確認</td>\n",
              "    </tr>\n",
              "    <tr>\n",
              "      <th>4</th>\n",
              "      <td>愛知県名古屋市中村区名駅４-2-28 名古屋第二埼玉ビルB1F</td>\n",
              "      <td>大衆居酒屋 きらく家 名古屋駅店</td>\n",
              "      <td>{'pc': 'https://www.hotpepper.jp/strJ001294728...</td>\n",
              "      <td>なし</td>\n",
              "    </tr>\n",
              "  </tbody>\n",
              "</table>\n",
              "</div>\n",
              "      <button class=\"colab-df-convert\" onclick=\"convertToInteractive('df-b0e73f62-e590-4f2c-a437-f5769411e3de')\"\n",
              "              title=\"Convert this dataframe to an interactive table.\"\n",
              "              style=\"display:none;\">\n",
              "        \n",
              "  <svg xmlns=\"http://www.w3.org/2000/svg\" height=\"24px\"viewBox=\"0 0 24 24\"\n",
              "       width=\"24px\">\n",
              "    <path d=\"M0 0h24v24H0V0z\" fill=\"none\"/>\n",
              "    <path d=\"M18.56 5.44l.94 2.06.94-2.06 2.06-.94-2.06-.94-.94-2.06-.94 2.06-2.06.94zm-11 1L8.5 8.5l.94-2.06 2.06-.94-2.06-.94L8.5 2.5l-.94 2.06-2.06.94zm10 10l.94 2.06.94-2.06 2.06-.94-2.06-.94-.94-2.06-.94 2.06-2.06.94z\"/><path d=\"M17.41 7.96l-1.37-1.37c-.4-.4-.92-.59-1.43-.59-.52 0-1.04.2-1.43.59L10.3 9.45l-7.72 7.72c-.78.78-.78 2.05 0 2.83L4 21.41c.39.39.9.59 1.41.59.51 0 1.02-.2 1.41-.59l7.78-7.78 2.81-2.81c.8-.78.8-2.07 0-2.86zM5.41 20L4 18.59l7.72-7.72 1.47 1.35L5.41 20z\"/>\n",
              "  </svg>\n",
              "      </button>\n",
              "      \n",
              "  <style>\n",
              "    .colab-df-container {\n",
              "      display:flex;\n",
              "      flex-wrap:wrap;\n",
              "      gap: 12px;\n",
              "    }\n",
              "\n",
              "    .colab-df-convert {\n",
              "      background-color: #E8F0FE;\n",
              "      border: none;\n",
              "      border-radius: 50%;\n",
              "      cursor: pointer;\n",
              "      display: none;\n",
              "      fill: #1967D2;\n",
              "      height: 32px;\n",
              "      padding: 0 0 0 0;\n",
              "      width: 32px;\n",
              "    }\n",
              "\n",
              "    .colab-df-convert:hover {\n",
              "      background-color: #E2EBFA;\n",
              "      box-shadow: 0px 1px 2px rgba(60, 64, 67, 0.3), 0px 1px 3px 1px rgba(60, 64, 67, 0.15);\n",
              "      fill: #174EA6;\n",
              "    }\n",
              "\n",
              "    [theme=dark] .colab-df-convert {\n",
              "      background-color: #3B4455;\n",
              "      fill: #D2E3FC;\n",
              "    }\n",
              "\n",
              "    [theme=dark] .colab-df-convert:hover {\n",
              "      background-color: #434B5C;\n",
              "      box-shadow: 0px 1px 3px 1px rgba(0, 0, 0, 0.15);\n",
              "      filter: drop-shadow(0px 1px 2px rgba(0, 0, 0, 0.3));\n",
              "      fill: #FFFFFF;\n",
              "    }\n",
              "  </style>\n",
              "\n",
              "      <script>\n",
              "        const buttonEl =\n",
              "          document.querySelector('#df-b0e73f62-e590-4f2c-a437-f5769411e3de button.colab-df-convert');\n",
              "        buttonEl.style.display =\n",
              "          google.colab.kernel.accessAllowed ? 'block' : 'none';\n",
              "\n",
              "        async function convertToInteractive(key) {\n",
              "          const element = document.querySelector('#df-b0e73f62-e590-4f2c-a437-f5769411e3de');\n",
              "          const dataTable =\n",
              "            await google.colab.kernel.invokeFunction('convertToInteractive',\n",
              "                                                     [key], {});\n",
              "          if (!dataTable) return;\n",
              "\n",
              "          const docLinkHtml = 'Like what you see? Visit the ' +\n",
              "            '<a target=\"_blank\" href=https://colab.research.google.com/notebooks/data_table.ipynb>data table notebook</a>'\n",
              "            + ' to learn more about interactive tables.';\n",
              "          element.innerHTML = '';\n",
              "          dataTable['output_type'] = 'display_data';\n",
              "          await google.colab.output.renderOutput(dataTable, element);\n",
              "          const docLink = document.createElement('div');\n",
              "          docLink.innerHTML = docLinkHtml;\n",
              "          element.appendChild(docLink);\n",
              "        }\n",
              "      </script>\n",
              "    </div>\n",
              "  </div>\n",
              "  "
            ]
          },
          "metadata": {},
          "execution_count": 56
        }
      ]
    },
    {
      "cell_type": "code",
      "source": [
        "df['urls'][0]['pc']"
      ],
      "metadata": {
        "colab": {
          "base_uri": "https://localhost:8080/",
          "height": 35
        },
        "id": "lfU7_PL4R44M",
        "outputId": "52a6aba6-0b3d-4ee0-828b-21205dcce69f"
      },
      "execution_count": 57,
      "outputs": [
        {
          "output_type": "execute_result",
          "data": {
            "text/plain": [
              "'https://www.hotpepper.jp/strJ000746616/?vos=nhppalsa000016'"
            ],
            "application/vnd.google.colaboratory.intrinsic+json": {
              "type": "string"
            }
          },
          "metadata": {},
          "execution_count": 57
        }
      ]
    },
    {
      "cell_type": "code",
      "source": [
        "for i in range(len(df['urls'])):\n",
        "    df['urls'][i] = df['urls'][i]['pc']"
      ],
      "metadata": {
        "id": "0PIC-WyISZtf"
      },
      "execution_count": 58,
      "outputs": []
    },
    {
      "cell_type": "code",
      "source": [
        "df['urls']"
      ],
      "metadata": {
        "colab": {
          "base_uri": "https://localhost:8080/"
        },
        "id": "3Z38omGXTGWZ",
        "outputId": "290be428-f02d-4623-9ee9-e78f7abf620b"
      },
      "execution_count": 59,
      "outputs": [
        {
          "output_type": "execute_result",
          "data": {
            "text/plain": [
              "0     https://www.hotpepper.jp/strJ000746616/?vos=nh...\n",
              "1     https://www.hotpepper.jp/strJ000179818/?vos=nh...\n",
              "2     https://www.hotpepper.jp/strJ001246252/?vos=nh...\n",
              "3     https://www.hotpepper.jp/strJ001203020/?vos=nh...\n",
              "4     https://www.hotpepper.jp/strJ001294728/?vos=nh...\n",
              "                            ...                        \n",
              "95    https://www.hotpepper.jp/strJ001292186/?vos=nh...\n",
              "96    https://www.hotpepper.jp/strJ001177186/?vos=nh...\n",
              "97    https://www.hotpepper.jp/strJ003411633/?vos=nh...\n",
              "98    https://www.hotpepper.jp/strJ001169306/?vos=nh...\n",
              "99    https://www.hotpepper.jp/strJ000716493/?vos=nh...\n",
              "Name: urls, Length: 100, dtype: object"
            ]
          },
          "metadata": {},
          "execution_count": 59
        }
      ]
    },
    {
      "cell_type": "code",
      "source": [
        "df.to_csv('hotpepper.csv', index=False)"
      ],
      "metadata": {
        "id": "CzI_Bml5Qt-K"
      },
      "execution_count": 60,
      "outputs": []
    },
    {
      "cell_type": "markdown",
      "source": [
        "# **楽天商品検索APIによるGoogleスプレッドシート操作**"
      ],
      "metadata": {
        "id": "PgYBQMPaU-VX"
      }
    },
    {
      "cell_type": "code",
      "source": [],
      "metadata": {
        "id": "Ez0nymRDRQEY"
      },
      "execution_count": null,
      "outputs": []
    }
  ]
}