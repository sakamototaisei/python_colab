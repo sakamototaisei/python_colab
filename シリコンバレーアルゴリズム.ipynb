{
  "nbformat": 4,
  "nbformat_minor": 0,
  "metadata": {
    "colab": {
      "provenance": [],
      "collapsed_sections": [
        "t6XDrDImQ8DG",
        "TZWEeF_FQ_9V",
        "JGz77g3PzGiU"
      ],
      "toc_visible": true,
      "authorship_tag": "ABX9TyMa6xKXBqQcUdFffE5xMzqH",
      "include_colab_link": true
    },
    "kernelspec": {
      "name": "python3",
      "display_name": "Python 3"
    },
    "language_info": {
      "name": "python"
    }
  },
  "cells": [
    {
      "cell_type": "markdown",
      "metadata": {
        "id": "view-in-github",
        "colab_type": "text"
      },
      "source": [
        "<a href=\"https://colab.research.google.com/github/sakamototaisei/python_colab/blob/main/%E3%82%B7%E3%83%AA%E3%82%B3%E3%83%B3%E3%83%90%E3%83%AC%E3%83%BC%E3%82%A2%E3%83%AB%E3%82%B4%E3%83%AA%E3%82%BA%E3%83%A0.ipynb\" target=\"_parent\"><img src=\"https://colab.research.google.com/assets/colab-badge.svg\" alt=\"Open In Colab\"/></a>"
      ]
    },
    {
      "cell_type": "markdown",
      "source": [
        "# **アルゴリズムと計算量**"
      ],
      "metadata": {
        "id": "t6XDrDImQ8DG"
      }
    },
    {
      "cell_type": "markdown",
      "source": [
        "## **Big O Notaion / 安定ソート**"
      ],
      "metadata": {
        "id": "TZWEeF_FQ_9V"
      }
    },
    {
      "cell_type": "code",
      "source": [
        "# O(1)\n",
        "def func1(numbers):\n",
        "    return numbers[0]\n",
        "\n",
        "print(func1([1, 2, 3, 4, 5]))"
      ],
      "metadata": {
        "colab": {
          "base_uri": "https://localhost:8080/"
        },
        "id": "zz0DDpsaRKOC",
        "outputId": "4510d9c8-0201-4dbf-d65c-0d4840f0bb1c"
      },
      "execution_count": null,
      "outputs": [
        {
          "output_type": "stream",
          "name": "stdout",
          "text": [
            "1\n"
          ]
        }
      ]
    },
    {
      "cell_type": "code",
      "source": [
        "# O(log(n))\n",
        "def func2(n):\n",
        "    if n <= 1:\n",
        "        return\n",
        "    else:\n",
        "        print(n)\n",
        "        func2(n/2)\n",
        "\n",
        "func2(5)"
      ],
      "metadata": {
        "colab": {
          "base_uri": "https://localhost:8080/"
        },
        "id": "GStHtQtySvht",
        "outputId": "45e1735e-c63b-492c-f2d5-15eaf86eb293"
      },
      "execution_count": null,
      "outputs": [
        {
          "output_type": "stream",
          "name": "stdout",
          "text": [
            "5\n",
            "2.5\n",
            "1.25\n"
          ]
        }
      ]
    },
    {
      "cell_type": "code",
      "source": [
        "# O(n)\n",
        "def func3(numbers):\n",
        "    for num in numbers:\n",
        "        print(num)\n",
        "\n",
        "func3([1, 2, 3, 4, 5])"
      ],
      "metadata": {
        "colab": {
          "base_uri": "https://localhost:8080/"
        },
        "id": "F4qdBBXfTFhH",
        "outputId": "0468fd31-f1bd-493c-82ba-ddb7f5f25c8f"
      },
      "execution_count": null,
      "outputs": [
        {
          "output_type": "stream",
          "name": "stdout",
          "text": [
            "1\n",
            "2\n",
            "3\n",
            "4\n",
            "5\n"
          ]
        }
      ]
    },
    {
      "cell_type": "code",
      "source": [
        "# O(n * log(n))\n",
        "def func4(n):\n",
        "    for i in range(int(n)):\n",
        "        print(i, end=' ')\n",
        "    print()\n",
        "\n",
        "    if n <= 1:\n",
        "        return\n",
        "    func4(n/2)\n",
        "\n",
        "func4(5)"
      ],
      "metadata": {
        "colab": {
          "base_uri": "https://localhost:8080/"
        },
        "id": "AxJgolhWSvgK",
        "outputId": "66eef813-b3ee-4882-85a7-c023fa455416"
      },
      "execution_count": null,
      "outputs": [
        {
          "output_type": "stream",
          "name": "stdout",
          "text": [
            "0 1 2 3 4 \n",
            "0 1 \n",
            "0 \n",
            "\n"
          ]
        }
      ]
    },
    {
      "cell_type": "code",
      "source": [
        "# O(n**2)\n",
        "def func5(numbers):\n",
        "    for i in range(len(numbers)):\n",
        "        for j in range(len(numbers)):\n",
        "            print(numbers[i], numbers[j])\n",
        "        print()\n",
        "\n",
        "func5([1, 2, 3, 4, 5])"
      ],
      "metadata": {
        "colab": {
          "base_uri": "https://localhost:8080/"
        },
        "id": "RngwAcylSvdC",
        "outputId": "09d13fb4-fa44-4698-93a7-8debc8defdac"
      },
      "execution_count": null,
      "outputs": [
        {
          "output_type": "stream",
          "name": "stdout",
          "text": [
            "1 1\n",
            "1 2\n",
            "1 3\n",
            "1 4\n",
            "1 5\n",
            "\n",
            "2 1\n",
            "2 2\n",
            "2 3\n",
            "2 4\n",
            "2 5\n",
            "\n",
            "3 1\n",
            "3 2\n",
            "3 3\n",
            "3 4\n",
            "3 5\n",
            "\n",
            "4 1\n",
            "4 2\n",
            "4 3\n",
            "4 4\n",
            "4 5\n",
            "\n",
            "5 1\n",
            "5 2\n",
            "5 3\n",
            "5 4\n",
            "5 5\n",
            "\n"
          ]
        }
      ]
    },
    {
      "cell_type": "markdown",
      "source": [
        "**安定ソート**：ソート判定において同一であると判断された入力データの順序がソート後も変わらない"
      ],
      "metadata": {
        "id": "Ta8eHgl-Uo3c"
      }
    },
    {
      "cell_type": "code",
      "source": [
        "# Stable Sort\n",
        "l = [(1, 'Mile'), (5, 'Rina'), (2, 'Bill'), (4, 'Emily'), (2, 'June')]\n",
        "def stable(l):\n",
        "    l[1], l[2] = l[2], l[1]\n",
        "    l[2], l[4] = l[4], l[2]\n",
        "    return l\n",
        "\n",
        "print(stable(l))"
      ],
      "metadata": {
        "colab": {
          "base_uri": "https://localhost:8080/"
        },
        "id": "sJo4IRmWUcdo",
        "outputId": "0911f1ea-365b-4614-8c68-7a027d6611f4"
      },
      "execution_count": null,
      "outputs": [
        {
          "output_type": "stream",
          "name": "stdout",
          "text": [
            "[(1, 'Mile'), (2, 'Bill'), (2, 'June'), (4, 'Emily'), (5, 'Rina')]\n"
          ]
        }
      ]
    },
    {
      "cell_type": "code",
      "source": [
        "# Unstable Sort\n",
        "l = [(1, 'Mile'), (5, 'Rina'), (2, 'Bill'), (4, 'Emily'), (2, 'June')]\n",
        "def unstable(l):\n",
        "    l[1], l[4] = l[4], l[1]\n",
        "    return l\n",
        "\n",
        "print(unstable(l))"
      ],
      "metadata": {
        "colab": {
          "base_uri": "https://localhost:8080/"
        },
        "id": "nXH5638vUcbT",
        "outputId": "adea9fb3-0b2e-4551-dab4-c89cfbd64cc4"
      },
      "execution_count": null,
      "outputs": [
        {
          "output_type": "stream",
          "name": "stdout",
          "text": [
            "[(1, 'Mile'), (2, 'June'), (2, 'Bill'), (4, 'Emily'), (5, 'Rina')]\n"
          ]
        }
      ]
    },
    {
      "cell_type": "markdown",
      "source": [
        "# **ソート**"
      ],
      "metadata": {
        "id": "r01XgNIxQBRi"
      }
    },
    {
      "cell_type": "markdown",
      "source": [
        "## **Bogoソート**\n",
        "\n",
        "Ave：O((n+1)!)\n",
        "\n",
        "Best：O(n)\n",
        "\n",
        "Worst：Unbounded\n",
        "\n",
        "安定：No"
      ],
      "metadata": {
        "id": "JGz77g3PzGiU"
      }
    },
    {
      "cell_type": "code",
      "source": [
        "import random\n",
        "from typing import List"
      ],
      "metadata": {
        "id": "yBV0x9qiQGYE"
      },
      "execution_count": null,
      "outputs": []
    },
    {
      "cell_type": "code",
      "source": [
        "def in_order(numbers: List[int]) -> bool:\n",
        "    # for i in range(len(numbers) -1):\n",
        "    #     if numbers[i] > numbers[i+1]:\n",
        "    #         return False\n",
        "    # return True\n",
        "    return all(numbers[i] <= numbers[i+1] for i in range(len(numbers)-1))\n",
        "\n",
        "\n",
        "def bogo_sort(numbers: List[int]) -> List[int]:\n",
        "    while not in_order(numbers):\n",
        "        random.shuffle(numbers)\n",
        "    return numbers\n",
        "\n",
        "if __name__ == '__main__':\n",
        "    nums = [random.randint(0, 1000) for _ in range(10)]\n",
        "    print(bogo_sort(nums))"
      ],
      "metadata": {
        "colab": {
          "base_uri": "https://localhost:8080/"
        },
        "id": "vhf693jYz036",
        "outputId": "393a4d82-44a3-4a61-d930-d9bff43d5ab6"
      },
      "execution_count": null,
      "outputs": [
        {
          "output_type": "stream",
          "name": "stdout",
          "text": [
            "[306, 330, 332, 352, 371, 571, 708, 758, 852, 864]\n"
          ]
        }
      ]
    },
    {
      "cell_type": "markdown",
      "source": [
        "## **Bubbleソート**\n",
        "\n",
        "Ave：$O(n^2)$\n",
        "\n",
        "Best：$O(n)$\n",
        "\n",
        "Worst：$O(n^2)$\n",
        "\n",
        "安定：Yes"
      ],
      "metadata": {
        "id": "UbwPfg3v3J60"
      }
    },
    {
      "cell_type": "code",
      "source": [
        "from typing import List"
      ],
      "metadata": {
        "id": "u8k4dHG00DQH"
      },
      "execution_count": null,
      "outputs": []
    },
    {
      "cell_type": "code",
      "source": [
        "def bubble_sort(numbers: List[int]) -> List[int]:\n",
        "    len_numbers = len(numbers)\n",
        "    for i in range(len_numbers):\n",
        "        for j in range(len_numbers -1 -i):\n",
        "            if numbers[j] > numbers[j+1]:\n",
        "                numbers[j], numbers[j+1] = numbers[j+1], numbers[j]\n",
        "    return numbers\n",
        "\n",
        "nums = [2, 5, 1, 8, 7, 3]\n",
        "print(bubble_sort(nums))"
      ],
      "metadata": {
        "colab": {
          "base_uri": "https://localhost:8080/"
        },
        "id": "RF5PmdY74JIz",
        "outputId": "e8c85200-4b65-4a95-e39a-1f0c0411b953"
      },
      "execution_count": null,
      "outputs": [
        {
          "output_type": "stream",
          "name": "stdout",
          "text": [
            "[1, 2, 3, 5, 7, 8]\n"
          ]
        }
      ]
    },
    {
      "cell_type": "code",
      "source": [
        "import random\n",
        "nums = [random.randint(0, 1000) for i in range(10)]\n",
        "print(bubble_sort(nums))"
      ],
      "metadata": {
        "colab": {
          "base_uri": "https://localhost:8080/"
        },
        "id": "LoaTlzT-pdvJ",
        "outputId": "81e76792-57bb-4810-d470-71a939013043"
      },
      "execution_count": null,
      "outputs": [
        {
          "output_type": "stream",
          "name": "stdout",
          "text": [
            "[157, 356, 506, 542, 584, 685, 754, 833, 864, 972]\n"
          ]
        }
      ]
    },
    {
      "cell_type": "markdown",
      "source": [
        "## **シェーカーソート**\n",
        "\n",
        "Ave：$O(n^2)$\n",
        "\n",
        "Best：$O(n)$\n",
        "\n",
        "Worst：$O(n^2)$\n",
        "\n",
        "安定：Yes\n",
        "\n",
        "備考：swapのフラグを用意してswapが発生すればTrueとなり、Falseとなるまで処理をする\n",
        "\n",
        "バブルソートより速い\n"
      ],
      "metadata": {
        "id": "s1uJTCJwrbdZ"
      }
    },
    {
      "cell_type": "code",
      "source": [
        "from typing import List"
      ],
      "metadata": {
        "id": "-SB7ZsuIrWIn"
      },
      "execution_count": null,
      "outputs": []
    },
    {
      "cell_type": "code",
      "source": [
        "def cocktail_sort(numbers: List[int]) -> List[int]:\n",
        "    len_numbers = len(numbers)\n",
        "    swapped = True\n",
        "    start = 0\n",
        "    end = len_numbers - 1\n",
        "    while swapped:\n",
        "        swapped = False\n",
        "        for i in range(start, end):\n",
        "            if numbers[i] > numbers[i+1]:\n",
        "                numbers[i], numbers[i+1] = numbers[i+1], numbers[i]\n",
        "                swapped = True\n",
        "\n",
        "        if not swapped:\n",
        "            break\n",
        "\n",
        "        swapped = False\n",
        "        end = end - 1\n",
        "        \n",
        "        for i in range(end-1, start-1, -1):\n",
        "            if numbers[i] > numbers[i+1]:\n",
        "                numbers[i], numbers[i+1] = numbers[i+1], numbers[i]\n",
        "                swapped = True\n",
        "\n",
        "        start = start + 1\n",
        "\n",
        "    return numbers\n",
        "\n",
        "\n",
        "import random\n",
        "nums = [random.randint(0, 1000) for i in range(10)]\n",
        "print(cocktail_sort(nums))"
      ],
      "metadata": {
        "colab": {
          "base_uri": "https://localhost:8080/"
        },
        "id": "FUrUlq7ruUjy",
        "outputId": "97c96b3e-953b-440e-b3b2-c8c8411abc8a"
      },
      "execution_count": null,
      "outputs": [
        {
          "output_type": "stream",
          "name": "stdout",
          "text": [
            "[28, 57, 67, 179, 277, 485, 669, 845, 875, 923]\n"
          ]
        }
      ]
    },
    {
      "cell_type": "code",
      "source": [
        "# ChatGPT版\n",
        "def cocktail_sort_chatgpt(arr):\n",
        "    n = len(arr)\n",
        "    # 外側のループはn/2回実行されます\n",
        "    for i in range(n//2):\n",
        "        # 右に移動するループ\n",
        "        for j in range(i, n-i-1):\n",
        "            if arr[j] > arr[j+1]:\n",
        "                arr[j], arr[j+1] = arr[j+1], arr[j]\n",
        "        # 左に移動するループ\n",
        "        for j in range(n-i-2, i-1, -1):\n",
        "            if arr[j] > arr[j+1]:\n",
        "                arr[j], arr[j+1] = arr[j+1], arr[j]\n",
        "    return arr\n",
        "\n",
        "\n",
        "import random\n",
        "arr = [random.randint(0, 1000) for i in range(10)]\n",
        "print(cocktail_sort_chatgpt(arr))"
      ],
      "metadata": {
        "colab": {
          "base_uri": "https://localhost:8080/"
        },
        "id": "I8QHWgn8wG1E",
        "outputId": "02aa6f75-cafd-4804-a3ce-1dcea0f5a4ac"
      },
      "execution_count": null,
      "outputs": [
        {
          "output_type": "stream",
          "name": "stdout",
          "text": [
            "[56, 69, 85, 118, 187, 245, 307, 512, 593, 894]\n"
          ]
        }
      ]
    },
    {
      "cell_type": "markdown",
      "source": [
        "## **コムソート**\n",
        "\n",
        "Ave： 𝑂(𝑛2/2**g)(g is a number of increment) \n",
        "\n",
        "Best： 𝑂(n log n) \n",
        "\n",
        "Worst： 𝑂(𝑛2) \n",
        "\n",
        "安定：No\n",
        "\n",
        "備考："
      ],
      "metadata": {
        "id": "RvRYZxktxWjp"
      }
    },
    {
      "cell_type": "code",
      "source": [
        "from typing import List"
      ],
      "metadata": {
        "id": "QXxyaByfw7_h"
      },
      "execution_count": 1,
      "outputs": []
    },
    {
      "cell_type": "code",
      "source": [
        "def comb_sort(numbers: List[int]) -> List[int]:\n",
        "    len_numbers = len(numbers)\n",
        "    gap = len_numbers\n",
        "    swapped = True\n",
        "\n",
        "    while gap != 1 or swapped:\n",
        "        gap = int(gap / 1.3)\n",
        "        if gap < 1:\n",
        "            gap = 1\n",
        "\n",
        "        swapped = False\n",
        "\n",
        "        for i in range(0, len_numbers - gap):\n",
        "            if numbers[i] > numbers[i + gap]:\n",
        "                numbers[i], numbers[i + gap] = numbers[i + gap], numbers[i]\n",
        "                swapped = True\n",
        "    return numbers\n",
        "\n",
        "import random\n",
        "arr = [random.randint(0, 1000) for i in range(10)]\n",
        "print(comb_sort(arr))"
      ],
      "metadata": {
        "colab": {
          "base_uri": "https://localhost:8080/"
        },
        "id": "5CHLnkD-A2Ep",
        "outputId": "433ebe1e-0539-4065-924e-f095b50501e3"
      },
      "execution_count": 2,
      "outputs": [
        {
          "output_type": "stream",
          "name": "stdout",
          "text": [
            "[16, 117, 251, 384, 384, 515, 848, 929, 966, 966]\n"
          ]
        }
      ]
    },
    {
      "cell_type": "markdown",
      "source": [
        "## **セレクションソート**\n",
        "\n",
        "Ave： 𝑂(𝑛2)\n",
        "\n",
        "Best： 𝑂($n^2$) \n",
        "\n",
        "Worst： 𝑂(𝑛2) \n",
        "\n",
        "安定：Yes\n",
        "\n",
        "備考："
      ],
      "metadata": {
        "id": "6m1dZNWsIzoS"
      }
    },
    {
      "cell_type": "code",
      "source": [
        "from typing import List"
      ],
      "metadata": {
        "id": "E9c-elRYIfog"
      },
      "execution_count": 3,
      "outputs": []
    },
    {
      "cell_type": "code",
      "source": [
        "def selection_sort(numbers: List[int]) -> List[int]:\n",
        "    len_numbers = len(numbers)\n",
        "    for i in range(len_numbers):\n",
        "        min_idx = i\n",
        "        for j in range(i+1, len_numbers):\n",
        "            if numbers[min_idx] > numbers[j]:\n",
        "                min_idx = j\n",
        "\n",
        "        numbers[i], numbers[min_idx] = numbers[min_idx], numbers[i]\n",
        "\n",
        "    return numbers\n",
        "\n",
        "import random\n",
        "arr = [random.randint(0, 1000) for i in range(10)]\n",
        "print(selection_sort(arr))"
      ],
      "metadata": {
        "colab": {
          "base_uri": "https://localhost:8080/"
        },
        "id": "9t3vq0RFJiXc",
        "outputId": "a1552442-b552-4119-a6b1-8121a03c358c"
      },
      "execution_count": 5,
      "outputs": [
        {
          "output_type": "stream",
          "name": "stdout",
          "text": [
            "[145, 198, 236, 246, 256, 273, 469, 586, 841, 954]\n"
          ]
        }
      ]
    },
    {
      "cell_type": "code",
      "source": [],
      "metadata": {
        "id": "PMjkrqYOL8ey"
      },
      "execution_count": null,
      "outputs": []
    }
  ]
}