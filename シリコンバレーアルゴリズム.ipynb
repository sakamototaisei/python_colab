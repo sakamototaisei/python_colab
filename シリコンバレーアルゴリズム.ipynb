{
  "nbformat": 4,
  "nbformat_minor": 0,
  "metadata": {
    "colab": {
      "provenance": [],
      "toc_visible": true,
      "authorship_tag": "ABX9TyOdHsI6iH7tvg245hKXDK9C",
      "include_colab_link": true
    },
    "kernelspec": {
      "name": "python3",
      "display_name": "Python 3"
    },
    "language_info": {
      "name": "python"
    }
  },
  "cells": [
    {
      "cell_type": "markdown",
      "metadata": {
        "id": "view-in-github",
        "colab_type": "text"
      },
      "source": [
        "<a href=\"https://colab.research.google.com/github/sakamototaisei/python_colab/blob/main/%E3%82%B7%E3%83%AA%E3%82%B3%E3%83%B3%E3%83%90%E3%83%AC%E3%83%BC%E3%82%A2%E3%83%AB%E3%82%B4%E3%83%AA%E3%82%BA%E3%83%A0.ipynb\" target=\"_parent\"><img src=\"https://colab.research.google.com/assets/colab-badge.svg\" alt=\"Open In Colab\"/></a>"
      ]
    },
    {
      "cell_type": "markdown",
      "source": [
        "# **アルゴリズムと計算量**"
      ],
      "metadata": {
        "id": "t6XDrDImQ8DG"
      }
    },
    {
      "cell_type": "markdown",
      "source": [
        "## **Big O Notaion / 安定ソート**"
      ],
      "metadata": {
        "id": "TZWEeF_FQ_9V"
      }
    },
    {
      "cell_type": "code",
      "source": [
        "# O(1)\n",
        "def func1(numbers):\n",
        "    return numbers[0]\n",
        "\n",
        "print(func1([1, 2, 3, 4, 5]))"
      ],
      "metadata": {
        "colab": {
          "base_uri": "https://localhost:8080/"
        },
        "id": "zz0DDpsaRKOC",
        "outputId": "4510d9c8-0201-4dbf-d65c-0d4840f0bb1c"
      },
      "execution_count": 1,
      "outputs": [
        {
          "output_type": "stream",
          "name": "stdout",
          "text": [
            "1\n"
          ]
        }
      ]
    },
    {
      "cell_type": "code",
      "source": [
        "# O(log(n))\n",
        "def func2(n):\n",
        "    if n <= 1:\n",
        "        return\n",
        "    else:\n",
        "        print(n)\n",
        "        func2(n/2)\n",
        "\n",
        "func2(5)"
      ],
      "metadata": {
        "colab": {
          "base_uri": "https://localhost:8080/"
        },
        "id": "GStHtQtySvht",
        "outputId": "45e1735e-c63b-492c-f2d5-15eaf86eb293"
      },
      "execution_count": 2,
      "outputs": [
        {
          "output_type": "stream",
          "name": "stdout",
          "text": [
            "5\n",
            "2.5\n",
            "1.25\n"
          ]
        }
      ]
    },
    {
      "cell_type": "code",
      "source": [
        "# O(n)\n",
        "def func3(numbers):\n",
        "    for num in numbers:\n",
        "        print(num)\n",
        "\n",
        "func3([1, 2, 3, 4, 5])"
      ],
      "metadata": {
        "colab": {
          "base_uri": "https://localhost:8080/"
        },
        "id": "F4qdBBXfTFhH",
        "outputId": "0468fd31-f1bd-493c-82ba-ddb7f5f25c8f"
      },
      "execution_count": 3,
      "outputs": [
        {
          "output_type": "stream",
          "name": "stdout",
          "text": [
            "1\n",
            "2\n",
            "3\n",
            "4\n",
            "5\n"
          ]
        }
      ]
    },
    {
      "cell_type": "code",
      "source": [
        "# O(n * log(n))\n",
        "def func4(n):\n",
        "    for i in range(int(n)):\n",
        "        print(i, end=' ')\n",
        "    print()\n",
        "\n",
        "    if n <= 1:\n",
        "        return\n",
        "    func4(n/2)\n",
        "\n",
        "func4(5)"
      ],
      "metadata": {
        "colab": {
          "base_uri": "https://localhost:8080/"
        },
        "id": "AxJgolhWSvgK",
        "outputId": "66eef813-b3ee-4882-85a7-c023fa455416"
      },
      "execution_count": 4,
      "outputs": [
        {
          "output_type": "stream",
          "name": "stdout",
          "text": [
            "0 1 2 3 4 \n",
            "0 1 \n",
            "0 \n",
            "\n"
          ]
        }
      ]
    },
    {
      "cell_type": "code",
      "source": [
        "# O(n**2)\n",
        "def func5(numbers):\n",
        "    for i in range(len(numbers)):\n",
        "        for j in range(len(numbers)):\n",
        "            print(numbers[i], numbers[j])\n",
        "        print()\n",
        "\n",
        "func5([1, 2, 3, 4, 5])"
      ],
      "metadata": {
        "colab": {
          "base_uri": "https://localhost:8080/"
        },
        "id": "RngwAcylSvdC",
        "outputId": "09d13fb4-fa44-4698-93a7-8debc8defdac"
      },
      "execution_count": 5,
      "outputs": [
        {
          "output_type": "stream",
          "name": "stdout",
          "text": [
            "1 1\n",
            "1 2\n",
            "1 3\n",
            "1 4\n",
            "1 5\n",
            "\n",
            "2 1\n",
            "2 2\n",
            "2 3\n",
            "2 4\n",
            "2 5\n",
            "\n",
            "3 1\n",
            "3 2\n",
            "3 3\n",
            "3 4\n",
            "3 5\n",
            "\n",
            "4 1\n",
            "4 2\n",
            "4 3\n",
            "4 4\n",
            "4 5\n",
            "\n",
            "5 1\n",
            "5 2\n",
            "5 3\n",
            "5 4\n",
            "5 5\n",
            "\n"
          ]
        }
      ]
    },
    {
      "cell_type": "markdown",
      "source": [
        "**安定ソート**：ソート判定において同一であると判断された入力データの順序がソート後も変わらない"
      ],
      "metadata": {
        "id": "Ta8eHgl-Uo3c"
      }
    },
    {
      "cell_type": "code",
      "source": [],
      "metadata": {
        "id": "sJo4IRmWUcdo"
      },
      "execution_count": null,
      "outputs": []
    },
    {
      "cell_type": "code",
      "source": [],
      "metadata": {
        "id": "nXH5638vUcbT"
      },
      "execution_count": null,
      "outputs": []
    },
    {
      "cell_type": "markdown",
      "source": [
        "# **ソート**"
      ],
      "metadata": {
        "id": "r01XgNIxQBRi"
      }
    },
    {
      "cell_type": "code",
      "source": [],
      "metadata": {
        "id": "yBV0x9qiQGYE"
      },
      "execution_count": null,
      "outputs": []
    }
  ]
}