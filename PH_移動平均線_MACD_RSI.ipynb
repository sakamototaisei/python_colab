{
  "nbformat": 4,
  "nbformat_minor": 0,
  "metadata": {
    "colab": {
      "provenance": [],
      "toc_visible": true,
      "authorship_tag": "ABX9TyNeVy05Y8XOut6rW65dGCKA",
      "include_colab_link": true
    },
    "kernelspec": {
      "name": "python3",
      "display_name": "Python 3"
    },
    "language_info": {
      "name": "python"
    }
  },
  "cells": [
    {
      "cell_type": "markdown",
      "metadata": {
        "id": "view-in-github",
        "colab_type": "text"
      },
      "source": [
        "<a href=\"https://colab.research.google.com/github/sakamototaisei/python_colab/blob/main/PH_%E7%A7%BB%E5%8B%95%E5%B9%B3%E5%9D%87%E7%B7%9A_MACD_RSI.ipynb\" target=\"_parent\"><img src=\"https://colab.research.google.com/assets/colab-badge.svg\" alt=\"Open In Colab\"/></a>"
      ]
    },
    {
      "cell_type": "markdown",
      "source": [
        "# **株価情報の取得**"
      ],
      "metadata": {
        "id": "OFPEDjlOiNT5"
      }
    },
    {
      "cell_type": "code",
      "source": [
        "pip install yahoo_finance_api2"
      ],
      "metadata": {
        "colab": {
          "base_uri": "https://localhost:8080/"
        },
        "id": "G9S6EL5OhqCQ",
        "outputId": "81cc49fd-c8b4-45e5-810a-d7c5189377ee"
      },
      "execution_count": 2,
      "outputs": [
        {
          "output_type": "stream",
          "name": "stdout",
          "text": [
            "Looking in indexes: https://pypi.org/simple, https://us-python.pkg.dev/colab-wheels/public/simple/\n",
            "Collecting yahoo_finance_api2\n",
            "  Downloading yahoo_finance_api2-0.0.12.tar.gz (3.2 kB)\n",
            "  Preparing metadata (setup.py) ... \u001b[?25l\u001b[?25hdone\n",
            "Requirement already satisfied: pyyaml in /usr/local/lib/python3.9/dist-packages (from yahoo_finance_api2) (6.0)\n",
            "Requirement already satisfied: requests in /usr/local/lib/python3.9/dist-packages (from yahoo_finance_api2) (2.27.1)\n",
            "Requirement already satisfied: charset-normalizer~=2.0.0 in /usr/local/lib/python3.9/dist-packages (from requests->yahoo_finance_api2) (2.0.12)\n",
            "Requirement already satisfied: certifi>=2017.4.17 in /usr/local/lib/python3.9/dist-packages (from requests->yahoo_finance_api2) (2022.12.7)\n",
            "Requirement already satisfied: idna<4,>=2.5 in /usr/local/lib/python3.9/dist-packages (from requests->yahoo_finance_api2) (3.4)\n",
            "Requirement already satisfied: urllib3<1.27,>=1.21.1 in /usr/local/lib/python3.9/dist-packages (from requests->yahoo_finance_api2) (1.26.15)\n",
            "Building wheels for collected packages: yahoo_finance_api2\n",
            "  Building wheel for yahoo_finance_api2 (setup.py) ... \u001b[?25l\u001b[?25hdone\n",
            "  Created wheel for yahoo_finance_api2: filename=yahoo_finance_api2-0.0.12-py3-none-any.whl size=3733 sha256=0853343d30576db4512a90984e3824afbe1c2bdca1802737c7c11ebb89b17e36\n",
            "  Stored in directory: /root/.cache/pip/wheels/60/31/49/4f2dc65be0bb9c065b8f90701802babc434ad029dfaa9202df\n",
            "Successfully built yahoo_finance_api2\n",
            "Installing collected packages: yahoo_finance_api2\n",
            "Successfully installed yahoo_finance_api2-0.0.12\n"
          ]
        }
      ]
    },
    {
      "cell_type": "code",
      "source": [
        "import sys\n",
        "from yahoo_finance_api2 import share\n",
        "from yahoo_finance_api2.exceptions import YahooFinanceError\n",
        "import pandas as pd"
      ],
      "metadata": {
        "id": "sLJ6DGcahtTE"
      },
      "execution_count": 3,
      "outputs": []
    },
    {
      "cell_type": "code",
      "source": [
        "# トヨタ株価取得\n",
        "my_share = share.Share('7203.T')\n",
        "symbol_data = None\n",
        "try:\n",
        "    symbol_data = my_share.get_historical(\n",
        "    share.PERIOD_TYPE_YEAR, 5,\n",
        "    share.FREQUENCY_TYPE_DAY, 1)\n",
        "except YahooFinanceError as e:\n",
        "    print(e.message)\n",
        "    sys.exit(1)\n",
        "df = pd.DataFrame(symbol_data)\n",
        "df[\"datetime\"] = pd.to_datetime(df.timestamp, unit=\"ms\")"
      ],
      "metadata": {
        "id": "pdOhh-3Xhqfr"
      },
      "execution_count": 6,
      "outputs": []
    },
    {
      "cell_type": "code",
      "source": [
        "df.head()"
      ],
      "metadata": {
        "colab": {
          "base_uri": "https://localhost:8080/",
          "height": 206
        },
        "id": "G4dsTkxNhwQF",
        "outputId": "3c04e26f-b7b9-45ee-f0a8-7a686723c593"
      },
      "execution_count": 7,
      "outputs": [
        {
          "output_type": "execute_result",
          "data": {
            "text/plain": [
              "       timestamp         open         high          low        close  \\\n",
              "0  1522627200000  1366.599976  1374.000000  1355.800049  1355.800049   \n",
              "1  1522713600000  1341.000000  1350.199951  1337.400024  1346.000000   \n",
              "2  1522800000000  1350.000000  1354.000000  1340.800049  1347.800049   \n",
              "3  1522886400000  1357.000000  1361.800049  1347.400024  1350.000000   \n",
              "4  1522972800000  1353.000000  1363.400024  1345.000000  1345.599976   \n",
              "\n",
              "     volume   datetime  \n",
              "0  14830000 2018-04-02  \n",
              "1  24130000 2018-04-03  \n",
              "2  26515500 2018-04-04  \n",
              "3  28923500 2018-04-05  \n",
              "4  24289500 2018-04-06  "
            ],
            "text/html": [
              "\n",
              "  <div id=\"df-7f95cab0-3ef2-4497-b6f0-a287d75ffcf6\">\n",
              "    <div class=\"colab-df-container\">\n",
              "      <div>\n",
              "<style scoped>\n",
              "    .dataframe tbody tr th:only-of-type {\n",
              "        vertical-align: middle;\n",
              "    }\n",
              "\n",
              "    .dataframe tbody tr th {\n",
              "        vertical-align: top;\n",
              "    }\n",
              "\n",
              "    .dataframe thead th {\n",
              "        text-align: right;\n",
              "    }\n",
              "</style>\n",
              "<table border=\"1\" class=\"dataframe\">\n",
              "  <thead>\n",
              "    <tr style=\"text-align: right;\">\n",
              "      <th></th>\n",
              "      <th>timestamp</th>\n",
              "      <th>open</th>\n",
              "      <th>high</th>\n",
              "      <th>low</th>\n",
              "      <th>close</th>\n",
              "      <th>volume</th>\n",
              "      <th>datetime</th>\n",
              "    </tr>\n",
              "  </thead>\n",
              "  <tbody>\n",
              "    <tr>\n",
              "      <th>0</th>\n",
              "      <td>1522627200000</td>\n",
              "      <td>1366.599976</td>\n",
              "      <td>1374.000000</td>\n",
              "      <td>1355.800049</td>\n",
              "      <td>1355.800049</td>\n",
              "      <td>14830000</td>\n",
              "      <td>2018-04-02</td>\n",
              "    </tr>\n",
              "    <tr>\n",
              "      <th>1</th>\n",
              "      <td>1522713600000</td>\n",
              "      <td>1341.000000</td>\n",
              "      <td>1350.199951</td>\n",
              "      <td>1337.400024</td>\n",
              "      <td>1346.000000</td>\n",
              "      <td>24130000</td>\n",
              "      <td>2018-04-03</td>\n",
              "    </tr>\n",
              "    <tr>\n",
              "      <th>2</th>\n",
              "      <td>1522800000000</td>\n",
              "      <td>1350.000000</td>\n",
              "      <td>1354.000000</td>\n",
              "      <td>1340.800049</td>\n",
              "      <td>1347.800049</td>\n",
              "      <td>26515500</td>\n",
              "      <td>2018-04-04</td>\n",
              "    </tr>\n",
              "    <tr>\n",
              "      <th>3</th>\n",
              "      <td>1522886400000</td>\n",
              "      <td>1357.000000</td>\n",
              "      <td>1361.800049</td>\n",
              "      <td>1347.400024</td>\n",
              "      <td>1350.000000</td>\n",
              "      <td>28923500</td>\n",
              "      <td>2018-04-05</td>\n",
              "    </tr>\n",
              "    <tr>\n",
              "      <th>4</th>\n",
              "      <td>1522972800000</td>\n",
              "      <td>1353.000000</td>\n",
              "      <td>1363.400024</td>\n",
              "      <td>1345.000000</td>\n",
              "      <td>1345.599976</td>\n",
              "      <td>24289500</td>\n",
              "      <td>2018-04-06</td>\n",
              "    </tr>\n",
              "  </tbody>\n",
              "</table>\n",
              "</div>\n",
              "      <button class=\"colab-df-convert\" onclick=\"convertToInteractive('df-7f95cab0-3ef2-4497-b6f0-a287d75ffcf6')\"\n",
              "              title=\"Convert this dataframe to an interactive table.\"\n",
              "              style=\"display:none;\">\n",
              "        \n",
              "  <svg xmlns=\"http://www.w3.org/2000/svg\" height=\"24px\"viewBox=\"0 0 24 24\"\n",
              "       width=\"24px\">\n",
              "    <path d=\"M0 0h24v24H0V0z\" fill=\"none\"/>\n",
              "    <path d=\"M18.56 5.44l.94 2.06.94-2.06 2.06-.94-2.06-.94-.94-2.06-.94 2.06-2.06.94zm-11 1L8.5 8.5l.94-2.06 2.06-.94-2.06-.94L8.5 2.5l-.94 2.06-2.06.94zm10 10l.94 2.06.94-2.06 2.06-.94-2.06-.94-.94-2.06-.94 2.06-2.06.94z\"/><path d=\"M17.41 7.96l-1.37-1.37c-.4-.4-.92-.59-1.43-.59-.52 0-1.04.2-1.43.59L10.3 9.45l-7.72 7.72c-.78.78-.78 2.05 0 2.83L4 21.41c.39.39.9.59 1.41.59.51 0 1.02-.2 1.41-.59l7.78-7.78 2.81-2.81c.8-.78.8-2.07 0-2.86zM5.41 20L4 18.59l7.72-7.72 1.47 1.35L5.41 20z\"/>\n",
              "  </svg>\n",
              "      </button>\n",
              "      \n",
              "  <style>\n",
              "    .colab-df-container {\n",
              "      display:flex;\n",
              "      flex-wrap:wrap;\n",
              "      gap: 12px;\n",
              "    }\n",
              "\n",
              "    .colab-df-convert {\n",
              "      background-color: #E8F0FE;\n",
              "      border: none;\n",
              "      border-radius: 50%;\n",
              "      cursor: pointer;\n",
              "      display: none;\n",
              "      fill: #1967D2;\n",
              "      height: 32px;\n",
              "      padding: 0 0 0 0;\n",
              "      width: 32px;\n",
              "    }\n",
              "\n",
              "    .colab-df-convert:hover {\n",
              "      background-color: #E2EBFA;\n",
              "      box-shadow: 0px 1px 2px rgba(60, 64, 67, 0.3), 0px 1px 3px 1px rgba(60, 64, 67, 0.15);\n",
              "      fill: #174EA6;\n",
              "    }\n",
              "\n",
              "    [theme=dark] .colab-df-convert {\n",
              "      background-color: #3B4455;\n",
              "      fill: #D2E3FC;\n",
              "    }\n",
              "\n",
              "    [theme=dark] .colab-df-convert:hover {\n",
              "      background-color: #434B5C;\n",
              "      box-shadow: 0px 1px 3px 1px rgba(0, 0, 0, 0.15);\n",
              "      filter: drop-shadow(0px 1px 2px rgba(0, 0, 0, 0.3));\n",
              "      fill: #FFFFFF;\n",
              "    }\n",
              "  </style>\n",
              "\n",
              "      <script>\n",
              "        const buttonEl =\n",
              "          document.querySelector('#df-7f95cab0-3ef2-4497-b6f0-a287d75ffcf6 button.colab-df-convert');\n",
              "        buttonEl.style.display =\n",
              "          google.colab.kernel.accessAllowed ? 'block' : 'none';\n",
              "\n",
              "        async function convertToInteractive(key) {\n",
              "          const element = document.querySelector('#df-7f95cab0-3ef2-4497-b6f0-a287d75ffcf6');\n",
              "          const dataTable =\n",
              "            await google.colab.kernel.invokeFunction('convertToInteractive',\n",
              "                                                     [key], {});\n",
              "          if (!dataTable) return;\n",
              "\n",
              "          const docLinkHtml = 'Like what you see? Visit the ' +\n",
              "            '<a target=\"_blank\" href=https://colab.research.google.com/notebooks/data_table.ipynb>data table notebook</a>'\n",
              "            + ' to learn more about interactive tables.';\n",
              "          element.innerHTML = '';\n",
              "          dataTable['output_type'] = 'display_data';\n",
              "          await google.colab.output.renderOutput(dataTable, element);\n",
              "          const docLink = document.createElement('div');\n",
              "          docLink.innerHTML = docLinkHtml;\n",
              "          element.appendChild(docLink);\n",
              "        }\n",
              "      </script>\n",
              "    </div>\n",
              "  </div>\n",
              "  "
            ]
          },
          "metadata": {},
          "execution_count": 7
        }
      ]
    },
    {
      "cell_type": "code",
      "source": [],
      "metadata": {
        "id": "419zjgl6hx6Y"
      },
      "execution_count": null,
      "outputs": []
    }
  ]
}