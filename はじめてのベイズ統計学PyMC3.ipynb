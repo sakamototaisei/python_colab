{
  "nbformat": 4,
  "nbformat_minor": 0,
  "metadata": {
    "colab": {
      "provenance": [],
      "collapsed_sections": [
        "yFXhUUvCviLQ",
        "LifMMC8Mvf7i",
        "LE2Q2CNHzmrq",
        "ztvBGSOYzxF-",
        "nf7tCiWiLZAn",
        "8dwaNO865LPA",
        "dexbVD1MSPfh",
        "cntEbTjnmkNT",
        "Sy4w9nb-jTT-"
      ],
      "toc_visible": true,
      "authorship_tag": "ABX9TyOgria5wY7Oi8XHFut2jLyI",
      "include_colab_link": true
    },
    "kernelspec": {
      "name": "python3",
      "display_name": "Python 3"
    },
    "language_info": {
      "name": "python"
    },
    "gpuClass": "standard",
    "accelerator": "GPU"
  },
  "cells": [
    {
      "cell_type": "markdown",
      "metadata": {
        "id": "view-in-github",
        "colab_type": "text"
      },
      "source": [
        "<a href=\"https://colab.research.google.com/github/sakamototaisei/python_colab/blob/main/%E3%81%AF%E3%81%98%E3%82%81%E3%81%A6%E3%81%AE%E3%83%99%E3%82%A4%E3%82%BA%E7%B5%B1%E8%A8%88%E5%AD%A6PyMC3.ipynb\" target=\"_parent\"><img src=\"https://colab.research.google.com/assets/colab-badge.svg\" alt=\"Open In Colab\"/></a>"
      ]
    },
    {
      "cell_type": "markdown",
      "source": [
        "# **セクション1：ベイズ統計の概要**"
      ],
      "metadata": {
        "id": "yFXhUUvCviLQ"
      }
    },
    {
      "cell_type": "markdown",
      "source": [
        "## LaTeXの基礎"
      ],
      "metadata": {
        "id": "LifMMC8Mvf7i"
      }
    },
    {
      "cell_type": "markdown",
      "source": [
        "**LaTeXとは？**\n",
        "\n",
        "Google Colaboratoryのテキストセルには、LaTeXという文書処理システムを使って数式を記述することができる\n",
        "\n",
        "$$y = 2x+1$$\n",
        "\n",
        "また、このように→$y=2x+1$　文章の中に数式を記述することもできる"
      ],
      "metadata": {
        "id": "Wa18NHLowGLp"
      }
    },
    {
      "cell_type": "markdown",
      "source": [
        "様々な数式\n",
        "\n",
        "--添字と累乗--\n",
        "$$a_1, a_{ij}, b^2, b^{ij}, c_1^2$$\n",
        "\n",
        "--多項式--\n",
        "$$y=x^3+2x^2+x+3$$\n",
        "\n",
        "--平方根--\n",
        "$$y=\\sqrt x$$\n",
        "\n",
        "--三角関数--\n",
        "$$y=\\sin x$$\n",
        "\n",
        "--分数--\n",
        "$$y=\\frac{17}{24}$$\n",
        "\n",
        "--総和--\n",
        "$$y=\\sum_{k=1}^n a_k$$\n",
        "\n",
        "--総乗--\n",
        "$$y=\\prod_{k=1}^n a_k$$\n",
        "\n",
        "--行列--\n",
        "$$\\begin{pmatrix}\n",
        "a & b \\\\\n",
        "c & d\n",
        "\\end{pmatrix}$$"
      ],
      "metadata": {
        "id": "t82PD1IrzXwk"
      }
    },
    {
      "cell_type": "markdown",
      "source": [
        "# **セクション2：確率・統計の基礎**"
      ],
      "metadata": {
        "id": "LE2Q2CNHzmrq"
      }
    },
    {
      "cell_type": "markdown",
      "source": [
        "## 確率の基礎"
      ],
      "metadata": {
        "id": "ztvBGSOYzxF-"
      }
    },
    {
      "cell_type": "code",
      "source": [
        "# 乱数\n",
        "import numpy as np\n",
        "\n",
        "r_int = np.random.randint(6)\n",
        "print(r_int)"
      ],
      "metadata": {
        "id": "hqwRDQ88wYCP"
      },
      "execution_count": null,
      "outputs": []
    },
    {
      "cell_type": "markdown",
      "source": [
        "NumPyのrandom.rand()関数を使うと、0から1までの小数をランダムに取得することできる"
      ],
      "metadata": {
        "id": "Xt5oQjMaDiTz"
      }
    },
    {
      "cell_type": "code",
      "source": [
        "r_dec = np.random.rand()\n",
        "print(r_dec)"
      ],
      "metadata": {
        "id": "VnTTt_lNDXZ2"
      },
      "execution_count": null,
      "outputs": []
    },
    {
      "cell_type": "markdown",
      "source": [
        "**均一な乱数**\n",
        "\n",
        "random.rand()の引数に整数aを渡すと、小数をa個得ることができる"
      ],
      "metadata": {
        "id": "gUaYF3rTEAXO"
      }
    },
    {
      "cell_type": "code",
      "source": [
        "import numpy as np\n",
        "import matplotlib.pyplot as plt\n",
        "\n",
        "n = 100\n",
        "x = np.random.rand(n)\n",
        "y = np.random.rand(n)\n",
        "\n",
        "plt.scatter(x, y)\n",
        "plt.grid()\n",
        "plt.show()"
      ],
      "metadata": {
        "id": "p4jUm5EnD0zy"
      },
      "execution_count": null,
      "outputs": []
    },
    {
      "cell_type": "markdown",
      "source": [
        "**偏った乱数**\n",
        "\n",
        "random.randn()関数は正規分布に従う乱数を返す、正規分布では、中央で確率が高く、両端で確率が低くなる\n",
        "\n",
        "以下、コードは正規分布に従う多数の乱数をx座標、y座標として散布図にプロットしている"
      ],
      "metadata": {
        "id": "lGnQsINlFUN7"
      }
    },
    {
      "cell_type": "code",
      "source": [
        "import numpy as np\n",
        "import matplotlib.pyplot as plt\n",
        "\n",
        "n = 1000\n",
        "x = np.random.randn(n)\n",
        "y = np.random.randn(n)\n",
        "\n",
        "plt.scatter(x, y)\n",
        "plt.grid()\n",
        "plt.show()"
      ],
      "metadata": {
        "id": "Nf5A7R8sEv0q"
      },
      "execution_count": null,
      "outputs": []
    },
    {
      "cell_type": "markdown",
      "source": [
        "**確率への収束**\n",
        "\n",
        "以下コードではサイコロを何度も振って5が出た回数を数え、その推移を表示するコード\n",
        "\n",
        "試行を重ねるにつれて、5が出た確率が16.7%に収束していくことを確認する"
      ],
      "metadata": {
        "id": "W5iw7BcaGook"
      }
    },
    {
      "cell_type": "code",
      "source": [
        "import numpy as np\n",
        "import matplotlib.pyplot as plt\n",
        "\n",
        "x = []\n",
        "y = []\n",
        "total = 0\n",
        "num_5 = 0\n",
        "n = 800\n",
        "\n",
        "for i in range(n):\n",
        "    if np.random.randint(6)+1 == 5: # 0-5までのランダムな数に1を加えて1-6に\n",
        "        num_5 += 1\n",
        "    total += 1\n",
        "    x.append(i)\n",
        "    y.append(num_5/total)\n",
        "\n",
        "plt.plot(x, y)\n",
        "plt.plot(x, [1/6]*n, linestyle='dashed') # yは1/6がn個入ったリスト\n",
        "plt.grid()\n",
        "plt.show()"
      ],
      "metadata": {
        "id": "F0bdNjuxGE8T"
      },
      "execution_count": null,
      "outputs": []
    },
    {
      "cell_type": "markdown",
      "source": [
        "## 基本的な統計量"
      ],
      "metadata": {
        "id": "nf7tCiWiLZAn"
      }
    },
    {
      "cell_type": "markdown",
      "source": [
        "**平均値**\n",
        "\n",
        "*   平均値は、NumPy average()関数もしくはmean()関数により計算できる\n",
        "\n"
      ],
      "metadata": {
        "id": "G9md3NfN2Eqd"
      }
    },
    {
      "cell_type": "code",
      "source": [
        "import numpy as np\n",
        "\n",
        "x = np.array([55, 45, 60, 40])\n",
        "\n",
        "print(np.average(x))"
      ],
      "metadata": {
        "id": "rLbTf6j5LDxO"
      },
      "execution_count": null,
      "outputs": []
    },
    {
      "cell_type": "code",
      "source": [
        "print(x.mean())"
      ],
      "metadata": {
        "id": "yZo-yDAT2eUa"
      },
      "execution_count": null,
      "outputs": []
    },
    {
      "cell_type": "markdown",
      "source": [
        "**期待値**\n",
        "\n",
        "*   得られる値の見込みと表現することができる\n",
        "*   値と確率の席の総和として表される値Eは期待値を呼ばれる\n",
        "*   平均値と期待値は同じ概念を表す\n",
        "\n"
      ],
      "metadata": {
        "id": "LdJOsgpb2wFw"
      }
    },
    {
      "cell_type": "code",
      "source": [
        "p = np.array([0.8, 0.15, 0.05]) # 確率\n",
        "x = np.array([10, 100, 1000]) # 値\n",
        "\n",
        "print(np.sum(p*x)) # 期待値"
      ],
      "metadata": {
        "id": "eL9tUCbP2l7J"
      },
      "execution_count": null,
      "outputs": []
    },
    {
      "cell_type": "markdown",
      "source": [
        "**分散**\n",
        "\n",
        "*   平均値との差の値を2乗して平均を取った値\n",
        "*   NumPyのvar()関数で計算することができる\n",
        "\n"
      ],
      "metadata": {
        "id": "49wxijqh4D5s"
      }
    },
    {
      "cell_type": "code",
      "source": [
        "x_1 = np.array([60, 40, 55, 54])\n",
        "x_2 = np.array([48, 49, 52, 51])\n",
        "\n",
        "# 分散の計算\n",
        "print(np.var(x_1))\n",
        "print(np.var(x_2))"
      ],
      "metadata": {
        "id": "HH0JgDZ33YW4"
      },
      "execution_count": null,
      "outputs": []
    },
    {
      "cell_type": "markdown",
      "source": [
        "**標準偏差**\n",
        "\n",
        "*   分散の平方根を取ることで求められる\n",
        "*   NumPyのstd()関数で計算することができる\n",
        "\n"
      ],
      "metadata": {
        "id": "lh86PhYm4rRs"
      }
    },
    {
      "cell_type": "code",
      "source": [
        "x_1 = np.array([60, 40, 55, 54])\n",
        "x_2 = np.array([48, 49, 52, 51])\n",
        "\n",
        "# 標準偏差の計算\n",
        "print(np.std(x_1))\n",
        "print(np.std(x_2))"
      ],
      "metadata": {
        "id": "Rg8PzNPY4mHn"
      },
      "execution_count": null,
      "outputs": []
    },
    {
      "cell_type": "markdown",
      "source": [
        "## 正規分布"
      ],
      "metadata": {
        "id": "8dwaNO865LPA"
      }
    },
    {
      "cell_type": "markdown",
      "source": [
        "**ネイピア数のべき乗**\n",
        "\n",
        "*   ネイピア数$e$は数学的に扱いやすい値なので、分布や確率を扱う際によく使われる\n",
        "*   ネイピア数のべき乗$e^x$は、以下のように$exp$を使ってよく表される\n",
        "$$exp(x)$$\n",
        "\n",
        "NumPyではnp.eによりネイピア数を取得することができる。また、np.exp()関数によりネイピア数のべき乗を計算することができる\n"
      ],
      "metadata": {
        "id": "EZOVB84a5bgz"
      }
    },
    {
      "cell_type": "code",
      "source": [
        "print(np.e) # ネイピア数\n",
        "print(np.exp(1)) # ネイピア数の1乗\n",
        "print(np.exp(2)) # ネイピア数の2乗\n",
        "print(np.e**2) # ネイピア数の2乗"
      ],
      "metadata": {
        "id": "TcckCl8u5Es7"
      },
      "execution_count": null,
      "outputs": []
    },
    {
      "cell_type": "markdown",
      "source": [
        "ネイピア数を使った以下の式により、釣鐘乗の曲線を描くことができる\n",
        "$$y = exp(-x^2)$$"
      ],
      "metadata": {
        "id": "tXYsWL4B6ti7"
      }
    },
    {
      "cell_type": "code",
      "source": [
        "import numpy as np\n",
        "import matplotlib.pyplot as plt\n",
        "\n",
        "x = np.linspace(-3, 3) # 引数のに与えた間の50分割の値を取得\n",
        "y = np.exp(-x**2)\n",
        "\n",
        "plt.plot(x, y)\n",
        "plt.show()"
      ],
      "metadata": {
        "id": "Qf7ozN3S6jn5"
      },
      "execution_count": null,
      "outputs": []
    },
    {
      "cell_type": "markdown",
      "source": [
        "**正規分布**\n",
        "\n",
        "*   自然界の様々な現象によく当てはまるデータの分布\n",
        "\n",
        "以下コードで、確率密度関数を使って正規分布の曲線を描画する\n",
        "\n",
        "平均値は0に固定し標準偏差を3通りにして3つの曲線を描画する\n",
        "\n"
      ],
      "metadata": {
        "id": "2DOdwvCF8HTx"
      }
    },
    {
      "cell_type": "code",
      "source": [
        "import numpy as np\n",
        "import matplotlib.pyplot as plt\n",
        "\n",
        "def pdf(x, mu, sigma):\n",
        "    return 1/(sigma*np.sqrt(2*np.pi))*np.exp(-(x-mu)**2 / (2*sigma**2)) # 確率密度関数\n",
        "\n",
        "x = np.linspace(-5, 5)\n",
        "y_1 = pdf(x, 0.0, 0.5)\n",
        "y_2 = pdf(x, 0.0, 1.0)\n",
        "y_3 = pdf(x, 0.0, 2.0)\n",
        "\n",
        "plt.plot(x, y_1, label='σ: 0.5')\n",
        "plt.plot(x, y_2, label='σ: 1.0')\n",
        "plt.plot(x, y_3, label='σ: 2.0')\n",
        "plt.legend()\n",
        "\n",
        "plt.xlabel('x')\n",
        "plt.ylabel('y')\n",
        "plt.grid()\n",
        "plt.show()"
      ],
      "metadata": {
        "id": "s_MQrldn7VJ8"
      },
      "execution_count": null,
      "outputs": []
    },
    {
      "cell_type": "markdown",
      "source": [
        "標準偏差は値のばらつき具合を表すのですが、これが小さいと曲線の幅が狭くなり、大きいと幅がひろくなります\n",
        "\n",
        "また、正規分布の曲線とx軸に挟まれた領域の面積は1になる。これは確率の総和が1であることに対応する"
      ],
      "metadata": {
        "id": "zfBG7CItQPtJ"
      }
    },
    {
      "cell_type": "markdown",
      "source": [
        "**正規分布に従う乱数**\n",
        "\n",
        "*   正規分布に従う乱数は、NumPyのrandom.normal()関数を使って生成すすることができる\n",
        "*   以下コードは、生成されたデータの分布をmatplotlibのhist()関数でヒストグラムとして表示する\n",
        "\n"
      ],
      "metadata": {
        "id": "vZs3hn6sQyAg"
      }
    },
    {
      "cell_type": "code",
      "source": [
        "import numpy as np\n",
        "import matplotlib.pyplot as plt\n",
        "\n",
        "s = np.random.normal(0, 1, 10000) # 平均0, 標準偏差1, 10000個\n",
        "\n",
        "plt.hist(s, bins=25)\n",
        "\n",
        "plt.xlabel('x', size=14)\n",
        "plt.grid()\n",
        "\n",
        "plt.show()"
      ],
      "metadata": {
        "id": "2eueRV6xPoP7"
      },
      "execution_count": null,
      "outputs": []
    },
    {
      "cell_type": "markdown",
      "source": [
        "生成されたデータの分布は、釣鐘状の形状となっており、確率密度関数の形状とほぼ同じを確認できる"
      ],
      "metadata": {
        "id": "z-QnPmzCR54F"
      }
    },
    {
      "cell_type": "markdown",
      "source": [
        "## 共分散と相関係数"
      ],
      "metadata": {
        "id": "dexbVD1MSPfh"
      }
    },
    {
      "cell_type": "markdown",
      "source": [
        "**共分散**\n",
        "\n",
        "\n",
        "*   2つのデータ間の関係を表す指標の1つ\n",
        "*   $Cov(X, Y)$\n",
        "\n",
        "$$Cov(X, Y) = \\frac{1}{n}\\sum_{k=1}^n (x_k-u_x)(y_k-u_y)$$\n",
        "\n"
      ],
      "metadata": {
        "id": "O-H-YwJaTV9j"
      }
    },
    {
      "cell_type": "markdown",
      "source": [
        "**相関係数**\n",
        "\n",
        "\n",
        "\n",
        "*   2つのデータの関係の強さを-1から1の範囲で表す\n",
        "\n",
        "$$ρ = \\frac{Cov(X, Y)}{σ_xσ_y}$$\n",
        "\n",
        "\n",
        "**相関係数の計算**\n",
        "\n",
        "NumPyのcorrcoef()関数を使って計算することができる\n",
        "\n",
        "corrcoef()関数の結果は2x2の行列として得られるが、右上と左下の要素が相関係数です"
      ],
      "metadata": {
        "id": "9bkZ26-uUr6I"
      }
    },
    {
      "cell_type": "code",
      "source": [
        "import numpy as np\n",
        "import matplotlib.pyplot as plt\n",
        "\n",
        "x = np.array([50, 70, 40, 60, 80]) # 英語\n",
        "y = np.array([60, 80, 50, 50, 70]) # 国語\n",
        "\n",
        "print('-- 相関係数: corrcoef関数を使用 --')\n",
        "print(np.corrcoef(x, y))\n",
        "\n",
        "plt.scatter(x, y)\n",
        "\n",
        "plt.xlabel('x', size=14)\n",
        "plt.ylabel('y', size=14)\n",
        "plt.grid()\n",
        "\n",
        "plt.show()"
      ],
      "metadata": {
        "id": "R-EEMLa3Ro20"
      },
      "execution_count": null,
      "outputs": []
    },
    {
      "cell_type": "markdown",
      "source": [
        "## 尤度"
      ],
      "metadata": {
        "id": "xPo1KrsaWq35"
      }
    },
    {
      "cell_type": "markdown",
      "source": [
        "\n",
        "\n",
        "*   尤度とは、データの尤もらしさを表す\n",
        "*   尤度は確率の積なので、0に限りなく近い値になる\n",
        "*   そこで、尤度はしばしば対数の形で扱われる、値の大小の傾向は、対数の形であれば変わらない\n",
        "\n",
        "$$log L = \\sum_{k=1}^n log p(x_k) = n log(\\frac{1}{σ\\sqrt2π}) - \\sum_{k=1}^n\\frac{(x_k - μ)^2}{2σ^2}$$\n",
        "\n"
      ],
      "metadata": {
        "id": "xn5Qkir8fFTG"
      }
    },
    {
      "cell_type": "markdown",
      "source": [
        "**小さい尤度**\n",
        "\n",
        "データと、確率密度関数を重ねてグラフに描画する\n",
        "\n",
        "確率密度関数で使用する平均値μは0、標準偏差σは1とする\n",
        "\n",
        "さらに、データがこの確率密度関数に従うとした場合の尤度と対数尤度を計算する"
      ],
      "metadata": {
        "id": "FgdbzSG1hy89"
      }
    },
    {
      "cell_type": "code",
      "source": [
        "import numpy as np\n",
        "import matplotlib.pyplot as plt\n",
        "\n",
        "x_data = np.array([2.3, 1.0, 2.5, 3.1, 4.6])\n",
        "y_data = np.zeros(5)\n",
        "\n",
        "mu = 0\n",
        "sigma = 1\n",
        "\n",
        "# 確率密度関数\n",
        "def pdf(x, mu, sigma):\n",
        "    return 1/(sigma*np.sqrt(2*np.pi))*np.exp(-(x-mu)**2 / (2*sigma**2))\n",
        "\n",
        "x_pdf = np.linspace(-5, 5)\n",
        "y_pdf = pdf(x_pdf, mu, sigma)\n",
        "\n",
        "plt.scatter(x_data, y_data)\n",
        "plt.plot(x_pdf, y_pdf)\n",
        "\n",
        "plt.xlabel('x', size=14)\n",
        "plt.ylabel('y', size=14)\n",
        "plt.grid()\n",
        "\n",
        "plt.show()\n",
        "\n",
        "print('尤度: ', np.prod(pdf(x_data, mu, sigma))) # 尤度の計算\n",
        "print('対数尤度: ', np.sum(np.log(pdf(x_data, mu, sigma)))) # 対数尤度の計算"
      ],
      "metadata": {
        "id": "NLedtSUTWctw"
      },
      "execution_count": null,
      "outputs": []
    },
    {
      "cell_type": "markdown",
      "source": [
        "上の正規分布で考えた時にx軸のデータが右側によっている\n",
        "\n",
        "このことで対数尤度が-26になっている。つまり尤もらしくないデータだということがわかる\n"
      ],
      "metadata": {
        "id": "BWmfLsH_kvbF"
      }
    },
    {
      "cell_type": "markdown",
      "source": [
        "**大きい尤度**\n",
        "\n",
        "\n",
        "*   確率密度関数で使用する、標準偏差と平均値を変更する0\n"
      ],
      "metadata": {
        "id": "yat97WoVlIcs"
      }
    },
    {
      "cell_type": "code",
      "source": [
        "import numpy as np\n",
        "import matplotlib.pyplot as plt\n",
        "\n",
        "x_data = np.array([2.3, 1.0, 2.5, 3.1, 4.6])\n",
        "y_data = np.zeros(5)\n",
        "\n",
        "mu = np.average(x_data) # データの平均値\n",
        "sigma = np.std(x_data) # データの標準偏差\n",
        "\n",
        "# 確率密度関数\n",
        "def pdf(x, mu, sigma):\n",
        "    return 1/(sigma*np.sqrt(2*np.pi))*np.exp(-(x-mu)**2 / (2*sigma**2))\n",
        "\n",
        "x_pdf = np.linspace(-3, 8)\n",
        "y_pdf = pdf(x_pdf, mu, sigma)\n",
        "\n",
        "plt.scatter(x_data, y_data)\n",
        "plt.plot(x_pdf, y_pdf)\n",
        "\n",
        "plt.xlabel('x', size=14)\n",
        "plt.ylabel('y', size=14)\n",
        "plt.grid()\n",
        "\n",
        "plt.show()\n",
        "\n",
        "print('尤度: ', np.prod(pdf(x_data, mu, sigma))) # 尤度の計算\n",
        "print('対数尤度: ', np.sum(np.log(pdf(x_data, mu, sigma)))) # 対数尤度の計算"
      ],
      "metadata": {
        "id": "CWCP5T3HkQPT"
      },
      "execution_count": null,
      "outputs": []
    },
    {
      "cell_type": "markdown",
      "source": [
        "上の正規分布で考えた時にx軸のデータが真ん中に集まっている\n",
        "\n",
        "このことで対数尤度が-7になっていて先ほどより大きくなっている、つまり尤もらしいデータだということがわかる\n"
      ],
      "metadata": {
        "id": "eFSiz0Sml1qT"
      }
    },
    {
      "cell_type": "markdown",
      "source": [
        "# **セクション3：ベイズ統計の基礎**"
      ],
      "metadata": {
        "id": "5hXLb-vemPPj"
      }
    },
    {
      "cell_type": "markdown",
      "source": [
        "## ベイズの定理"
      ],
      "metadata": {
        "id": "cntEbTjnmkNT"
      }
    },
    {
      "cell_type": "markdown",
      "source": [
        "**条件付き確率とは**\n",
        "\n",
        "*   ある出来事Bが起きたという条件のもとで別の出来事Aが起きる確率のことを条件付き確率\n",
        "$$P(A|B)$$\n",
        "\n",
        "条件付き確率は以下の式で求めることができます\n",
        "\n",
        "$$P(A|B) = \\frac{P(A∩B)}{P(B)}$$\n",
        "\n",
        "P(B)はBが起きる確率で、P(A∩B)はAとBが同時に起きる確率\n",
        "\n",
        "上記は、Bの中でAが起きたものの割合と解釈することができる"
      ],
      "metadata": {
        "id": "DP9m2FLRTfVX"
      }
    },
    {
      "cell_type": "markdown",
      "source": [
        "**例題**\n",
        "\n",
        "\n",
        "*   袋の中に白い玉と赤い球が10個ずつ入っている\n",
        "*   白い球のうち6つには0という数字が、4つには1という数字が書かれている\n",
        "*   赤い球のうち4つには0という数字が、6つには1という数字が書かれている\n",
        "\n",
        "この袋から玉を1つ取り出したら、白い玉でした。この白い球の番号が0であるある確率を求めてみよう\n",
        "\n",
        "球の色は既にしろと分かっているので、確率を計算する際にはこのことを考慮する\n",
        "\n",
        "$A$：番号が0である\n",
        "\n",
        "$B$：白い球である\n",
        "\n",
        "右辺の分母P(B)は白いためである確率なので、以下のように求めることができる\n",
        "\n",
        "$$P(B) = \\frac{10}{20}= \\frac{1}{2}$$\n",
        "\n",
        "右辺の分子、$P(A ∩ B)$ですが、袋の中に20個の玉があり、白くて番号が0の玉は6個なので以下のように求めることができる\n",
        "\n",
        "$$P(A \\cap B) = \\frac{6}{20} = \\frac{3}{10}$$\n",
        "\n",
        "以上により条件付き確率を以下のように求めることができる\n",
        "\n",
        "$$P(A|B) = \\frac{P(A \\cap B)}{P(B)} = \\frac{\\frac{3}{10}}{\\frac{1}{2}} = \\frac{3}{5}$$\n",
        "\n",
        "取り出した玉が白である場合、その番号が0である確率は$\\frac{3}{5}$、すなわち60%となる"
      ],
      "metadata": {
        "id": "EEUb-DpkZkbn"
      }
    },
    {
      "cell_type": "markdown",
      "source": [
        "**ベイズの定理とは**\n",
        "\n",
        "$$P(B|A) = \\frac{P(A|B)P(B)}{P(A)}$$\n",
        "\n",
        "*   条件付き確率$P(B|A)$を、$P(A|B)$と$P(A)$と$P(B)$と使って求めている\n",
        "*   Bが起きる確率P(B)は「事前確率」と呼ばれる、またAが起きたという条件のもとでBが起きる確率P(A|B)は「事後確率」と呼ばれる\n",
        "*   ベイズの定理は、事前確率を事後確率に変換する式です\n",
        "\n",
        "ベイズの定理は、$P(A|B)$は簡単に求まるが、$P(B|A)$が求まらない場合に役立つ"
      ],
      "metadata": {
        "id": "1Tu672b9csk8"
      }
    },
    {
      "cell_type": "markdown",
      "source": [
        "**ベイズの定理の活用例**\n",
        "\n",
        "ある人が検査により陽性と判定された場合、実際に罹患している可能性は何%か計算する\n",
        "\n",
        "*   全人類の0.01%が罹患している\n",
        "*   検査により、実際に病気に罹患している人が陽性と判定される確率が98%\n",
        "*   罹患していない人が陰性と判定される確率は90%\n",
        "\n",
        "　ここで陽性と判定されることを$A_1$、陰性と判定ことを$A_2$とする\n",
        "\n",
        "$$P(A_2) = 1 - P(A_1)$$\n",
        "\n",
        "という関係がある\n",
        "\n",
        "実際に罹患していることを$B_1$、罹患していないことを$B_2$とする\n",
        "\n",
        "$$P(B_2) = 1 - P(B_1)$$\n",
        "\n",
        "という関係がある\n",
        "\n",
        "以上を踏まえてベイズの定理を以下のように使っていく\n",
        "\n",
        "$$P(B_1|A_1) = \\frac{P(A_1|B_1)P(B_1)}{P(A_1)}$$\n",
        "\n",
        "左辺の$P(B_1|A_1)$が、陽性と判定された時実際に罹患している確率になる\n",
        "\n",
        "$P(A_1|B_1)$は罹患している人が陽性と判定される確率なので、病気の特性から以下の通りとなる\n",
        "\n",
        "$$P(A_1|B_1) = 0.98$$\n",
        "\n",
        "$P(B_1)$は病気に罹患している確率なので、病気の特性から以下のようになる\n",
        "\n",
        "$$P(B_1) = 0.0001$$\n",
        "\n",
        "$P(A_1)$は陽性と判定される確率なので、罹患していて陽性と判定される確率と、罹患していなくて陽性と判定される確率の和により計算することができる\n",
        "\n",
        "$$P(A_1) = P(B_1)P(A_1|B_1) + P(B_2)P(A_1|B_2) = 0.0001×0.98 + (1 - 0.0001) × (1 - 0.9) = 0.100088$$\n",
        "\n",
        "以上により、$P(B_1|A_1)$を以下のように求めることができる\n",
        "\n",
        "$$P(B_1|A_1) = \\frac{P(A_1|B_1)P(B_1)}{P(A_1)} = \\frac{0.98×0.0001}{0.100088} = 0.00097914$$\n",
        "\n",
        "たとえ検査に陽性であっても、本当に罹患している確率は0.1%程度のようです。\n",
        "\n",
        "ベイズの定理を用いたベイズ推定は、不確実な出来事を予測するために活用されている、例えば迷惑メールのフィルターやニュース記事のカテゴリ分類などに利用されている"
      ],
      "metadata": {
        "id": "zutja955ef7Z"
      }
    },
    {
      "cell_type": "markdown",
      "source": [
        "## 最尤推定"
      ],
      "metadata": {
        "id": "Sy4w9nb-jTT-"
      }
    },
    {
      "cell_type": "markdown",
      "source": [
        "\n",
        "\n",
        "*   データから尤度が最大になる確率分布のパラメータを求めることを「最尤推定」という\n",
        "\n",
        "**尤度とパラメータ**\n",
        "\n",
        "グラフを使って、正規分布を想定した際の尤度の最大値を確認する\n",
        "\n",
        "以下のコードでは、平均値を固定して標準偏差を変化させた場合の、対数尤度の変化をグラフに表示している\n",
        "\n",
        "対数尤度は以下の式で表す\n",
        "\n",
        "$$logL = \\sum_{k=1}^nlog p(x_k)$$\n",
        "\n",
        "\n",
        "$μ$は平均値で、$σ$は標準偏差です\n"
      ],
      "metadata": {
        "id": "vM0rw9MrjdeA"
      }
    },
    {
      "cell_type": "code",
      "source": [
        "import numpy as np\n",
        "import matplotlib.pyplot as plt\n",
        "\n",
        "x_data = np.array([1.2, 2.3, 4.5, 1.9, 3.7]) # データ\n",
        "\n",
        "mu = np.average(x_data)\n",
        "sigma = np.std(x_data)\n",
        "\n",
        "def pdf(x, mu, sigma): # 確率密度関数\n",
        "    return 1/(sigma*np.sqrt(2*np.pi))*np.exp(-(x-mu)**2 / (2*sigma**2))\n",
        "\n",
        "def log_likelihood(p): # 対数尤度\n",
        "    return np.sum(np.log(p))\n",
        "\n",
        "x_sigma = np.linspace(0.5, 8) # 横軸：標準偏差を0.5から8まで変化させる\n",
        "y_loglike = [] # 縦軸：対数尤度\n",
        "\n",
        "for s in x_sigma:\n",
        "    log_like = log_likelihood(pdf(x_data, mu, s))\n",
        "    y_loglike.append(y_loglike) # 対数尤度を縦軸に追加\n",
        "\n",
        "plt.plot(x_sigma, np.array(y_loglike))\n",
        "plt.plot([sigma, sigma], [min(y_loglike), max(y_loglike)], linestyle='dashed')  # データを標準偏差の位置に縦線を引く\n",
        "\n",
        "plt.xlabel('x_sigma', size=14)\n",
        "plt.ylabel('y_loglike', size=14)\n",
        "plt.grid()\n",
        "\n",
        "plt.show()"
      ],
      "metadata": {
        "id": "0VnXWPLObFh1"
      },
      "execution_count": null,
      "outputs": []
    },
    {
      "cell_type": "markdown",
      "source": [
        "上記のグラフで、横軸が標準偏差で縦軸が対数尤度で、点線はデータの標準偏差を表す\n",
        "\n",
        "正規分布の標準偏差により対数尤度が滑らかに変化する様子を見ることができる\n",
        "\n",
        "点線はデータの標準偏差を表しますが、この時縦軸の対数尤度は最大になっていることが確認できます\n",
        "\n",
        "対数尤度が最大であることは、尤度が最大であることを意味する\n",
        "\n",
        "このような最優推定により、データから最も妥当性の高い確率分布のパラメータを推定することができる"
      ],
      "metadata": {
        "id": "C-aR5n7oZ08a"
      }
    },
    {
      "cell_type": "markdown",
      "source": [
        "## PyMC3の基礎"
      ],
      "metadata": {
        "id": "5HI_fnUJbXN-"
      }
    },
    {
      "cell_type": "markdown",
      "source": [
        "**PyMC3**\n",
        "\n",
        "\n",
        "\n",
        "*   ベイズ統計モデリングと確率的機械学習のためのPythonパッケージ\n",
        "*   高度なマルコフ連鎖モンテカルロ法(MCMC)と変分推理(VI)アルゴリズムに重点を置く\n",
        "*   柔軟で拡張性が高い\n",
        "\n"
      ],
      "metadata": {
        "id": "1kPO5lN3pAE2"
      }
    },
    {
      "cell_type": "markdown",
      "source": [
        "pymc3のインストール"
      ],
      "metadata": {
        "id": "xoaLZii2jcZQ"
      }
    },
    {
      "cell_type": "code",
      "source": [
        "!pip install pymc3"
      ],
      "metadata": {
        "id": "KdQ3Q_2pZebN"
      },
      "execution_count": null,
      "outputs": []
    },
    {
      "cell_type": "markdown",
      "source": [
        "PyMC3をインポートしてバージョンを確認します"
      ],
      "metadata": {
        "id": "D1uZMiftjvs_"
      }
    },
    {
      "cell_type": "code",
      "source": [
        "import pymc3 as pm\n",
        "\n",
        "print(pm.__version__)"
      ],
      "metadata": {
        "colab": {
          "base_uri": "https://localhost:8080/"
        },
        "id": "aiLD3ZBTjnl2",
        "outputId": "ad9974c1-a940-43d9-bcbe-35fd87d640d5"
      },
      "execution_count": null,
      "outputs": [
        {
          "output_type": "stream",
          "name": "stdout",
          "text": [
            "3.11.5\n"
          ]
        }
      ]
    },
    {
      "cell_type": "markdown",
      "source": [
        "**確率分布**\n",
        "\n",
        "使用できる確率分布クラスの一覧を取得します。\n",
        "\n",
        "Pythonでは、dir()により変数や関数(属性)の一覧を取得することができます"
      ],
      "metadata": {
        "id": "dYRj8djfj_ef"
      }
    },
    {
      "cell_type": "code",
      "source": [
        "dir(pm.distributions)"
      ],
      "metadata": {
        "colab": {
          "base_uri": "https://localhost:8080/"
        },
        "id": "1OAw1xqoj68Z",
        "outputId": "59b9efb6-a9d3-4940-f464-bb2b79de4f9e"
      },
      "execution_count": null,
      "outputs": [
        {
          "output_type": "execute_result",
          "data": {
            "text/plain": [
              "['AR',\n",
              " 'AR1',\n",
              " 'AsymmetricLaplace',\n",
              " 'BART',\n",
              " 'Bernoulli',\n",
              " 'Beta',\n",
              " 'BetaBinomial',\n",
              " 'Binomial',\n",
              " 'Bound',\n",
              " 'Categorical',\n",
              " 'Cauchy',\n",
              " 'ChiSquared',\n",
              " 'Constant',\n",
              " 'ConstantDist',\n",
              " 'Continuous',\n",
              " 'DensityDist',\n",
              " 'Dirichlet',\n",
              " 'DirichletMultinomial',\n",
              " 'Discrete',\n",
              " 'DiscreteUniform',\n",
              " 'DiscreteWeibull',\n",
              " 'Distribution',\n",
              " 'ExGaussian',\n",
              " 'Exponential',\n",
              " 'Flat',\n",
              " 'GARCH11',\n",
              " 'Gamma',\n",
              " 'GaussianRandomWalk',\n",
              " 'Geometric',\n",
              " 'Gumbel',\n",
              " 'HalfCauchy',\n",
              " 'HalfFlat',\n",
              " 'HalfNormal',\n",
              " 'HalfStudentT',\n",
              " 'HyperGeometric',\n",
              " 'Interpolated',\n",
              " 'InverseGamma',\n",
              " 'KroneckerNormal',\n",
              " 'Kumaraswamy',\n",
              " 'LKJCholeskyCov',\n",
              " 'LKJCorr',\n",
              " 'Laplace',\n",
              " 'LogNormal',\n",
              " 'Logistic',\n",
              " 'LogitNormal',\n",
              " 'Lognormal',\n",
              " 'MatrixNormal',\n",
              " 'Mixture',\n",
              " 'MixtureSameFamily',\n",
              " 'Moyal',\n",
              " 'Multinomial',\n",
              " 'MvGaussianRandomWalk',\n",
              " 'MvNormal',\n",
              " 'MvStudentT',\n",
              " 'MvStudentTRandomWalk',\n",
              " 'NegativeBinomial',\n",
              " 'NoDistribution',\n",
              " 'Normal',\n",
              " 'NormalMixture',\n",
              " 'OrderedLogistic',\n",
              " 'OrderedProbit',\n",
              " 'Pareto',\n",
              " 'Poisson',\n",
              " 'Rice',\n",
              " 'Simulator',\n",
              " 'SkewNormal',\n",
              " 'StudentT',\n",
              " 'TensorType',\n",
              " 'Triangular',\n",
              " 'TruncatedNormal',\n",
              " 'Uniform',\n",
              " 'VonMises',\n",
              " 'Wald',\n",
              " 'Weibull',\n",
              " 'Wishart',\n",
              " 'WishartBartlett',\n",
              " 'ZeroInflatedBinomial',\n",
              " 'ZeroInflatedNegativeBinomial',\n",
              " 'ZeroInflatedPoisson',\n",
              " '__all__',\n",
              " '__builtins__',\n",
              " '__cached__',\n",
              " '__doc__',\n",
              " '__file__',\n",
              " '__loader__',\n",
              " '__name__',\n",
              " '__package__',\n",
              " '__path__',\n",
              " '__spec__',\n",
              " 'bart',\n",
              " 'bound',\n",
              " 'continuous',\n",
              " 'discrete',\n",
              " 'dist_math',\n",
              " 'distribution',\n",
              " 'draw_values',\n",
              " 'fast_sample_posterior_predictive',\n",
              " 'generate_samples',\n",
              " 'mixture',\n",
              " 'multivariate',\n",
              " 'posterior_predictive',\n",
              " 'shape_utils',\n",
              " 'simulator',\n",
              " 'special',\n",
              " 'timeseries',\n",
              " 'transforms',\n",
              " 'tree']"
            ]
          },
          "metadata": {},
          "execution_count": 3
        }
      ]
    },
    {
      "cell_type": "markdown",
      "source": [
        "正規分布のオブジェクトを生成する"
      ],
      "metadata": {
        "id": "bZwHdfgtkxAU"
      }
    },
    {
      "cell_type": "code",
      "source": [
        "mu = 2\n",
        "sigma = 1\n",
        "\n",
        "# 正規分布のオブジェクト\n",
        "dist = pm.Normal.dist(mu=mu, sigma=sigma)\n",
        "dist"
      ],
      "metadata": {
        "colab": {
          "base_uri": "https://localhost:8080/",
          "height": 38
        },
        "id": "Dutt9LmmkoG5",
        "outputId": "59a86248-7369-4611-9324-7d81f12cc3ce"
      },
      "execution_count": null,
      "outputs": [
        {
          "output_type": "execute_result",
          "data": {
            "text/plain": [
              "<pymc3.distributions.continuous.Normal at 0x7f43a79e5760>"
            ],
            "text/latex": "$\\text{[unnamed]} \\sim \\text{Normal}(\\mathit{mu}=2.0,~\\mathit{sigma}=1.0)$"
          },
          "metadata": {},
          "execution_count": 4
        }
      ]
    },
    {
      "cell_type": "markdown",
      "source": [
        "正規分布に従う乱数を生成する"
      ],
      "metadata": {
        "id": "mXxKxr0alJ5U"
      }
    },
    {
      "cell_type": "code",
      "source": [
        "dist.random(size=10) # 乱数10生成"
      ],
      "metadata": {
        "colab": {
          "base_uri": "https://localhost:8080/"
        },
        "id": "oRv53JiblDsY",
        "outputId": "4f64e345-5359-42bc-dfd0-fdc450eaa3f9"
      },
      "execution_count": null,
      "outputs": [
        {
          "output_type": "execute_result",
          "data": {
            "text/plain": [
              "array([1.31228739, 1.76725595, 3.18599536, 0.97300607, 1.40332773,\n",
              "       1.98690914, 0.90048291, 0.91222564, 1.85843131, 2.53470634])"
            ]
          },
          "metadata": {},
          "execution_count": 6
        }
      ]
    },
    {
      "cell_type": "markdown",
      "source": [
        "**統計モデルの生成**\n",
        "\n",
        "with構文の中に記述した分布のオブジェクトは、統計モデルのオブジェクトと紐付く"
      ],
      "metadata": {
        "id": "8GBQICFBlYqv"
      }
    },
    {
      "cell_type": "code",
      "source": [
        "with pm.Model() as model:\n",
        "    pm.Normal('x', mu=mu, sigma=sigma)"
      ],
      "metadata": {
        "id": "eXGMi8LJlVJK"
      },
      "execution_count": null,
      "outputs": []
    },
    {
      "cell_type": "markdown",
      "source": [
        "統計モデルの数式を確認する"
      ],
      "metadata": {
        "id": "4XmDQbwKlzz_"
      }
    },
    {
      "cell_type": "code",
      "source": [
        "model"
      ],
      "metadata": {
        "colab": {
          "base_uri": "https://localhost:8080/",
          "height": 38
        },
        "id": "QMYDRzXOlvvb",
        "outputId": "43bf550f-9476-4ed9-a7b8-391687f2292b"
      },
      "execution_count": null,
      "outputs": [
        {
          "output_type": "execute_result",
          "data": {
            "text/plain": [
              "<pymc3.model.Model at 0x7f43a7036700>"
            ],
            "text/latex": "$$\n                \\begin{array}{rcl}\n                \\text{x} &\\sim & \\text{Normal}\n                \\end{array}\n                $$"
          },
          "metadata": {},
          "execution_count": 8
        }
      ]
    },
    {
      "cell_type": "markdown",
      "source": [
        "統計モデルから乱数を生成する\n",
        "\n",
        "with構文でモデルを指定し、pm.sample()関数によりサンプリング結果を生成する"
      ],
      "metadata": {
        "id": "-140Y8xsl7AU"
      }
    },
    {
      "cell_type": "code",
      "source": [
        "with model:\n",
        "    trace = pm.sample()"
      ],
      "metadata": {
        "colab": {
          "base_uri": "https://localhost:8080/",
          "height": 112
        },
        "id": "nlGPZHNWl35d",
        "outputId": "41240bef-54e5-4ee5-edee-f0aa3cecfe89"
      },
      "execution_count": null,
      "outputs": [
        {
          "output_type": "stream",
          "name": "stderr",
          "text": [
            "/usr/local/lib/python3.8/dist-packages/deprecat/classic.py:215: FutureWarning: In v4.0, pm.sample will return an `arviz.InferenceData` object instead of a `MultiTrace` by default. You can pass return_inferencedata=True or return_inferencedata=False to be safe and silence this warning.\n",
            "  return wrapped_(*args_, **kwargs_)\n"
          ]
        },
        {
          "output_type": "display_data",
          "data": {
            "text/plain": [
              "<IPython.core.display.HTML object>"
            ],
            "text/html": [
              "\n",
              "<style>\n",
              "    /* Turns off some styling */\n",
              "    progress {\n",
              "        /* gets rid of default border in Firefox and Opera. */\n",
              "        border: none;\n",
              "        /* Needs to be in here for Safari polyfill so background images work as expected. */\n",
              "        background-size: auto;\n",
              "    }\n",
              "    progress:not([value]), progress:not([value])::-webkit-progress-bar {\n",
              "        background: repeating-linear-gradient(45deg, #7e7e7e, #7e7e7e 10px, #5c5c5c 10px, #5c5c5c 20px);\n",
              "    }\n",
              "    .progress-bar-interrupted, .progress-bar-interrupted::-webkit-progress-bar {\n",
              "        background: #F44336;\n",
              "    }\n",
              "</style>\n"
            ]
          },
          "metadata": {}
        },
        {
          "output_type": "display_data",
          "data": {
            "text/plain": [
              "<IPython.core.display.HTML object>"
            ],
            "text/html": [
              "\n",
              "    <div>\n",
              "      <progress value='2000' class='' max='2000' style='width:300px; height:20px; vertical-align: middle;'></progress>\n",
              "      100.00% [2000/2000 00:00&lt;00:00 Sampling chain 0, 0 divergences]\n",
              "    </div>\n",
              "    "
            ]
          },
          "metadata": {}
        },
        {
          "output_type": "display_data",
          "data": {
            "text/plain": [
              "<IPython.core.display.HTML object>"
            ],
            "text/html": [
              "\n",
              "<style>\n",
              "    /* Turns off some styling */\n",
              "    progress {\n",
              "        /* gets rid of default border in Firefox and Opera. */\n",
              "        border: none;\n",
              "        /* Needs to be in here for Safari polyfill so background images work as expected. */\n",
              "        background-size: auto;\n",
              "    }\n",
              "    progress:not([value]), progress:not([value])::-webkit-progress-bar {\n",
              "        background: repeating-linear-gradient(45deg, #7e7e7e, #7e7e7e 10px, #5c5c5c 10px, #5c5c5c 20px);\n",
              "    }\n",
              "    .progress-bar-interrupted, .progress-bar-interrupted::-webkit-progress-bar {\n",
              "        background: #F44336;\n",
              "    }\n",
              "</style>\n"
            ]
          },
          "metadata": {}
        },
        {
          "output_type": "display_data",
          "data": {
            "text/plain": [
              "<IPython.core.display.HTML object>"
            ],
            "text/html": [
              "\n",
              "    <div>\n",
              "      <progress value='2000' class='' max='2000' style='width:300px; height:20px; vertical-align: middle;'></progress>\n",
              "      100.00% [2000/2000 00:00&lt;00:00 Sampling chain 1, 0 divergences]\n",
              "    </div>\n",
              "    "
            ]
          },
          "metadata": {}
        }
      ]
    },
    {
      "cell_type": "markdown",
      "source": [
        "統計モデルにより生成された乱数を確認する"
      ],
      "metadata": {
        "id": "h1-S55ADmcPn"
      }
    },
    {
      "cell_type": "code",
      "source": [
        "trace['x'] # 乱数"
      ],
      "metadata": {
        "colab": {
          "base_uri": "https://localhost:8080/"
        },
        "id": "X1WR5pqUmVT4",
        "outputId": "4bae4184-5e69-4140-c43b-f89dc5003f0c"
      },
      "execution_count": null,
      "outputs": [
        {
          "output_type": "execute_result",
          "data": {
            "text/plain": [
              "array([2.07312552, 2.34868759, 2.34868759, ..., 1.8639779 , 1.22613231,\n",
              "       1.61271846])"
            ]
          },
          "metadata": {},
          "execution_count": 10
        }
      ]
    },
    {
      "cell_type": "markdown",
      "source": [
        "乱数の形状を確認する"
      ],
      "metadata": {
        "id": "ZwsLl0KgmlGK"
      }
    },
    {
      "cell_type": "code",
      "source": [
        "trace['x'].shape"
      ],
      "metadata": {
        "colab": {
          "base_uri": "https://localhost:8080/"
        },
        "id": "AWBYcb4cmi0_",
        "outputId": "3fe90291-b84c-43a7-9f14-ef35d958493e"
      },
      "execution_count": null,
      "outputs": [
        {
          "output_type": "execute_result",
          "data": {
            "text/plain": [
              "(2000,)"
            ]
          },
          "metadata": {},
          "execution_count": 11
        }
      ]
    },
    {
      "cell_type": "markdown",
      "source": [
        "**分布のグラフ表示**\n",
        "\n",
        "seabornを使い、サンプリング結果をグラフで表示する"
      ],
      "metadata": {
        "id": "kwCamHlPmtKR"
      }
    },
    {
      "cell_type": "code",
      "source": [
        "import seaborn as sns\n",
        "\n",
        "\n",
        "sns.histplot(trace['x'],\n",
        "             stat='count', # 縦軸は出現回数\n",
        "             kde=True) # 曲線の表示(kernel density estimation)"
      ],
      "metadata": {
        "colab": {
          "base_uri": "https://localhost:8080/",
          "height": 282
        },
        "id": "ky74MqiMmr1J",
        "outputId": "81b5a0ab-f1b7-4911-b944-cbe6cc70b6bf"
      },
      "execution_count": null,
      "outputs": [
        {
          "output_type": "execute_result",
          "data": {
            "text/plain": [
              "<matplotlib.axes._subplots.AxesSubplot at 0x7f43a6e14fd0>"
            ]
          },
          "metadata": {},
          "execution_count": 15
        },
        {
          "output_type": "display_data",
          "data": {
            "text/plain": [
              "<Figure size 432x288 with 1 Axes>"
            ],
            "image/png": "[encoded data removed]"
          },
          "metadata": {
            "needs_background": "light"
          }
        }
      ]
    },
    {
      "cell_type": "markdown",
      "source": [
        "**データフレームへの変換**\n",
        "\n",
        "pm.trace_to_dataframe()関数により、サンプリング結果をpandasのデータフレームに変換することができる"
      ],
      "metadata": {
        "id": "AD_SNN_tnlny"
      }
    },
    {
      "cell_type": "code",
      "source": [
        "df = pm.trace_to_dataframe(trace)\n",
        "print(type(df))\n",
        "df"
      ],
      "metadata": {
        "colab": {
          "base_uri": "https://localhost:8080/",
          "height": 441
        },
        "id": "DkWZ9Tq0nQtU",
        "outputId": "b7c2f504-79e5-42cb-b631-86f6f349036d"
      },
      "execution_count": null,
      "outputs": [
        {
          "output_type": "stream",
          "name": "stdout",
          "text": [
            "<class 'pandas.core.frame.DataFrame'>\n"
          ]
        },
        {
          "output_type": "execute_result",
          "data": {
            "text/plain": [
              "             x\n",
              "0     2.073126\n",
              "1     2.348688\n",
              "2     2.348688\n",
              "3     2.970664\n",
              "4     3.077065\n",
              "...        ...\n",
              "1995  1.345453\n",
              "1996  1.790648\n",
              "1997  1.863978\n",
              "1998  1.226132\n",
              "1999  1.612718\n",
              "\n",
              "[2000 rows x 1 columns]"
            ],
            "text/html": [
              "\n",
              "  <div id=\"df-1fa820e3-9f99-458b-b43f-8225a048e2a9\">\n",
              "    <div class=\"colab-df-container\">\n",
              "      <div>\n",
              "<style scoped>\n",
              "    .dataframe tbody tr th:only-of-type {\n",
              "        vertical-align: middle;\n",
              "    }\n",
              "\n",
              "    .dataframe tbody tr th {\n",
              "        vertical-align: top;\n",
              "    }\n",
              "\n",
              "    .dataframe thead th {\n",
              "        text-align: right;\n",
              "    }\n",
              "</style>\n",
              "<table border=\"1\" class=\"dataframe\">\n",
              "  <thead>\n",
              "    <tr style=\"text-align: right;\">\n",
              "      <th></th>\n",
              "      <th>x</th>\n",
              "    </tr>\n",
              "  </thead>\n",
              "  <tbody>\n",
              "    <tr>\n",
              "      <th>0</th>\n",
              "      <td>2.073126</td>\n",
              "    </tr>\n",
              "    <tr>\n",
              "      <th>1</th>\n",
              "      <td>2.348688</td>\n",
              "    </tr>\n",
              "    <tr>\n",
              "      <th>2</th>\n",
              "      <td>2.348688</td>\n",
              "    </tr>\n",
              "    <tr>\n",
              "      <th>3</th>\n",
              "      <td>2.970664</td>\n",
              "    </tr>\n",
              "    <tr>\n",
              "      <th>4</th>\n",
              "      <td>3.077065</td>\n",
              "    </tr>\n",
              "    <tr>\n",
              "      <th>...</th>\n",
              "      <td>...</td>\n",
              "    </tr>\n",
              "    <tr>\n",
              "      <th>1995</th>\n",
              "      <td>1.345453</td>\n",
              "    </tr>\n",
              "    <tr>\n",
              "      <th>1996</th>\n",
              "      <td>1.790648</td>\n",
              "    </tr>\n",
              "    <tr>\n",
              "      <th>1997</th>\n",
              "      <td>1.863978</td>\n",
              "    </tr>\n",
              "    <tr>\n",
              "      <th>1998</th>\n",
              "      <td>1.226132</td>\n",
              "    </tr>\n",
              "    <tr>\n",
              "      <th>1999</th>\n",
              "      <td>1.612718</td>\n",
              "    </tr>\n",
              "  </tbody>\n",
              "</table>\n",
              "<p>2000 rows × 1 columns</p>\n",
              "</div>\n",
              "      <button class=\"colab-df-convert\" onclick=\"convertToInteractive('df-1fa820e3-9f99-458b-b43f-8225a048e2a9')\"\n",
              "              title=\"Convert this dataframe to an interactive table.\"\n",
              "              style=\"display:none;\">\n",
              "        \n",
              "  <svg xmlns=\"http://www.w3.org/2000/svg\" height=\"24px\"viewBox=\"0 0 24 24\"\n",
              "       width=\"24px\">\n",
              "    <path d=\"M0 0h24v24H0V0z\" fill=\"none\"/>\n",
              "    <path d=\"M18.56 5.44l.94 2.06.94-2.06 2.06-.94-2.06-.94-.94-2.06-.94 2.06-2.06.94zm-11 1L8.5 8.5l.94-2.06 2.06-.94-2.06-.94L8.5 2.5l-.94 2.06-2.06.94zm10 10l.94 2.06.94-2.06 2.06-.94-2.06-.94-.94-2.06-.94 2.06-2.06.94z\"/><path d=\"M17.41 7.96l-1.37-1.37c-.4-.4-.92-.59-1.43-.59-.52 0-1.04.2-1.43.59L10.3 9.45l-7.72 7.72c-.78.78-.78 2.05 0 2.83L4 21.41c.39.39.9.59 1.41.59.51 0 1.02-.2 1.41-.59l7.78-7.78 2.81-2.81c.8-.78.8-2.07 0-2.86zM5.41 20L4 18.59l7.72-7.72 1.47 1.35L5.41 20z\"/>\n",
              "  </svg>\n",
              "      </button>\n",
              "      \n",
              "  <style>\n",
              "    .colab-df-container {\n",
              "      display:flex;\n",
              "      flex-wrap:wrap;\n",
              "      gap: 12px;\n",
              "    }\n",
              "\n",
              "    .colab-df-convert {\n",
              "      background-color: #E8F0FE;\n",
              "      border: none;\n",
              "      border-radius: 50%;\n",
              "      cursor: pointer;\n",
              "      display: none;\n",
              "      fill: #1967D2;\n",
              "      height: 32px;\n",
              "      padding: 0 0 0 0;\n",
              "      width: 32px;\n",
              "    }\n",
              "\n",
              "    .colab-df-convert:hover {\n",
              "      background-color: #E2EBFA;\n",
              "      box-shadow: 0px 1px 2px rgba(60, 64, 67, 0.3), 0px 1px 3px 1px rgba(60, 64, 67, 0.15);\n",
              "      fill: #174EA6;\n",
              "    }\n",
              "\n",
              "    [theme=dark] .colab-df-convert {\n",
              "      background-color: #3B4455;\n",
              "      fill: #D2E3FC;\n",
              "    }\n",
              "\n",
              "    [theme=dark] .colab-df-convert:hover {\n",
              "      background-color: #434B5C;\n",
              "      box-shadow: 0px 1px 3px 1px rgba(0, 0, 0, 0.15);\n",
              "      filter: drop-shadow(0px 1px 2px rgba(0, 0, 0, 0.3));\n",
              "      fill: #FFFFFF;\n",
              "    }\n",
              "  </style>\n",
              "\n",
              "      <script>\n",
              "        const buttonEl =\n",
              "          document.querySelector('#df-1fa820e3-9f99-458b-b43f-8225a048e2a9 button.colab-df-convert');\n",
              "        buttonEl.style.display =\n",
              "          google.colab.kernel.accessAllowed ? 'block' : 'none';\n",
              "\n",
              "        async function convertToInteractive(key) {\n",
              "          const element = document.querySelector('#df-1fa820e3-9f99-458b-b43f-8225a048e2a9');\n",
              "          const dataTable =\n",
              "            await google.colab.kernel.invokeFunction('convertToInteractive',\n",
              "                                                     [key], {});\n",
              "          if (!dataTable) return;\n",
              "\n",
              "          const docLinkHtml = 'Like what you see? Visit the ' +\n",
              "            '<a target=\"_blank\" href=https://colab.research.google.com/notebooks/data_table.ipynb>data table notebook</a>'\n",
              "            + ' to learn more about interactive tables.';\n",
              "          element.innerHTML = '';\n",
              "          dataTable['output_type'] = 'display_data';\n",
              "          await google.colab.output.renderOutput(dataTable, element);\n",
              "          const docLink = document.createElement('div');\n",
              "          docLink.innerHTML = docLinkHtml;\n",
              "          element.appendChild(docLink);\n",
              "        }\n",
              "      </script>\n",
              "    </div>\n",
              "  </div>\n",
              "  "
            ]
          },
          "metadata": {},
          "execution_count": 16
        }
      ]
    },
    {
      "cell_type": "markdown",
      "source": [
        "# **セクション4：ベイズ統計の応用**"
      ],
      "metadata": {
        "id": "qkZJ2pgVodHV"
      }
    },
    {
      "cell_type": "markdown",
      "source": [
        "## ベイズ推定の実装"
      ],
      "metadata": {
        "id": "FAZtR5qJonLP"
      }
    },
    {
      "cell_type": "markdown",
      "source": [
        "**ベイズ推定**\n",
        "\n",
        "*   ベイズの定理を使った統計的推定方法\n",
        "*   確率「分布」を推定することができる\n",
        "*   新しいデータを使い、確率分布を更新していく「ベイズ更新」\n",
        "\n"
      ],
      "metadata": {
        "id": "d1x7kNEEOBIK"
      }
    },
    {
      "cell_type": "markdown",
      "source": [
        "例として、あるウェブサイトにおけるボタンのクリック確率を、分布として推定する"
      ],
      "metadata": {
        "id": "JPZq9O_3OqN9"
      }
    },
    {
      "cell_type": "markdown",
      "source": [
        "**ベイズの定理と確率分布**\n",
        "\n",
        "ベイズの定理を確率分布に適用する\n",
        "\n",
        "$$p(θ|r) = \\frac{p(r|θ)p(θ)}{p(r)}$$\n",
        "\n",
        "この式において、$θ$は確率分布のパラメータ、$r$は得られたデータです。\n",
        "\n",
        "$p(θ)$は事前分布、$p(θ|r)$が事後分布、$p(r|θ)$尤度(尤度関数)と呼ばれる\n",
        "\n",
        "$p(r)$は「正規化定数」などと呼ばれますが、$θ$を含まない定数となる\n",
        "\n",
        "$p(r)$は事後分布$p(θ|r)$の値を0から1の範囲に納め、合計1にする、いわゆる「正規化」の役割を担います"
      ],
      "metadata": {
        "id": "VOIZhw1XOxwM"
      }
    },
    {
      "cell_type": "markdown",
      "source": [
        "**ベルヌーイ分布**\n",
        "\n",
        "あるウェブサイトにボタンを配置します\n",
        "\n",
        "このボタンがクリックされる確率をθ、クリックされることを1,クリックされないことを0とすると、条件付き確率を以下のように表すことができる\n",
        "\n",
        "$$p(r = 1 | θ) = θ$$\n",
        "$$p(r = 0 | θ) = 1 - θ$$\n",
        "\n",
        "これらの式は、以下の表にまとめることができる\n",
        "\n",
        "$$p(r|θ) = θ^r (1 - θ)^{1-r}$$\n",
        "\n",
        "この確率分布は「ベルヌーイ分布」と呼ばれる\n",
        "\n",
        "ベルヌーイ分布におけるパラメータθは、クリックされる確率なので0から1までの範囲をとる\n",
        "\n",
        "今回は、このベルヌーイ分布を尤度として使います"
      ],
      "metadata": {
        "id": "eBkrgbygQc8U"
      }
    },
    {
      "cell_type": "markdown",
      "source": [
        "**事前分布の用意**\n",
        "\n",
        "今回は、ベイズ推定により、事後分布$p(θ|r)$を推定する\n",
        "\n",
        "まずは、事前分布p(θ)を用意する\n",
        "\n",
        "今回は、全く手がかりがないので確率変数によらず確率の値が一定な、一様分布を事前分布に使う"
      ],
      "metadata": {
        "id": "_iTsIfGWSzR8"
      }
    },
    {
      "cell_type": "code",
      "source": [
        "import numpy as np\n",
        "\n",
        "thetas = np.linspace(0, 1, 500) # パラメータ:0から1の範囲\n",
        "p = np.ones(len(thetas)) / len(thetas) # 事前確率の分布:一様分布\n",
        "print(p)"
      ],
      "metadata": {
        "id": "VIsyh8P-oAno",
        "colab": {
          "base_uri": "https://localhost:8080/"
        },
        "outputId": "6df57c68-6980-4dcb-be72-90ba6d3cc938"
      },
      "execution_count": null,
      "outputs": [
        {
          "output_type": "stream",
          "name": "stdout",
          "text": [
            "[0.002 0.002 0.002 0.002 0.002 0.002 0.002 0.002 0.002 0.002 0.002 0.002\n",
            " 0.002 0.002 0.002 0.002 0.002 0.002 0.002 0.002 0.002 0.002 0.002 0.002\n",
            " 0.002 0.002 0.002 0.002 0.002 0.002 0.002 0.002 0.002 0.002 0.002 0.002\n",
            " 0.002 0.002 0.002 0.002 0.002 0.002 0.002 0.002 0.002 0.002 0.002 0.002\n",
            " 0.002 0.002 0.002 0.002 0.002 0.002 0.002 0.002 0.002 0.002 0.002 0.002\n",
            " 0.002 0.002 0.002 0.002 0.002 0.002 0.002 0.002 0.002 0.002 0.002 0.002\n",
            " 0.002 0.002 0.002 0.002 0.002 0.002 0.002 0.002 0.002 0.002 0.002 0.002\n",
            " 0.002 0.002 0.002 0.002 0.002 0.002 0.002 0.002 0.002 0.002 0.002 0.002\n",
            " 0.002 0.002 0.002 0.002 0.002 0.002 0.002 0.002 0.002 0.002 0.002 0.002\n",
            " 0.002 0.002 0.002 0.002 0.002 0.002 0.002 0.002 0.002 0.002 0.002 0.002\n",
            " 0.002 0.002 0.002 0.002 0.002 0.002 0.002 0.002 0.002 0.002 0.002 0.002\n",
            " 0.002 0.002 0.002 0.002 0.002 0.002 0.002 0.002 0.002 0.002 0.002 0.002\n",
            " 0.002 0.002 0.002 0.002 0.002 0.002 0.002 0.002 0.002 0.002 0.002 0.002\n",
            " 0.002 0.002 0.002 0.002 0.002 0.002 0.002 0.002 0.002 0.002 0.002 0.002\n",
            " 0.002 0.002 0.002 0.002 0.002 0.002 0.002 0.002 0.002 0.002 0.002 0.002\n",
            " 0.002 0.002 0.002 0.002 0.002 0.002 0.002 0.002 0.002 0.002 0.002 0.002\n",
            " 0.002 0.002 0.002 0.002 0.002 0.002 0.002 0.002 0.002 0.002 0.002 0.002\n",
            " 0.002 0.002 0.002 0.002 0.002 0.002 0.002 0.002 0.002 0.002 0.002 0.002\n",
            " 0.002 0.002 0.002 0.002 0.002 0.002 0.002 0.002 0.002 0.002 0.002 0.002\n",
            " 0.002 0.002 0.002 0.002 0.002 0.002 0.002 0.002 0.002 0.002 0.002 0.002\n",
            " 0.002 0.002 0.002 0.002 0.002 0.002 0.002 0.002 0.002 0.002 0.002 0.002\n",
            " 0.002 0.002 0.002 0.002 0.002 0.002 0.002 0.002 0.002 0.002 0.002 0.002\n",
            " 0.002 0.002 0.002 0.002 0.002 0.002 0.002 0.002 0.002 0.002 0.002 0.002\n",
            " 0.002 0.002 0.002 0.002 0.002 0.002 0.002 0.002 0.002 0.002 0.002 0.002\n",
            " 0.002 0.002 0.002 0.002 0.002 0.002 0.002 0.002 0.002 0.002 0.002 0.002\n",
            " 0.002 0.002 0.002 0.002 0.002 0.002 0.002 0.002 0.002 0.002 0.002 0.002\n",
            " 0.002 0.002 0.002 0.002 0.002 0.002 0.002 0.002 0.002 0.002 0.002 0.002\n",
            " 0.002 0.002 0.002 0.002 0.002 0.002 0.002 0.002 0.002 0.002 0.002 0.002\n",
            " 0.002 0.002 0.002 0.002 0.002 0.002 0.002 0.002 0.002 0.002 0.002 0.002\n",
            " 0.002 0.002 0.002 0.002 0.002 0.002 0.002 0.002 0.002 0.002 0.002 0.002\n",
            " 0.002 0.002 0.002 0.002 0.002 0.002 0.002 0.002 0.002 0.002 0.002 0.002\n",
            " 0.002 0.002 0.002 0.002 0.002 0.002 0.002 0.002 0.002 0.002 0.002 0.002\n",
            " 0.002 0.002 0.002 0.002 0.002 0.002 0.002 0.002 0.002 0.002 0.002 0.002\n",
            " 0.002 0.002 0.002 0.002 0.002 0.002 0.002 0.002 0.002 0.002 0.002 0.002\n",
            " 0.002 0.002 0.002 0.002 0.002 0.002 0.002 0.002 0.002 0.002 0.002 0.002\n",
            " 0.002 0.002 0.002 0.002 0.002 0.002 0.002 0.002 0.002 0.002 0.002 0.002\n",
            " 0.002 0.002 0.002 0.002 0.002 0.002 0.002 0.002 0.002 0.002 0.002 0.002\n",
            " 0.002 0.002 0.002 0.002 0.002 0.002 0.002 0.002 0.002 0.002 0.002 0.002\n",
            " 0.002 0.002 0.002 0.002 0.002 0.002 0.002 0.002 0.002 0.002 0.002 0.002\n",
            " 0.002 0.002 0.002 0.002 0.002 0.002 0.002 0.002 0.002 0.002 0.002 0.002\n",
            " 0.002 0.002 0.002 0.002 0.002 0.002 0.002 0.002 0.002 0.002 0.002 0.002\n",
            " 0.002 0.002 0.002 0.002 0.002 0.002 0.002 0.002]\n"
          ]
        }
      ]
    },
    {
      "cell_type": "markdown",
      "source": [
        "**尤度を計算する関数**\n",
        "\n",
        "ベイズの定理における尤度$p(r|θ)$を計算するための関数を用意する\n",
        "\n",
        "今回は試行が一回のみのため、尤度はベルヌーイ分布で表すことができます"
      ],
      "metadata": {
        "id": "BR-nHH6NURVE"
      }
    },
    {
      "cell_type": "code",
      "source": [
        "def likehood(r):\n",
        "    # ベルヌーイ分布\n",
        "    if r == 1: # クリックされた場合\n",
        "        return thetas\n",
        "    else: # クリックされなかった場合\n",
        "        return 1-thetas"
      ],
      "metadata": {
        "id": "M7LxxpppTzch"
      },
      "execution_count": null,
      "outputs": []
    },
    {
      "cell_type": "markdown",
      "source": [
        "**事後分布を計算する関数**\n",
        "\n",
        "事後分布$p(θ|r)$を計算するための関数を設定する\n",
        "\n",
        "事前確率の尤度の積をとり、正規化定数$p(r)$で割る\n",
        "\n",
        "正規化定数は積分により数式の形で表せる場合もあるのですが、一般的に数式の形を求めるのは難しい\n",
        "\n",
        "従って、今回は事前確率と尤度の積を、その総和で割ることで正規化する\n"
      ],
      "metadata": {
        "id": "_PqbllnQU-RL"
      }
    },
    {
      "cell_type": "code",
      "source": [
        "def posterior(r, prior):\n",
        "    lipr = prior * likehood(r) # 事前確率と尤度の積\n",
        "    return lipr / lipr.sum() # 正規化：事後分布の積を0から1の範囲に納め、合計1に"
      ],
      "metadata": {
        "id": "mGLFVGSxU8dt"
      },
      "execution_count": null,
      "outputs": []
    },
    {
      "cell_type": "markdown",
      "source": [
        "**事後分布の計算**\n",
        "\n",
        "まずは、一回ボタンを表示して、クリックされた場合の事後分布を計算する\n",
        "\n",
        "先ほど設定したposterior()関数に、クリックされたことを表す1と事前分布を渡す\n"
      ],
      "metadata": {
        "id": "lbkS_S9IWLW0"
      }
    },
    {
      "cell_type": "code",
      "source": [
        "# 事後分布の計算：クリックした場合\n",
        "p = posterior(1, p)\n",
        "print(p)"
      ],
      "metadata": {
        "colab": {
          "base_uri": "https://localhost:8080/"
        },
        "id": "NIh1rDBzWJHV",
        "outputId": "9b26f5b8-2ee5-4b98-bb0e-791f38fdaa31"
      },
      "execution_count": null,
      "outputs": [
        {
          "output_type": "stream",
          "name": "stdout",
          "text": [
            "[0.00000000e+00 8.01603206e-06 1.60320641e-05 2.40480962e-05\n",
            " 3.20641283e-05 4.00801603e-05 4.80961924e-05 5.61122244e-05\n",
            " 6.41282565e-05 7.21442886e-05 8.01603206e-05 8.81763527e-05\n",
            " 9.61923848e-05 1.04208417e-04 1.12224449e-04 1.20240481e-04\n",
            " 1.28256513e-04 1.36272545e-04 1.44288577e-04 1.52304609e-04\n",
            " 1.60320641e-04 1.68336673e-04 1.76352705e-04 1.84368737e-04\n",
            " 1.92384770e-04 2.00400802e-04 2.08416834e-04 2.16432866e-04\n",
            " 2.24448898e-04 2.32464930e-04 2.40480962e-04 2.48496994e-04\n",
            " 2.56513026e-04 2.64529058e-04 2.72545090e-04 2.80561122e-04\n",
            " 2.88577154e-04 2.96593186e-04 3.04609218e-04 3.12625251e-04\n",
            " 3.20641283e-04 3.28657315e-04 3.36673347e-04 3.44689379e-04\n",
            " 3.52705411e-04 3.60721443e-04 3.68737475e-04 3.76753507e-04\n",
            " 3.84769539e-04 3.92785571e-04 4.00801603e-04 4.08817635e-04\n",
            " 4.16833667e-04 4.24849699e-04 4.32865731e-04 4.40881764e-04\n",
            " 4.48897796e-04 4.56913828e-04 4.64929860e-04 4.72945892e-04\n",
            " 4.80961924e-04 4.88977956e-04 4.96993988e-04 5.05010020e-04\n",
            " 5.13026052e-04 5.21042084e-04 5.29058116e-04 5.37074148e-04\n",
            " 5.45090180e-04 5.53106212e-04 5.61122244e-04 5.69138277e-04\n",
            " 5.77154309e-04 5.85170341e-04 5.93186373e-04 6.01202405e-04\n",
            " 6.09218437e-04 6.17234469e-04 6.25250501e-04 6.33266533e-04\n",
            " 6.41282565e-04 6.49298597e-04 6.57314629e-04 6.65330661e-04\n",
            " 6.73346693e-04 6.81362725e-04 6.89378758e-04 6.97394790e-04\n",
            " 7.05410822e-04 7.13426854e-04 7.21442886e-04 7.29458918e-04\n",
            " 7.37474950e-04 7.45490982e-04 7.53507014e-04 7.61523046e-04\n",
            " 7.69539078e-04 7.77555110e-04 7.85571142e-04 7.93587174e-04\n",
            " 8.01603206e-04 8.09619238e-04 8.17635271e-04 8.25651303e-04\n",
            " 8.33667335e-04 8.41683367e-04 8.49699399e-04 8.57715431e-04\n",
            " 8.65731463e-04 8.73747495e-04 8.81763527e-04 8.89779559e-04\n",
            " 8.97795591e-04 9.05811623e-04 9.13827655e-04 9.21843687e-04\n",
            " 9.29859719e-04 9.37875752e-04 9.45891784e-04 9.53907816e-04\n",
            " 9.61923848e-04 9.69939880e-04 9.77955912e-04 9.85971944e-04\n",
            " 9.93987976e-04 1.00200401e-03 1.01002004e-03 1.01803607e-03\n",
            " 1.02605210e-03 1.03406814e-03 1.04208417e-03 1.05010020e-03\n",
            " 1.05811623e-03 1.06613226e-03 1.07414830e-03 1.08216433e-03\n",
            " 1.09018036e-03 1.09819639e-03 1.10621242e-03 1.11422846e-03\n",
            " 1.12224449e-03 1.13026052e-03 1.13827655e-03 1.14629259e-03\n",
            " 1.15430862e-03 1.16232465e-03 1.17034068e-03 1.17835671e-03\n",
            " 1.18637275e-03 1.19438878e-03 1.20240481e-03 1.21042084e-03\n",
            " 1.21843687e-03 1.22645291e-03 1.23446894e-03 1.24248497e-03\n",
            " 1.25050100e-03 1.25851703e-03 1.26653307e-03 1.27454910e-03\n",
            " 1.28256513e-03 1.29058116e-03 1.29859719e-03 1.30661323e-03\n",
            " 1.31462926e-03 1.32264529e-03 1.33066132e-03 1.33867735e-03\n",
            " 1.34669339e-03 1.35470942e-03 1.36272545e-03 1.37074148e-03\n",
            " 1.37875752e-03 1.38677355e-03 1.39478958e-03 1.40280561e-03\n",
            " 1.41082164e-03 1.41883768e-03 1.42685371e-03 1.43486974e-03\n",
            " 1.44288577e-03 1.45090180e-03 1.45891784e-03 1.46693387e-03\n",
            " 1.47494990e-03 1.48296593e-03 1.49098196e-03 1.49899800e-03\n",
            " 1.50701403e-03 1.51503006e-03 1.52304609e-03 1.53106212e-03\n",
            " 1.53907816e-03 1.54709419e-03 1.55511022e-03 1.56312625e-03\n",
            " 1.57114228e-03 1.57915832e-03 1.58717435e-03 1.59519038e-03\n",
            " 1.60320641e-03 1.61122244e-03 1.61923848e-03 1.62725451e-03\n",
            " 1.63527054e-03 1.64328657e-03 1.65130261e-03 1.65931864e-03\n",
            " 1.66733467e-03 1.67535070e-03 1.68336673e-03 1.69138277e-03\n",
            " 1.69939880e-03 1.70741483e-03 1.71543086e-03 1.72344689e-03\n",
            " 1.73146293e-03 1.73947896e-03 1.74749499e-03 1.75551102e-03\n",
            " 1.76352705e-03 1.77154309e-03 1.77955912e-03 1.78757515e-03\n",
            " 1.79559118e-03 1.80360721e-03 1.81162325e-03 1.81963928e-03\n",
            " 1.82765531e-03 1.83567134e-03 1.84368737e-03 1.85170341e-03\n",
            " 1.85971944e-03 1.86773547e-03 1.87575150e-03 1.88376754e-03\n",
            " 1.89178357e-03 1.89979960e-03 1.90781563e-03 1.91583166e-03\n",
            " 1.92384770e-03 1.93186373e-03 1.93987976e-03 1.94789579e-03\n",
            " 1.95591182e-03 1.96392786e-03 1.97194389e-03 1.97995992e-03\n",
            " 1.98797595e-03 1.99599198e-03 2.00400802e-03 2.01202405e-03\n",
            " 2.02004008e-03 2.02805611e-03 2.03607214e-03 2.04408818e-03\n",
            " 2.05210421e-03 2.06012024e-03 2.06813627e-03 2.07615230e-03\n",
            " 2.08416834e-03 2.09218437e-03 2.10020040e-03 2.10821643e-03\n",
            " 2.11623246e-03 2.12424850e-03 2.13226453e-03 2.14028056e-03\n",
            " 2.14829659e-03 2.15631263e-03 2.16432866e-03 2.17234469e-03\n",
            " 2.18036072e-03 2.18837675e-03 2.19639279e-03 2.20440882e-03\n",
            " 2.21242485e-03 2.22044088e-03 2.22845691e-03 2.23647295e-03\n",
            " 2.24448898e-03 2.25250501e-03 2.26052104e-03 2.26853707e-03\n",
            " 2.27655311e-03 2.28456914e-03 2.29258517e-03 2.30060120e-03\n",
            " 2.30861723e-03 2.31663327e-03 2.32464930e-03 2.33266533e-03\n",
            " 2.34068136e-03 2.34869739e-03 2.35671343e-03 2.36472946e-03\n",
            " 2.37274549e-03 2.38076152e-03 2.38877756e-03 2.39679359e-03\n",
            " 2.40480962e-03 2.41282565e-03 2.42084168e-03 2.42885772e-03\n",
            " 2.43687375e-03 2.44488978e-03 2.45290581e-03 2.46092184e-03\n",
            " 2.46893788e-03 2.47695391e-03 2.48496994e-03 2.49298597e-03\n",
            " 2.50100200e-03 2.50901804e-03 2.51703407e-03 2.52505010e-03\n",
            " 2.53306613e-03 2.54108216e-03 2.54909820e-03 2.55711423e-03\n",
            " 2.56513026e-03 2.57314629e-03 2.58116232e-03 2.58917836e-03\n",
            " 2.59719439e-03 2.60521042e-03 2.61322645e-03 2.62124248e-03\n",
            " 2.62925852e-03 2.63727455e-03 2.64529058e-03 2.65330661e-03\n",
            " 2.66132265e-03 2.66933868e-03 2.67735471e-03 2.68537074e-03\n",
            " 2.69338677e-03 2.70140281e-03 2.70941884e-03 2.71743487e-03\n",
            " 2.72545090e-03 2.73346693e-03 2.74148297e-03 2.74949900e-03\n",
            " 2.75751503e-03 2.76553106e-03 2.77354709e-03 2.78156313e-03\n",
            " 2.78957916e-03 2.79759519e-03 2.80561122e-03 2.81362725e-03\n",
            " 2.82164329e-03 2.82965932e-03 2.83767535e-03 2.84569138e-03\n",
            " 2.85370741e-03 2.86172345e-03 2.86973948e-03 2.87775551e-03\n",
            " 2.88577154e-03 2.89378758e-03 2.90180361e-03 2.90981964e-03\n",
            " 2.91783567e-03 2.92585170e-03 2.93386774e-03 2.94188377e-03\n",
            " 2.94989980e-03 2.95791583e-03 2.96593186e-03 2.97394790e-03\n",
            " 2.98196393e-03 2.98997996e-03 2.99799599e-03 3.00601202e-03\n",
            " 3.01402806e-03 3.02204409e-03 3.03006012e-03 3.03807615e-03\n",
            " 3.04609218e-03 3.05410822e-03 3.06212425e-03 3.07014028e-03\n",
            " 3.07815631e-03 3.08617234e-03 3.09418838e-03 3.10220441e-03\n",
            " 3.11022044e-03 3.11823647e-03 3.12625251e-03 3.13426854e-03\n",
            " 3.14228457e-03 3.15030060e-03 3.15831663e-03 3.16633267e-03\n",
            " 3.17434870e-03 3.18236473e-03 3.19038076e-03 3.19839679e-03\n",
            " 3.20641283e-03 3.21442886e-03 3.22244489e-03 3.23046092e-03\n",
            " 3.23847695e-03 3.24649299e-03 3.25450902e-03 3.26252505e-03\n",
            " 3.27054108e-03 3.27855711e-03 3.28657315e-03 3.29458918e-03\n",
            " 3.30260521e-03 3.31062124e-03 3.31863727e-03 3.32665331e-03\n",
            " 3.33466934e-03 3.34268537e-03 3.35070140e-03 3.35871743e-03\n",
            " 3.36673347e-03 3.37474950e-03 3.38276553e-03 3.39078156e-03\n",
            " 3.39879760e-03 3.40681363e-03 3.41482966e-03 3.42284569e-03\n",
            " 3.43086172e-03 3.43887776e-03 3.44689379e-03 3.45490982e-03\n",
            " 3.46292585e-03 3.47094188e-03 3.47895792e-03 3.48697395e-03\n",
            " 3.49498998e-03 3.50300601e-03 3.51102204e-03 3.51903808e-03\n",
            " 3.52705411e-03 3.53507014e-03 3.54308617e-03 3.55110220e-03\n",
            " 3.55911824e-03 3.56713427e-03 3.57515030e-03 3.58316633e-03\n",
            " 3.59118236e-03 3.59919840e-03 3.60721443e-03 3.61523046e-03\n",
            " 3.62324649e-03 3.63126253e-03 3.63927856e-03 3.64729459e-03\n",
            " 3.65531062e-03 3.66332665e-03 3.67134269e-03 3.67935872e-03\n",
            " 3.68737475e-03 3.69539078e-03 3.70340681e-03 3.71142285e-03\n",
            " 3.71943888e-03 3.72745491e-03 3.73547094e-03 3.74348697e-03\n",
            " 3.75150301e-03 3.75951904e-03 3.76753507e-03 3.77555110e-03\n",
            " 3.78356713e-03 3.79158317e-03 3.79959920e-03 3.80761523e-03\n",
            " 3.81563126e-03 3.82364729e-03 3.83166333e-03 3.83967936e-03\n",
            " 3.84769539e-03 3.85571142e-03 3.86372745e-03 3.87174349e-03\n",
            " 3.87975952e-03 3.88777555e-03 3.89579158e-03 3.90380762e-03\n",
            " 3.91182365e-03 3.91983968e-03 3.92785571e-03 3.93587174e-03\n",
            " 3.94388778e-03 3.95190381e-03 3.95991984e-03 3.96793587e-03\n",
            " 3.97595190e-03 3.98396794e-03 3.99198397e-03 4.00000000e-03]\n"
          ]
        }
      ]
    },
    {
      "cell_type": "markdown",
      "source": [
        "**事後分布の可視化**"
      ],
      "metadata": {
        "id": "KXuC1L7qXQ_r"
      }
    },
    {
      "cell_type": "code",
      "source": [
        "import matplotlib.pyplot as plt\n",
        "\n",
        "plt.style.use('seaborn-darkgrid')\n",
        "\n",
        "plt.plot(thetas, p)\n",
        "plt.xlabel(r'$\\theta$')\n",
        "plt.ylabel(r'$p(\\theta)$')\n",
        "plt.show()"
      ],
      "metadata": {
        "colab": {
          "base_uri": "https://localhost:8080/",
          "height": 278
        },
        "id": "BSCOdKvvW4CN",
        "outputId": "2176d2ba-aee8-4aa3-82f0-e2bbeb9a7e00"
      },
      "execution_count": null,
      "outputs": [
        {
          "output_type": "display_data",
          "data": {
            "text/plain": [
              "<Figure size 432x288 with 1 Axes>"
            ],
            "image/png": "[encoded data removed]"
          },
          "metadata": {}
        }
      ]
    },
    {
      "cell_type": "markdown",
      "source": [
        "また一回しかボタンが表示されていないので、分布は直線上になる"
      ],
      "metadata": {
        "id": "1nxFo_dcX11-"
      }
    },
    {
      "cell_type": "markdown",
      "source": [
        "**ベイズ更新**\n",
        "\n",
        "一回の結果が得られる度に、事後分布を更新する\n",
        "\n",
        "ボタンが合計20回表示され、2回クリックされた後の事後分布を計算し可視化する"
      ],
      "metadata": {
        "id": "k8LsX1WPX90l"
      }
    },
    {
      "cell_type": "code",
      "source": [
        "n = 20\n",
        "clicks = 2\n",
        "\n",
        "# 事前分布\n",
        "p = np.ones(len(thetas)) / len(thetas)\n",
        "\n",
        "# クリックした場合\n",
        "for _ in range(clicks):\n",
        "    p = posterior(1, p)\n",
        "\n",
        "# クリックしなかった場合\n",
        "for _ in range(n-clicks):\n",
        "    p = posterior(0, p)\n",
        "\n",
        "plt.plot(thetas, p)\n",
        "plt.xlabel(r'$\\theta$')\n",
        "plt.ylabel(r'$p(\\theta)$')\n",
        "plt.show()"
      ],
      "metadata": {
        "colab": {
          "base_uri": "https://localhost:8080/",
          "height": 278
        },
        "id": "NJB2lRz8XvWF",
        "outputId": "1b76ad06-f5a4-4421-dbdd-8979170f2266"
      },
      "execution_count": null,
      "outputs": [
        {
          "output_type": "display_data",
          "data": {
            "text/plain": [
              "<Figure size 432x288 with 1 Axes>"
            ],
            "image/png": "[encoded data removed]"
          },
          "metadata": {}
        }
      ]
    },
    {
      "cell_type": "markdown",
      "source": [
        "確率分布にピークが出現した\n",
        "\n",
        "データのクリック率は10%ですが、その付近が頂点となっている"
      ],
      "metadata": {
        "id": "vNc7Zm98Z_GN"
      }
    },
    {
      "cell_type": "markdown",
      "source": [
        "試行を重ねると、どのように分布が変化するの確認する"
      ],
      "metadata": {
        "id": "eYnFL3e0aQXQ"
      }
    },
    {
      "cell_type": "code",
      "source": [
        "def show_posterior(clicks, n):\n",
        "    p = np.ones(len(thetas)) / len(thetas)\n",
        "    for _ in range(clicks):\n",
        "        p = posterior(1, p)\n",
        "    for _ in range(n-clicks):\n",
        "        p = posterior(0, p)\n",
        "    plt.plot(thetas, p, label=str(clicks)+'/'+str(n))\n",
        "\n",
        "show_posterior(1, 5)\n",
        "show_posterior(2, 20)\n",
        "show_posterior(5, 100)\n",
        "\n",
        "plt.xlim(0, 0.5)\n",
        "plt.xlabel(r'$\\theta$')\n",
        "plt.ylabel(r'$p(\\theta)$')\n",
        "plt.legend()\n",
        "plt.show()"
      ],
      "metadata": {
        "colab": {
          "base_uri": "https://localhost:8080/",
          "height": 278
        },
        "id": "8bf9MZetZWS3",
        "outputId": "280bf0c7-c743-4576-d5b6-b4b6f34f3f00"
      },
      "execution_count": null,
      "outputs": [
        {
          "output_type": "display_data",
          "data": {
            "text/plain": [
              "<Figure size 432x288 with 1 Axes>"
            ],
            "image/png": "[encoded data removed]"
          },
          "metadata": {}
        }
      ]
    },
    {
      "cell_type": "markdown",
      "source": [
        "試行回数が増えると、次第に分布の裾野が狭くなり推定の精度が向上することを確認できる"
      ],
      "metadata": {
        "id": "OlSUpez7bQNp"
      }
    },
    {
      "cell_type": "code",
      "source": [
        "def show_posterior(clicks, n):\n",
        "    p = np.ones(len(thetas)) / len(thetas)\n",
        "    for _ in range(clicks):\n",
        "        p = posterior(1, p)\n",
        "    for _ in range(n-clicks):\n",
        "        p = posterior(0, p)\n",
        "    plt.plot(thetas, p, label=str(clicks)+'/'+str(n))\n",
        "\n",
        "show_posterior(1, 5)\n",
        "show_posterior(4, 20)\n",
        "show_posterior(20, 100)\n",
        "\n",
        "plt.xlim(0, 0.5)\n",
        "plt.xlabel(r'$\\theta$')\n",
        "plt.ylabel(r'$p(\\theta)$')\n",
        "plt.legend()\n",
        "plt.show()"
      ],
      "metadata": {
        "colab": {
          "base_uri": "https://localhost:8080/",
          "height": 278
        },
        "id": "yN6vWlDTbKTe",
        "outputId": "676b27bd-d3e9-404d-a37a-1d4177b7867b"
      },
      "execution_count": null,
      "outputs": [
        {
          "output_type": "display_data",
          "data": {
            "text/plain": [
              "<Figure size 432x288 with 1 Axes>"
            ],
            "image/png": "[encoded data removed]"
          },
          "metadata": {}
        }
      ]
    },
    {
      "cell_type": "markdown",
      "source": [
        "## 二項分布の利用"
      ],
      "metadata": {
        "id": "Cn6eJfZpb-lG"
      }
    },
    {
      "cell_type": "code",
      "source": [],
      "metadata": {
        "id": "hAPEo99Ob3A3"
      },
      "execution_count": null,
      "outputs": []
    }
  ]
}