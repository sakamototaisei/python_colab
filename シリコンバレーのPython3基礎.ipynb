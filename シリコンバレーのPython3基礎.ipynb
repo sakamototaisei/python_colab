{
  "nbformat": 4,
  "nbformat_minor": 0,
  "metadata": {
    "colab": {
      "provenance": [],
      "toc_visible": true,
      "authorship_tag": "ABX9TyO6liJxkAzWXLfyU9KMEqk2",
      "include_colab_link": true
    },
    "kernelspec": {
      "name": "python3",
      "display_name": "Python 3"
    },
    "language_info": {
      "name": "python"
    }
  },
  "cells": [
    {
      "cell_type": "markdown",
      "metadata": {
        "id": "view-in-github",
        "colab_type": "text"
      },
      "source": [
        "<a href=\"https://colab.research.google.com/github/sakamototaisei/python_colab/blob/main/%E3%82%B7%E3%83%AA%E3%82%B3%E3%83%B3%E3%83%90%E3%83%AC%E3%83%BC%E3%81%AEPython3%E5%9F%BA%E7%A4%8E.ipynb\" target=\"_parent\"><img src=\"https://colab.research.google.com/assets/colab-badge.svg\" alt=\"Open In Colab\"/></a>"
      ]
    },
    {
      "cell_type": "markdown",
      "source": [
        "# **Pythonの基礎**"
      ],
      "metadata": {
        "id": "yd4KbeVXwcPf"
      }
    },
    {
      "cell_type": "code",
      "execution_count": 1,
      "metadata": {
        "id": "0GLWFqjEsYid"
      },
      "outputs": [],
      "source": [
        "import math"
      ]
    },
    {
      "cell_type": "code",
      "source": [
        "print(help(math))"
      ],
      "metadata": {
        "id": "HOZiudf1zjDl"
      },
      "execution_count": null,
      "outputs": []
    },
    {
      "cell_type": "code",
      "source": [
        "word = 'python'\n",
        "word"
      ],
      "metadata": {
        "colab": {
          "base_uri": "https://localhost:8080/",
          "height": 35
        },
        "id": "6P5SW-67zot0",
        "outputId": "9073d18a-0abc-4b59-a674-1e3147cbef76"
      },
      "execution_count": 10,
      "outputs": [
        {
          "output_type": "execute_result",
          "data": {
            "text/plain": [
              "'python'"
            ],
            "application/vnd.google.colaboratory.intrinsic+json": {
              "type": "string"
            }
          },
          "metadata": {},
          "execution_count": 10
        }
      ]
    },
    {
      "cell_type": "code",
      "source": [
        "word = 'j' + word[1:]\n",
        "word"
      ],
      "metadata": {
        "colab": {
          "base_uri": "https://localhost:8080/",
          "height": 35
        },
        "id": "clwjT5gU1pzV",
        "outputId": "62a206a8-03f7-4c6f-edac-05fd3d344ed7"
      },
      "execution_count": 11,
      "outputs": [
        {
          "output_type": "execute_result",
          "data": {
            "text/plain": [
              "'jython'"
            ],
            "application/vnd.google.colaboratory.intrinsic+json": {
              "type": "string"
            }
          },
          "metadata": {},
          "execution_count": 11
        }
      ]
    },
    {
      "cell_type": "code",
      "source": [
        "s = 'My name is sakatai'"
      ],
      "metadata": {
        "id": "Nmm5cpZH1rr6"
      },
      "execution_count": 18,
      "outputs": []
    },
    {
      "cell_type": "code",
      "source": [
        "is_start = s.startswith('My')\n",
        "is_start"
      ],
      "metadata": {
        "colab": {
          "base_uri": "https://localhost:8080/"
        },
        "id": "e1Oc6EM42YBJ",
        "outputId": "a988e189-8f68-47ff-bfd3-56f5943c9959"
      },
      "execution_count": 19,
      "outputs": [
        {
          "output_type": "execute_result",
          "data": {
            "text/plain": [
              "True"
            ]
          },
          "metadata": {},
          "execution_count": 19
        }
      ]
    },
    {
      "cell_type": "code",
      "source": [
        "is_start = s.startswith('my')\n",
        "is_start"
      ],
      "metadata": {
        "colab": {
          "base_uri": "https://localhost:8080/"
        },
        "id": "AylNsmJ62hsr",
        "outputId": "4f1627cb-5d7b-4e85-cac5-704b2d6b1831"
      },
      "execution_count": 20,
      "outputs": [
        {
          "output_type": "execute_result",
          "data": {
            "text/plain": [
              "False"
            ]
          },
          "metadata": {},
          "execution_count": 20
        }
      ]
    },
    {
      "cell_type": "code",
      "source": [
        "print(s.title())\n",
        "print(s.count('sakatai'))\n",
        "print(s.upper())\n",
        "print(s.lower())\n",
        "print(s.replace('sakatai', 'masachika'))"
      ],
      "metadata": {
        "colab": {
          "base_uri": "https://localhost:8080/"
        },
        "id": "lG3tMpQ72jEP",
        "outputId": "5e459f0c-2831-424d-d194-6c0dc14b12a5"
      },
      "execution_count": 26,
      "outputs": [
        {
          "output_type": "stream",
          "name": "stdout",
          "text": [
            "My Name Is Sakatai\n",
            "1\n",
            "MY NAME IS SAKATAI\n",
            "my name is sakatai\n",
            "My name is masachika\n"
          ]
        }
      ]
    },
    {
      "cell_type": "code",
      "source": [
        "a = 'a'\n",
        "print(f'a is {a}')\n",
        " \n",
        "x, y, z = 1, 2, 3\n",
        "print(f'a is {x}, {y}, {z}')\n",
        "print(f'a is {z}, {y}, {x}')\n",
        " \n",
        "name = 'Jun'\n",
        "family = 'Sakai'\n",
        "print(f'My name is {name} {family}. Watashi ha {family} {name}')"
      ],
      "metadata": {
        "colab": {
          "base_uri": "https://localhost:8080/"
        },
        "id": "CZXdInoi23rP",
        "outputId": "1b1b281c-cd0c-4fa2-a694-4c9eb720555b"
      },
      "execution_count": 27,
      "outputs": [
        {
          "output_type": "stream",
          "name": "stdout",
          "text": [
            "a is a\n",
            "a is 1, 2, 3\n",
            "a is 3, 2, 1\n",
            "My name is Jun Sakai. Watashi ha Sakai Jun\n"
          ]
        }
      ]
    },
    {
      "cell_type": "markdown",
      "source": [
        "# **データ構造**"
      ],
      "metadata": {
        "id": "MaNS87jG3iSq"
      }
    },
    {
      "cell_type": "markdown",
      "source": [
        "## リスト操作"
      ],
      "metadata": {
        "id": "qWStiVqQQviZ"
      }
    },
    {
      "cell_type": "code",
      "source": [
        "l = [1, 2, 3, 4, 5]\n",
        "l"
      ],
      "metadata": {
        "colab": {
          "base_uri": "https://localhost:8080/"
        },
        "id": "FL0C6cpe3kAp",
        "outputId": "84598f24-715d-48f2-f5e4-02146bbdbfff"
      },
      "execution_count": 4,
      "outputs": [
        {
          "output_type": "execute_result",
          "data": {
            "text/plain": [
              "[1, 2, 3, 4, 5]"
            ]
          },
          "metadata": {},
          "execution_count": 4
        }
      ]
    },
    {
      "cell_type": "code",
      "source": [
        "l.append(10)\n",
        "l"
      ],
      "metadata": {
        "colab": {
          "base_uri": "https://localhost:8080/"
        },
        "id": "z-tJWhMhQz6i",
        "outputId": "cc4c6346-fc3d-4f19-a292-5abead6fc130"
      },
      "execution_count": 5,
      "outputs": [
        {
          "output_type": "execute_result",
          "data": {
            "text/plain": [
              "[1, 2, 3, 4, 5, 10]"
            ]
          },
          "metadata": {},
          "execution_count": 5
        }
      ]
    },
    {
      "cell_type": "code",
      "source": [
        "l.insert(0, 100)\n",
        "l"
      ],
      "metadata": {
        "colab": {
          "base_uri": "https://localhost:8080/"
        },
        "id": "DG4GEQIiQ2V8",
        "outputId": "3520d6f0-0890-4322-8980-76c047333012"
      },
      "execution_count": 6,
      "outputs": [
        {
          "output_type": "execute_result",
          "data": {
            "text/plain": [
              "[100, 1, 2, 3, 4, 5, 10]"
            ]
          },
          "metadata": {},
          "execution_count": 6
        }
      ]
    },
    {
      "cell_type": "code",
      "source": [
        "l.pop()\n",
        "l"
      ],
      "metadata": {
        "colab": {
          "base_uri": "https://localhost:8080/"
        },
        "id": "Vm2aR2RgQ8pt",
        "outputId": "52123ced-bd3a-48f6-d7c4-a04db2eebd9a"
      },
      "execution_count": 8,
      "outputs": [
        {
          "output_type": "execute_result",
          "data": {
            "text/plain": [
              "[100, 1, 2, 3, 4, 5]"
            ]
          },
          "metadata": {},
          "execution_count": 8
        }
      ]
    },
    {
      "cell_type": "code",
      "source": [
        "l.pop(0)\n",
        "l"
      ],
      "metadata": {
        "colab": {
          "base_uri": "https://localhost:8080/"
        },
        "id": "aPMziDRnRC7f",
        "outputId": "41a40610-c9f5-4684-f843-84763e90f100"
      },
      "execution_count": 9,
      "outputs": [
        {
          "output_type": "execute_result",
          "data": {
            "text/plain": [
              "[1, 2, 3, 4, 5]"
            ]
          },
          "metadata": {},
          "execution_count": 9
        }
      ]
    },
    {
      "cell_type": "code",
      "source": [
        "del l[0]\n",
        "l"
      ],
      "metadata": {
        "colab": {
          "base_uri": "https://localhost:8080/"
        },
        "id": "Xd3RnNl6RKJZ",
        "outputId": "abeb3832-94b3-4aa8-a01b-44dd9689549a"
      },
      "execution_count": 10,
      "outputs": [
        {
          "output_type": "execute_result",
          "data": {
            "text/plain": [
              "[2, 3, 4, 5]"
            ]
          },
          "metadata": {},
          "execution_count": 10
        }
      ]
    },
    {
      "cell_type": "code",
      "source": [
        "n = [1, 2, 2, 2, 2, 3, 3, 3, 4, 5]\n",
        "n"
      ],
      "metadata": {
        "colab": {
          "base_uri": "https://localhost:8080/"
        },
        "id": "iq1eKlW6RObT",
        "outputId": "0efb2af1-9188-4e21-cf8f-d1161746ae49"
      },
      "execution_count": 11,
      "outputs": [
        {
          "output_type": "execute_result",
          "data": {
            "text/plain": [
              "[1, 2, 2, 2, 2, 3, 3, 3, 4, 5]"
            ]
          },
          "metadata": {},
          "execution_count": 11
        }
      ]
    },
    {
      "cell_type": "code",
      "source": [
        "n.remove(2)\n",
        "n"
      ],
      "metadata": {
        "colab": {
          "base_uri": "https://localhost:8080/"
        },
        "id": "0noMUXBfRWaI",
        "outputId": "c96f92f8-2945-41d3-fff3-47fd8d27f90d"
      },
      "execution_count": 12,
      "outputs": [
        {
          "output_type": "execute_result",
          "data": {
            "text/plain": [
              "[1, 2, 2, 2, 3, 3, 3, 4, 5]"
            ]
          },
          "metadata": {},
          "execution_count": 12
        }
      ]
    },
    {
      "cell_type": "code",
      "source": [
        "a = [1, 2, 3]\n",
        "b = [4, 5, 6]"
      ],
      "metadata": {
        "id": "AxhNYey1RZKN"
      },
      "execution_count": 14,
      "outputs": []
    },
    {
      "cell_type": "code",
      "source": [
        "a"
      ],
      "metadata": {
        "colab": {
          "base_uri": "https://localhost:8080/"
        },
        "id": "a-D_JBRKRxd1",
        "outputId": "6ca28020-2842-4664-d10e-1e64fa27d775"
      },
      "execution_count": 15,
      "outputs": [
        {
          "output_type": "execute_result",
          "data": {
            "text/plain": [
              "[1, 2, 3]"
            ]
          },
          "metadata": {},
          "execution_count": 15
        }
      ]
    },
    {
      "cell_type": "code",
      "source": [
        "b"
      ],
      "metadata": {
        "colab": {
          "base_uri": "https://localhost:8080/"
        },
        "id": "7Jr8yOFbRzG9",
        "outputId": "3eb6d055-3599-4cf1-8a3e-8bfd7a9a94ed"
      },
      "execution_count": 16,
      "outputs": [
        {
          "output_type": "execute_result",
          "data": {
            "text/plain": [
              "[4, 5, 6]"
            ]
          },
          "metadata": {},
          "execution_count": 16
        }
      ]
    },
    {
      "cell_type": "code",
      "source": [
        "a.extend(b)\n",
        "a"
      ],
      "metadata": {
        "colab": {
          "base_uri": "https://localhost:8080/"
        },
        "id": "xK9_nqgFRzYl",
        "outputId": "c1648fa0-1f52-48fb-a747-76fe86d559a1"
      },
      "execution_count": 17,
      "outputs": [
        {
          "output_type": "execute_result",
          "data": {
            "text/plain": [
              "[1, 2, 3, 4, 5, 6]"
            ]
          },
          "metadata": {},
          "execution_count": 17
        }
      ]
    },
    {
      "cell_type": "markdown",
      "source": [
        "## リストのメソッド"
      ],
      "metadata": {
        "id": "TH3ibNGPSySu"
      }
    },
    {
      "cell_type": "code",
      "source": [
        "s = 'My name is sakatai'\n",
        "s"
      ],
      "metadata": {
        "colab": {
          "base_uri": "https://localhost:8080/",
          "height": 35
        },
        "id": "mSSQ5lqYR1-f",
        "outputId": "5f07427f-022d-42fa-b80b-4ec56ef3c8af"
      },
      "execution_count": 18,
      "outputs": [
        {
          "output_type": "execute_result",
          "data": {
            "text/plain": [
              "'My name is sakatai'"
            ],
            "application/vnd.google.colaboratory.intrinsic+json": {
              "type": "string"
            }
          },
          "metadata": {},
          "execution_count": 18
        }
      ]
    },
    {
      "cell_type": "code",
      "source": [
        "to_split = s.split(' ')\n",
        "to_split"
      ],
      "metadata": {
        "colab": {
          "base_uri": "https://localhost:8080/"
        },
        "id": "njtrl4SzSgDB",
        "outputId": "aba783e1-a7cc-4d43-f39d-c21efc7b2bbf"
      },
      "execution_count": 19,
      "outputs": [
        {
          "output_type": "execute_result",
          "data": {
            "text/plain": [
              "['My', 'name', 'is', 'sakatai']"
            ]
          },
          "metadata": {},
          "execution_count": 19
        }
      ]
    },
    {
      "cell_type": "code",
      "source": [
        "x = ' '.join(to_split)\n",
        "x"
      ],
      "metadata": {
        "colab": {
          "base_uri": "https://localhost:8080/",
          "height": 35
        },
        "id": "iWdIRK3iSlv8",
        "outputId": "7a9f0beb-d2cd-49b7-bb74-56bf58ff7aa7"
      },
      "execution_count": 21,
      "outputs": [
        {
          "output_type": "execute_result",
          "data": {
            "text/plain": [
              "'My name is sakatai'"
            ],
            "application/vnd.google.colaboratory.intrinsic+json": {
              "type": "string"
            }
          },
          "metadata": {},
          "execution_count": 21
        }
      ]
    },
    {
      "cell_type": "markdown",
      "source": [
        "## リストのコピー"
      ],
      "metadata": {
        "id": "s8bNjqNgVlh6"
      }
    },
    {
      "cell_type": "code",
      "source": [
        "i = [1, 2, 3, 4, 5]\n",
        "j = i\n",
        "j[0] = 100\n",
        "print('i = ', i)\n",
        "print('j = ', j)"
      ],
      "metadata": {
        "colab": {
          "base_uri": "https://localhost:8080/"
        },
        "id": "0W6kkaieSqpf",
        "outputId": "ac5d4528-368e-4e3c-b9e0-e51a28ade86e"
      },
      "execution_count": 24,
      "outputs": [
        {
          "output_type": "stream",
          "name": "stdout",
          "text": [
            "i =  [100, 2, 3, 4, 5]\n",
            "j =  [100, 2, 3, 4, 5]\n"
          ]
        }
      ]
    },
    {
      "cell_type": "code",
      "source": [
        "x = [1, 2, 3, 4, 5]\n",
        "y = x.copy()\n",
        "y[0] = 100\n",
        "print('x = ', x)\n",
        "print('y = ', y)"
      ],
      "metadata": {
        "colab": {
          "base_uri": "https://localhost:8080/"
        },
        "id": "eDzA0iytVwtu",
        "outputId": "ca05e968-2535-4877-ad7e-be4451cb9f75"
      },
      "execution_count": 25,
      "outputs": [
        {
          "output_type": "stream",
          "name": "stdout",
          "text": [
            "x =  [1, 2, 3, 4, 5]\n",
            "y =  [100, 2, 3, 4, 5]\n"
          ]
        }
      ]
    },
    {
      "cell_type": "code",
      "source": [
        "x = ['a', 'b']\n",
        "y = x\n",
        "y[0] = 'x'\n",
        "print('x = ', x)\n",
        "print('y = ', y)\n",
        "print(id(x))\n",
        "print(id(y))"
      ],
      "metadata": {
        "colab": {
          "base_uri": "https://localhost:8080/"
        },
        "id": "tN_zXJ-2Wi9-",
        "outputId": "79db669d-e832-4491-edea-7fcb227efa36"
      },
      "execution_count": 27,
      "outputs": [
        {
          "output_type": "stream",
          "name": "stdout",
          "text": [
            "x =  ['x', 'b']\n",
            "y =  ['x', 'b']\n",
            "139703178406848\n",
            "139703178406848\n"
          ]
        }
      ]
    },
    {
      "cell_type": "markdown",
      "source": [
        "## タプルのアンパッキング"
      ],
      "metadata": {
        "id": "IYKrp1GOZedW"
      }
    },
    {
      "cell_type": "code",
      "source": [
        "min, max = 1, 100\n",
        "print(min, type(min))\n",
        "print(max, type(max))"
      ],
      "metadata": {
        "colab": {
          "base_uri": "https://localhost:8080/"
        },
        "id": "OIDMGgX8XbG1",
        "outputId": "c38f3bca-9b92-4cb6-a3d0-fa4e5ddbc076"
      },
      "execution_count": 28,
      "outputs": [
        {
          "output_type": "stream",
          "name": "stdout",
          "text": [
            "1 <class 'int'>\n",
            "100 <class 'int'>\n"
          ]
        }
      ]
    },
    {
      "cell_type": "code",
      "source": [
        "i = 1\n",
        "j = 1000\n",
        "tmp = i # 1\n",
        "i = j # 1000\n",
        "j = tmp # 1\n",
        "print(i, j)"
      ],
      "metadata": {
        "colab": {
          "base_uri": "https://localhost:8080/"
        },
        "id": "2xo9YbScZs4F",
        "outputId": "c8b592a7-ce16-426b-d165-81db87452bae"
      },
      "execution_count": 30,
      "outputs": [
        {
          "output_type": "stream",
          "name": "stdout",
          "text": [
            "1000 1\n"
          ]
        }
      ]
    },
    {
      "cell_type": "code",
      "source": [
        "a = 100\n",
        "b = 200\n",
        "print(a, b)\n",
        "a, b = b, a\n",
        "print(a, b)"
      ],
      "metadata": {
        "colab": {
          "base_uri": "https://localhost:8080/"
        },
        "id": "f36yCYwFZ3CN",
        "outputId": "e32440bb-6fe2-4db2-a4ee-3b34035e0375"
      },
      "execution_count": 32,
      "outputs": [
        {
          "output_type": "stream",
          "name": "stdout",
          "text": [
            "100 200\n",
            "200 100\n"
          ]
        }
      ]
    },
    {
      "cell_type": "markdown",
      "source": [
        "## 辞書型のメソッド"
      ],
      "metadata": {
        "id": "DXk6XG9kbiFE"
      }
    },
    {
      "cell_type": "code",
      "source": [
        "d = {'x': 10, 'y': 20}\n",
        "d"
      ],
      "metadata": {
        "colab": {
          "base_uri": "https://localhost:8080/"
        },
        "id": "a1twEGzWaRUm",
        "outputId": "981a0b4f-1d4b-4a49-aae5-b363b2b3d5a4"
      },
      "execution_count": 33,
      "outputs": [
        {
          "output_type": "execute_result",
          "data": {
            "text/plain": [
              "{'x': 10, 'y': 20}"
            ]
          },
          "metadata": {},
          "execution_count": 33
        }
      ]
    },
    {
      "cell_type": "code",
      "source": [
        "d.keys()"
      ],
      "metadata": {
        "colab": {
          "base_uri": "https://localhost:8080/"
        },
        "id": "0mlEa_efe2nh",
        "outputId": "dcec56c8-6902-4884-d710-0e9a74a96653"
      },
      "execution_count": 35,
      "outputs": [
        {
          "output_type": "stream",
          "name": "stdout",
          "text": [
            "dict_keys(['x', 'y'])\n"
          ]
        }
      ]
    },
    {
      "cell_type": "code",
      "source": [
        "d.values()"
      ],
      "metadata": {
        "colab": {
          "base_uri": "https://localhost:8080/"
        },
        "id": "oyTM7XbYe4n3",
        "outputId": "37ee1340-4950-4789-9392-ce5590393e94"
      },
      "execution_count": 36,
      "outputs": [
        {
          "output_type": "execute_result",
          "data": {
            "text/plain": [
              "dict_values([10, 20])"
            ]
          },
          "metadata": {},
          "execution_count": 36
        }
      ]
    },
    {
      "cell_type": "code",
      "source": [
        "d2 = {'x': 1000, 'j': 500}\n",
        "d.update(d2)\n",
        "d"
      ],
      "metadata": {
        "colab": {
          "base_uri": "https://localhost:8080/"
        },
        "id": "AIaG4LI2e_ul",
        "outputId": "541c0bb9-709a-4d99-ea35-a582af337adc"
      },
      "execution_count": 37,
      "outputs": [
        {
          "output_type": "execute_result",
          "data": {
            "text/plain": [
              "{'x': 1000, 'y': 20, 'j': 500}"
            ]
          },
          "metadata": {},
          "execution_count": 37
        }
      ]
    },
    {
      "cell_type": "code",
      "source": [
        "d.get('x')"
      ],
      "metadata": {
        "colab": {
          "base_uri": "https://localhost:8080/"
        },
        "id": "hgxUA-UnfK_z",
        "outputId": "b760df8c-1275-49a8-8554-e237308c09b4"
      },
      "execution_count": 38,
      "outputs": [
        {
          "output_type": "execute_result",
          "data": {
            "text/plain": [
              "1000"
            ]
          },
          "metadata": {},
          "execution_count": 38
        }
      ]
    },
    {
      "cell_type": "code",
      "source": [
        "r = d.get('z')\n",
        "print(r, type(r))"
      ],
      "metadata": {
        "colab": {
          "base_uri": "https://localhost:8080/"
        },
        "id": "nSYrkk_3fOyv",
        "outputId": "0acff36c-8b9f-4b57-838f-46cfdc08110c"
      },
      "execution_count": 42,
      "outputs": [
        {
          "output_type": "stream",
          "name": "stdout",
          "text": [
            "None <class 'NoneType'>\n"
          ]
        }
      ]
    },
    {
      "cell_type": "code",
      "source": [
        "d"
      ],
      "metadata": {
        "colab": {
          "base_uri": "https://localhost:8080/"
        },
        "id": "MDrGyVAmfV4P",
        "outputId": "8c530e21-c8f6-4582-92f3-3543701fa863"
      },
      "execution_count": 43,
      "outputs": [
        {
          "output_type": "execute_result",
          "data": {
            "text/plain": [
              "{'x': 1000, 'y': 20, 'j': 500}"
            ]
          },
          "metadata": {},
          "execution_count": 43
        }
      ]
    },
    {
      "cell_type": "code",
      "source": [
        "print('x' in d)\n",
        "print('f' in d)"
      ],
      "metadata": {
        "colab": {
          "base_uri": "https://localhost:8080/"
        },
        "id": "La4ZtPhUfvUb",
        "outputId": "499ffc13-ef06-429f-f601-0240e02b5d40"
      },
      "execution_count": 45,
      "outputs": [
        {
          "output_type": "stream",
          "name": "stdout",
          "text": [
            "True\n",
            "False\n"
          ]
        }
      ]
    },
    {
      "cell_type": "markdown",
      "source": [
        "# **制御フローとコードの構造**"
      ],
      "metadata": {
        "id": "hG02QAVDhROV"
      }
    },
    {
      "cell_type": "code",
      "source": [],
      "metadata": {
        "id": "xlraQn1Bfx24"
      },
      "execution_count": null,
      "outputs": []
    }
  ]
}