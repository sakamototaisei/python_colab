{
  "nbformat": 4,
  "nbformat_minor": 0,
  "metadata": {
    "colab": {
      "provenance": [],
      "toc_visible": true,
      "authorship_tag": "ABX9TyPCSnmNmS9mkDQQQwP4plee",
      "include_colab_link": true
    },
    "kernelspec": {
      "name": "python3",
      "display_name": "Python 3"
    },
    "language_info": {
      "name": "python"
    }
  },
  "cells": [
    {
      "cell_type": "markdown",
      "metadata": {
        "id": "view-in-github",
        "colab_type": "text"
      },
      "source": [
        "<a href=\"https://colab.research.google.com/github/sakamototaisei/python_colab/blob/main/%E3%82%B7%E3%83%AA%E3%82%B3%E3%83%B3%E3%83%90%E3%83%AC%E3%83%BC%E3%81%AEPython3%E5%9F%BA%E7%A4%8E.ipynb\" target=\"_parent\"><img src=\"https://colab.research.google.com/assets/colab-badge.svg\" alt=\"Open In Colab\"/></a>"
      ]
    },
    {
      "cell_type": "markdown",
      "source": [
        "# **Pythonの基礎**"
      ],
      "metadata": {
        "id": "yd4KbeVXwcPf"
      }
    },
    {
      "cell_type": "code",
      "execution_count": 1,
      "metadata": {
        "id": "0GLWFqjEsYid"
      },
      "outputs": [],
      "source": [
        "import math"
      ]
    },
    {
      "cell_type": "code",
      "source": [
        "print(help(math))"
      ],
      "metadata": {
        "id": "HOZiudf1zjDl"
      },
      "execution_count": null,
      "outputs": []
    },
    {
      "cell_type": "code",
      "source": [
        "word = 'python'\n",
        "word"
      ],
      "metadata": {
        "colab": {
          "base_uri": "https://localhost:8080/",
          "height": 35
        },
        "id": "6P5SW-67zot0",
        "outputId": "9073d18a-0abc-4b59-a674-1e3147cbef76"
      },
      "execution_count": 10,
      "outputs": [
        {
          "output_type": "execute_result",
          "data": {
            "text/plain": [
              "'python'"
            ],
            "application/vnd.google.colaboratory.intrinsic+json": {
              "type": "string"
            }
          },
          "metadata": {},
          "execution_count": 10
        }
      ]
    },
    {
      "cell_type": "code",
      "source": [
        "word = 'j' + word[1:]\n",
        "word"
      ],
      "metadata": {
        "colab": {
          "base_uri": "https://localhost:8080/",
          "height": 35
        },
        "id": "clwjT5gU1pzV",
        "outputId": "62a206a8-03f7-4c6f-edac-05fd3d344ed7"
      },
      "execution_count": 11,
      "outputs": [
        {
          "output_type": "execute_result",
          "data": {
            "text/plain": [
              "'jython'"
            ],
            "application/vnd.google.colaboratory.intrinsic+json": {
              "type": "string"
            }
          },
          "metadata": {},
          "execution_count": 11
        }
      ]
    },
    {
      "cell_type": "code",
      "source": [
        "s = 'My name is sakatai'"
      ],
      "metadata": {
        "id": "Nmm5cpZH1rr6"
      },
      "execution_count": 18,
      "outputs": []
    },
    {
      "cell_type": "code",
      "source": [
        "is_start = s.startswith('My')\n",
        "is_start"
      ],
      "metadata": {
        "colab": {
          "base_uri": "https://localhost:8080/"
        },
        "id": "e1Oc6EM42YBJ",
        "outputId": "a988e189-8f68-47ff-bfd3-56f5943c9959"
      },
      "execution_count": 19,
      "outputs": [
        {
          "output_type": "execute_result",
          "data": {
            "text/plain": [
              "True"
            ]
          },
          "metadata": {},
          "execution_count": 19
        }
      ]
    },
    {
      "cell_type": "code",
      "source": [
        "is_start = s.startswith('my')\n",
        "is_start"
      ],
      "metadata": {
        "colab": {
          "base_uri": "https://localhost:8080/"
        },
        "id": "AylNsmJ62hsr",
        "outputId": "4f1627cb-5d7b-4e85-cac5-704b2d6b1831"
      },
      "execution_count": 20,
      "outputs": [
        {
          "output_type": "execute_result",
          "data": {
            "text/plain": [
              "False"
            ]
          },
          "metadata": {},
          "execution_count": 20
        }
      ]
    },
    {
      "cell_type": "code",
      "source": [
        "print(s.title())\n",
        "print(s.count('sakatai'))\n",
        "print(s.upper())\n",
        "print(s.lower())\n",
        "print(s.replace('sakatai', 'masachika'))"
      ],
      "metadata": {
        "colab": {
          "base_uri": "https://localhost:8080/"
        },
        "id": "lG3tMpQ72jEP",
        "outputId": "5e459f0c-2831-424d-d194-6c0dc14b12a5"
      },
      "execution_count": 26,
      "outputs": [
        {
          "output_type": "stream",
          "name": "stdout",
          "text": [
            "My Name Is Sakatai\n",
            "1\n",
            "MY NAME IS SAKATAI\n",
            "my name is sakatai\n",
            "My name is masachika\n"
          ]
        }
      ]
    },
    {
      "cell_type": "code",
      "source": [
        "a = 'a'\n",
        "print(f'a is {a}')\n",
        " \n",
        "x, y, z = 1, 2, 3\n",
        "print(f'a is {x}, {y}, {z}')\n",
        "print(f'a is {z}, {y}, {x}')\n",
        " \n",
        "name = 'Jun'\n",
        "family = 'Sakai'\n",
        "print(f'My name is {name} {family}. Watashi ha {family} {name}')"
      ],
      "metadata": {
        "colab": {
          "base_uri": "https://localhost:8080/"
        },
        "id": "CZXdInoi23rP",
        "outputId": "1b1b281c-cd0c-4fa2-a694-4c9eb720555b"
      },
      "execution_count": 27,
      "outputs": [
        {
          "output_type": "stream",
          "name": "stdout",
          "text": [
            "a is a\n",
            "a is 1, 2, 3\n",
            "a is 3, 2, 1\n",
            "My name is Jun Sakai. Watashi ha Sakai Jun\n"
          ]
        }
      ]
    },
    {
      "cell_type": "markdown",
      "source": [
        "# **データ構造**"
      ],
      "metadata": {
        "id": "MaNS87jG3iSq"
      }
    },
    {
      "cell_type": "code",
      "source": [],
      "metadata": {
        "id": "FL0C6cpe3kAp"
      },
      "execution_count": null,
      "outputs": []
    }
  ]
}