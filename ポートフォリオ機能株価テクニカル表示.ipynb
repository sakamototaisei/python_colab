{
  "nbformat": 4,
  "nbformat_minor": 0,
  "metadata": {
    "colab": {
      "provenance": [],
      "toc_visible": true,
      "authorship_tag": "ABX9TyPGYgcnP2dY2AH5XwgHdWK4",
      "include_colab_link": true
    },
    "kernelspec": {
      "name": "python3",
      "display_name": "Python 3"
    },
    "language_info": {
      "name": "python"
    }
  },
  "cells": [
    {
      "cell_type": "markdown",
      "metadata": {
        "id": "view-in-github",
        "colab_type": "text"
      },
      "source": [
        "<a href=\"https://colab.research.google.com/github/sakamototaisei/python_colab/blob/main/%E3%83%9D%E3%83%BC%E3%83%88%E3%83%95%E3%82%A9%E3%83%AA%E3%82%AA%E6%A9%9F%E8%83%BD%E6%A0%AA%E4%BE%A1%E3%83%86%E3%82%AF%E3%83%8B%E3%82%AB%E3%83%AB%E8%A1%A8%E7%A4%BA.ipynb\" target=\"_parent\"><img src=\"https://colab.research.google.com/assets/colab-badge.svg\" alt=\"Open In Colab\"/></a>"
      ]
    },
    {
      "cell_type": "markdown",
      "source": [
        "# **株価のローソク足データを取得する**"
      ],
      "metadata": {
        "id": "Xu_L23fXKb5W"
      }
    },
    {
      "cell_type": "code",
      "source": [
        "pip install yahoo_finance_api2"
      ],
      "metadata": {
        "colab": {
          "base_uri": "https://localhost:8080/"
        },
        "id": "38Gx7N-vMses",
        "outputId": "0c7f9ab8-43be-41d7-e0d5-3c7d49e671eb"
      },
      "execution_count": 6,
      "outputs": [
        {
          "output_type": "stream",
          "name": "stdout",
          "text": [
            "Looking in indexes: https://pypi.org/simple, https://us-python.pkg.dev/colab-wheels/public/simple/\n",
            "Collecting yahoo_finance_api2\n",
            "  Downloading yahoo_finance_api2-0.0.12.tar.gz (3.2 kB)\n",
            "  Preparing metadata (setup.py) ... \u001b[?25l\u001b[?25hdone\n",
            "Requirement already satisfied: pyyaml in /usr/local/lib/python3.9/dist-packages (from yahoo_finance_api2) (6.0)\n",
            "Requirement already satisfied: requests in /usr/local/lib/python3.9/dist-packages (from yahoo_finance_api2) (2.27.1)\n",
            "Requirement already satisfied: certifi>=2017.4.17 in /usr/local/lib/python3.9/dist-packages (from requests->yahoo_finance_api2) (2022.12.7)\n",
            "Requirement already satisfied: urllib3<1.27,>=1.21.1 in /usr/local/lib/python3.9/dist-packages (from requests->yahoo_finance_api2) (1.26.15)\n",
            "Requirement already satisfied: charset-normalizer~=2.0.0 in /usr/local/lib/python3.9/dist-packages (from requests->yahoo_finance_api2) (2.0.12)\n",
            "Requirement already satisfied: idna<4,>=2.5 in /usr/local/lib/python3.9/dist-packages (from requests->yahoo_finance_api2) (3.4)\n",
            "Building wheels for collected packages: yahoo_finance_api2\n",
            "  Building wheel for yahoo_finance_api2 (setup.py) ... \u001b[?25l\u001b[?25hdone\n",
            "  Created wheel for yahoo_finance_api2: filename=yahoo_finance_api2-0.0.12-py3-none-any.whl size=3733 sha256=1b154c7edaa7481228e860342396c97daeeab98db2ba116b266a31fecbd4a50b\n",
            "  Stored in directory: /root/.cache/pip/wheels/60/31/49/4f2dc65be0bb9c065b8f90701802babc434ad029dfaa9202df\n",
            "Successfully built yahoo_finance_api2\n",
            "Installing collected packages: yahoo_finance_api2\n",
            "Successfully installed yahoo_finance_api2-0.0.12\n"
          ]
        }
      ]
    },
    {
      "cell_type": "code",
      "source": [
        "import sys\n",
        "from yahoo_finance_api2 import share\n",
        "from yahoo_finance_api2.exceptions import YahooFinanceError\n",
        "import pandas as pd"
      ],
      "metadata": {
        "id": "KmKYqw3yNJmH"
      },
      "execution_count": 7,
      "outputs": []
    },
    {
      "cell_type": "code",
      "source": [
        "# SoftBank株価取得\n",
        "my_share = share.Share('9984.T')\n",
        "symbol_data = None\n",
        "try:\n",
        "    symbol_data = my_share.get_historical(\n",
        "    share.PERIOD_TYPE_YEAR, 1,\n",
        "    share.FREQUENCY_TYPE_DAY, 1)\n",
        "except YahooFinanceError as e:\n",
        "    print(e.message)\n",
        "    sys.exit(1)\n",
        "df = pd.DataFrame(symbol_data)\n",
        "df[\"datetime\"] = pd.to_datetime(df.timestamp, unit=\"ms\")"
      ],
      "metadata": {
        "id": "eSc8AAhaNOzI"
      },
      "execution_count": 56,
      "outputs": []
    },
    {
      "cell_type": "code",
      "source": [
        "df.head()"
      ],
      "metadata": {
        "colab": {
          "base_uri": "https://localhost:8080/",
          "height": 206
        },
        "id": "7Tgw5-7CNVm_",
        "outputId": "60746473-3660-4e8b-f05f-56951543ae93"
      },
      "execution_count": 57,
      "outputs": [
        {
          "output_type": "execute_result",
          "data": {
            "text/plain": [
              "       timestamp    open    high     low   close    volume   datetime\n",
              "0  1648425600000  5393.0  5421.0  5280.0  5402.0  12671800 2022-03-28\n",
              "1  1648512000000  5488.0  5555.0  5433.0  5504.0  12102000 2022-03-29\n",
              "2  1648598400000  5559.0  5633.0  5531.0  5632.0  15400800 2022-03-30\n",
              "3  1648684800000  5595.0  5750.0  5542.0  5559.0  18054000 2022-03-31\n",
              "4  1648771200000  5441.0  5609.0  5387.0  5578.0  15398600 2022-04-01"
            ],
            "text/html": [
              "\n",
              "  <div id=\"df-fd1623a8-06ab-480d-84f2-f657286e4fd6\">\n",
              "    <div class=\"colab-df-container\">\n",
              "      <div>\n",
              "<style scoped>\n",
              "    .dataframe tbody tr th:only-of-type {\n",
              "        vertical-align: middle;\n",
              "    }\n",
              "\n",
              "    .dataframe tbody tr th {\n",
              "        vertical-align: top;\n",
              "    }\n",
              "\n",
              "    .dataframe thead th {\n",
              "        text-align: right;\n",
              "    }\n",
              "</style>\n",
              "<table border=\"1\" class=\"dataframe\">\n",
              "  <thead>\n",
              "    <tr style=\"text-align: right;\">\n",
              "      <th></th>\n",
              "      <th>timestamp</th>\n",
              "      <th>open</th>\n",
              "      <th>high</th>\n",
              "      <th>low</th>\n",
              "      <th>close</th>\n",
              "      <th>volume</th>\n",
              "      <th>datetime</th>\n",
              "    </tr>\n",
              "  </thead>\n",
              "  <tbody>\n",
              "    <tr>\n",
              "      <th>0</th>\n",
              "      <td>1648425600000</td>\n",
              "      <td>5393.0</td>\n",
              "      <td>5421.0</td>\n",
              "      <td>5280.0</td>\n",
              "      <td>5402.0</td>\n",
              "      <td>12671800</td>\n",
              "      <td>2022-03-28</td>\n",
              "    </tr>\n",
              "    <tr>\n",
              "      <th>1</th>\n",
              "      <td>1648512000000</td>\n",
              "      <td>5488.0</td>\n",
              "      <td>5555.0</td>\n",
              "      <td>5433.0</td>\n",
              "      <td>5504.0</td>\n",
              "      <td>12102000</td>\n",
              "      <td>2022-03-29</td>\n",
              "    </tr>\n",
              "    <tr>\n",
              "      <th>2</th>\n",
              "      <td>1648598400000</td>\n",
              "      <td>5559.0</td>\n",
              "      <td>5633.0</td>\n",
              "      <td>5531.0</td>\n",
              "      <td>5632.0</td>\n",
              "      <td>15400800</td>\n",
              "      <td>2022-03-30</td>\n",
              "    </tr>\n",
              "    <tr>\n",
              "      <th>3</th>\n",
              "      <td>1648684800000</td>\n",
              "      <td>5595.0</td>\n",
              "      <td>5750.0</td>\n",
              "      <td>5542.0</td>\n",
              "      <td>5559.0</td>\n",
              "      <td>18054000</td>\n",
              "      <td>2022-03-31</td>\n",
              "    </tr>\n",
              "    <tr>\n",
              "      <th>4</th>\n",
              "      <td>1648771200000</td>\n",
              "      <td>5441.0</td>\n",
              "      <td>5609.0</td>\n",
              "      <td>5387.0</td>\n",
              "      <td>5578.0</td>\n",
              "      <td>15398600</td>\n",
              "      <td>2022-04-01</td>\n",
              "    </tr>\n",
              "  </tbody>\n",
              "</table>\n",
              "</div>\n",
              "      <button class=\"colab-df-convert\" onclick=\"convertToInteractive('df-fd1623a8-06ab-480d-84f2-f657286e4fd6')\"\n",
              "              title=\"Convert this dataframe to an interactive table.\"\n",
              "              style=\"display:none;\">\n",
              "        \n",
              "  <svg xmlns=\"http://www.w3.org/2000/svg\" height=\"24px\"viewBox=\"0 0 24 24\"\n",
              "       width=\"24px\">\n",
              "    <path d=\"M0 0h24v24H0V0z\" fill=\"none\"/>\n",
              "    <path d=\"M18.56 5.44l.94 2.06.94-2.06 2.06-.94-2.06-.94-.94-2.06-.94 2.06-2.06.94zm-11 1L8.5 8.5l.94-2.06 2.06-.94-2.06-.94L8.5 2.5l-.94 2.06-2.06.94zm10 10l.94 2.06.94-2.06 2.06-.94-2.06-.94-.94-2.06-.94 2.06-2.06.94z\"/><path d=\"M17.41 7.96l-1.37-1.37c-.4-.4-.92-.59-1.43-.59-.52 0-1.04.2-1.43.59L10.3 9.45l-7.72 7.72c-.78.78-.78 2.05 0 2.83L4 21.41c.39.39.9.59 1.41.59.51 0 1.02-.2 1.41-.59l7.78-7.78 2.81-2.81c.8-.78.8-2.07 0-2.86zM5.41 20L4 18.59l7.72-7.72 1.47 1.35L5.41 20z\"/>\n",
              "  </svg>\n",
              "      </button>\n",
              "      \n",
              "  <style>\n",
              "    .colab-df-container {\n",
              "      display:flex;\n",
              "      flex-wrap:wrap;\n",
              "      gap: 12px;\n",
              "    }\n",
              "\n",
              "    .colab-df-convert {\n",
              "      background-color: #E8F0FE;\n",
              "      border: none;\n",
              "      border-radius: 50%;\n",
              "      cursor: pointer;\n",
              "      display: none;\n",
              "      fill: #1967D2;\n",
              "      height: 32px;\n",
              "      padding: 0 0 0 0;\n",
              "      width: 32px;\n",
              "    }\n",
              "\n",
              "    .colab-df-convert:hover {\n",
              "      background-color: #E2EBFA;\n",
              "      box-shadow: 0px 1px 2px rgba(60, 64, 67, 0.3), 0px 1px 3px 1px rgba(60, 64, 67, 0.15);\n",
              "      fill: #174EA6;\n",
              "    }\n",
              "\n",
              "    [theme=dark] .colab-df-convert {\n",
              "      background-color: #3B4455;\n",
              "      fill: #D2E3FC;\n",
              "    }\n",
              "\n",
              "    [theme=dark] .colab-df-convert:hover {\n",
              "      background-color: #434B5C;\n",
              "      box-shadow: 0px 1px 3px 1px rgba(0, 0, 0, 0.15);\n",
              "      filter: drop-shadow(0px 1px 2px rgba(0, 0, 0, 0.3));\n",
              "      fill: #FFFFFF;\n",
              "    }\n",
              "  </style>\n",
              "\n",
              "      <script>\n",
              "        const buttonEl =\n",
              "          document.querySelector('#df-fd1623a8-06ab-480d-84f2-f657286e4fd6 button.colab-df-convert');\n",
              "        buttonEl.style.display =\n",
              "          google.colab.kernel.accessAllowed ? 'block' : 'none';\n",
              "\n",
              "        async function convertToInteractive(key) {\n",
              "          const element = document.querySelector('#df-fd1623a8-06ab-480d-84f2-f657286e4fd6');\n",
              "          const dataTable =\n",
              "            await google.colab.kernel.invokeFunction('convertToInteractive',\n",
              "                                                     [key], {});\n",
              "          if (!dataTable) return;\n",
              "\n",
              "          const docLinkHtml = 'Like what you see? Visit the ' +\n",
              "            '<a target=\"_blank\" href=https://colab.research.google.com/notebooks/data_table.ipynb>data table notebook</a>'\n",
              "            + ' to learn more about interactive tables.';\n",
              "          element.innerHTML = '';\n",
              "          dataTable['output_type'] = 'display_data';\n",
              "          await google.colab.output.renderOutput(dataTable, element);\n",
              "          const docLink = document.createElement('div');\n",
              "          docLink.innerHTML = docLinkHtml;\n",
              "          element.appendChild(docLink);\n",
              "        }\n",
              "      </script>\n",
              "    </div>\n",
              "  </div>\n",
              "  "
            ]
          },
          "metadata": {},
          "execution_count": 57
        }
      ]
    },
    {
      "cell_type": "markdown",
      "source": [
        "# **Plotlyでローソク足チャートと描く**"
      ],
      "metadata": {
        "id": "ZnzJR2zxPwUw"
      }
    },
    {
      "cell_type": "markdown",
      "source": [
        "## インストール"
      ],
      "metadata": {
        "id": "2LsclPubbI2P"
      }
    },
    {
      "cell_type": "code",
      "source": [
        "pip install plotly"
      ],
      "metadata": {
        "colab": {
          "base_uri": "https://localhost:8080/"
        },
        "id": "YNeBxnUSNfnH",
        "outputId": "3bd62da7-df53-448d-e30c-035d3c24661c"
      },
      "execution_count": 19,
      "outputs": [
        {
          "output_type": "stream",
          "name": "stdout",
          "text": [
            "Looking in indexes: https://pypi.org/simple, https://us-python.pkg.dev/colab-wheels/public/simple/\n",
            "Requirement already satisfied: plotly in /usr/local/lib/python3.9/dist-packages (5.13.1)\n",
            "Requirement already satisfied: tenacity>=6.2.0 in /usr/local/lib/python3.9/dist-packages (from plotly) (8.2.2)\n"
          ]
        }
      ]
    },
    {
      "cell_type": "code",
      "source": [
        "import plotly.graph_objects as go\n",
        "from plotly.subplots import make_subplots\n",
        "import pandas as pd"
      ],
      "metadata": {
        "id": "MehHNcNSN6ku"
      },
      "execution_count": 20,
      "outputs": []
    },
    {
      "cell_type": "markdown",
      "source": [
        "## plotly.graph_objects.Candlestick"
      ],
      "metadata": {
        "id": "o5fixFJIP_9h"
      }
    },
    {
      "cell_type": "code",
      "source": [
        "fig = go.Figure(\n",
        "    data=[go.Candlestick(x=df['datetime'], open=df['open'], high=df['high'], low=df['low'], close=df['close'], showlegend=False)]\n",
        ")\n",
        "\n",
        "# 下にあるバーを非表示にする場合\n",
        "# fig.update(layout_xaxis_rangeslider_visible=False)\n",
        "\n",
        "fig.show()"
      ],
      "metadata": {
        "colab": {
          "base_uri": "https://localhost:8080/",
          "height": 542
        },
        "id": "2uxNYywKODWG",
        "outputId": "fe590928-98dc-4ac0-8317-23c466c81f40"
      },
      "execution_count": 58,
      "outputs": [
        {
          "output_type": "display_data",
          "data": {
            "text/html": [
              "<html>\n",
              "<head><meta charset=\"utf-8\" /></head>\n",
              "<body>\n",
              "    <div>            <script src=\"https://cdnjs.cloudflare.com/ajax/libs/mathjax/2.7.5/MathJax.js?config=TeX-AMS-MML_SVG\"></script><script type=\"text/javascript\">if (window.MathJax && window.MathJax.Hub && window.MathJax.Hub.Config) {window.MathJax.Hub.Config({SVG: {font: \"STIX-Web\"}});}</script>                <script type=\"text/javascript\">window.PlotlyConfig = {MathJaxConfig: 'local'};</script>\n",
              "        <script src=\"https://cdn.plot.ly/plotly-2.18.2.min.js\"></script>                <div id=\"1c26d036-8a2e-4379-9ad1-52f71d5126a6\" class=\"plotly-graph-div\" style=\"height:525px; width:100%;\"></div>            <script type=\"text/javascript\">                                    window.PLOTLYENV=window.PLOTLYENV || {};                                    if (document.getElementById(\"1c26d036-8a2e-4379-9ad1-52f71d5126a6\")) {                    Plotly.newPlot(                        \"1c26d036-8a2e-4379-9ad1-52f71d5126a6\",                        [{\"close\":[5402.0,5504.0,5632.0,5559.0,5578.0,5785.0,5936.0,5769.0,5654.0,5683.0,5530.0,5482.0,5592.0,5762.0,5692.0,5653.0,5547.0,5627.0,5579.0,5411.0,4989.0,5195.0,5182.0,5269.0,5290.0,5170.0,4989.0,4900.0,4883.0,4491.0,5040.0,5110.0,5122.0,5137.0,5055.0,5232.0,5276.0,5191.0,5102.0,5164.0,5341.0,5358.0,5379.0,5300.0,5302.0,5418.0,5391.0,5430.0,5563.0,5659.0,5545.0,5165.0,5033.0,5028.0,5000.0,4788.0,4933.0,5075.0,5025.0,5103.0,5224.0,5418.0,5414.0,5325.0,5235.0,5131.0,5283.0,5378.0,5343.0,5388.0,5400.0,5446.0,5213.0,5338.0,5385.0,5296.0,5371.0,5500.0,5507.0,5482.0,5505.0,5681.0,5688.0,5656.0,5605.0,5504.0,5450.0,5496.0,5640.0,5653.0,5695.0,5295.0,5315.0,5610.0,5900.0,5749.0,5802.0,5815.0,5764.0,5739.0,5600.0,5616.0,5638.0,5705.0,5496.0,5588.0,5562.0,5510.0,5493.0,5497.0,5479.0,5368.0,5499.0,5500.0,5637.0,5654.0,5405.0,5438.0,5458.0,5517.0,5453.0,5343.0,5066.0,5030.0,4938.0,5031.0,4900.0,4981.0,5235.0,5355.0,5494.0,5504.0,5451.0,5500.0,5469.0,5650.0,5549.0,5537.0,5743.0,5780.0,5758.0,5733.0,5949.0,6031.0,6087.0,6026.0,6400.0,6574.0,6705.0,6557.0,6601.0,6929.0,7019.0,6833.0,6953.0,6068.0,6147.0,6328.0,6319.0,6075.0,6077.0,6068.0,6064.0,6079.0,6042.0,5959.0,5952.0,6047.0,6055.0,6068.0,5917.0,5967.0,6095.0,6168.0,6205.0,6213.0,6243.0,6291.0,6052.0,6018.0,5726.0,5800.0,5786.0,5757.0,5778.0,5796.0,5711.0,5618.0,5644.0,5640.0,5745.0,5816.0,5953.0,5969.0,6024.0,5924.0,5846.0,5955.0,6099.0,5875.0,5882.0,5984.0,6187.0,6183.0,6198.0,6191.0,6164.0,6144.0,6254.0,6318.0,6328.0,6332.0,6268.0,5948.0,5949.0,5878.0,5812.0,5850.0,5791.0,5893.0,5764.0,5729.0,5700.0,5576.0,5595.0,5469.0,5517.0,5520.0,5583.0,5556.0,5708.0,5727.0,5689.0,5700.0,5343.0,5254.0,5040.0,4969.0,4897.0,4891.0,4851.0,4987.0,4960.0,4972.0],\"high\":[5421.0,5555.0,5633.0,5750.0,5609.0,5794.0,5984.0,5847.0,5670.0,5742.0,5729.0,5559.0,5638.0,5774.0,5723.0,5656.0,5719.0,5655.0,5644.0,5472.0,5203.0,5267.0,5189.0,5291.0,5401.0,5213.0,5077.0,4929.0,4923.0,4680.0,5049.0,5200.0,5146.0,5277.0,5080.0,5249.0,5344.0,5299.0,5191.0,5239.0,5484.0,5423.0,5414.0,5410.0,5325.0,5484.0,5411.0,5516.0,5587.0,5849.0,5585.0,5353.0,5046.0,5127.0,5180.0,4860.0,4975.0,5126.0,5123.0,5145.0,5249.0,5427.0,5466.0,5357.0,5350.0,5296.0,5347.0,5440.0,5438.0,5437.0,5525.0,5600.0,5320.0,5354.0,5438.0,5430.0,5376.0,5542.0,5540.0,5522.0,5514.0,5740.0,5700.0,5810.0,5763.0,5539.0,5523.0,5578.0,5640.0,5690.0,5768.0,5595.0,5365.0,5727.0,5929.0,5900.0,5832.0,5844.0,5840.0,5758.0,5673.0,5664.0,5679.0,5814.0,5555.0,5594.0,5614.0,5531.0,5543.0,5523.0,5558.0,5471.0,5504.0,5535.0,5661.0,5698.0,5462.0,5479.0,5474.0,5562.0,5500.0,5409.0,5217.0,5112.0,5057.0,5058.0,4980.0,5004.0,5259.0,5372.0,5532.0,5554.0,5527.0,5581.0,5518.0,5737.0,5627.0,5665.0,5770.0,5813.0,5831.0,5993.0,5993.0,6067.0,6169.0,6135.0,6422.0,6665.0,6724.0,6589.0,6695.0,6997.0,7039.0,6979.0,7180.0,6453.0,6267.0,6400.0,6418.0,6363.0,6164.0,6160.0,6138.0,6130.0,6136.0,5985.0,5979.0,6203.0,6055.0,6075.0,6016.0,5975.0,6133.0,6221.0,6205.0,6302.0,6293.0,6291.0,6113.0,6047.0,6041.0,5828.0,5888.0,5785.0,5824.0,5870.0,5785.0,5656.0,5735.0,5666.0,5784.0,5867.0,6041.0,6083.0,6033.0,6036.0,5900.0,5999.0,6131.0,6009.0,5895.0,6008.0,6222.0,6218.0,6228.0,6280.0,6272.0,6164.0,6268.0,6377.0,6407.0,6379.0,6328.0,6049.0,5975.0,5959.0,5867.0,5898.0,5877.0,5904.0,5841.0,5758.0,5720.0,5644.0,5644.0,5537.0,5547.0,5572.0,5610.0,5653.0,5777.0,5816.0,5709.0,5743.0,5610.0,5284.0,5147.0,5119.0,4950.0,4939.0,4965.0,5015.0,4975.0,4987.0],\"low\":[5280.0,5433.0,5531.0,5542.0,5387.0,5640.0,5834.0,5727.0,5591.0,5625.0,5521.0,5427.0,5466.0,5672.0,5585.0,5600.0,5523.0,5518.0,5551.0,5358.0,4964.0,5048.0,4960.0,5167.0,5242.0,5102.0,4980.0,4721.0,4781.0,4491.0,4514.0,4962.0,4983.0,5082.0,4867.0,5080.0,5210.0,5136.0,5077.0,5134.0,5331.0,5315.0,5293.0,5280.0,5217.0,5381.0,5318.0,5418.0,5437.0,5650.0,5470.0,5165.0,4866.0,4975.0,4997.0,4708.0,4826.0,4978.0,5025.0,5030.0,5107.0,5234.0,5348.0,5283.0,5221.0,5115.0,5208.0,5322.0,5338.0,5324.0,5395.0,5428.0,5193.0,5244.0,5273.0,5268.0,5268.0,5451.0,5460.0,5469.0,5417.0,5490.0,5585.0,5641.0,5567.0,5383.0,5407.0,5490.0,5573.0,5587.0,5585.0,5236.0,5188.0,5455.0,5638.0,5741.0,5730.0,5725.0,5744.0,5688.0,5571.0,5574.0,5628.0,5697.0,5474.0,5532.0,5514.0,5427.0,5469.0,5462.0,5475.0,5321.0,5416.0,5428.0,5549.0,5628.0,5401.0,5368.0,5396.0,5486.0,5434.0,5281.0,5049.0,5020.0,4881.0,4960.0,4877.0,4788.0,5031.0,5231.0,5329.0,5347.0,5381.0,5408.0,5453.0,5550.0,5502.0,5430.0,5541.0,5627.0,5698.0,5723.0,5634.0,5943.0,5982.0,6004.0,6162.0,6431.0,6508.0,6402.0,6476.0,6650.0,6868.0,6803.0,6901.0,5956.0,6030.0,6090.0,6258.0,6044.0,5996.0,6029.0,6037.0,6048.0,6006.0,5888.0,5883.0,6035.0,5965.0,5971.0,5894.0,5849.0,5882.0,6099.0,6106.0,6206.0,6213.0,6222.0,6020.0,5998.0,5715.0,5685.0,5733.0,5690.0,5728.0,5785.0,5680.0,5576.0,5624.0,5533.0,5645.0,5717.0,5896.0,5948.0,5931.0,5896.0,5834.0,5853.0,5936.0,5851.0,5817.0,5937.0,6046.0,6125.0,6163.0,6182.0,6145.0,6118.0,6183.0,6297.0,6328.0,6318.0,6254.0,5820.0,5905.0,5858.0,5758.0,5797.0,5713.0,5783.0,5764.0,5710.0,5657.0,5574.0,5572.0,5456.0,5458.0,5484.0,5466.0,5503.0,5602.0,5715.0,5624.0,5657.0,5333.0,5155.0,5001.0,4922.0,4766.0,4852.0,4832.0,4912.0,4900.0,4910.0],\"open\":[5393.0,5488.0,5559.0,5595.0,5441.0,5650.0,5899.0,5810.0,5600.0,5702.0,5654.0,5481.0,5499.0,5692.0,5623.0,5616.0,5698.0,5558.0,5574.0,5430.0,5201.0,5093.0,4989.0,5202.0,5357.0,5114.0,5054.0,4864.0,4850.0,4675.0,4526.0,5040.0,4985.0,5178.0,4937.0,5121.0,5321.0,5276.0,5191.0,5136.0,5399.0,5417.0,5382.0,5389.0,5224.0,5400.0,5359.0,5483.0,5480.0,5699.0,5585.0,5322.0,4895.0,5046.0,5126.0,4803.0,4867.0,5025.0,5097.0,5049.0,5145.0,5291.0,5358.0,5340.0,5322.0,5235.0,5225.0,5350.0,5373.0,5363.0,5421.0,5500.0,5310.0,5260.0,5290.0,5361.0,5348.0,5490.0,5500.0,5503.0,5420.0,5497.0,5646.0,5751.0,5672.0,5425.0,5461.0,5548.0,5577.0,5678.0,5607.0,5595.0,5210.0,5509.0,5651.0,5899.0,5783.0,5740.0,5829.0,5696.0,5647.0,5585.0,5646.0,5748.0,5500.0,5552.0,5520.0,5523.0,5530.0,5493.0,5500.0,5462.0,5451.0,5510.0,5556.0,5652.0,5446.0,5432.0,5413.0,5501.0,5466.0,5399.0,5201.0,5111.0,5004.0,5056.0,4931.0,4856.0,5051.0,5280.0,5356.0,5383.0,5390.0,5415.0,5504.0,5555.0,5591.0,5652.0,5566.0,5681.0,5750.0,5834.0,5670.0,6000.0,6001.0,6020.0,6190.0,6440.0,6576.0,6550.0,6605.0,6655.0,6960.0,6850.0,7042.0,6353.0,6068.0,6090.0,6367.0,6355.0,6070.0,6100.0,6110.0,6064.0,6119.0,5982.0,5928.0,6196.0,6029.0,6070.0,5968.0,5862.0,5940.0,6099.0,6113.0,6267.0,6220.0,6232.0,6106.0,6015.0,6038.0,5750.0,5854.0,5700.0,5772.0,5797.0,5770.0,5650.0,5681.0,5555.0,5724.0,5727.0,5916.0,6038.0,5935.0,6024.0,5873.0,5902.0,5951.0,5999.0,5891.0,5982.0,6055.0,6130.0,6218.0,6257.0,6258.0,6163.0,6193.0,6313.0,6377.0,6379.0,6304.0,6016.0,5940.0,5950.0,5865.0,5879.0,5850.0,5840.0,5808.0,5755.0,5710.0,5600.0,5580.0,5530.0,5492.0,5485.0,5490.0,5650.0,5624.0,5735.0,5657.0,5726.0,5600.0,5248.0,5140.0,5113.0,4802.0,4876.0,4900.0,5000.0,4906.0,4950.0],\"showlegend\":false,\"x\":[\"2022-03-28T00:00:00\",\"2022-03-29T00:00:00\",\"2022-03-30T00:00:00\",\"2022-03-31T00:00:00\",\"2022-04-01T00:00:00\",\"2022-04-04T00:00:00\",\"2022-04-05T00:00:00\",\"2022-04-06T00:00:00\",\"2022-04-07T00:00:00\",\"2022-04-08T00:00:00\",\"2022-04-11T00:00:00\",\"2022-04-12T00:00:00\",\"2022-04-13T00:00:00\",\"2022-04-14T00:00:00\",\"2022-04-15T00:00:00\",\"2022-04-18T00:00:00\",\"2022-04-19T00:00:00\",\"2022-04-20T00:00:00\",\"2022-04-21T00:00:00\",\"2022-04-22T00:00:00\",\"2022-04-25T00:00:00\",\"2022-04-26T00:00:00\",\"2022-04-27T00:00:00\",\"2022-04-28T00:00:00\",\"2022-05-02T00:00:00\",\"2022-05-06T00:00:00\",\"2022-05-09T00:00:00\",\"2022-05-10T00:00:00\",\"2022-05-11T00:00:00\",\"2022-05-12T00:00:00\",\"2022-05-13T00:00:00\",\"2022-05-16T00:00:00\",\"2022-05-17T00:00:00\",\"2022-05-18T00:00:00\",\"2022-05-19T00:00:00\",\"2022-05-20T00:00:00\",\"2022-05-23T00:00:00\",\"2022-05-24T00:00:00\",\"2022-05-25T00:00:00\",\"2022-05-26T00:00:00\",\"2022-05-27T00:00:00\",\"2022-05-30T00:00:00\",\"2022-05-31T00:00:00\",\"2022-06-01T00:00:00\",\"2022-06-02T00:00:00\",\"2022-06-03T00:00:00\",\"2022-06-06T00:00:00\",\"2022-06-07T00:00:00\",\"2022-06-08T00:00:00\",\"2022-06-09T00:00:00\",\"2022-06-10T00:00:00\",\"2022-06-13T00:00:00\",\"2022-06-14T00:00:00\",\"2022-06-15T00:00:00\",\"2022-06-16T00:00:00\",\"2022-06-17T00:00:00\",\"2022-06-20T00:00:00\",\"2022-06-21T00:00:00\",\"2022-06-22T00:00:00\",\"2022-06-23T00:00:00\",\"2022-06-24T00:00:00\",\"2022-06-27T00:00:00\",\"2022-06-28T00:00:00\",\"2022-06-29T00:00:00\",\"2022-06-30T00:00:00\",\"2022-07-01T00:00:00\",\"2022-07-04T00:00:00\",\"2022-07-05T00:00:00\",\"2022-07-06T00:00:00\",\"2022-07-07T00:00:00\",\"2022-07-08T00:00:00\",\"2022-07-11T00:00:00\",\"2022-07-12T00:00:00\",\"2022-07-13T00:00:00\",\"2022-07-14T00:00:00\",\"2022-07-15T00:00:00\",\"2022-07-19T00:00:00\",\"2022-07-20T00:00:00\",\"2022-07-21T00:00:00\",\"2022-07-22T00:00:00\",\"2022-07-25T00:00:00\",\"2022-07-26T00:00:00\",\"2022-07-27T00:00:00\",\"2022-07-28T00:00:00\",\"2022-07-29T00:00:00\",\"2022-08-01T00:00:00\",\"2022-08-02T00:00:00\",\"2022-08-03T00:00:00\",\"2022-08-04T00:00:00\",\"2022-08-05T00:00:00\",\"2022-08-08T00:00:00\",\"2022-08-09T00:00:00\",\"2022-08-10T00:00:00\",\"2022-08-12T00:00:00\",\"2022-08-15T00:00:00\",\"2022-08-16T00:00:00\",\"2022-08-17T00:00:00\",\"2022-08-18T00:00:00\",\"2022-08-19T00:00:00\",\"2022-08-22T00:00:00\",\"2022-08-23T00:00:00\",\"2022-08-24T00:00:00\",\"2022-08-25T00:00:00\",\"2022-08-26T00:00:00\",\"2022-08-29T00:00:00\",\"2022-08-30T00:00:00\",\"2022-08-31T00:00:00\",\"2022-09-01T00:00:00\",\"2022-09-02T00:00:00\",\"2022-09-05T00:00:00\",\"2022-09-06T00:00:00\",\"2022-09-07T00:00:00\",\"2022-09-08T00:00:00\",\"2022-09-09T00:00:00\",\"2022-09-12T00:00:00\",\"2022-09-13T00:00:00\",\"2022-09-14T00:00:00\",\"2022-09-15T00:00:00\",\"2022-09-16T00:00:00\",\"2022-09-20T00:00:00\",\"2022-09-21T00:00:00\",\"2022-09-22T00:00:00\",\"2022-09-26T00:00:00\",\"2022-09-27T00:00:00\",\"2022-09-28T00:00:00\",\"2022-09-29T00:00:00\",\"2022-09-30T00:00:00\",\"2022-10-03T00:00:00\",\"2022-10-04T00:00:00\",\"2022-10-05T00:00:00\",\"2022-10-06T00:00:00\",\"2022-10-07T00:00:00\",\"2022-10-11T00:00:00\",\"2022-10-12T00:00:00\",\"2022-10-13T00:00:00\",\"2022-10-14T00:00:00\",\"2022-10-17T00:00:00\",\"2022-10-18T00:00:00\",\"2022-10-19T00:00:00\",\"2022-10-20T00:00:00\",\"2022-10-21T00:00:00\",\"2022-10-24T00:00:00\",\"2022-10-25T00:00:00\",\"2022-10-26T00:00:00\",\"2022-10-27T00:00:00\",\"2022-10-28T00:00:00\",\"2022-10-31T00:00:00\",\"2022-11-01T00:00:00\",\"2022-11-02T00:00:00\",\"2022-11-04T00:00:00\",\"2022-11-07T00:00:00\",\"2022-11-08T00:00:00\",\"2022-11-09T00:00:00\",\"2022-11-10T00:00:00\",\"2022-11-11T00:00:00\",\"2022-11-14T00:00:00\",\"2022-11-15T00:00:00\",\"2022-11-16T00:00:00\",\"2022-11-17T00:00:00\",\"2022-11-18T00:00:00\",\"2022-11-21T00:00:00\",\"2022-11-22T00:00:00\",\"2022-11-24T00:00:00\",\"2022-11-25T00:00:00\",\"2022-11-28T00:00:00\",\"2022-11-29T00:00:00\",\"2022-11-30T00:00:00\",\"2022-12-01T00:00:00\",\"2022-12-02T00:00:00\",\"2022-12-05T00:00:00\",\"2022-12-06T00:00:00\",\"2022-12-07T00:00:00\",\"2022-12-08T00:00:00\",\"2022-12-09T00:00:00\",\"2022-12-12T00:00:00\",\"2022-12-13T00:00:00\",\"2022-12-14T00:00:00\",\"2022-12-15T00:00:00\",\"2022-12-16T00:00:00\",\"2022-12-19T00:00:00\",\"2022-12-20T00:00:00\",\"2022-12-21T00:00:00\",\"2022-12-22T00:00:00\",\"2022-12-23T00:00:00\",\"2022-12-26T00:00:00\",\"2022-12-27T00:00:00\",\"2022-12-28T00:00:00\",\"2022-12-29T00:00:00\",\"2022-12-30T00:00:00\",\"2023-01-04T00:00:00\",\"2023-01-05T00:00:00\",\"2023-01-06T00:00:00\",\"2023-01-10T00:00:00\",\"2023-01-11T00:00:00\",\"2023-01-12T00:00:00\",\"2023-01-13T00:00:00\",\"2023-01-16T00:00:00\",\"2023-01-17T00:00:00\",\"2023-01-18T00:00:00\",\"2023-01-19T00:00:00\",\"2023-01-20T00:00:00\",\"2023-01-23T00:00:00\",\"2023-01-24T00:00:00\",\"2023-01-25T00:00:00\",\"2023-01-26T00:00:00\",\"2023-01-27T00:00:00\",\"2023-01-30T00:00:00\",\"2023-01-31T00:00:00\",\"2023-02-01T00:00:00\",\"2023-02-02T00:00:00\",\"2023-02-03T00:00:00\",\"2023-02-06T00:00:00\",\"2023-02-07T00:00:00\",\"2023-02-08T00:00:00\",\"2023-02-09T00:00:00\",\"2023-02-10T00:00:00\",\"2023-02-13T00:00:00\",\"2023-02-14T00:00:00\",\"2023-02-15T00:00:00\",\"2023-02-16T00:00:00\",\"2023-02-17T00:00:00\",\"2023-02-20T00:00:00\",\"2023-02-21T00:00:00\",\"2023-02-22T00:00:00\",\"2023-02-24T00:00:00\",\"2023-02-27T00:00:00\",\"2023-02-28T00:00:00\",\"2023-03-01T00:00:00\",\"2023-03-02T00:00:00\",\"2023-03-03T00:00:00\",\"2023-03-06T00:00:00\",\"2023-03-07T00:00:00\",\"2023-03-08T00:00:00\",\"2023-03-09T00:00:00\",\"2023-03-10T00:00:00\",\"2023-03-13T00:00:00\",\"2023-03-14T00:00:00\",\"2023-03-15T00:00:00\",\"2023-03-16T00:00:00\",\"2023-03-17T00:00:00\",\"2023-03-20T00:00:00\",\"2023-03-22T00:00:00\",\"2023-03-23T00:00:00\",\"2023-03-24T00:00:00\"],\"type\":\"candlestick\"}],                        {\"template\":{\"data\":{\"histogram2dcontour\":[{\"type\":\"histogram2dcontour\",\"colorbar\":{\"outlinewidth\":0,\"ticks\":\"\"},\"colorscale\":[[0.0,\"#0d0887\"],[0.1111111111111111,\"#46039f\"],[0.2222222222222222,\"#7201a8\"],[0.3333333333333333,\"#9c179e\"],[0.4444444444444444,\"#bd3786\"],[0.5555555555555556,\"#d8576b\"],[0.6666666666666666,\"#ed7953\"],[0.7777777777777778,\"#fb9f3a\"],[0.8888888888888888,\"#fdca26\"],[1.0,\"#f0f921\"]]}],\"choropleth\":[{\"type\":\"choropleth\",\"colorbar\":{\"outlinewidth\":0,\"ticks\":\"\"}}],\"histogram2d\":[{\"type\":\"histogram2d\",\"colorbar\":{\"outlinewidth\":0,\"ticks\":\"\"},\"colorscale\":[[0.0,\"#0d0887\"],[0.1111111111111111,\"#46039f\"],[0.2222222222222222,\"#7201a8\"],[0.3333333333333333,\"#9c179e\"],[0.4444444444444444,\"#bd3786\"],[0.5555555555555556,\"#d8576b\"],[0.6666666666666666,\"#ed7953\"],[0.7777777777777778,\"#fb9f3a\"],[0.8888888888888888,\"#fdca26\"],[1.0,\"#f0f921\"]]}],\"heatmap\":[{\"type\":\"heatmap\",\"colorbar\":{\"outlinewidth\":0,\"ticks\":\"\"},\"colorscale\":[[0.0,\"#0d0887\"],[0.1111111111111111,\"#46039f\"],[0.2222222222222222,\"#7201a8\"],[0.3333333333333333,\"#9c179e\"],[0.4444444444444444,\"#bd3786\"],[0.5555555555555556,\"#d8576b\"],[0.6666666666666666,\"#ed7953\"],[0.7777777777777778,\"#fb9f3a\"],[0.8888888888888888,\"#fdca26\"],[1.0,\"#f0f921\"]]}],\"heatmapgl\":[{\"type\":\"heatmapgl\",\"colorbar\":{\"outlinewidth\":0,\"ticks\":\"\"},\"colorscale\":[[0.0,\"#0d0887\"],[0.1111111111111111,\"#46039f\"],[0.2222222222222222,\"#7201a8\"],[0.3333333333333333,\"#9c179e\"],[0.4444444444444444,\"#bd3786\"],[0.5555555555555556,\"#d8576b\"],[0.6666666666666666,\"#ed7953\"],[0.7777777777777778,\"#fb9f3a\"],[0.8888888888888888,\"#fdca26\"],[1.0,\"#f0f921\"]]}],\"contourcarpet\":[{\"type\":\"contourcarpet\",\"colorbar\":{\"outlinewidth\":0,\"ticks\":\"\"}}],\"contour\":[{\"type\":\"contour\",\"colorbar\":{\"outlinewidth\":0,\"ticks\":\"\"},\"colorscale\":[[0.0,\"#0d0887\"],[0.1111111111111111,\"#46039f\"],[0.2222222222222222,\"#7201a8\"],[0.3333333333333333,\"#9c179e\"],[0.4444444444444444,\"#bd3786\"],[0.5555555555555556,\"#d8576b\"],[0.6666666666666666,\"#ed7953\"],[0.7777777777777778,\"#fb9f3a\"],[0.8888888888888888,\"#fdca26\"],[1.0,\"#f0f921\"]]}],\"surface\":[{\"type\":\"surface\",\"colorbar\":{\"outlinewidth\":0,\"ticks\":\"\"},\"colorscale\":[[0.0,\"#0d0887\"],[0.1111111111111111,\"#46039f\"],[0.2222222222222222,\"#7201a8\"],[0.3333333333333333,\"#9c179e\"],[0.4444444444444444,\"#bd3786\"],[0.5555555555555556,\"#d8576b\"],[0.6666666666666666,\"#ed7953\"],[0.7777777777777778,\"#fb9f3a\"],[0.8888888888888888,\"#fdca26\"],[1.0,\"#f0f921\"]]}],\"mesh3d\":[{\"type\":\"mesh3d\",\"colorbar\":{\"outlinewidth\":0,\"ticks\":\"\"}}],\"scatter\":[{\"fillpattern\":{\"fillmode\":\"overlay\",\"size\":10,\"solidity\":0.2},\"type\":\"scatter\"}],\"parcoords\":[{\"type\":\"parcoords\",\"line\":{\"colorbar\":{\"outlinewidth\":0,\"ticks\":\"\"}}}],\"scatterpolargl\":[{\"type\":\"scatterpolargl\",\"marker\":{\"colorbar\":{\"outlinewidth\":0,\"ticks\":\"\"}}}],\"bar\":[{\"error_x\":{\"color\":\"#2a3f5f\"},\"error_y\":{\"color\":\"#2a3f5f\"},\"marker\":{\"line\":{\"color\":\"#E5ECF6\",\"width\":0.5},\"pattern\":{\"fillmode\":\"overlay\",\"size\":10,\"solidity\":0.2}},\"type\":\"bar\"}],\"scattergeo\":[{\"type\":\"scattergeo\",\"marker\":{\"colorbar\":{\"outlinewidth\":0,\"ticks\":\"\"}}}],\"scatterpolar\":[{\"type\":\"scatterpolar\",\"marker\":{\"colorbar\":{\"outlinewidth\":0,\"ticks\":\"\"}}}],\"histogram\":[{\"marker\":{\"pattern\":{\"fillmode\":\"overlay\",\"size\":10,\"solidity\":0.2}},\"type\":\"histogram\"}],\"scattergl\":[{\"type\":\"scattergl\",\"marker\":{\"colorbar\":{\"outlinewidth\":0,\"ticks\":\"\"}}}],\"scatter3d\":[{\"type\":\"scatter3d\",\"line\":{\"colorbar\":{\"outlinewidth\":0,\"ticks\":\"\"}},\"marker\":{\"colorbar\":{\"outlinewidth\":0,\"ticks\":\"\"}}}],\"scattermapbox\":[{\"type\":\"scattermapbox\",\"marker\":{\"colorbar\":{\"outlinewidth\":0,\"ticks\":\"\"}}}],\"scatterternary\":[{\"type\":\"scatterternary\",\"marker\":{\"colorbar\":{\"outlinewidth\":0,\"ticks\":\"\"}}}],\"scattercarpet\":[{\"type\":\"scattercarpet\",\"marker\":{\"colorbar\":{\"outlinewidth\":0,\"ticks\":\"\"}}}],\"carpet\":[{\"aaxis\":{\"endlinecolor\":\"#2a3f5f\",\"gridcolor\":\"white\",\"linecolor\":\"white\",\"minorgridcolor\":\"white\",\"startlinecolor\":\"#2a3f5f\"},\"baxis\":{\"endlinecolor\":\"#2a3f5f\",\"gridcolor\":\"white\",\"linecolor\":\"white\",\"minorgridcolor\":\"white\",\"startlinecolor\":\"#2a3f5f\"},\"type\":\"carpet\"}],\"table\":[{\"cells\":{\"fill\":{\"color\":\"#EBF0F8\"},\"line\":{\"color\":\"white\"}},\"header\":{\"fill\":{\"color\":\"#C8D4E3\"},\"line\":{\"color\":\"white\"}},\"type\":\"table\"}],\"barpolar\":[{\"marker\":{\"line\":{\"color\":\"#E5ECF6\",\"width\":0.5},\"pattern\":{\"fillmode\":\"overlay\",\"size\":10,\"solidity\":0.2}},\"type\":\"barpolar\"}],\"pie\":[{\"automargin\":true,\"type\":\"pie\"}]},\"layout\":{\"autotypenumbers\":\"strict\",\"colorway\":[\"#636efa\",\"#EF553B\",\"#00cc96\",\"#ab63fa\",\"#FFA15A\",\"#19d3f3\",\"#FF6692\",\"#B6E880\",\"#FF97FF\",\"#FECB52\"],\"font\":{\"color\":\"#2a3f5f\"},\"hovermode\":\"closest\",\"hoverlabel\":{\"align\":\"left\"},\"paper_bgcolor\":\"white\",\"plot_bgcolor\":\"#E5ECF6\",\"polar\":{\"bgcolor\":\"#E5ECF6\",\"angularaxis\":{\"gridcolor\":\"white\",\"linecolor\":\"white\",\"ticks\":\"\"},\"radialaxis\":{\"gridcolor\":\"white\",\"linecolor\":\"white\",\"ticks\":\"\"}},\"ternary\":{\"bgcolor\":\"#E5ECF6\",\"aaxis\":{\"gridcolor\":\"white\",\"linecolor\":\"white\",\"ticks\":\"\"},\"baxis\":{\"gridcolor\":\"white\",\"linecolor\":\"white\",\"ticks\":\"\"},\"caxis\":{\"gridcolor\":\"white\",\"linecolor\":\"white\",\"ticks\":\"\"}},\"coloraxis\":{\"colorbar\":{\"outlinewidth\":0,\"ticks\":\"\"}},\"colorscale\":{\"sequential\":[[0.0,\"#0d0887\"],[0.1111111111111111,\"#46039f\"],[0.2222222222222222,\"#7201a8\"],[0.3333333333333333,\"#9c179e\"],[0.4444444444444444,\"#bd3786\"],[0.5555555555555556,\"#d8576b\"],[0.6666666666666666,\"#ed7953\"],[0.7777777777777778,\"#fb9f3a\"],[0.8888888888888888,\"#fdca26\"],[1.0,\"#f0f921\"]],\"sequentialminus\":[[0.0,\"#0d0887\"],[0.1111111111111111,\"#46039f\"],[0.2222222222222222,\"#7201a8\"],[0.3333333333333333,\"#9c179e\"],[0.4444444444444444,\"#bd3786\"],[0.5555555555555556,\"#d8576b\"],[0.6666666666666666,\"#ed7953\"],[0.7777777777777778,\"#fb9f3a\"],[0.8888888888888888,\"#fdca26\"],[1.0,\"#f0f921\"]],\"diverging\":[[0,\"#8e0152\"],[0.1,\"#c51b7d\"],[0.2,\"#de77ae\"],[0.3,\"#f1b6da\"],[0.4,\"#fde0ef\"],[0.5,\"#f7f7f7\"],[0.6,\"#e6f5d0\"],[0.7,\"#b8e186\"],[0.8,\"#7fbc41\"],[0.9,\"#4d9221\"],[1,\"#276419\"]]},\"xaxis\":{\"gridcolor\":\"white\",\"linecolor\":\"white\",\"ticks\":\"\",\"title\":{\"standoff\":15},\"zerolinecolor\":\"white\",\"automargin\":true,\"zerolinewidth\":2},\"yaxis\":{\"gridcolor\":\"white\",\"linecolor\":\"white\",\"ticks\":\"\",\"title\":{\"standoff\":15},\"zerolinecolor\":\"white\",\"automargin\":true,\"zerolinewidth\":2},\"scene\":{\"xaxis\":{\"backgroundcolor\":\"#E5ECF6\",\"gridcolor\":\"white\",\"linecolor\":\"white\",\"showbackground\":true,\"ticks\":\"\",\"zerolinecolor\":\"white\",\"gridwidth\":2},\"yaxis\":{\"backgroundcolor\":\"#E5ECF6\",\"gridcolor\":\"white\",\"linecolor\":\"white\",\"showbackground\":true,\"ticks\":\"\",\"zerolinecolor\":\"white\",\"gridwidth\":2},\"zaxis\":{\"backgroundcolor\":\"#E5ECF6\",\"gridcolor\":\"white\",\"linecolor\":\"white\",\"showbackground\":true,\"ticks\":\"\",\"zerolinecolor\":\"white\",\"gridwidth\":2}},\"shapedefaults\":{\"line\":{\"color\":\"#2a3f5f\"}},\"annotationdefaults\":{\"arrowcolor\":\"#2a3f5f\",\"arrowhead\":0,\"arrowwidth\":1},\"geo\":{\"bgcolor\":\"white\",\"landcolor\":\"#E5ECF6\",\"subunitcolor\":\"white\",\"showland\":true,\"showlakes\":true,\"lakecolor\":\"white\"},\"title\":{\"x\":0.05},\"mapbox\":{\"style\":\"light\"}}}},                        {\"responsive\": true}                    ).then(function(){\n",
              "                            \n",
              "var gd = document.getElementById('1c26d036-8a2e-4379-9ad1-52f71d5126a6');\n",
              "var x = new MutationObserver(function (mutations, observer) {{\n",
              "        var display = window.getComputedStyle(gd).display;\n",
              "        if (!display || display === 'none') {{\n",
              "            console.log([gd, 'removed!']);\n",
              "            Plotly.purge(gd);\n",
              "            observer.disconnect();\n",
              "        }}\n",
              "}});\n",
              "\n",
              "// Listen for the removal of the full notebook cells\n",
              "var notebookContainer = gd.closest('#notebook-container');\n",
              "if (notebookContainer) {{\n",
              "    x.observe(notebookContainer, {childList: true});\n",
              "}}\n",
              "\n",
              "// Listen for the clearing of the current output cell\n",
              "var outputEl = gd.closest('.output');\n",
              "if (outputEl) {{\n",
              "    x.observe(outputEl, {childList: true});\n",
              "}}\n",
              "\n",
              "                        })                };                            </script>        </div>\n",
              "</body>\n",
              "</html>"
            ]
          },
          "metadata": {}
        }
      ]
    },
    {
      "cell_type": "markdown",
      "source": [
        "## タイトル・ラベルの追加、フォーマットの変更"
      ],
      "metadata": {
        "id": "yooxWkMKQKGZ"
      }
    },
    {
      "cell_type": "code",
      "source": [
        "fig.update_layout(\n",
        "    title={\n",
        "        'text': 'SoftBank(9984)の日足チャート',\n",
        "        'y':0.9, # 縦軸でほぼ一番上表示\n",
        "        'x':0.5, # 横軸でちょうど真ん中表示\n",
        "    },\n",
        "    yaxis_title='株価',\n",
        "    xaxis_title='Date'\n",
        ")\n",
        "\n",
        "# 日付のフォーマット変更\n",
        "fig.update_xaxes(tickformat='%Y/%m/%d')\n",
        "\n",
        "# 株価のフォーマット変更(カンマ区切り)\n",
        "fig.update_yaxes(separatethousands=True)\n",
        "\n",
        "# 下にあるバーを非表示にする場合\n",
        "# fig.update(layout_xaxis_rangeslider_visible=False)\n",
        "\n",
        "fig.show()"
      ],
      "metadata": {
        "colab": {
          "base_uri": "https://localhost:8080/",
          "height": 542
        },
        "id": "LDPL1j7iO11w",
        "outputId": "7f72b3ad-5351-4ae0-fe32-f66b4354c137"
      },
      "execution_count": 59,
      "outputs": [
        {
          "output_type": "display_data",
          "data": {
            "text/html": [
              "<html>\n",
              "<head><meta charset=\"utf-8\" /></head>\n",
              "<body>\n",
              "    <div>            <script src=\"https://cdnjs.cloudflare.com/ajax/libs/mathjax/2.7.5/MathJax.js?config=TeX-AMS-MML_SVG\"></script><script type=\"text/javascript\">if (window.MathJax && window.MathJax.Hub && window.MathJax.Hub.Config) {window.MathJax.Hub.Config({SVG: {font: \"STIX-Web\"}});}</script>                <script type=\"text/javascript\">window.PlotlyConfig = {MathJaxConfig: 'local'};</script>\n",
              "        <script src=\"https://cdn.plot.ly/plotly-2.18.2.min.js\"></script>                <div id=\"321ed8a4-a348-4293-88a6-089d9fd5e9f2\" class=\"plotly-graph-div\" style=\"height:525px; width:100%;\"></div>            <script type=\"text/javascript\">                                    window.PLOTLYENV=window.PLOTLYENV || {};                                    if (document.getElementById(\"321ed8a4-a348-4293-88a6-089d9fd5e9f2\")) {                    Plotly.newPlot(                        \"321ed8a4-a348-4293-88a6-089d9fd5e9f2\",                        [{\"close\":[5402.0,5504.0,5632.0,5559.0,5578.0,5785.0,5936.0,5769.0,5654.0,5683.0,5530.0,5482.0,5592.0,5762.0,5692.0,5653.0,5547.0,5627.0,5579.0,5411.0,4989.0,5195.0,5182.0,5269.0,5290.0,5170.0,4989.0,4900.0,4883.0,4491.0,5040.0,5110.0,5122.0,5137.0,5055.0,5232.0,5276.0,5191.0,5102.0,5164.0,5341.0,5358.0,5379.0,5300.0,5302.0,5418.0,5391.0,5430.0,5563.0,5659.0,5545.0,5165.0,5033.0,5028.0,5000.0,4788.0,4933.0,5075.0,5025.0,5103.0,5224.0,5418.0,5414.0,5325.0,5235.0,5131.0,5283.0,5378.0,5343.0,5388.0,5400.0,5446.0,5213.0,5338.0,5385.0,5296.0,5371.0,5500.0,5507.0,5482.0,5505.0,5681.0,5688.0,5656.0,5605.0,5504.0,5450.0,5496.0,5640.0,5653.0,5695.0,5295.0,5315.0,5610.0,5900.0,5749.0,5802.0,5815.0,5764.0,5739.0,5600.0,5616.0,5638.0,5705.0,5496.0,5588.0,5562.0,5510.0,5493.0,5497.0,5479.0,5368.0,5499.0,5500.0,5637.0,5654.0,5405.0,5438.0,5458.0,5517.0,5453.0,5343.0,5066.0,5030.0,4938.0,5031.0,4900.0,4981.0,5235.0,5355.0,5494.0,5504.0,5451.0,5500.0,5469.0,5650.0,5549.0,5537.0,5743.0,5780.0,5758.0,5733.0,5949.0,6031.0,6087.0,6026.0,6400.0,6574.0,6705.0,6557.0,6601.0,6929.0,7019.0,6833.0,6953.0,6068.0,6147.0,6328.0,6319.0,6075.0,6077.0,6068.0,6064.0,6079.0,6042.0,5959.0,5952.0,6047.0,6055.0,6068.0,5917.0,5967.0,6095.0,6168.0,6205.0,6213.0,6243.0,6291.0,6052.0,6018.0,5726.0,5800.0,5786.0,5757.0,5778.0,5796.0,5711.0,5618.0,5644.0,5640.0,5745.0,5816.0,5953.0,5969.0,6024.0,5924.0,5846.0,5955.0,6099.0,5875.0,5882.0,5984.0,6187.0,6183.0,6198.0,6191.0,6164.0,6144.0,6254.0,6318.0,6328.0,6332.0,6268.0,5948.0,5949.0,5878.0,5812.0,5850.0,5791.0,5893.0,5764.0,5729.0,5700.0,5576.0,5595.0,5469.0,5517.0,5520.0,5583.0,5556.0,5708.0,5727.0,5689.0,5700.0,5343.0,5254.0,5040.0,4969.0,4897.0,4891.0,4851.0,4987.0,4960.0,4972.0],\"high\":[5421.0,5555.0,5633.0,5750.0,5609.0,5794.0,5984.0,5847.0,5670.0,5742.0,5729.0,5559.0,5638.0,5774.0,5723.0,5656.0,5719.0,5655.0,5644.0,5472.0,5203.0,5267.0,5189.0,5291.0,5401.0,5213.0,5077.0,4929.0,4923.0,4680.0,5049.0,5200.0,5146.0,5277.0,5080.0,5249.0,5344.0,5299.0,5191.0,5239.0,5484.0,5423.0,5414.0,5410.0,5325.0,5484.0,5411.0,5516.0,5587.0,5849.0,5585.0,5353.0,5046.0,5127.0,5180.0,4860.0,4975.0,5126.0,5123.0,5145.0,5249.0,5427.0,5466.0,5357.0,5350.0,5296.0,5347.0,5440.0,5438.0,5437.0,5525.0,5600.0,5320.0,5354.0,5438.0,5430.0,5376.0,5542.0,5540.0,5522.0,5514.0,5740.0,5700.0,5810.0,5763.0,5539.0,5523.0,5578.0,5640.0,5690.0,5768.0,5595.0,5365.0,5727.0,5929.0,5900.0,5832.0,5844.0,5840.0,5758.0,5673.0,5664.0,5679.0,5814.0,5555.0,5594.0,5614.0,5531.0,5543.0,5523.0,5558.0,5471.0,5504.0,5535.0,5661.0,5698.0,5462.0,5479.0,5474.0,5562.0,5500.0,5409.0,5217.0,5112.0,5057.0,5058.0,4980.0,5004.0,5259.0,5372.0,5532.0,5554.0,5527.0,5581.0,5518.0,5737.0,5627.0,5665.0,5770.0,5813.0,5831.0,5993.0,5993.0,6067.0,6169.0,6135.0,6422.0,6665.0,6724.0,6589.0,6695.0,6997.0,7039.0,6979.0,7180.0,6453.0,6267.0,6400.0,6418.0,6363.0,6164.0,6160.0,6138.0,6130.0,6136.0,5985.0,5979.0,6203.0,6055.0,6075.0,6016.0,5975.0,6133.0,6221.0,6205.0,6302.0,6293.0,6291.0,6113.0,6047.0,6041.0,5828.0,5888.0,5785.0,5824.0,5870.0,5785.0,5656.0,5735.0,5666.0,5784.0,5867.0,6041.0,6083.0,6033.0,6036.0,5900.0,5999.0,6131.0,6009.0,5895.0,6008.0,6222.0,6218.0,6228.0,6280.0,6272.0,6164.0,6268.0,6377.0,6407.0,6379.0,6328.0,6049.0,5975.0,5959.0,5867.0,5898.0,5877.0,5904.0,5841.0,5758.0,5720.0,5644.0,5644.0,5537.0,5547.0,5572.0,5610.0,5653.0,5777.0,5816.0,5709.0,5743.0,5610.0,5284.0,5147.0,5119.0,4950.0,4939.0,4965.0,5015.0,4975.0,4987.0],\"low\":[5280.0,5433.0,5531.0,5542.0,5387.0,5640.0,5834.0,5727.0,5591.0,5625.0,5521.0,5427.0,5466.0,5672.0,5585.0,5600.0,5523.0,5518.0,5551.0,5358.0,4964.0,5048.0,4960.0,5167.0,5242.0,5102.0,4980.0,4721.0,4781.0,4491.0,4514.0,4962.0,4983.0,5082.0,4867.0,5080.0,5210.0,5136.0,5077.0,5134.0,5331.0,5315.0,5293.0,5280.0,5217.0,5381.0,5318.0,5418.0,5437.0,5650.0,5470.0,5165.0,4866.0,4975.0,4997.0,4708.0,4826.0,4978.0,5025.0,5030.0,5107.0,5234.0,5348.0,5283.0,5221.0,5115.0,5208.0,5322.0,5338.0,5324.0,5395.0,5428.0,5193.0,5244.0,5273.0,5268.0,5268.0,5451.0,5460.0,5469.0,5417.0,5490.0,5585.0,5641.0,5567.0,5383.0,5407.0,5490.0,5573.0,5587.0,5585.0,5236.0,5188.0,5455.0,5638.0,5741.0,5730.0,5725.0,5744.0,5688.0,5571.0,5574.0,5628.0,5697.0,5474.0,5532.0,5514.0,5427.0,5469.0,5462.0,5475.0,5321.0,5416.0,5428.0,5549.0,5628.0,5401.0,5368.0,5396.0,5486.0,5434.0,5281.0,5049.0,5020.0,4881.0,4960.0,4877.0,4788.0,5031.0,5231.0,5329.0,5347.0,5381.0,5408.0,5453.0,5550.0,5502.0,5430.0,5541.0,5627.0,5698.0,5723.0,5634.0,5943.0,5982.0,6004.0,6162.0,6431.0,6508.0,6402.0,6476.0,6650.0,6868.0,6803.0,6901.0,5956.0,6030.0,6090.0,6258.0,6044.0,5996.0,6029.0,6037.0,6048.0,6006.0,5888.0,5883.0,6035.0,5965.0,5971.0,5894.0,5849.0,5882.0,6099.0,6106.0,6206.0,6213.0,6222.0,6020.0,5998.0,5715.0,5685.0,5733.0,5690.0,5728.0,5785.0,5680.0,5576.0,5624.0,5533.0,5645.0,5717.0,5896.0,5948.0,5931.0,5896.0,5834.0,5853.0,5936.0,5851.0,5817.0,5937.0,6046.0,6125.0,6163.0,6182.0,6145.0,6118.0,6183.0,6297.0,6328.0,6318.0,6254.0,5820.0,5905.0,5858.0,5758.0,5797.0,5713.0,5783.0,5764.0,5710.0,5657.0,5574.0,5572.0,5456.0,5458.0,5484.0,5466.0,5503.0,5602.0,5715.0,5624.0,5657.0,5333.0,5155.0,5001.0,4922.0,4766.0,4852.0,4832.0,4912.0,4900.0,4910.0],\"open\":[5393.0,5488.0,5559.0,5595.0,5441.0,5650.0,5899.0,5810.0,5600.0,5702.0,5654.0,5481.0,5499.0,5692.0,5623.0,5616.0,5698.0,5558.0,5574.0,5430.0,5201.0,5093.0,4989.0,5202.0,5357.0,5114.0,5054.0,4864.0,4850.0,4675.0,4526.0,5040.0,4985.0,5178.0,4937.0,5121.0,5321.0,5276.0,5191.0,5136.0,5399.0,5417.0,5382.0,5389.0,5224.0,5400.0,5359.0,5483.0,5480.0,5699.0,5585.0,5322.0,4895.0,5046.0,5126.0,4803.0,4867.0,5025.0,5097.0,5049.0,5145.0,5291.0,5358.0,5340.0,5322.0,5235.0,5225.0,5350.0,5373.0,5363.0,5421.0,5500.0,5310.0,5260.0,5290.0,5361.0,5348.0,5490.0,5500.0,5503.0,5420.0,5497.0,5646.0,5751.0,5672.0,5425.0,5461.0,5548.0,5577.0,5678.0,5607.0,5595.0,5210.0,5509.0,5651.0,5899.0,5783.0,5740.0,5829.0,5696.0,5647.0,5585.0,5646.0,5748.0,5500.0,5552.0,5520.0,5523.0,5530.0,5493.0,5500.0,5462.0,5451.0,5510.0,5556.0,5652.0,5446.0,5432.0,5413.0,5501.0,5466.0,5399.0,5201.0,5111.0,5004.0,5056.0,4931.0,4856.0,5051.0,5280.0,5356.0,5383.0,5390.0,5415.0,5504.0,5555.0,5591.0,5652.0,5566.0,5681.0,5750.0,5834.0,5670.0,6000.0,6001.0,6020.0,6190.0,6440.0,6576.0,6550.0,6605.0,6655.0,6960.0,6850.0,7042.0,6353.0,6068.0,6090.0,6367.0,6355.0,6070.0,6100.0,6110.0,6064.0,6119.0,5982.0,5928.0,6196.0,6029.0,6070.0,5968.0,5862.0,5940.0,6099.0,6113.0,6267.0,6220.0,6232.0,6106.0,6015.0,6038.0,5750.0,5854.0,5700.0,5772.0,5797.0,5770.0,5650.0,5681.0,5555.0,5724.0,5727.0,5916.0,6038.0,5935.0,6024.0,5873.0,5902.0,5951.0,5999.0,5891.0,5982.0,6055.0,6130.0,6218.0,6257.0,6258.0,6163.0,6193.0,6313.0,6377.0,6379.0,6304.0,6016.0,5940.0,5950.0,5865.0,5879.0,5850.0,5840.0,5808.0,5755.0,5710.0,5600.0,5580.0,5530.0,5492.0,5485.0,5490.0,5650.0,5624.0,5735.0,5657.0,5726.0,5600.0,5248.0,5140.0,5113.0,4802.0,4876.0,4900.0,5000.0,4906.0,4950.0],\"showlegend\":false,\"x\":[\"2022-03-28T00:00:00\",\"2022-03-29T00:00:00\",\"2022-03-30T00:00:00\",\"2022-03-31T00:00:00\",\"2022-04-01T00:00:00\",\"2022-04-04T00:00:00\",\"2022-04-05T00:00:00\",\"2022-04-06T00:00:00\",\"2022-04-07T00:00:00\",\"2022-04-08T00:00:00\",\"2022-04-11T00:00:00\",\"2022-04-12T00:00:00\",\"2022-04-13T00:00:00\",\"2022-04-14T00:00:00\",\"2022-04-15T00:00:00\",\"2022-04-18T00:00:00\",\"2022-04-19T00:00:00\",\"2022-04-20T00:00:00\",\"2022-04-21T00:00:00\",\"2022-04-22T00:00:00\",\"2022-04-25T00:00:00\",\"2022-04-26T00:00:00\",\"2022-04-27T00:00:00\",\"2022-04-28T00:00:00\",\"2022-05-02T00:00:00\",\"2022-05-06T00:00:00\",\"2022-05-09T00:00:00\",\"2022-05-10T00:00:00\",\"2022-05-11T00:00:00\",\"2022-05-12T00:00:00\",\"2022-05-13T00:00:00\",\"2022-05-16T00:00:00\",\"2022-05-17T00:00:00\",\"2022-05-18T00:00:00\",\"2022-05-19T00:00:00\",\"2022-05-20T00:00:00\",\"2022-05-23T00:00:00\",\"2022-05-24T00:00:00\",\"2022-05-25T00:00:00\",\"2022-05-26T00:00:00\",\"2022-05-27T00:00:00\",\"2022-05-30T00:00:00\",\"2022-05-31T00:00:00\",\"2022-06-01T00:00:00\",\"2022-06-02T00:00:00\",\"2022-06-03T00:00:00\",\"2022-06-06T00:00:00\",\"2022-06-07T00:00:00\",\"2022-06-08T00:00:00\",\"2022-06-09T00:00:00\",\"2022-06-10T00:00:00\",\"2022-06-13T00:00:00\",\"2022-06-14T00:00:00\",\"2022-06-15T00:00:00\",\"2022-06-16T00:00:00\",\"2022-06-17T00:00:00\",\"2022-06-20T00:00:00\",\"2022-06-21T00:00:00\",\"2022-06-22T00:00:00\",\"2022-06-23T00:00:00\",\"2022-06-24T00:00:00\",\"2022-06-27T00:00:00\",\"2022-06-28T00:00:00\",\"2022-06-29T00:00:00\",\"2022-06-30T00:00:00\",\"2022-07-01T00:00:00\",\"2022-07-04T00:00:00\",\"2022-07-05T00:00:00\",\"2022-07-06T00:00:00\",\"2022-07-07T00:00:00\",\"2022-07-08T00:00:00\",\"2022-07-11T00:00:00\",\"2022-07-12T00:00:00\",\"2022-07-13T00:00:00\",\"2022-07-14T00:00:00\",\"2022-07-15T00:00:00\",\"2022-07-19T00:00:00\",\"2022-07-20T00:00:00\",\"2022-07-21T00:00:00\",\"2022-07-22T00:00:00\",\"2022-07-25T00:00:00\",\"2022-07-26T00:00:00\",\"2022-07-27T00:00:00\",\"2022-07-28T00:00:00\",\"2022-07-29T00:00:00\",\"2022-08-01T00:00:00\",\"2022-08-02T00:00:00\",\"2022-08-03T00:00:00\",\"2022-08-04T00:00:00\",\"2022-08-05T00:00:00\",\"2022-08-08T00:00:00\",\"2022-08-09T00:00:00\",\"2022-08-10T00:00:00\",\"2022-08-12T00:00:00\",\"2022-08-15T00:00:00\",\"2022-08-16T00:00:00\",\"2022-08-17T00:00:00\",\"2022-08-18T00:00:00\",\"2022-08-19T00:00:00\",\"2022-08-22T00:00:00\",\"2022-08-23T00:00:00\",\"2022-08-24T00:00:00\",\"2022-08-25T00:00:00\",\"2022-08-26T00:00:00\",\"2022-08-29T00:00:00\",\"2022-08-30T00:00:00\",\"2022-08-31T00:00:00\",\"2022-09-01T00:00:00\",\"2022-09-02T00:00:00\",\"2022-09-05T00:00:00\",\"2022-09-06T00:00:00\",\"2022-09-07T00:00:00\",\"2022-09-08T00:00:00\",\"2022-09-09T00:00:00\",\"2022-09-12T00:00:00\",\"2022-09-13T00:00:00\",\"2022-09-14T00:00:00\",\"2022-09-15T00:00:00\",\"2022-09-16T00:00:00\",\"2022-09-20T00:00:00\",\"2022-09-21T00:00:00\",\"2022-09-22T00:00:00\",\"2022-09-26T00:00:00\",\"2022-09-27T00:00:00\",\"2022-09-28T00:00:00\",\"2022-09-29T00:00:00\",\"2022-09-30T00:00:00\",\"2022-10-03T00:00:00\",\"2022-10-04T00:00:00\",\"2022-10-05T00:00:00\",\"2022-10-06T00:00:00\",\"2022-10-07T00:00:00\",\"2022-10-11T00:00:00\",\"2022-10-12T00:00:00\",\"2022-10-13T00:00:00\",\"2022-10-14T00:00:00\",\"2022-10-17T00:00:00\",\"2022-10-18T00:00:00\",\"2022-10-19T00:00:00\",\"2022-10-20T00:00:00\",\"2022-10-21T00:00:00\",\"2022-10-24T00:00:00\",\"2022-10-25T00:00:00\",\"2022-10-26T00:00:00\",\"2022-10-27T00:00:00\",\"2022-10-28T00:00:00\",\"2022-10-31T00:00:00\",\"2022-11-01T00:00:00\",\"2022-11-02T00:00:00\",\"2022-11-04T00:00:00\",\"2022-11-07T00:00:00\",\"2022-11-08T00:00:00\",\"2022-11-09T00:00:00\",\"2022-11-10T00:00:00\",\"2022-11-11T00:00:00\",\"2022-11-14T00:00:00\",\"2022-11-15T00:00:00\",\"2022-11-16T00:00:00\",\"2022-11-17T00:00:00\",\"2022-11-18T00:00:00\",\"2022-11-21T00:00:00\",\"2022-11-22T00:00:00\",\"2022-11-24T00:00:00\",\"2022-11-25T00:00:00\",\"2022-11-28T00:00:00\",\"2022-11-29T00:00:00\",\"2022-11-30T00:00:00\",\"2022-12-01T00:00:00\",\"2022-12-02T00:00:00\",\"2022-12-05T00:00:00\",\"2022-12-06T00:00:00\",\"2022-12-07T00:00:00\",\"2022-12-08T00:00:00\",\"2022-12-09T00:00:00\",\"2022-12-12T00:00:00\",\"2022-12-13T00:00:00\",\"2022-12-14T00:00:00\",\"2022-12-15T00:00:00\",\"2022-12-16T00:00:00\",\"2022-12-19T00:00:00\",\"2022-12-20T00:00:00\",\"2022-12-21T00:00:00\",\"2022-12-22T00:00:00\",\"2022-12-23T00:00:00\",\"2022-12-26T00:00:00\",\"2022-12-27T00:00:00\",\"2022-12-28T00:00:00\",\"2022-12-29T00:00:00\",\"2022-12-30T00:00:00\",\"2023-01-04T00:00:00\",\"2023-01-05T00:00:00\",\"2023-01-06T00:00:00\",\"2023-01-10T00:00:00\",\"2023-01-11T00:00:00\",\"2023-01-12T00:00:00\",\"2023-01-13T00:00:00\",\"2023-01-16T00:00:00\",\"2023-01-17T00:00:00\",\"2023-01-18T00:00:00\",\"2023-01-19T00:00:00\",\"2023-01-20T00:00:00\",\"2023-01-23T00:00:00\",\"2023-01-24T00:00:00\",\"2023-01-25T00:00:00\",\"2023-01-26T00:00:00\",\"2023-01-27T00:00:00\",\"2023-01-30T00:00:00\",\"2023-01-31T00:00:00\",\"2023-02-01T00:00:00\",\"2023-02-02T00:00:00\",\"2023-02-03T00:00:00\",\"2023-02-06T00:00:00\",\"2023-02-07T00:00:00\",\"2023-02-08T00:00:00\",\"2023-02-09T00:00:00\",\"2023-02-10T00:00:00\",\"2023-02-13T00:00:00\",\"2023-02-14T00:00:00\",\"2023-02-15T00:00:00\",\"2023-02-16T00:00:00\",\"2023-02-17T00:00:00\",\"2023-02-20T00:00:00\",\"2023-02-21T00:00:00\",\"2023-02-22T00:00:00\",\"2023-02-24T00:00:00\",\"2023-02-27T00:00:00\",\"2023-02-28T00:00:00\",\"2023-03-01T00:00:00\",\"2023-03-02T00:00:00\",\"2023-03-03T00:00:00\",\"2023-03-06T00:00:00\",\"2023-03-07T00:00:00\",\"2023-03-08T00:00:00\",\"2023-03-09T00:00:00\",\"2023-03-10T00:00:00\",\"2023-03-13T00:00:00\",\"2023-03-14T00:00:00\",\"2023-03-15T00:00:00\",\"2023-03-16T00:00:00\",\"2023-03-17T00:00:00\",\"2023-03-20T00:00:00\",\"2023-03-22T00:00:00\",\"2023-03-23T00:00:00\",\"2023-03-24T00:00:00\"],\"type\":\"candlestick\"}],                        {\"template\":{\"data\":{\"histogram2dcontour\":[{\"type\":\"histogram2dcontour\",\"colorbar\":{\"outlinewidth\":0,\"ticks\":\"\"},\"colorscale\":[[0.0,\"#0d0887\"],[0.1111111111111111,\"#46039f\"],[0.2222222222222222,\"#7201a8\"],[0.3333333333333333,\"#9c179e\"],[0.4444444444444444,\"#bd3786\"],[0.5555555555555556,\"#d8576b\"],[0.6666666666666666,\"#ed7953\"],[0.7777777777777778,\"#fb9f3a\"],[0.8888888888888888,\"#fdca26\"],[1.0,\"#f0f921\"]]}],\"choropleth\":[{\"type\":\"choropleth\",\"colorbar\":{\"outlinewidth\":0,\"ticks\":\"\"}}],\"histogram2d\":[{\"type\":\"histogram2d\",\"colorbar\":{\"outlinewidth\":0,\"ticks\":\"\"},\"colorscale\":[[0.0,\"#0d0887\"],[0.1111111111111111,\"#46039f\"],[0.2222222222222222,\"#7201a8\"],[0.3333333333333333,\"#9c179e\"],[0.4444444444444444,\"#bd3786\"],[0.5555555555555556,\"#d8576b\"],[0.6666666666666666,\"#ed7953\"],[0.7777777777777778,\"#fb9f3a\"],[0.8888888888888888,\"#fdca26\"],[1.0,\"#f0f921\"]]}],\"heatmap\":[{\"type\":\"heatmap\",\"colorbar\":{\"outlinewidth\":0,\"ticks\":\"\"},\"colorscale\":[[0.0,\"#0d0887\"],[0.1111111111111111,\"#46039f\"],[0.2222222222222222,\"#7201a8\"],[0.3333333333333333,\"#9c179e\"],[0.4444444444444444,\"#bd3786\"],[0.5555555555555556,\"#d8576b\"],[0.6666666666666666,\"#ed7953\"],[0.7777777777777778,\"#fb9f3a\"],[0.8888888888888888,\"#fdca26\"],[1.0,\"#f0f921\"]]}],\"heatmapgl\":[{\"type\":\"heatmapgl\",\"colorbar\":{\"outlinewidth\":0,\"ticks\":\"\"},\"colorscale\":[[0.0,\"#0d0887\"],[0.1111111111111111,\"#46039f\"],[0.2222222222222222,\"#7201a8\"],[0.3333333333333333,\"#9c179e\"],[0.4444444444444444,\"#bd3786\"],[0.5555555555555556,\"#d8576b\"],[0.6666666666666666,\"#ed7953\"],[0.7777777777777778,\"#fb9f3a\"],[0.8888888888888888,\"#fdca26\"],[1.0,\"#f0f921\"]]}],\"contourcarpet\":[{\"type\":\"contourcarpet\",\"colorbar\":{\"outlinewidth\":0,\"ticks\":\"\"}}],\"contour\":[{\"type\":\"contour\",\"colorbar\":{\"outlinewidth\":0,\"ticks\":\"\"},\"colorscale\":[[0.0,\"#0d0887\"],[0.1111111111111111,\"#46039f\"],[0.2222222222222222,\"#7201a8\"],[0.3333333333333333,\"#9c179e\"],[0.4444444444444444,\"#bd3786\"],[0.5555555555555556,\"#d8576b\"],[0.6666666666666666,\"#ed7953\"],[0.7777777777777778,\"#fb9f3a\"],[0.8888888888888888,\"#fdca26\"],[1.0,\"#f0f921\"]]}],\"surface\":[{\"type\":\"surface\",\"colorbar\":{\"outlinewidth\":0,\"ticks\":\"\"},\"colorscale\":[[0.0,\"#0d0887\"],[0.1111111111111111,\"#46039f\"],[0.2222222222222222,\"#7201a8\"],[0.3333333333333333,\"#9c179e\"],[0.4444444444444444,\"#bd3786\"],[0.5555555555555556,\"#d8576b\"],[0.6666666666666666,\"#ed7953\"],[0.7777777777777778,\"#fb9f3a\"],[0.8888888888888888,\"#fdca26\"],[1.0,\"#f0f921\"]]}],\"mesh3d\":[{\"type\":\"mesh3d\",\"colorbar\":{\"outlinewidth\":0,\"ticks\":\"\"}}],\"scatter\":[{\"fillpattern\":{\"fillmode\":\"overlay\",\"size\":10,\"solidity\":0.2},\"type\":\"scatter\"}],\"parcoords\":[{\"type\":\"parcoords\",\"line\":{\"colorbar\":{\"outlinewidth\":0,\"ticks\":\"\"}}}],\"scatterpolargl\":[{\"type\":\"scatterpolargl\",\"marker\":{\"colorbar\":{\"outlinewidth\":0,\"ticks\":\"\"}}}],\"bar\":[{\"error_x\":{\"color\":\"#2a3f5f\"},\"error_y\":{\"color\":\"#2a3f5f\"},\"marker\":{\"line\":{\"color\":\"#E5ECF6\",\"width\":0.5},\"pattern\":{\"fillmode\":\"overlay\",\"size\":10,\"solidity\":0.2}},\"type\":\"bar\"}],\"scattergeo\":[{\"type\":\"scattergeo\",\"marker\":{\"colorbar\":{\"outlinewidth\":0,\"ticks\":\"\"}}}],\"scatterpolar\":[{\"type\":\"scatterpolar\",\"marker\":{\"colorbar\":{\"outlinewidth\":0,\"ticks\":\"\"}}}],\"histogram\":[{\"marker\":{\"pattern\":{\"fillmode\":\"overlay\",\"size\":10,\"solidity\":0.2}},\"type\":\"histogram\"}],\"scattergl\":[{\"type\":\"scattergl\",\"marker\":{\"colorbar\":{\"outlinewidth\":0,\"ticks\":\"\"}}}],\"scatter3d\":[{\"type\":\"scatter3d\",\"line\":{\"colorbar\":{\"outlinewidth\":0,\"ticks\":\"\"}},\"marker\":{\"colorbar\":{\"outlinewidth\":0,\"ticks\":\"\"}}}],\"scattermapbox\":[{\"type\":\"scattermapbox\",\"marker\":{\"colorbar\":{\"outlinewidth\":0,\"ticks\":\"\"}}}],\"scatterternary\":[{\"type\":\"scatterternary\",\"marker\":{\"colorbar\":{\"outlinewidth\":0,\"ticks\":\"\"}}}],\"scattercarpet\":[{\"type\":\"scattercarpet\",\"marker\":{\"colorbar\":{\"outlinewidth\":0,\"ticks\":\"\"}}}],\"carpet\":[{\"aaxis\":{\"endlinecolor\":\"#2a3f5f\",\"gridcolor\":\"white\",\"linecolor\":\"white\",\"minorgridcolor\":\"white\",\"startlinecolor\":\"#2a3f5f\"},\"baxis\":{\"endlinecolor\":\"#2a3f5f\",\"gridcolor\":\"white\",\"linecolor\":\"white\",\"minorgridcolor\":\"white\",\"startlinecolor\":\"#2a3f5f\"},\"type\":\"carpet\"}],\"table\":[{\"cells\":{\"fill\":{\"color\":\"#EBF0F8\"},\"line\":{\"color\":\"white\"}},\"header\":{\"fill\":{\"color\":\"#C8D4E3\"},\"line\":{\"color\":\"white\"}},\"type\":\"table\"}],\"barpolar\":[{\"marker\":{\"line\":{\"color\":\"#E5ECF6\",\"width\":0.5},\"pattern\":{\"fillmode\":\"overlay\",\"size\":10,\"solidity\":0.2}},\"type\":\"barpolar\"}],\"pie\":[{\"automargin\":true,\"type\":\"pie\"}]},\"layout\":{\"autotypenumbers\":\"strict\",\"colorway\":[\"#636efa\",\"#EF553B\",\"#00cc96\",\"#ab63fa\",\"#FFA15A\",\"#19d3f3\",\"#FF6692\",\"#B6E880\",\"#FF97FF\",\"#FECB52\"],\"font\":{\"color\":\"#2a3f5f\"},\"hovermode\":\"closest\",\"hoverlabel\":{\"align\":\"left\"},\"paper_bgcolor\":\"white\",\"plot_bgcolor\":\"#E5ECF6\",\"polar\":{\"bgcolor\":\"#E5ECF6\",\"angularaxis\":{\"gridcolor\":\"white\",\"linecolor\":\"white\",\"ticks\":\"\"},\"radialaxis\":{\"gridcolor\":\"white\",\"linecolor\":\"white\",\"ticks\":\"\"}},\"ternary\":{\"bgcolor\":\"#E5ECF6\",\"aaxis\":{\"gridcolor\":\"white\",\"linecolor\":\"white\",\"ticks\":\"\"},\"baxis\":{\"gridcolor\":\"white\",\"linecolor\":\"white\",\"ticks\":\"\"},\"caxis\":{\"gridcolor\":\"white\",\"linecolor\":\"white\",\"ticks\":\"\"}},\"coloraxis\":{\"colorbar\":{\"outlinewidth\":0,\"ticks\":\"\"}},\"colorscale\":{\"sequential\":[[0.0,\"#0d0887\"],[0.1111111111111111,\"#46039f\"],[0.2222222222222222,\"#7201a8\"],[0.3333333333333333,\"#9c179e\"],[0.4444444444444444,\"#bd3786\"],[0.5555555555555556,\"#d8576b\"],[0.6666666666666666,\"#ed7953\"],[0.7777777777777778,\"#fb9f3a\"],[0.8888888888888888,\"#fdca26\"],[1.0,\"#f0f921\"]],\"sequentialminus\":[[0.0,\"#0d0887\"],[0.1111111111111111,\"#46039f\"],[0.2222222222222222,\"#7201a8\"],[0.3333333333333333,\"#9c179e\"],[0.4444444444444444,\"#bd3786\"],[0.5555555555555556,\"#d8576b\"],[0.6666666666666666,\"#ed7953\"],[0.7777777777777778,\"#fb9f3a\"],[0.8888888888888888,\"#fdca26\"],[1.0,\"#f0f921\"]],\"diverging\":[[0,\"#8e0152\"],[0.1,\"#c51b7d\"],[0.2,\"#de77ae\"],[0.3,\"#f1b6da\"],[0.4,\"#fde0ef\"],[0.5,\"#f7f7f7\"],[0.6,\"#e6f5d0\"],[0.7,\"#b8e186\"],[0.8,\"#7fbc41\"],[0.9,\"#4d9221\"],[1,\"#276419\"]]},\"xaxis\":{\"gridcolor\":\"white\",\"linecolor\":\"white\",\"ticks\":\"\",\"title\":{\"standoff\":15},\"zerolinecolor\":\"white\",\"automargin\":true,\"zerolinewidth\":2},\"yaxis\":{\"gridcolor\":\"white\",\"linecolor\":\"white\",\"ticks\":\"\",\"title\":{\"standoff\":15},\"zerolinecolor\":\"white\",\"automargin\":true,\"zerolinewidth\":2},\"scene\":{\"xaxis\":{\"backgroundcolor\":\"#E5ECF6\",\"gridcolor\":\"white\",\"linecolor\":\"white\",\"showbackground\":true,\"ticks\":\"\",\"zerolinecolor\":\"white\",\"gridwidth\":2},\"yaxis\":{\"backgroundcolor\":\"#E5ECF6\",\"gridcolor\":\"white\",\"linecolor\":\"white\",\"showbackground\":true,\"ticks\":\"\",\"zerolinecolor\":\"white\",\"gridwidth\":2},\"zaxis\":{\"backgroundcolor\":\"#E5ECF6\",\"gridcolor\":\"white\",\"linecolor\":\"white\",\"showbackground\":true,\"ticks\":\"\",\"zerolinecolor\":\"white\",\"gridwidth\":2}},\"shapedefaults\":{\"line\":{\"color\":\"#2a3f5f\"}},\"annotationdefaults\":{\"arrowcolor\":\"#2a3f5f\",\"arrowhead\":0,\"arrowwidth\":1},\"geo\":{\"bgcolor\":\"white\",\"landcolor\":\"#E5ECF6\",\"subunitcolor\":\"white\",\"showland\":true,\"showlakes\":true,\"lakecolor\":\"white\"},\"title\":{\"x\":0.05},\"mapbox\":{\"style\":\"light\"}}},\"title\":{\"text\":\"SoftBank(9984)\\u306e\\u65e5\\u8db3\\u30c1\\u30e3\\u30fc\\u30c8\",\"y\":0.9,\"x\":0.5},\"yaxis\":{\"title\":{\"text\":\"\\u682a\\u4fa1\"},\"separatethousands\":true},\"xaxis\":{\"title\":{\"text\":\"Date\"},\"tickformat\":\"%Y/%m/%d\"}},                        {\"responsive\": true}                    ).then(function(){\n",
              "                            \n",
              "var gd = document.getElementById('321ed8a4-a348-4293-88a6-089d9fd5e9f2');\n",
              "var x = new MutationObserver(function (mutations, observer) {{\n",
              "        var display = window.getComputedStyle(gd).display;\n",
              "        if (!display || display === 'none') {{\n",
              "            console.log([gd, 'removed!']);\n",
              "            Plotly.purge(gd);\n",
              "            observer.disconnect();\n",
              "        }}\n",
              "}});\n",
              "\n",
              "// Listen for the removal of the full notebook cells\n",
              "var notebookContainer = gd.closest('#notebook-container');\n",
              "if (notebookContainer) {{\n",
              "    x.observe(notebookContainer, {childList: true});\n",
              "}}\n",
              "\n",
              "// Listen for the clearing of the current output cell\n",
              "var outputEl = gd.closest('.output');\n",
              "if (outputEl) {{\n",
              "    x.observe(outputEl, {childList: true});\n",
              "}}\n",
              "\n",
              "                        })                };                            </script>        </div>\n",
              "</body>\n",
              "</html>"
            ]
          },
          "metadata": {}
        }
      ]
    },
    {
      "cell_type": "markdown",
      "source": [
        "## 営業日のみを表示する"
      ],
      "metadata": {
        "id": "HI6ad1pQWTQH"
      }
    },
    {
      "cell_type": "markdown",
      "source": [
        "特定のデータを非表示にする：randebreaks\n",
        "\n",
        "不要な日付を抽出"
      ],
      "metadata": {
        "id": "lzXHeJ1gWZzl"
      }
    },
    {
      "cell_type": "code",
      "source": [
        "#日付一覧を取得\n",
        "d_all = pd.date_range(start=df['datetime'].iloc[0],end=df['datetime'].iloc[-1])\n",
        "d_obs = [d.strftime(\"%Y-%m-%d\") for d in df['datetime']]\n",
        "d_breaks = [d for d in d_all.strftime(\"%Y-%m-%d\").tolist() if not d in d_obs]"
      ],
      "metadata": {
        "id": "PSpjnFeLQnhB"
      },
      "execution_count": 60,
      "outputs": []
    },
    {
      "cell_type": "code",
      "source": [
        "d_breaks[:10]"
      ],
      "metadata": {
        "colab": {
          "base_uri": "https://localhost:8080/"
        },
        "id": "KvPosl6qX6rC",
        "outputId": "394cfcc9-f02f-4691-f41d-2930e3ac7c49"
      },
      "execution_count": 61,
      "outputs": [
        {
          "output_type": "execute_result",
          "data": {
            "text/plain": [
              "['2022-04-02',\n",
              " '2022-04-03',\n",
              " '2022-04-09',\n",
              " '2022-04-10',\n",
              " '2022-04-16',\n",
              " '2022-04-17',\n",
              " '2022-04-23',\n",
              " '2022-04-24',\n",
              " '2022-04-29',\n",
              " '2022-04-30']"
            ]
          },
          "metadata": {},
          "execution_count": 61
        }
      ]
    },
    {
      "cell_type": "code",
      "source": [
        "fig.update_xaxes(rangebreaks=[dict(values=d_breaks)])\n",
        "fig.show()"
      ],
      "metadata": {
        "colab": {
          "base_uri": "https://localhost:8080/",
          "height": 542
        },
        "id": "veeHiC1AYLaS",
        "outputId": "d4c66f66-47f7-4186-d6e1-610b6a3c5f5b"
      },
      "execution_count": 63,
      "outputs": [
        {
          "output_type": "display_data",
          "data": {
            "text/html": [
              "<html>\n",
              "<head><meta charset=\"utf-8\" /></head>\n",
              "<body>\n",
              "    <div>            <script src=\"https://cdnjs.cloudflare.com/ajax/libs/mathjax/2.7.5/MathJax.js?config=TeX-AMS-MML_SVG\"></script><script type=\"text/javascript\">if (window.MathJax && window.MathJax.Hub && window.MathJax.Hub.Config) {window.MathJax.Hub.Config({SVG: {font: \"STIX-Web\"}});}</script>                <script type=\"text/javascript\">window.PlotlyConfig = {MathJaxConfig: 'local'};</script>\n",
              "        <script src=\"https://cdn.plot.ly/plotly-2.18.2.min.js\"></script>                <div id=\"24afca0a-7e77-4af1-bc98-bbde62d436b8\" class=\"plotly-graph-div\" style=\"height:525px; width:100%;\"></div>            <script type=\"text/javascript\">                                    window.PLOTLYENV=window.PLOTLYENV || {};                                    if (document.getElementById(\"24afca0a-7e77-4af1-bc98-bbde62d436b8\")) {                    Plotly.newPlot(                        \"24afca0a-7e77-4af1-bc98-bbde62d436b8\",                        [{\"close\":[5402.0,5504.0,5632.0,5559.0,5578.0,5785.0,5936.0,5769.0,5654.0,5683.0,5530.0,5482.0,5592.0,5762.0,5692.0,5653.0,5547.0,5627.0,5579.0,5411.0,4989.0,5195.0,5182.0,5269.0,5290.0,5170.0,4989.0,4900.0,4883.0,4491.0,5040.0,5110.0,5122.0,5137.0,5055.0,5232.0,5276.0,5191.0,5102.0,5164.0,5341.0,5358.0,5379.0,5300.0,5302.0,5418.0,5391.0,5430.0,5563.0,5659.0,5545.0,5165.0,5033.0,5028.0,5000.0,4788.0,4933.0,5075.0,5025.0,5103.0,5224.0,5418.0,5414.0,5325.0,5235.0,5131.0,5283.0,5378.0,5343.0,5388.0,5400.0,5446.0,5213.0,5338.0,5385.0,5296.0,5371.0,5500.0,5507.0,5482.0,5505.0,5681.0,5688.0,5656.0,5605.0,5504.0,5450.0,5496.0,5640.0,5653.0,5695.0,5295.0,5315.0,5610.0,5900.0,5749.0,5802.0,5815.0,5764.0,5739.0,5600.0,5616.0,5638.0,5705.0,5496.0,5588.0,5562.0,5510.0,5493.0,5497.0,5479.0,5368.0,5499.0,5500.0,5637.0,5654.0,5405.0,5438.0,5458.0,5517.0,5453.0,5343.0,5066.0,5030.0,4938.0,5031.0,4900.0,4981.0,5235.0,5355.0,5494.0,5504.0,5451.0,5500.0,5469.0,5650.0,5549.0,5537.0,5743.0,5780.0,5758.0,5733.0,5949.0,6031.0,6087.0,6026.0,6400.0,6574.0,6705.0,6557.0,6601.0,6929.0,7019.0,6833.0,6953.0,6068.0,6147.0,6328.0,6319.0,6075.0,6077.0,6068.0,6064.0,6079.0,6042.0,5959.0,5952.0,6047.0,6055.0,6068.0,5917.0,5967.0,6095.0,6168.0,6205.0,6213.0,6243.0,6291.0,6052.0,6018.0,5726.0,5800.0,5786.0,5757.0,5778.0,5796.0,5711.0,5618.0,5644.0,5640.0,5745.0,5816.0,5953.0,5969.0,6024.0,5924.0,5846.0,5955.0,6099.0,5875.0,5882.0,5984.0,6187.0,6183.0,6198.0,6191.0,6164.0,6144.0,6254.0,6318.0,6328.0,6332.0,6268.0,5948.0,5949.0,5878.0,5812.0,5850.0,5791.0,5893.0,5764.0,5729.0,5700.0,5576.0,5595.0,5469.0,5517.0,5520.0,5583.0,5556.0,5708.0,5727.0,5689.0,5700.0,5343.0,5254.0,5040.0,4969.0,4897.0,4891.0,4851.0,4987.0,4960.0,4972.0],\"high\":[5421.0,5555.0,5633.0,5750.0,5609.0,5794.0,5984.0,5847.0,5670.0,5742.0,5729.0,5559.0,5638.0,5774.0,5723.0,5656.0,5719.0,5655.0,5644.0,5472.0,5203.0,5267.0,5189.0,5291.0,5401.0,5213.0,5077.0,4929.0,4923.0,4680.0,5049.0,5200.0,5146.0,5277.0,5080.0,5249.0,5344.0,5299.0,5191.0,5239.0,5484.0,5423.0,5414.0,5410.0,5325.0,5484.0,5411.0,5516.0,5587.0,5849.0,5585.0,5353.0,5046.0,5127.0,5180.0,4860.0,4975.0,5126.0,5123.0,5145.0,5249.0,5427.0,5466.0,5357.0,5350.0,5296.0,5347.0,5440.0,5438.0,5437.0,5525.0,5600.0,5320.0,5354.0,5438.0,5430.0,5376.0,5542.0,5540.0,5522.0,5514.0,5740.0,5700.0,5810.0,5763.0,5539.0,5523.0,5578.0,5640.0,5690.0,5768.0,5595.0,5365.0,5727.0,5929.0,5900.0,5832.0,5844.0,5840.0,5758.0,5673.0,5664.0,5679.0,5814.0,5555.0,5594.0,5614.0,5531.0,5543.0,5523.0,5558.0,5471.0,5504.0,5535.0,5661.0,5698.0,5462.0,5479.0,5474.0,5562.0,5500.0,5409.0,5217.0,5112.0,5057.0,5058.0,4980.0,5004.0,5259.0,5372.0,5532.0,5554.0,5527.0,5581.0,5518.0,5737.0,5627.0,5665.0,5770.0,5813.0,5831.0,5993.0,5993.0,6067.0,6169.0,6135.0,6422.0,6665.0,6724.0,6589.0,6695.0,6997.0,7039.0,6979.0,7180.0,6453.0,6267.0,6400.0,6418.0,6363.0,6164.0,6160.0,6138.0,6130.0,6136.0,5985.0,5979.0,6203.0,6055.0,6075.0,6016.0,5975.0,6133.0,6221.0,6205.0,6302.0,6293.0,6291.0,6113.0,6047.0,6041.0,5828.0,5888.0,5785.0,5824.0,5870.0,5785.0,5656.0,5735.0,5666.0,5784.0,5867.0,6041.0,6083.0,6033.0,6036.0,5900.0,5999.0,6131.0,6009.0,5895.0,6008.0,6222.0,6218.0,6228.0,6280.0,6272.0,6164.0,6268.0,6377.0,6407.0,6379.0,6328.0,6049.0,5975.0,5959.0,5867.0,5898.0,5877.0,5904.0,5841.0,5758.0,5720.0,5644.0,5644.0,5537.0,5547.0,5572.0,5610.0,5653.0,5777.0,5816.0,5709.0,5743.0,5610.0,5284.0,5147.0,5119.0,4950.0,4939.0,4965.0,5015.0,4975.0,4987.0],\"low\":[5280.0,5433.0,5531.0,5542.0,5387.0,5640.0,5834.0,5727.0,5591.0,5625.0,5521.0,5427.0,5466.0,5672.0,5585.0,5600.0,5523.0,5518.0,5551.0,5358.0,4964.0,5048.0,4960.0,5167.0,5242.0,5102.0,4980.0,4721.0,4781.0,4491.0,4514.0,4962.0,4983.0,5082.0,4867.0,5080.0,5210.0,5136.0,5077.0,5134.0,5331.0,5315.0,5293.0,5280.0,5217.0,5381.0,5318.0,5418.0,5437.0,5650.0,5470.0,5165.0,4866.0,4975.0,4997.0,4708.0,4826.0,4978.0,5025.0,5030.0,5107.0,5234.0,5348.0,5283.0,5221.0,5115.0,5208.0,5322.0,5338.0,5324.0,5395.0,5428.0,5193.0,5244.0,5273.0,5268.0,5268.0,5451.0,5460.0,5469.0,5417.0,5490.0,5585.0,5641.0,5567.0,5383.0,5407.0,5490.0,5573.0,5587.0,5585.0,5236.0,5188.0,5455.0,5638.0,5741.0,5730.0,5725.0,5744.0,5688.0,5571.0,5574.0,5628.0,5697.0,5474.0,5532.0,5514.0,5427.0,5469.0,5462.0,5475.0,5321.0,5416.0,5428.0,5549.0,5628.0,5401.0,5368.0,5396.0,5486.0,5434.0,5281.0,5049.0,5020.0,4881.0,4960.0,4877.0,4788.0,5031.0,5231.0,5329.0,5347.0,5381.0,5408.0,5453.0,5550.0,5502.0,5430.0,5541.0,5627.0,5698.0,5723.0,5634.0,5943.0,5982.0,6004.0,6162.0,6431.0,6508.0,6402.0,6476.0,6650.0,6868.0,6803.0,6901.0,5956.0,6030.0,6090.0,6258.0,6044.0,5996.0,6029.0,6037.0,6048.0,6006.0,5888.0,5883.0,6035.0,5965.0,5971.0,5894.0,5849.0,5882.0,6099.0,6106.0,6206.0,6213.0,6222.0,6020.0,5998.0,5715.0,5685.0,5733.0,5690.0,5728.0,5785.0,5680.0,5576.0,5624.0,5533.0,5645.0,5717.0,5896.0,5948.0,5931.0,5896.0,5834.0,5853.0,5936.0,5851.0,5817.0,5937.0,6046.0,6125.0,6163.0,6182.0,6145.0,6118.0,6183.0,6297.0,6328.0,6318.0,6254.0,5820.0,5905.0,5858.0,5758.0,5797.0,5713.0,5783.0,5764.0,5710.0,5657.0,5574.0,5572.0,5456.0,5458.0,5484.0,5466.0,5503.0,5602.0,5715.0,5624.0,5657.0,5333.0,5155.0,5001.0,4922.0,4766.0,4852.0,4832.0,4912.0,4900.0,4910.0],\"open\":[5393.0,5488.0,5559.0,5595.0,5441.0,5650.0,5899.0,5810.0,5600.0,5702.0,5654.0,5481.0,5499.0,5692.0,5623.0,5616.0,5698.0,5558.0,5574.0,5430.0,5201.0,5093.0,4989.0,5202.0,5357.0,5114.0,5054.0,4864.0,4850.0,4675.0,4526.0,5040.0,4985.0,5178.0,4937.0,5121.0,5321.0,5276.0,5191.0,5136.0,5399.0,5417.0,5382.0,5389.0,5224.0,5400.0,5359.0,5483.0,5480.0,5699.0,5585.0,5322.0,4895.0,5046.0,5126.0,4803.0,4867.0,5025.0,5097.0,5049.0,5145.0,5291.0,5358.0,5340.0,5322.0,5235.0,5225.0,5350.0,5373.0,5363.0,5421.0,5500.0,5310.0,5260.0,5290.0,5361.0,5348.0,5490.0,5500.0,5503.0,5420.0,5497.0,5646.0,5751.0,5672.0,5425.0,5461.0,5548.0,5577.0,5678.0,5607.0,5595.0,5210.0,5509.0,5651.0,5899.0,5783.0,5740.0,5829.0,5696.0,5647.0,5585.0,5646.0,5748.0,5500.0,5552.0,5520.0,5523.0,5530.0,5493.0,5500.0,5462.0,5451.0,5510.0,5556.0,5652.0,5446.0,5432.0,5413.0,5501.0,5466.0,5399.0,5201.0,5111.0,5004.0,5056.0,4931.0,4856.0,5051.0,5280.0,5356.0,5383.0,5390.0,5415.0,5504.0,5555.0,5591.0,5652.0,5566.0,5681.0,5750.0,5834.0,5670.0,6000.0,6001.0,6020.0,6190.0,6440.0,6576.0,6550.0,6605.0,6655.0,6960.0,6850.0,7042.0,6353.0,6068.0,6090.0,6367.0,6355.0,6070.0,6100.0,6110.0,6064.0,6119.0,5982.0,5928.0,6196.0,6029.0,6070.0,5968.0,5862.0,5940.0,6099.0,6113.0,6267.0,6220.0,6232.0,6106.0,6015.0,6038.0,5750.0,5854.0,5700.0,5772.0,5797.0,5770.0,5650.0,5681.0,5555.0,5724.0,5727.0,5916.0,6038.0,5935.0,6024.0,5873.0,5902.0,5951.0,5999.0,5891.0,5982.0,6055.0,6130.0,6218.0,6257.0,6258.0,6163.0,6193.0,6313.0,6377.0,6379.0,6304.0,6016.0,5940.0,5950.0,5865.0,5879.0,5850.0,5840.0,5808.0,5755.0,5710.0,5600.0,5580.0,5530.0,5492.0,5485.0,5490.0,5650.0,5624.0,5735.0,5657.0,5726.0,5600.0,5248.0,5140.0,5113.0,4802.0,4876.0,4900.0,5000.0,4906.0,4950.0],\"showlegend\":false,\"x\":[\"2022-03-28T00:00:00\",\"2022-03-29T00:00:00\",\"2022-03-30T00:00:00\",\"2022-03-31T00:00:00\",\"2022-04-01T00:00:00\",\"2022-04-04T00:00:00\",\"2022-04-05T00:00:00\",\"2022-04-06T00:00:00\",\"2022-04-07T00:00:00\",\"2022-04-08T00:00:00\",\"2022-04-11T00:00:00\",\"2022-04-12T00:00:00\",\"2022-04-13T00:00:00\",\"2022-04-14T00:00:00\",\"2022-04-15T00:00:00\",\"2022-04-18T00:00:00\",\"2022-04-19T00:00:00\",\"2022-04-20T00:00:00\",\"2022-04-21T00:00:00\",\"2022-04-22T00:00:00\",\"2022-04-25T00:00:00\",\"2022-04-26T00:00:00\",\"2022-04-27T00:00:00\",\"2022-04-28T00:00:00\",\"2022-05-02T00:00:00\",\"2022-05-06T00:00:00\",\"2022-05-09T00:00:00\",\"2022-05-10T00:00:00\",\"2022-05-11T00:00:00\",\"2022-05-12T00:00:00\",\"2022-05-13T00:00:00\",\"2022-05-16T00:00:00\",\"2022-05-17T00:00:00\",\"2022-05-18T00:00:00\",\"2022-05-19T00:00:00\",\"2022-05-20T00:00:00\",\"2022-05-23T00:00:00\",\"2022-05-24T00:00:00\",\"2022-05-25T00:00:00\",\"2022-05-26T00:00:00\",\"2022-05-27T00:00:00\",\"2022-05-30T00:00:00\",\"2022-05-31T00:00:00\",\"2022-06-01T00:00:00\",\"2022-06-02T00:00:00\",\"2022-06-03T00:00:00\",\"2022-06-06T00:00:00\",\"2022-06-07T00:00:00\",\"2022-06-08T00:00:00\",\"2022-06-09T00:00:00\",\"2022-06-10T00:00:00\",\"2022-06-13T00:00:00\",\"2022-06-14T00:00:00\",\"2022-06-15T00:00:00\",\"2022-06-16T00:00:00\",\"2022-06-17T00:00:00\",\"2022-06-20T00:00:00\",\"2022-06-21T00:00:00\",\"2022-06-22T00:00:00\",\"2022-06-23T00:00:00\",\"2022-06-24T00:00:00\",\"2022-06-27T00:00:00\",\"2022-06-28T00:00:00\",\"2022-06-29T00:00:00\",\"2022-06-30T00:00:00\",\"2022-07-01T00:00:00\",\"2022-07-04T00:00:00\",\"2022-07-05T00:00:00\",\"2022-07-06T00:00:00\",\"2022-07-07T00:00:00\",\"2022-07-08T00:00:00\",\"2022-07-11T00:00:00\",\"2022-07-12T00:00:00\",\"2022-07-13T00:00:00\",\"2022-07-14T00:00:00\",\"2022-07-15T00:00:00\",\"2022-07-19T00:00:00\",\"2022-07-20T00:00:00\",\"2022-07-21T00:00:00\",\"2022-07-22T00:00:00\",\"2022-07-25T00:00:00\",\"2022-07-26T00:00:00\",\"2022-07-27T00:00:00\",\"2022-07-28T00:00:00\",\"2022-07-29T00:00:00\",\"2022-08-01T00:00:00\",\"2022-08-02T00:00:00\",\"2022-08-03T00:00:00\",\"2022-08-04T00:00:00\",\"2022-08-05T00:00:00\",\"2022-08-08T00:00:00\",\"2022-08-09T00:00:00\",\"2022-08-10T00:00:00\",\"2022-08-12T00:00:00\",\"2022-08-15T00:00:00\",\"2022-08-16T00:00:00\",\"2022-08-17T00:00:00\",\"2022-08-18T00:00:00\",\"2022-08-19T00:00:00\",\"2022-08-22T00:00:00\",\"2022-08-23T00:00:00\",\"2022-08-24T00:00:00\",\"2022-08-25T00:00:00\",\"2022-08-26T00:00:00\",\"2022-08-29T00:00:00\",\"2022-08-30T00:00:00\",\"2022-08-31T00:00:00\",\"2022-09-01T00:00:00\",\"2022-09-02T00:00:00\",\"2022-09-05T00:00:00\",\"2022-09-06T00:00:00\",\"2022-09-07T00:00:00\",\"2022-09-08T00:00:00\",\"2022-09-09T00:00:00\",\"2022-09-12T00:00:00\",\"2022-09-13T00:00:00\",\"2022-09-14T00:00:00\",\"2022-09-15T00:00:00\",\"2022-09-16T00:00:00\",\"2022-09-20T00:00:00\",\"2022-09-21T00:00:00\",\"2022-09-22T00:00:00\",\"2022-09-26T00:00:00\",\"2022-09-27T00:00:00\",\"2022-09-28T00:00:00\",\"2022-09-29T00:00:00\",\"2022-09-30T00:00:00\",\"2022-10-03T00:00:00\",\"2022-10-04T00:00:00\",\"2022-10-05T00:00:00\",\"2022-10-06T00:00:00\",\"2022-10-07T00:00:00\",\"2022-10-11T00:00:00\",\"2022-10-12T00:00:00\",\"2022-10-13T00:00:00\",\"2022-10-14T00:00:00\",\"2022-10-17T00:00:00\",\"2022-10-18T00:00:00\",\"2022-10-19T00:00:00\",\"2022-10-20T00:00:00\",\"2022-10-21T00:00:00\",\"2022-10-24T00:00:00\",\"2022-10-25T00:00:00\",\"2022-10-26T00:00:00\",\"2022-10-27T00:00:00\",\"2022-10-28T00:00:00\",\"2022-10-31T00:00:00\",\"2022-11-01T00:00:00\",\"2022-11-02T00:00:00\",\"2022-11-04T00:00:00\",\"2022-11-07T00:00:00\",\"2022-11-08T00:00:00\",\"2022-11-09T00:00:00\",\"2022-11-10T00:00:00\",\"2022-11-11T00:00:00\",\"2022-11-14T00:00:00\",\"2022-11-15T00:00:00\",\"2022-11-16T00:00:00\",\"2022-11-17T00:00:00\",\"2022-11-18T00:00:00\",\"2022-11-21T00:00:00\",\"2022-11-22T00:00:00\",\"2022-11-24T00:00:00\",\"2022-11-25T00:00:00\",\"2022-11-28T00:00:00\",\"2022-11-29T00:00:00\",\"2022-11-30T00:00:00\",\"2022-12-01T00:00:00\",\"2022-12-02T00:00:00\",\"2022-12-05T00:00:00\",\"2022-12-06T00:00:00\",\"2022-12-07T00:00:00\",\"2022-12-08T00:00:00\",\"2022-12-09T00:00:00\",\"2022-12-12T00:00:00\",\"2022-12-13T00:00:00\",\"2022-12-14T00:00:00\",\"2022-12-15T00:00:00\",\"2022-12-16T00:00:00\",\"2022-12-19T00:00:00\",\"2022-12-20T00:00:00\",\"2022-12-21T00:00:00\",\"2022-12-22T00:00:00\",\"2022-12-23T00:00:00\",\"2022-12-26T00:00:00\",\"2022-12-27T00:00:00\",\"2022-12-28T00:00:00\",\"2022-12-29T00:00:00\",\"2022-12-30T00:00:00\",\"2023-01-04T00:00:00\",\"2023-01-05T00:00:00\",\"2023-01-06T00:00:00\",\"2023-01-10T00:00:00\",\"2023-01-11T00:00:00\",\"2023-01-12T00:00:00\",\"2023-01-13T00:00:00\",\"2023-01-16T00:00:00\",\"2023-01-17T00:00:00\",\"2023-01-18T00:00:00\",\"2023-01-19T00:00:00\",\"2023-01-20T00:00:00\",\"2023-01-23T00:00:00\",\"2023-01-24T00:00:00\",\"2023-01-25T00:00:00\",\"2023-01-26T00:00:00\",\"2023-01-27T00:00:00\",\"2023-01-30T00:00:00\",\"2023-01-31T00:00:00\",\"2023-02-01T00:00:00\",\"2023-02-02T00:00:00\",\"2023-02-03T00:00:00\",\"2023-02-06T00:00:00\",\"2023-02-07T00:00:00\",\"2023-02-08T00:00:00\",\"2023-02-09T00:00:00\",\"2023-02-10T00:00:00\",\"2023-02-13T00:00:00\",\"2023-02-14T00:00:00\",\"2023-02-15T00:00:00\",\"2023-02-16T00:00:00\",\"2023-02-17T00:00:00\",\"2023-02-20T00:00:00\",\"2023-02-21T00:00:00\",\"2023-02-22T00:00:00\",\"2023-02-24T00:00:00\",\"2023-02-27T00:00:00\",\"2023-02-28T00:00:00\",\"2023-03-01T00:00:00\",\"2023-03-02T00:00:00\",\"2023-03-03T00:00:00\",\"2023-03-06T00:00:00\",\"2023-03-07T00:00:00\",\"2023-03-08T00:00:00\",\"2023-03-09T00:00:00\",\"2023-03-10T00:00:00\",\"2023-03-13T00:00:00\",\"2023-03-14T00:00:00\",\"2023-03-15T00:00:00\",\"2023-03-16T00:00:00\",\"2023-03-17T00:00:00\",\"2023-03-20T00:00:00\",\"2023-03-22T00:00:00\",\"2023-03-23T00:00:00\",\"2023-03-24T00:00:00\"],\"type\":\"candlestick\"}],                        {\"template\":{\"data\":{\"histogram2dcontour\":[{\"type\":\"histogram2dcontour\",\"colorbar\":{\"outlinewidth\":0,\"ticks\":\"\"},\"colorscale\":[[0.0,\"#0d0887\"],[0.1111111111111111,\"#46039f\"],[0.2222222222222222,\"#7201a8\"],[0.3333333333333333,\"#9c179e\"],[0.4444444444444444,\"#bd3786\"],[0.5555555555555556,\"#d8576b\"],[0.6666666666666666,\"#ed7953\"],[0.7777777777777778,\"#fb9f3a\"],[0.8888888888888888,\"#fdca26\"],[1.0,\"#f0f921\"]]}],\"choropleth\":[{\"type\":\"choropleth\",\"colorbar\":{\"outlinewidth\":0,\"ticks\":\"\"}}],\"histogram2d\":[{\"type\":\"histogram2d\",\"colorbar\":{\"outlinewidth\":0,\"ticks\":\"\"},\"colorscale\":[[0.0,\"#0d0887\"],[0.1111111111111111,\"#46039f\"],[0.2222222222222222,\"#7201a8\"],[0.3333333333333333,\"#9c179e\"],[0.4444444444444444,\"#bd3786\"],[0.5555555555555556,\"#d8576b\"],[0.6666666666666666,\"#ed7953\"],[0.7777777777777778,\"#fb9f3a\"],[0.8888888888888888,\"#fdca26\"],[1.0,\"#f0f921\"]]}],\"heatmap\":[{\"type\":\"heatmap\",\"colorbar\":{\"outlinewidth\":0,\"ticks\":\"\"},\"colorscale\":[[0.0,\"#0d0887\"],[0.1111111111111111,\"#46039f\"],[0.2222222222222222,\"#7201a8\"],[0.3333333333333333,\"#9c179e\"],[0.4444444444444444,\"#bd3786\"],[0.5555555555555556,\"#d8576b\"],[0.6666666666666666,\"#ed7953\"],[0.7777777777777778,\"#fb9f3a\"],[0.8888888888888888,\"#fdca26\"],[1.0,\"#f0f921\"]]}],\"heatmapgl\":[{\"type\":\"heatmapgl\",\"colorbar\":{\"outlinewidth\":0,\"ticks\":\"\"},\"colorscale\":[[0.0,\"#0d0887\"],[0.1111111111111111,\"#46039f\"],[0.2222222222222222,\"#7201a8\"],[0.3333333333333333,\"#9c179e\"],[0.4444444444444444,\"#bd3786\"],[0.5555555555555556,\"#d8576b\"],[0.6666666666666666,\"#ed7953\"],[0.7777777777777778,\"#fb9f3a\"],[0.8888888888888888,\"#fdca26\"],[1.0,\"#f0f921\"]]}],\"contourcarpet\":[{\"type\":\"contourcarpet\",\"colorbar\":{\"outlinewidth\":0,\"ticks\":\"\"}}],\"contour\":[{\"type\":\"contour\",\"colorbar\":{\"outlinewidth\":0,\"ticks\":\"\"},\"colorscale\":[[0.0,\"#0d0887\"],[0.1111111111111111,\"#46039f\"],[0.2222222222222222,\"#7201a8\"],[0.3333333333333333,\"#9c179e\"],[0.4444444444444444,\"#bd3786\"],[0.5555555555555556,\"#d8576b\"],[0.6666666666666666,\"#ed7953\"],[0.7777777777777778,\"#fb9f3a\"],[0.8888888888888888,\"#fdca26\"],[1.0,\"#f0f921\"]]}],\"surface\":[{\"type\":\"surface\",\"colorbar\":{\"outlinewidth\":0,\"ticks\":\"\"},\"colorscale\":[[0.0,\"#0d0887\"],[0.1111111111111111,\"#46039f\"],[0.2222222222222222,\"#7201a8\"],[0.3333333333333333,\"#9c179e\"],[0.4444444444444444,\"#bd3786\"],[0.5555555555555556,\"#d8576b\"],[0.6666666666666666,\"#ed7953\"],[0.7777777777777778,\"#fb9f3a\"],[0.8888888888888888,\"#fdca26\"],[1.0,\"#f0f921\"]]}],\"mesh3d\":[{\"type\":\"mesh3d\",\"colorbar\":{\"outlinewidth\":0,\"ticks\":\"\"}}],\"scatter\":[{\"fillpattern\":{\"fillmode\":\"overlay\",\"size\":10,\"solidity\":0.2},\"type\":\"scatter\"}],\"parcoords\":[{\"type\":\"parcoords\",\"line\":{\"colorbar\":{\"outlinewidth\":0,\"ticks\":\"\"}}}],\"scatterpolargl\":[{\"type\":\"scatterpolargl\",\"marker\":{\"colorbar\":{\"outlinewidth\":0,\"ticks\":\"\"}}}],\"bar\":[{\"error_x\":{\"color\":\"#2a3f5f\"},\"error_y\":{\"color\":\"#2a3f5f\"},\"marker\":{\"line\":{\"color\":\"#E5ECF6\",\"width\":0.5},\"pattern\":{\"fillmode\":\"overlay\",\"size\":10,\"solidity\":0.2}},\"type\":\"bar\"}],\"scattergeo\":[{\"type\":\"scattergeo\",\"marker\":{\"colorbar\":{\"outlinewidth\":0,\"ticks\":\"\"}}}],\"scatterpolar\":[{\"type\":\"scatterpolar\",\"marker\":{\"colorbar\":{\"outlinewidth\":0,\"ticks\":\"\"}}}],\"histogram\":[{\"marker\":{\"pattern\":{\"fillmode\":\"overlay\",\"size\":10,\"solidity\":0.2}},\"type\":\"histogram\"}],\"scattergl\":[{\"type\":\"scattergl\",\"marker\":{\"colorbar\":{\"outlinewidth\":0,\"ticks\":\"\"}}}],\"scatter3d\":[{\"type\":\"scatter3d\",\"line\":{\"colorbar\":{\"outlinewidth\":0,\"ticks\":\"\"}},\"marker\":{\"colorbar\":{\"outlinewidth\":0,\"ticks\":\"\"}}}],\"scattermapbox\":[{\"type\":\"scattermapbox\",\"marker\":{\"colorbar\":{\"outlinewidth\":0,\"ticks\":\"\"}}}],\"scatterternary\":[{\"type\":\"scatterternary\",\"marker\":{\"colorbar\":{\"outlinewidth\":0,\"ticks\":\"\"}}}],\"scattercarpet\":[{\"type\":\"scattercarpet\",\"marker\":{\"colorbar\":{\"outlinewidth\":0,\"ticks\":\"\"}}}],\"carpet\":[{\"aaxis\":{\"endlinecolor\":\"#2a3f5f\",\"gridcolor\":\"white\",\"linecolor\":\"white\",\"minorgridcolor\":\"white\",\"startlinecolor\":\"#2a3f5f\"},\"baxis\":{\"endlinecolor\":\"#2a3f5f\",\"gridcolor\":\"white\",\"linecolor\":\"white\",\"minorgridcolor\":\"white\",\"startlinecolor\":\"#2a3f5f\"},\"type\":\"carpet\"}],\"table\":[{\"cells\":{\"fill\":{\"color\":\"#EBF0F8\"},\"line\":{\"color\":\"white\"}},\"header\":{\"fill\":{\"color\":\"#C8D4E3\"},\"line\":{\"color\":\"white\"}},\"type\":\"table\"}],\"barpolar\":[{\"marker\":{\"line\":{\"color\":\"#E5ECF6\",\"width\":0.5},\"pattern\":{\"fillmode\":\"overlay\",\"size\":10,\"solidity\":0.2}},\"type\":\"barpolar\"}],\"pie\":[{\"automargin\":true,\"type\":\"pie\"}]},\"layout\":{\"autotypenumbers\":\"strict\",\"colorway\":[\"#636efa\",\"#EF553B\",\"#00cc96\",\"#ab63fa\",\"#FFA15A\",\"#19d3f3\",\"#FF6692\",\"#B6E880\",\"#FF97FF\",\"#FECB52\"],\"font\":{\"color\":\"#2a3f5f\"},\"hovermode\":\"closest\",\"hoverlabel\":{\"align\":\"left\"},\"paper_bgcolor\":\"white\",\"plot_bgcolor\":\"#E5ECF6\",\"polar\":{\"bgcolor\":\"#E5ECF6\",\"angularaxis\":{\"gridcolor\":\"white\",\"linecolor\":\"white\",\"ticks\":\"\"},\"radialaxis\":{\"gridcolor\":\"white\",\"linecolor\":\"white\",\"ticks\":\"\"}},\"ternary\":{\"bgcolor\":\"#E5ECF6\",\"aaxis\":{\"gridcolor\":\"white\",\"linecolor\":\"white\",\"ticks\":\"\"},\"baxis\":{\"gridcolor\":\"white\",\"linecolor\":\"white\",\"ticks\":\"\"},\"caxis\":{\"gridcolor\":\"white\",\"linecolor\":\"white\",\"ticks\":\"\"}},\"coloraxis\":{\"colorbar\":{\"outlinewidth\":0,\"ticks\":\"\"}},\"colorscale\":{\"sequential\":[[0.0,\"#0d0887\"],[0.1111111111111111,\"#46039f\"],[0.2222222222222222,\"#7201a8\"],[0.3333333333333333,\"#9c179e\"],[0.4444444444444444,\"#bd3786\"],[0.5555555555555556,\"#d8576b\"],[0.6666666666666666,\"#ed7953\"],[0.7777777777777778,\"#fb9f3a\"],[0.8888888888888888,\"#fdca26\"],[1.0,\"#f0f921\"]],\"sequentialminus\":[[0.0,\"#0d0887\"],[0.1111111111111111,\"#46039f\"],[0.2222222222222222,\"#7201a8\"],[0.3333333333333333,\"#9c179e\"],[0.4444444444444444,\"#bd3786\"],[0.5555555555555556,\"#d8576b\"],[0.6666666666666666,\"#ed7953\"],[0.7777777777777778,\"#fb9f3a\"],[0.8888888888888888,\"#fdca26\"],[1.0,\"#f0f921\"]],\"diverging\":[[0,\"#8e0152\"],[0.1,\"#c51b7d\"],[0.2,\"#de77ae\"],[0.3,\"#f1b6da\"],[0.4,\"#fde0ef\"],[0.5,\"#f7f7f7\"],[0.6,\"#e6f5d0\"],[0.7,\"#b8e186\"],[0.8,\"#7fbc41\"],[0.9,\"#4d9221\"],[1,\"#276419\"]]},\"xaxis\":{\"gridcolor\":\"white\",\"linecolor\":\"white\",\"ticks\":\"\",\"title\":{\"standoff\":15},\"zerolinecolor\":\"white\",\"automargin\":true,\"zerolinewidth\":2},\"yaxis\":{\"gridcolor\":\"white\",\"linecolor\":\"white\",\"ticks\":\"\",\"title\":{\"standoff\":15},\"zerolinecolor\":\"white\",\"automargin\":true,\"zerolinewidth\":2},\"scene\":{\"xaxis\":{\"backgroundcolor\":\"#E5ECF6\",\"gridcolor\":\"white\",\"linecolor\":\"white\",\"showbackground\":true,\"ticks\":\"\",\"zerolinecolor\":\"white\",\"gridwidth\":2},\"yaxis\":{\"backgroundcolor\":\"#E5ECF6\",\"gridcolor\":\"white\",\"linecolor\":\"white\",\"showbackground\":true,\"ticks\":\"\",\"zerolinecolor\":\"white\",\"gridwidth\":2},\"zaxis\":{\"backgroundcolor\":\"#E5ECF6\",\"gridcolor\":\"white\",\"linecolor\":\"white\",\"showbackground\":true,\"ticks\":\"\",\"zerolinecolor\":\"white\",\"gridwidth\":2}},\"shapedefaults\":{\"line\":{\"color\":\"#2a3f5f\"}},\"annotationdefaults\":{\"arrowcolor\":\"#2a3f5f\",\"arrowhead\":0,\"arrowwidth\":1},\"geo\":{\"bgcolor\":\"white\",\"landcolor\":\"#E5ECF6\",\"subunitcolor\":\"white\",\"showland\":true,\"showlakes\":true,\"lakecolor\":\"white\"},\"title\":{\"x\":0.05},\"mapbox\":{\"style\":\"light\"}}},\"title\":{\"text\":\"SoftBank(9984)\\u306e\\u65e5\\u8db3\\u30c1\\u30e3\\u30fc\\u30c8\",\"y\":0.9,\"x\":0.5},\"yaxis\":{\"title\":{\"text\":\"\\u682a\\u4fa1\"},\"separatethousands\":true},\"xaxis\":{\"title\":{\"text\":\"Date\"},\"tickformat\":\"%Y/%m/%d\",\"rangebreaks\":[{\"values\":[\"2022-04-02\",\"2022-04-03\",\"2022-04-09\",\"2022-04-10\",\"2022-04-16\",\"2022-04-17\",\"2022-04-23\",\"2022-04-24\",\"2022-04-29\",\"2022-04-30\",\"2022-05-01\",\"2022-05-03\",\"2022-05-04\",\"2022-05-05\",\"2022-05-07\",\"2022-05-08\",\"2022-05-14\",\"2022-05-15\",\"2022-05-21\",\"2022-05-22\",\"2022-05-28\",\"2022-05-29\",\"2022-06-04\",\"2022-06-05\",\"2022-06-11\",\"2022-06-12\",\"2022-06-18\",\"2022-06-19\",\"2022-06-25\",\"2022-06-26\",\"2022-07-02\",\"2022-07-03\",\"2022-07-09\",\"2022-07-10\",\"2022-07-16\",\"2022-07-17\",\"2022-07-18\",\"2022-07-23\",\"2022-07-24\",\"2022-07-30\",\"2022-07-31\",\"2022-08-06\",\"2022-08-07\",\"2022-08-11\",\"2022-08-13\",\"2022-08-14\",\"2022-08-20\",\"2022-08-21\",\"2022-08-27\",\"2022-08-28\",\"2022-09-03\",\"2022-09-04\",\"2022-09-10\",\"2022-09-11\",\"2022-09-17\",\"2022-09-18\",\"2022-09-19\",\"2022-09-23\",\"2022-09-24\",\"2022-09-25\",\"2022-10-01\",\"2022-10-02\",\"2022-10-08\",\"2022-10-09\",\"2022-10-10\",\"2022-10-15\",\"2022-10-16\",\"2022-10-22\",\"2022-10-23\",\"2022-10-29\",\"2022-10-30\",\"2022-11-03\",\"2022-11-05\",\"2022-11-06\",\"2022-11-12\",\"2022-11-13\",\"2022-11-19\",\"2022-11-20\",\"2022-11-23\",\"2022-11-26\",\"2022-11-27\",\"2022-12-03\",\"2022-12-04\",\"2022-12-10\",\"2022-12-11\",\"2022-12-17\",\"2022-12-18\",\"2022-12-24\",\"2022-12-25\",\"2022-12-31\",\"2023-01-01\",\"2023-01-02\",\"2023-01-03\",\"2023-01-07\",\"2023-01-08\",\"2023-01-09\",\"2023-01-14\",\"2023-01-15\",\"2023-01-21\",\"2023-01-22\",\"2023-01-28\",\"2023-01-29\",\"2023-02-04\",\"2023-02-05\",\"2023-02-11\",\"2023-02-12\",\"2023-02-18\",\"2023-02-19\",\"2023-02-23\",\"2023-02-25\",\"2023-02-26\",\"2023-03-04\",\"2023-03-05\",\"2023-03-11\",\"2023-03-12\",\"2023-03-18\",\"2023-03-19\",\"2023-03-21\"]}]}},                        {\"responsive\": true}                    ).then(function(){\n",
              "                            \n",
              "var gd = document.getElementById('24afca0a-7e77-4af1-bc98-bbde62d436b8');\n",
              "var x = new MutationObserver(function (mutations, observer) {{\n",
              "        var display = window.getComputedStyle(gd).display;\n",
              "        if (!display || display === 'none') {{\n",
              "            console.log([gd, 'removed!']);\n",
              "            Plotly.purge(gd);\n",
              "            observer.disconnect();\n",
              "        }}\n",
              "}});\n",
              "\n",
              "// Listen for the removal of the full notebook cells\n",
              "var notebookContainer = gd.closest('#notebook-container');\n",
              "if (notebookContainer) {{\n",
              "    x.observe(notebookContainer, {childList: true});\n",
              "}}\n",
              "\n",
              "// Listen for the clearing of the current output cell\n",
              "var outputEl = gd.closest('.output');\n",
              "if (outputEl) {{\n",
              "    x.observe(outputEl, {childList: true});\n",
              "}}\n",
              "\n",
              "                        })                };                            </script>        </div>\n",
              "</body>\n",
              "</html>"
            ]
          },
          "metadata": {}
        }
      ]
    },
    {
      "cell_type": "markdown",
      "source": [
        "営業日のみを表示することができ、不自然な空白表示がなくなった"
      ],
      "metadata": {
        "id": "HlJhIkbla1Pt"
      }
    },
    {
      "cell_type": "markdown",
      "source": [
        "# **複数チャートを組み合わせる**"
      ],
      "metadata": {
        "id": "K3nccnNUbA3X"
      }
    },
    {
      "cell_type": "markdown",
      "source": [
        "出来高や移動平均線、いろんなテクニカル指標を追加する"
      ],
      "metadata": {
        "id": "IbSU7i7KbQ2b"
      }
    },
    {
      "cell_type": "markdown",
      "source": [
        "## plotly.subplot.make_subplotsで複数チャートを描く"
      ],
      "metadata": {
        "id": "RECODrmlbbjg"
      }
    },
    {
      "cell_type": "markdown",
      "source": [
        "基本的な使い方としては、subplotsでfigを定義し、fig.add_traceで各チャートにグラフを追加していく流れになる"
      ],
      "metadata": {
        "id": "UPYFWFQAbmpU"
      }
    },
    {
      "cell_type": "markdown",
      "source": [
        "## 出来高を追加する"
      ],
      "metadata": {
        "id": "BUX9hKQAb6Ls"
      }
    },
    {
      "cell_type": "markdown",
      "source": [
        "make_subplotsで、rows（行）とcols（列）を指定し、shared_xaxes=Trueとしてx軸を共有するように設定します。\n",
        "\n",
        "x_titleでxのラベル名を設定しています。\n",
        "\n",
        " \n",
        "\n",
        "vertical_spacingはチャート間の隙間の大きさで0〜1で指定します。\n",
        "\n",
        "この設定は好みですが、僕はだいたい0.05にすることが多いです。適宜調整してみてください。\n",
        "\n",
        " \n",
        "\n",
        "row_widthではrow(行）の高さを指定します。x_titleはその名の通り、x軸名です。\n",
        "\n",
        "y軸名は2つあるので、fig.update_yaxesを使ってそれぞれ指定します。\n",
        "\n",
        " \n",
        "\n",
        "add_traceでrowとcolを指定することで、任意の場所にチャートを描くことができます。\n",
        "\n",
        "1行目にローソク足チャート、2行目に出来高の棒グラフを描けばOKです。"
      ],
      "metadata": {
        "id": "KRxhh9Iud-TU"
      }
    },
    {
      "cell_type": "code",
      "source": [
        "import plotly.graph_objects as go\n",
        "from plotly.subplots import make_subplots\n",
        " \n",
        "# figを定義\n",
        "fig = make_subplots(rows=2, cols=1, shared_xaxes=True, vertical_spacing=0.05, row_width=[0.2, 0.7], x_title='Date')\n",
        " \n",
        "# Candlestick \n",
        "fig.add_trace(\n",
        "    go.Candlestick(x=df['datetime'], open=df['open'], high=df['high'], low=df['low'], close=df['close'], showlegend=False),\n",
        "    row=1, col=1\n",
        ")\n",
        " \n",
        "# Volume\n",
        "fig.add_trace(\n",
        "    go.Bar(x=df['datetime'], y=df[\"volume\"], showlegend=False),\n",
        "    row=2, col=1\n",
        ")\n",
        " \n",
        "# Layout\n",
        "fig.update_layout(\n",
        "    title={\n",
        "        'text': 'SoftBank(9984)の日足チャート',\n",
        "        'y':0.9,\n",
        "        'x':0.5,\n",
        "    },\n",
        ")\n",
        "\n",
        "fig.update_xaxes(\n",
        "    rangebreaks=[dict(values=d_breaks)], # 非営業日を非表示設定\n",
        "    tickformat='%Y/%m/%d' # 日付のフォーマット変更\n",
        ")\n",
        " \n",
        "# ラベル名の設定とフォーマット変更（カンマ区切り）\n",
        "fig.update_yaxes(separatethousands=True, title_text='株価', row=1, col=1) \n",
        "fig.update_yaxes(title_text='出来高', row=2, col=1)\n",
        " \n",
        "fig.update(layout_xaxis_rangeslider_visible=False) #追加\n",
        "\n",
        "fig.show()"
      ],
      "metadata": {
        "colab": {
          "base_uri": "https://localhost:8080/",
          "height": 542
        },
        "id": "3-D_ikiMaV-T",
        "outputId": "42843ff4-162b-42dd-cabf-ff7a4a8d4e77"
      },
      "execution_count": 68,
      "outputs": [
        {
          "output_type": "display_data",
          "data": {
            "text/html": [
              "<html>\n",
              "<head><meta charset=\"utf-8\" /></head>\n",
              "<body>\n",
              "    <div>            <script src=\"https://cdnjs.cloudflare.com/ajax/libs/mathjax/2.7.5/MathJax.js?config=TeX-AMS-MML_SVG\"></script><script type=\"text/javascript\">if (window.MathJax && window.MathJax.Hub && window.MathJax.Hub.Config) {window.MathJax.Hub.Config({SVG: {font: \"STIX-Web\"}});}</script>                <script type=\"text/javascript\">window.PlotlyConfig = {MathJaxConfig: 'local'};</script>\n",
              "        <script src=\"https://cdn.plot.ly/plotly-2.18.2.min.js\"></script>                <div id=\"c64401ff-1a89-4077-8c43-6de8b7159127\" class=\"plotly-graph-div\" style=\"height:525px; width:100%;\"></div>            <script type=\"text/javascript\">                                    window.PLOTLYENV=window.PLOTLYENV || {};                                    if (document.getElementById(\"c64401ff-1a89-4077-8c43-6de8b7159127\")) {                    Plotly.newPlot(                        \"c64401ff-1a89-4077-8c43-6de8b7159127\",                        [{\"close\":[5402.0,5504.0,5632.0,5559.0,5578.0,5785.0,5936.0,5769.0,5654.0,5683.0,5530.0,5482.0,5592.0,5762.0,5692.0,5653.0,5547.0,5627.0,5579.0,5411.0,4989.0,5195.0,5182.0,5269.0,5290.0,5170.0,4989.0,4900.0,4883.0,4491.0,5040.0,5110.0,5122.0,5137.0,5055.0,5232.0,5276.0,5191.0,5102.0,5164.0,5341.0,5358.0,5379.0,5300.0,5302.0,5418.0,5391.0,5430.0,5563.0,5659.0,5545.0,5165.0,5033.0,5028.0,5000.0,4788.0,4933.0,5075.0,5025.0,5103.0,5224.0,5418.0,5414.0,5325.0,5235.0,5131.0,5283.0,5378.0,5343.0,5388.0,5400.0,5446.0,5213.0,5338.0,5385.0,5296.0,5371.0,5500.0,5507.0,5482.0,5505.0,5681.0,5688.0,5656.0,5605.0,5504.0,5450.0,5496.0,5640.0,5653.0,5695.0,5295.0,5315.0,5610.0,5900.0,5749.0,5802.0,5815.0,5764.0,5739.0,5600.0,5616.0,5638.0,5705.0,5496.0,5588.0,5562.0,5510.0,5493.0,5497.0,5479.0,5368.0,5499.0,5500.0,5637.0,5654.0,5405.0,5438.0,5458.0,5517.0,5453.0,5343.0,5066.0,5030.0,4938.0,5031.0,4900.0,4981.0,5235.0,5355.0,5494.0,5504.0,5451.0,5500.0,5469.0,5650.0,5549.0,5537.0,5743.0,5780.0,5758.0,5733.0,5949.0,6031.0,6087.0,6026.0,6400.0,6574.0,6705.0,6557.0,6601.0,6929.0,7019.0,6833.0,6953.0,6068.0,6147.0,6328.0,6319.0,6075.0,6077.0,6068.0,6064.0,6079.0,6042.0,5959.0,5952.0,6047.0,6055.0,6068.0,5917.0,5967.0,6095.0,6168.0,6205.0,6213.0,6243.0,6291.0,6052.0,6018.0,5726.0,5800.0,5786.0,5757.0,5778.0,5796.0,5711.0,5618.0,5644.0,5640.0,5745.0,5816.0,5953.0,5969.0,6024.0,5924.0,5846.0,5955.0,6099.0,5875.0,5882.0,5984.0,6187.0,6183.0,6198.0,6191.0,6164.0,6144.0,6254.0,6318.0,6328.0,6332.0,6268.0,5948.0,5949.0,5878.0,5812.0,5850.0,5791.0,5893.0,5764.0,5729.0,5700.0,5576.0,5595.0,5469.0,5517.0,5520.0,5583.0,5556.0,5708.0,5727.0,5689.0,5700.0,5343.0,5254.0,5040.0,4969.0,4897.0,4891.0,4851.0,4987.0,4960.0,4972.0],\"high\":[5421.0,5555.0,5633.0,5750.0,5609.0,5794.0,5984.0,5847.0,5670.0,5742.0,5729.0,5559.0,5638.0,5774.0,5723.0,5656.0,5719.0,5655.0,5644.0,5472.0,5203.0,5267.0,5189.0,5291.0,5401.0,5213.0,5077.0,4929.0,4923.0,4680.0,5049.0,5200.0,5146.0,5277.0,5080.0,5249.0,5344.0,5299.0,5191.0,5239.0,5484.0,5423.0,5414.0,5410.0,5325.0,5484.0,5411.0,5516.0,5587.0,5849.0,5585.0,5353.0,5046.0,5127.0,5180.0,4860.0,4975.0,5126.0,5123.0,5145.0,5249.0,5427.0,5466.0,5357.0,5350.0,5296.0,5347.0,5440.0,5438.0,5437.0,5525.0,5600.0,5320.0,5354.0,5438.0,5430.0,5376.0,5542.0,5540.0,5522.0,5514.0,5740.0,5700.0,5810.0,5763.0,5539.0,5523.0,5578.0,5640.0,5690.0,5768.0,5595.0,5365.0,5727.0,5929.0,5900.0,5832.0,5844.0,5840.0,5758.0,5673.0,5664.0,5679.0,5814.0,5555.0,5594.0,5614.0,5531.0,5543.0,5523.0,5558.0,5471.0,5504.0,5535.0,5661.0,5698.0,5462.0,5479.0,5474.0,5562.0,5500.0,5409.0,5217.0,5112.0,5057.0,5058.0,4980.0,5004.0,5259.0,5372.0,5532.0,5554.0,5527.0,5581.0,5518.0,5737.0,5627.0,5665.0,5770.0,5813.0,5831.0,5993.0,5993.0,6067.0,6169.0,6135.0,6422.0,6665.0,6724.0,6589.0,6695.0,6997.0,7039.0,6979.0,7180.0,6453.0,6267.0,6400.0,6418.0,6363.0,6164.0,6160.0,6138.0,6130.0,6136.0,5985.0,5979.0,6203.0,6055.0,6075.0,6016.0,5975.0,6133.0,6221.0,6205.0,6302.0,6293.0,6291.0,6113.0,6047.0,6041.0,5828.0,5888.0,5785.0,5824.0,5870.0,5785.0,5656.0,5735.0,5666.0,5784.0,5867.0,6041.0,6083.0,6033.0,6036.0,5900.0,5999.0,6131.0,6009.0,5895.0,6008.0,6222.0,6218.0,6228.0,6280.0,6272.0,6164.0,6268.0,6377.0,6407.0,6379.0,6328.0,6049.0,5975.0,5959.0,5867.0,5898.0,5877.0,5904.0,5841.0,5758.0,5720.0,5644.0,5644.0,5537.0,5547.0,5572.0,5610.0,5653.0,5777.0,5816.0,5709.0,5743.0,5610.0,5284.0,5147.0,5119.0,4950.0,4939.0,4965.0,5015.0,4975.0,4987.0],\"low\":[5280.0,5433.0,5531.0,5542.0,5387.0,5640.0,5834.0,5727.0,5591.0,5625.0,5521.0,5427.0,5466.0,5672.0,5585.0,5600.0,5523.0,5518.0,5551.0,5358.0,4964.0,5048.0,4960.0,5167.0,5242.0,5102.0,4980.0,4721.0,4781.0,4491.0,4514.0,4962.0,4983.0,5082.0,4867.0,5080.0,5210.0,5136.0,5077.0,5134.0,5331.0,5315.0,5293.0,5280.0,5217.0,5381.0,5318.0,5418.0,5437.0,5650.0,5470.0,5165.0,4866.0,4975.0,4997.0,4708.0,4826.0,4978.0,5025.0,5030.0,5107.0,5234.0,5348.0,5283.0,5221.0,5115.0,5208.0,5322.0,5338.0,5324.0,5395.0,5428.0,5193.0,5244.0,5273.0,5268.0,5268.0,5451.0,5460.0,5469.0,5417.0,5490.0,5585.0,5641.0,5567.0,5383.0,5407.0,5490.0,5573.0,5587.0,5585.0,5236.0,5188.0,5455.0,5638.0,5741.0,5730.0,5725.0,5744.0,5688.0,5571.0,5574.0,5628.0,5697.0,5474.0,5532.0,5514.0,5427.0,5469.0,5462.0,5475.0,5321.0,5416.0,5428.0,5549.0,5628.0,5401.0,5368.0,5396.0,5486.0,5434.0,5281.0,5049.0,5020.0,4881.0,4960.0,4877.0,4788.0,5031.0,5231.0,5329.0,5347.0,5381.0,5408.0,5453.0,5550.0,5502.0,5430.0,5541.0,5627.0,5698.0,5723.0,5634.0,5943.0,5982.0,6004.0,6162.0,6431.0,6508.0,6402.0,6476.0,6650.0,6868.0,6803.0,6901.0,5956.0,6030.0,6090.0,6258.0,6044.0,5996.0,6029.0,6037.0,6048.0,6006.0,5888.0,5883.0,6035.0,5965.0,5971.0,5894.0,5849.0,5882.0,6099.0,6106.0,6206.0,6213.0,6222.0,6020.0,5998.0,5715.0,5685.0,5733.0,5690.0,5728.0,5785.0,5680.0,5576.0,5624.0,5533.0,5645.0,5717.0,5896.0,5948.0,5931.0,5896.0,5834.0,5853.0,5936.0,5851.0,5817.0,5937.0,6046.0,6125.0,6163.0,6182.0,6145.0,6118.0,6183.0,6297.0,6328.0,6318.0,6254.0,5820.0,5905.0,5858.0,5758.0,5797.0,5713.0,5783.0,5764.0,5710.0,5657.0,5574.0,5572.0,5456.0,5458.0,5484.0,5466.0,5503.0,5602.0,5715.0,5624.0,5657.0,5333.0,5155.0,5001.0,4922.0,4766.0,4852.0,4832.0,4912.0,4900.0,4910.0],\"open\":[5393.0,5488.0,5559.0,5595.0,5441.0,5650.0,5899.0,5810.0,5600.0,5702.0,5654.0,5481.0,5499.0,5692.0,5623.0,5616.0,5698.0,5558.0,5574.0,5430.0,5201.0,5093.0,4989.0,5202.0,5357.0,5114.0,5054.0,4864.0,4850.0,4675.0,4526.0,5040.0,4985.0,5178.0,4937.0,5121.0,5321.0,5276.0,5191.0,5136.0,5399.0,5417.0,5382.0,5389.0,5224.0,5400.0,5359.0,5483.0,5480.0,5699.0,5585.0,5322.0,4895.0,5046.0,5126.0,4803.0,4867.0,5025.0,5097.0,5049.0,5145.0,5291.0,5358.0,5340.0,5322.0,5235.0,5225.0,5350.0,5373.0,5363.0,5421.0,5500.0,5310.0,5260.0,5290.0,5361.0,5348.0,5490.0,5500.0,5503.0,5420.0,5497.0,5646.0,5751.0,5672.0,5425.0,5461.0,5548.0,5577.0,5678.0,5607.0,5595.0,5210.0,5509.0,5651.0,5899.0,5783.0,5740.0,5829.0,5696.0,5647.0,5585.0,5646.0,5748.0,5500.0,5552.0,5520.0,5523.0,5530.0,5493.0,5500.0,5462.0,5451.0,5510.0,5556.0,5652.0,5446.0,5432.0,5413.0,5501.0,5466.0,5399.0,5201.0,5111.0,5004.0,5056.0,4931.0,4856.0,5051.0,5280.0,5356.0,5383.0,5390.0,5415.0,5504.0,5555.0,5591.0,5652.0,5566.0,5681.0,5750.0,5834.0,5670.0,6000.0,6001.0,6020.0,6190.0,6440.0,6576.0,6550.0,6605.0,6655.0,6960.0,6850.0,7042.0,6353.0,6068.0,6090.0,6367.0,6355.0,6070.0,6100.0,6110.0,6064.0,6119.0,5982.0,5928.0,6196.0,6029.0,6070.0,5968.0,5862.0,5940.0,6099.0,6113.0,6267.0,6220.0,6232.0,6106.0,6015.0,6038.0,5750.0,5854.0,5700.0,5772.0,5797.0,5770.0,5650.0,5681.0,5555.0,5724.0,5727.0,5916.0,6038.0,5935.0,6024.0,5873.0,5902.0,5951.0,5999.0,5891.0,5982.0,6055.0,6130.0,6218.0,6257.0,6258.0,6163.0,6193.0,6313.0,6377.0,6379.0,6304.0,6016.0,5940.0,5950.0,5865.0,5879.0,5850.0,5840.0,5808.0,5755.0,5710.0,5600.0,5580.0,5530.0,5492.0,5485.0,5490.0,5650.0,5624.0,5735.0,5657.0,5726.0,5600.0,5248.0,5140.0,5113.0,4802.0,4876.0,4900.0,5000.0,4906.0,4950.0],\"showlegend\":false,\"x\":[\"2022-03-28T00:00:00\",\"2022-03-29T00:00:00\",\"2022-03-30T00:00:00\",\"2022-03-31T00:00:00\",\"2022-04-01T00:00:00\",\"2022-04-04T00:00:00\",\"2022-04-05T00:00:00\",\"2022-04-06T00:00:00\",\"2022-04-07T00:00:00\",\"2022-04-08T00:00:00\",\"2022-04-11T00:00:00\",\"2022-04-12T00:00:00\",\"2022-04-13T00:00:00\",\"2022-04-14T00:00:00\",\"2022-04-15T00:00:00\",\"2022-04-18T00:00:00\",\"2022-04-19T00:00:00\",\"2022-04-20T00:00:00\",\"2022-04-21T00:00:00\",\"2022-04-22T00:00:00\",\"2022-04-25T00:00:00\",\"2022-04-26T00:00:00\",\"2022-04-27T00:00:00\",\"2022-04-28T00:00:00\",\"2022-05-02T00:00:00\",\"2022-05-06T00:00:00\",\"2022-05-09T00:00:00\",\"2022-05-10T00:00:00\",\"2022-05-11T00:00:00\",\"2022-05-12T00:00:00\",\"2022-05-13T00:00:00\",\"2022-05-16T00:00:00\",\"2022-05-17T00:00:00\",\"2022-05-18T00:00:00\",\"2022-05-19T00:00:00\",\"2022-05-20T00:00:00\",\"2022-05-23T00:00:00\",\"2022-05-24T00:00:00\",\"2022-05-25T00:00:00\",\"2022-05-26T00:00:00\",\"2022-05-27T00:00:00\",\"2022-05-30T00:00:00\",\"2022-05-31T00:00:00\",\"2022-06-01T00:00:00\",\"2022-06-02T00:00:00\",\"2022-06-03T00:00:00\",\"2022-06-06T00:00:00\",\"2022-06-07T00:00:00\",\"2022-06-08T00:00:00\",\"2022-06-09T00:00:00\",\"2022-06-10T00:00:00\",\"2022-06-13T00:00:00\",\"2022-06-14T00:00:00\",\"2022-06-15T00:00:00\",\"2022-06-16T00:00:00\",\"2022-06-17T00:00:00\",\"2022-06-20T00:00:00\",\"2022-06-21T00:00:00\",\"2022-06-22T00:00:00\",\"2022-06-23T00:00:00\",\"2022-06-24T00:00:00\",\"2022-06-27T00:00:00\",\"2022-06-28T00:00:00\",\"2022-06-29T00:00:00\",\"2022-06-30T00:00:00\",\"2022-07-01T00:00:00\",\"2022-07-04T00:00:00\",\"2022-07-05T00:00:00\",\"2022-07-06T00:00:00\",\"2022-07-07T00:00:00\",\"2022-07-08T00:00:00\",\"2022-07-11T00:00:00\",\"2022-07-12T00:00:00\",\"2022-07-13T00:00:00\",\"2022-07-14T00:00:00\",\"2022-07-15T00:00:00\",\"2022-07-19T00:00:00\",\"2022-07-20T00:00:00\",\"2022-07-21T00:00:00\",\"2022-07-22T00:00:00\",\"2022-07-25T00:00:00\",\"2022-07-26T00:00:00\",\"2022-07-27T00:00:00\",\"2022-07-28T00:00:00\",\"2022-07-29T00:00:00\",\"2022-08-01T00:00:00\",\"2022-08-02T00:00:00\",\"2022-08-03T00:00:00\",\"2022-08-04T00:00:00\",\"2022-08-05T00:00:00\",\"2022-08-08T00:00:00\",\"2022-08-09T00:00:00\",\"2022-08-10T00:00:00\",\"2022-08-12T00:00:00\",\"2022-08-15T00:00:00\",\"2022-08-16T00:00:00\",\"2022-08-17T00:00:00\",\"2022-08-18T00:00:00\",\"2022-08-19T00:00:00\",\"2022-08-22T00:00:00\",\"2022-08-23T00:00:00\",\"2022-08-24T00:00:00\",\"2022-08-25T00:00:00\",\"2022-08-26T00:00:00\",\"2022-08-29T00:00:00\",\"2022-08-30T00:00:00\",\"2022-08-31T00:00:00\",\"2022-09-01T00:00:00\",\"2022-09-02T00:00:00\",\"2022-09-05T00:00:00\",\"2022-09-06T00:00:00\",\"2022-09-07T00:00:00\",\"2022-09-08T00:00:00\",\"2022-09-09T00:00:00\",\"2022-09-12T00:00:00\",\"2022-09-13T00:00:00\",\"2022-09-14T00:00:00\",\"2022-09-15T00:00:00\",\"2022-09-16T00:00:00\",\"2022-09-20T00:00:00\",\"2022-09-21T00:00:00\",\"2022-09-22T00:00:00\",\"2022-09-26T00:00:00\",\"2022-09-27T00:00:00\",\"2022-09-28T00:00:00\",\"2022-09-29T00:00:00\",\"2022-09-30T00:00:00\",\"2022-10-03T00:00:00\",\"2022-10-04T00:00:00\",\"2022-10-05T00:00:00\",\"2022-10-06T00:00:00\",\"2022-10-07T00:00:00\",\"2022-10-11T00:00:00\",\"2022-10-12T00:00:00\",\"2022-10-13T00:00:00\",\"2022-10-14T00:00:00\",\"2022-10-17T00:00:00\",\"2022-10-18T00:00:00\",\"2022-10-19T00:00:00\",\"2022-10-20T00:00:00\",\"2022-10-21T00:00:00\",\"2022-10-24T00:00:00\",\"2022-10-25T00:00:00\",\"2022-10-26T00:00:00\",\"2022-10-27T00:00:00\",\"2022-10-28T00:00:00\",\"2022-10-31T00:00:00\",\"2022-11-01T00:00:00\",\"2022-11-02T00:00:00\",\"2022-11-04T00:00:00\",\"2022-11-07T00:00:00\",\"2022-11-08T00:00:00\",\"2022-11-09T00:00:00\",\"2022-11-10T00:00:00\",\"2022-11-11T00:00:00\",\"2022-11-14T00:00:00\",\"2022-11-15T00:00:00\",\"2022-11-16T00:00:00\",\"2022-11-17T00:00:00\",\"2022-11-18T00:00:00\",\"2022-11-21T00:00:00\",\"2022-11-22T00:00:00\",\"2022-11-24T00:00:00\",\"2022-11-25T00:00:00\",\"2022-11-28T00:00:00\",\"2022-11-29T00:00:00\",\"2022-11-30T00:00:00\",\"2022-12-01T00:00:00\",\"2022-12-02T00:00:00\",\"2022-12-05T00:00:00\",\"2022-12-06T00:00:00\",\"2022-12-07T00:00:00\",\"2022-12-08T00:00:00\",\"2022-12-09T00:00:00\",\"2022-12-12T00:00:00\",\"2022-12-13T00:00:00\",\"2022-12-14T00:00:00\",\"2022-12-15T00:00:00\",\"2022-12-16T00:00:00\",\"2022-12-19T00:00:00\",\"2022-12-20T00:00:00\",\"2022-12-21T00:00:00\",\"2022-12-22T00:00:00\",\"2022-12-23T00:00:00\",\"2022-12-26T00:00:00\",\"2022-12-27T00:00:00\",\"2022-12-28T00:00:00\",\"2022-12-29T00:00:00\",\"2022-12-30T00:00:00\",\"2023-01-04T00:00:00\",\"2023-01-05T00:00:00\",\"2023-01-06T00:00:00\",\"2023-01-10T00:00:00\",\"2023-01-11T00:00:00\",\"2023-01-12T00:00:00\",\"2023-01-13T00:00:00\",\"2023-01-16T00:00:00\",\"2023-01-17T00:00:00\",\"2023-01-18T00:00:00\",\"2023-01-19T00:00:00\",\"2023-01-20T00:00:00\",\"2023-01-23T00:00:00\",\"2023-01-24T00:00:00\",\"2023-01-25T00:00:00\",\"2023-01-26T00:00:00\",\"2023-01-27T00:00:00\",\"2023-01-30T00:00:00\",\"2023-01-31T00:00:00\",\"2023-02-01T00:00:00\",\"2023-02-02T00:00:00\",\"2023-02-03T00:00:00\",\"2023-02-06T00:00:00\",\"2023-02-07T00:00:00\",\"2023-02-08T00:00:00\",\"2023-02-09T00:00:00\",\"2023-02-10T00:00:00\",\"2023-02-13T00:00:00\",\"2023-02-14T00:00:00\",\"2023-02-15T00:00:00\",\"2023-02-16T00:00:00\",\"2023-02-17T00:00:00\",\"2023-02-20T00:00:00\",\"2023-02-21T00:00:00\",\"2023-02-22T00:00:00\",\"2023-02-24T00:00:00\",\"2023-02-27T00:00:00\",\"2023-02-28T00:00:00\",\"2023-03-01T00:00:00\",\"2023-03-02T00:00:00\",\"2023-03-03T00:00:00\",\"2023-03-06T00:00:00\",\"2023-03-07T00:00:00\",\"2023-03-08T00:00:00\",\"2023-03-09T00:00:00\",\"2023-03-10T00:00:00\",\"2023-03-13T00:00:00\",\"2023-03-14T00:00:00\",\"2023-03-15T00:00:00\",\"2023-03-16T00:00:00\",\"2023-03-17T00:00:00\",\"2023-03-20T00:00:00\",\"2023-03-22T00:00:00\",\"2023-03-23T00:00:00\",\"2023-03-24T00:00:00\"],\"type\":\"candlestick\",\"xaxis\":\"x\",\"yaxis\":\"y\"},{\"showlegend\":false,\"x\":[\"2022-03-28T00:00:00\",\"2022-03-29T00:00:00\",\"2022-03-30T00:00:00\",\"2022-03-31T00:00:00\",\"2022-04-01T00:00:00\",\"2022-04-04T00:00:00\",\"2022-04-05T00:00:00\",\"2022-04-06T00:00:00\",\"2022-04-07T00:00:00\",\"2022-04-08T00:00:00\",\"2022-04-11T00:00:00\",\"2022-04-12T00:00:00\",\"2022-04-13T00:00:00\",\"2022-04-14T00:00:00\",\"2022-04-15T00:00:00\",\"2022-04-18T00:00:00\",\"2022-04-19T00:00:00\",\"2022-04-20T00:00:00\",\"2022-04-21T00:00:00\",\"2022-04-22T00:00:00\",\"2022-04-25T00:00:00\",\"2022-04-26T00:00:00\",\"2022-04-27T00:00:00\",\"2022-04-28T00:00:00\",\"2022-05-02T00:00:00\",\"2022-05-06T00:00:00\",\"2022-05-09T00:00:00\",\"2022-05-10T00:00:00\",\"2022-05-11T00:00:00\",\"2022-05-12T00:00:00\",\"2022-05-13T00:00:00\",\"2022-05-16T00:00:00\",\"2022-05-17T00:00:00\",\"2022-05-18T00:00:00\",\"2022-05-19T00:00:00\",\"2022-05-20T00:00:00\",\"2022-05-23T00:00:00\",\"2022-05-24T00:00:00\",\"2022-05-25T00:00:00\",\"2022-05-26T00:00:00\",\"2022-05-27T00:00:00\",\"2022-05-30T00:00:00\",\"2022-05-31T00:00:00\",\"2022-06-01T00:00:00\",\"2022-06-02T00:00:00\",\"2022-06-03T00:00:00\",\"2022-06-06T00:00:00\",\"2022-06-07T00:00:00\",\"2022-06-08T00:00:00\",\"2022-06-09T00:00:00\",\"2022-06-10T00:00:00\",\"2022-06-13T00:00:00\",\"2022-06-14T00:00:00\",\"2022-06-15T00:00:00\",\"2022-06-16T00:00:00\",\"2022-06-17T00:00:00\",\"2022-06-20T00:00:00\",\"2022-06-21T00:00:00\",\"2022-06-22T00:00:00\",\"2022-06-23T00:00:00\",\"2022-06-24T00:00:00\",\"2022-06-27T00:00:00\",\"2022-06-28T00:00:00\",\"2022-06-29T00:00:00\",\"2022-06-30T00:00:00\",\"2022-07-01T00:00:00\",\"2022-07-04T00:00:00\",\"2022-07-05T00:00:00\",\"2022-07-06T00:00:00\",\"2022-07-07T00:00:00\",\"2022-07-08T00:00:00\",\"2022-07-11T00:00:00\",\"2022-07-12T00:00:00\",\"2022-07-13T00:00:00\",\"2022-07-14T00:00:00\",\"2022-07-15T00:00:00\",\"2022-07-19T00:00:00\",\"2022-07-20T00:00:00\",\"2022-07-21T00:00:00\",\"2022-07-22T00:00:00\",\"2022-07-25T00:00:00\",\"2022-07-26T00:00:00\",\"2022-07-27T00:00:00\",\"2022-07-28T00:00:00\",\"2022-07-29T00:00:00\",\"2022-08-01T00:00:00\",\"2022-08-02T00:00:00\",\"2022-08-03T00:00:00\",\"2022-08-04T00:00:00\",\"2022-08-05T00:00:00\",\"2022-08-08T00:00:00\",\"2022-08-09T00:00:00\",\"2022-08-10T00:00:00\",\"2022-08-12T00:00:00\",\"2022-08-15T00:00:00\",\"2022-08-16T00:00:00\",\"2022-08-17T00:00:00\",\"2022-08-18T00:00:00\",\"2022-08-19T00:00:00\",\"2022-08-22T00:00:00\",\"2022-08-23T00:00:00\",\"2022-08-24T00:00:00\",\"2022-08-25T00:00:00\",\"2022-08-26T00:00:00\",\"2022-08-29T00:00:00\",\"2022-08-30T00:00:00\",\"2022-08-31T00:00:00\",\"2022-09-01T00:00:00\",\"2022-09-02T00:00:00\",\"2022-09-05T00:00:00\",\"2022-09-06T00:00:00\",\"2022-09-07T00:00:00\",\"2022-09-08T00:00:00\",\"2022-09-09T00:00:00\",\"2022-09-12T00:00:00\",\"2022-09-13T00:00:00\",\"2022-09-14T00:00:00\",\"2022-09-15T00:00:00\",\"2022-09-16T00:00:00\",\"2022-09-20T00:00:00\",\"2022-09-21T00:00:00\",\"2022-09-22T00:00:00\",\"2022-09-26T00:00:00\",\"2022-09-27T00:00:00\",\"2022-09-28T00:00:00\",\"2022-09-29T00:00:00\",\"2022-09-30T00:00:00\",\"2022-10-03T00:00:00\",\"2022-10-04T00:00:00\",\"2022-10-05T00:00:00\",\"2022-10-06T00:00:00\",\"2022-10-07T00:00:00\",\"2022-10-11T00:00:00\",\"2022-10-12T00:00:00\",\"2022-10-13T00:00:00\",\"2022-10-14T00:00:00\",\"2022-10-17T00:00:00\",\"2022-10-18T00:00:00\",\"2022-10-19T00:00:00\",\"2022-10-20T00:00:00\",\"2022-10-21T00:00:00\",\"2022-10-24T00:00:00\",\"2022-10-25T00:00:00\",\"2022-10-26T00:00:00\",\"2022-10-27T00:00:00\",\"2022-10-28T00:00:00\",\"2022-10-31T00:00:00\",\"2022-11-01T00:00:00\",\"2022-11-02T00:00:00\",\"2022-11-04T00:00:00\",\"2022-11-07T00:00:00\",\"2022-11-08T00:00:00\",\"2022-11-09T00:00:00\",\"2022-11-10T00:00:00\",\"2022-11-11T00:00:00\",\"2022-11-14T00:00:00\",\"2022-11-15T00:00:00\",\"2022-11-16T00:00:00\",\"2022-11-17T00:00:00\",\"2022-11-18T00:00:00\",\"2022-11-21T00:00:00\",\"2022-11-22T00:00:00\",\"2022-11-24T00:00:00\",\"2022-11-25T00:00:00\",\"2022-11-28T00:00:00\",\"2022-11-29T00:00:00\",\"2022-11-30T00:00:00\",\"2022-12-01T00:00:00\",\"2022-12-02T00:00:00\",\"2022-12-05T00:00:00\",\"2022-12-06T00:00:00\",\"2022-12-07T00:00:00\",\"2022-12-08T00:00:00\",\"2022-12-09T00:00:00\",\"2022-12-12T00:00:00\",\"2022-12-13T00:00:00\",\"2022-12-14T00:00:00\",\"2022-12-15T00:00:00\",\"2022-12-16T00:00:00\",\"2022-12-19T00:00:00\",\"2022-12-20T00:00:00\",\"2022-12-21T00:00:00\",\"2022-12-22T00:00:00\",\"2022-12-23T00:00:00\",\"2022-12-26T00:00:00\",\"2022-12-27T00:00:00\",\"2022-12-28T00:00:00\",\"2022-12-29T00:00:00\",\"2022-12-30T00:00:00\",\"2023-01-04T00:00:00\",\"2023-01-05T00:00:00\",\"2023-01-06T00:00:00\",\"2023-01-10T00:00:00\",\"2023-01-11T00:00:00\",\"2023-01-12T00:00:00\",\"2023-01-13T00:00:00\",\"2023-01-16T00:00:00\",\"2023-01-17T00:00:00\",\"2023-01-18T00:00:00\",\"2023-01-19T00:00:00\",\"2023-01-20T00:00:00\",\"2023-01-23T00:00:00\",\"2023-01-24T00:00:00\",\"2023-01-25T00:00:00\",\"2023-01-26T00:00:00\",\"2023-01-27T00:00:00\",\"2023-01-30T00:00:00\",\"2023-01-31T00:00:00\",\"2023-02-01T00:00:00\",\"2023-02-02T00:00:00\",\"2023-02-03T00:00:00\",\"2023-02-06T00:00:00\",\"2023-02-07T00:00:00\",\"2023-02-08T00:00:00\",\"2023-02-09T00:00:00\",\"2023-02-10T00:00:00\",\"2023-02-13T00:00:00\",\"2023-02-14T00:00:00\",\"2023-02-15T00:00:00\",\"2023-02-16T00:00:00\",\"2023-02-17T00:00:00\",\"2023-02-20T00:00:00\",\"2023-02-21T00:00:00\",\"2023-02-22T00:00:00\",\"2023-02-24T00:00:00\",\"2023-02-27T00:00:00\",\"2023-02-28T00:00:00\",\"2023-03-01T00:00:00\",\"2023-03-02T00:00:00\",\"2023-03-03T00:00:00\",\"2023-03-06T00:00:00\",\"2023-03-07T00:00:00\",\"2023-03-08T00:00:00\",\"2023-03-09T00:00:00\",\"2023-03-10T00:00:00\",\"2023-03-13T00:00:00\",\"2023-03-14T00:00:00\",\"2023-03-15T00:00:00\",\"2023-03-16T00:00:00\",\"2023-03-17T00:00:00\",\"2023-03-20T00:00:00\",\"2023-03-22T00:00:00\",\"2023-03-23T00:00:00\",\"2023-03-24T00:00:00\"],\"y\":[12671800,12102000,15400800,18054000,15398600,16874800,19226700,17778400,13766300,14908000,15335400,16073000,13134000,11920900,10971000,9065700,14090600,11402300,10514700,12424700,25139000,21191400,21451300,14777000,12798000,14614500,13268500,18133000,16471400,23641900,46758100,25957700,16585600,20288800,22694900,18735500,17937700,15994300,14749400,15426100,18373700,15862500,15303000,12798000,10954900,15777900,10332900,13649600,14612800,20843400,16523400,19439100,20473600,18333700,17286800,31301100,18416500,14623600,14855300,14280200,14084400,16304700,12362200,14579000,13088700,13997200,12778400,12938200,11934900,12354800,17038100,14494100,12835400,11493700,10829700,11928700,9919900,11735100,9841600,8460800,7022000,19044800,10978600,12618700,12677200,13385300,11158700,10020900,10800400,10339800,11190400,31366000,16677400,30471900,25059000,21730600,15288300,11182300,11667600,8829600,12583000,9354500,7837600,11878400,14502100,13158200,11743000,13363400,9110600,7366600,8092400,11333700,11345000,13610000,10657900,8269200,15336000,11456300,13271900,10105000,9280900,12256400,13314100,10327300,15146200,12595800,15897600,17928900,18322200,18005500,17782400,16802600,16651800,17451200,12014500,20651600,14195300,21968400,22615800,20584100,18261800,25123300,26358500,23806600,20797300,36559600,29046000,29746900,25708900,29650300,25869400,33680300,29952600,31394200,29186100,40860800,25810600,32497500,16871300,25586100,16610000,13688700,12708200,9876800,10070900,13465900,12695000,15044100,10899000,10821900,12470200,10901400,18019300,15254000,9230100,9798000,10338400,7698700,18042100,8511300,16122200,12087200,9389500,7963100,5392700,6626000,7324500,8281700,9104100,10686100,11519500,10450400,10823000,8738400,7794300,9932600,6838500,7750500,10159900,9958400,6022500,7436200,13148800,7476100,6497100,6181200,7180300,5862300,7798800,8485000,7266800,5791200,5935700,19442400,7976200,10693900,6982000,6173100,8774600,7728900,7409500,4384300,5730900,7462200,6024500,8404800,8272300,7438600,9394900,10973600,11662300,10150000,7601600,6416900,19496300,14731000,14804500,14835800,14468000,11392600,10189600,10272000,8565500,7941800],\"type\":\"bar\",\"xaxis\":\"x2\",\"yaxis\":\"y2\"}],                        {\"template\":{\"data\":{\"histogram2dcontour\":[{\"type\":\"histogram2dcontour\",\"colorbar\":{\"outlinewidth\":0,\"ticks\":\"\"},\"colorscale\":[[0.0,\"#0d0887\"],[0.1111111111111111,\"#46039f\"],[0.2222222222222222,\"#7201a8\"],[0.3333333333333333,\"#9c179e\"],[0.4444444444444444,\"#bd3786\"],[0.5555555555555556,\"#d8576b\"],[0.6666666666666666,\"#ed7953\"],[0.7777777777777778,\"#fb9f3a\"],[0.8888888888888888,\"#fdca26\"],[1.0,\"#f0f921\"]]}],\"choropleth\":[{\"type\":\"choropleth\",\"colorbar\":{\"outlinewidth\":0,\"ticks\":\"\"}}],\"histogram2d\":[{\"type\":\"histogram2d\",\"colorbar\":{\"outlinewidth\":0,\"ticks\":\"\"},\"colorscale\":[[0.0,\"#0d0887\"],[0.1111111111111111,\"#46039f\"],[0.2222222222222222,\"#7201a8\"],[0.3333333333333333,\"#9c179e\"],[0.4444444444444444,\"#bd3786\"],[0.5555555555555556,\"#d8576b\"],[0.6666666666666666,\"#ed7953\"],[0.7777777777777778,\"#fb9f3a\"],[0.8888888888888888,\"#fdca26\"],[1.0,\"#f0f921\"]]}],\"heatmap\":[{\"type\":\"heatmap\",\"colorbar\":{\"outlinewidth\":0,\"ticks\":\"\"},\"colorscale\":[[0.0,\"#0d0887\"],[0.1111111111111111,\"#46039f\"],[0.2222222222222222,\"#7201a8\"],[0.3333333333333333,\"#9c179e\"],[0.4444444444444444,\"#bd3786\"],[0.5555555555555556,\"#d8576b\"],[0.6666666666666666,\"#ed7953\"],[0.7777777777777778,\"#fb9f3a\"],[0.8888888888888888,\"#fdca26\"],[1.0,\"#f0f921\"]]}],\"heatmapgl\":[{\"type\":\"heatmapgl\",\"colorbar\":{\"outlinewidth\":0,\"ticks\":\"\"},\"colorscale\":[[0.0,\"#0d0887\"],[0.1111111111111111,\"#46039f\"],[0.2222222222222222,\"#7201a8\"],[0.3333333333333333,\"#9c179e\"],[0.4444444444444444,\"#bd3786\"],[0.5555555555555556,\"#d8576b\"],[0.6666666666666666,\"#ed7953\"],[0.7777777777777778,\"#fb9f3a\"],[0.8888888888888888,\"#fdca26\"],[1.0,\"#f0f921\"]]}],\"contourcarpet\":[{\"type\":\"contourcarpet\",\"colorbar\":{\"outlinewidth\":0,\"ticks\":\"\"}}],\"contour\":[{\"type\":\"contour\",\"colorbar\":{\"outlinewidth\":0,\"ticks\":\"\"},\"colorscale\":[[0.0,\"#0d0887\"],[0.1111111111111111,\"#46039f\"],[0.2222222222222222,\"#7201a8\"],[0.3333333333333333,\"#9c179e\"],[0.4444444444444444,\"#bd3786\"],[0.5555555555555556,\"#d8576b\"],[0.6666666666666666,\"#ed7953\"],[0.7777777777777778,\"#fb9f3a\"],[0.8888888888888888,\"#fdca26\"],[1.0,\"#f0f921\"]]}],\"surface\":[{\"type\":\"surface\",\"colorbar\":{\"outlinewidth\":0,\"ticks\":\"\"},\"colorscale\":[[0.0,\"#0d0887\"],[0.1111111111111111,\"#46039f\"],[0.2222222222222222,\"#7201a8\"],[0.3333333333333333,\"#9c179e\"],[0.4444444444444444,\"#bd3786\"],[0.5555555555555556,\"#d8576b\"],[0.6666666666666666,\"#ed7953\"],[0.7777777777777778,\"#fb9f3a\"],[0.8888888888888888,\"#fdca26\"],[1.0,\"#f0f921\"]]}],\"mesh3d\":[{\"type\":\"mesh3d\",\"colorbar\":{\"outlinewidth\":0,\"ticks\":\"\"}}],\"scatter\":[{\"fillpattern\":{\"fillmode\":\"overlay\",\"size\":10,\"solidity\":0.2},\"type\":\"scatter\"}],\"parcoords\":[{\"type\":\"parcoords\",\"line\":{\"colorbar\":{\"outlinewidth\":0,\"ticks\":\"\"}}}],\"scatterpolargl\":[{\"type\":\"scatterpolargl\",\"marker\":{\"colorbar\":{\"outlinewidth\":0,\"ticks\":\"\"}}}],\"bar\":[{\"error_x\":{\"color\":\"#2a3f5f\"},\"error_y\":{\"color\":\"#2a3f5f\"},\"marker\":{\"line\":{\"color\":\"#E5ECF6\",\"width\":0.5},\"pattern\":{\"fillmode\":\"overlay\",\"size\":10,\"solidity\":0.2}},\"type\":\"bar\"}],\"scattergeo\":[{\"type\":\"scattergeo\",\"marker\":{\"colorbar\":{\"outlinewidth\":0,\"ticks\":\"\"}}}],\"scatterpolar\":[{\"type\":\"scatterpolar\",\"marker\":{\"colorbar\":{\"outlinewidth\":0,\"ticks\":\"\"}}}],\"histogram\":[{\"marker\":{\"pattern\":{\"fillmode\":\"overlay\",\"size\":10,\"solidity\":0.2}},\"type\":\"histogram\"}],\"scattergl\":[{\"type\":\"scattergl\",\"marker\":{\"colorbar\":{\"outlinewidth\":0,\"ticks\":\"\"}}}],\"scatter3d\":[{\"type\":\"scatter3d\",\"line\":{\"colorbar\":{\"outlinewidth\":0,\"ticks\":\"\"}},\"marker\":{\"colorbar\":{\"outlinewidth\":0,\"ticks\":\"\"}}}],\"scattermapbox\":[{\"type\":\"scattermapbox\",\"marker\":{\"colorbar\":{\"outlinewidth\":0,\"ticks\":\"\"}}}],\"scatterternary\":[{\"type\":\"scatterternary\",\"marker\":{\"colorbar\":{\"outlinewidth\":0,\"ticks\":\"\"}}}],\"scattercarpet\":[{\"type\":\"scattercarpet\",\"marker\":{\"colorbar\":{\"outlinewidth\":0,\"ticks\":\"\"}}}],\"carpet\":[{\"aaxis\":{\"endlinecolor\":\"#2a3f5f\",\"gridcolor\":\"white\",\"linecolor\":\"white\",\"minorgridcolor\":\"white\",\"startlinecolor\":\"#2a3f5f\"},\"baxis\":{\"endlinecolor\":\"#2a3f5f\",\"gridcolor\":\"white\",\"linecolor\":\"white\",\"minorgridcolor\":\"white\",\"startlinecolor\":\"#2a3f5f\"},\"type\":\"carpet\"}],\"table\":[{\"cells\":{\"fill\":{\"color\":\"#EBF0F8\"},\"line\":{\"color\":\"white\"}},\"header\":{\"fill\":{\"color\":\"#C8D4E3\"},\"line\":{\"color\":\"white\"}},\"type\":\"table\"}],\"barpolar\":[{\"marker\":{\"line\":{\"color\":\"#E5ECF6\",\"width\":0.5},\"pattern\":{\"fillmode\":\"overlay\",\"size\":10,\"solidity\":0.2}},\"type\":\"barpolar\"}],\"pie\":[{\"automargin\":true,\"type\":\"pie\"}]},\"layout\":{\"autotypenumbers\":\"strict\",\"colorway\":[\"#636efa\",\"#EF553B\",\"#00cc96\",\"#ab63fa\",\"#FFA15A\",\"#19d3f3\",\"#FF6692\",\"#B6E880\",\"#FF97FF\",\"#FECB52\"],\"font\":{\"color\":\"#2a3f5f\"},\"hovermode\":\"closest\",\"hoverlabel\":{\"align\":\"left\"},\"paper_bgcolor\":\"white\",\"plot_bgcolor\":\"#E5ECF6\",\"polar\":{\"bgcolor\":\"#E5ECF6\",\"angularaxis\":{\"gridcolor\":\"white\",\"linecolor\":\"white\",\"ticks\":\"\"},\"radialaxis\":{\"gridcolor\":\"white\",\"linecolor\":\"white\",\"ticks\":\"\"}},\"ternary\":{\"bgcolor\":\"#E5ECF6\",\"aaxis\":{\"gridcolor\":\"white\",\"linecolor\":\"white\",\"ticks\":\"\"},\"baxis\":{\"gridcolor\":\"white\",\"linecolor\":\"white\",\"ticks\":\"\"},\"caxis\":{\"gridcolor\":\"white\",\"linecolor\":\"white\",\"ticks\":\"\"}},\"coloraxis\":{\"colorbar\":{\"outlinewidth\":0,\"ticks\":\"\"}},\"colorscale\":{\"sequential\":[[0.0,\"#0d0887\"],[0.1111111111111111,\"#46039f\"],[0.2222222222222222,\"#7201a8\"],[0.3333333333333333,\"#9c179e\"],[0.4444444444444444,\"#bd3786\"],[0.5555555555555556,\"#d8576b\"],[0.6666666666666666,\"#ed7953\"],[0.7777777777777778,\"#fb9f3a\"],[0.8888888888888888,\"#fdca26\"],[1.0,\"#f0f921\"]],\"sequentialminus\":[[0.0,\"#0d0887\"],[0.1111111111111111,\"#46039f\"],[0.2222222222222222,\"#7201a8\"],[0.3333333333333333,\"#9c179e\"],[0.4444444444444444,\"#bd3786\"],[0.5555555555555556,\"#d8576b\"],[0.6666666666666666,\"#ed7953\"],[0.7777777777777778,\"#fb9f3a\"],[0.8888888888888888,\"#fdca26\"],[1.0,\"#f0f921\"]],\"diverging\":[[0,\"#8e0152\"],[0.1,\"#c51b7d\"],[0.2,\"#de77ae\"],[0.3,\"#f1b6da\"],[0.4,\"#fde0ef\"],[0.5,\"#f7f7f7\"],[0.6,\"#e6f5d0\"],[0.7,\"#b8e186\"],[0.8,\"#7fbc41\"],[0.9,\"#4d9221\"],[1,\"#276419\"]]},\"xaxis\":{\"gridcolor\":\"white\",\"linecolor\":\"white\",\"ticks\":\"\",\"title\":{\"standoff\":15},\"zerolinecolor\":\"white\",\"automargin\":true,\"zerolinewidth\":2},\"yaxis\":{\"gridcolor\":\"white\",\"linecolor\":\"white\",\"ticks\":\"\",\"title\":{\"standoff\":15},\"zerolinecolor\":\"white\",\"automargin\":true,\"zerolinewidth\":2},\"scene\":{\"xaxis\":{\"backgroundcolor\":\"#E5ECF6\",\"gridcolor\":\"white\",\"linecolor\":\"white\",\"showbackground\":true,\"ticks\":\"\",\"zerolinecolor\":\"white\",\"gridwidth\":2},\"yaxis\":{\"backgroundcolor\":\"#E5ECF6\",\"gridcolor\":\"white\",\"linecolor\":\"white\",\"showbackground\":true,\"ticks\":\"\",\"zerolinecolor\":\"white\",\"gridwidth\":2},\"zaxis\":{\"backgroundcolor\":\"#E5ECF6\",\"gridcolor\":\"white\",\"linecolor\":\"white\",\"showbackground\":true,\"ticks\":\"\",\"zerolinecolor\":\"white\",\"gridwidth\":2}},\"shapedefaults\":{\"line\":{\"color\":\"#2a3f5f\"}},\"annotationdefaults\":{\"arrowcolor\":\"#2a3f5f\",\"arrowhead\":0,\"arrowwidth\":1},\"geo\":{\"bgcolor\":\"white\",\"landcolor\":\"#E5ECF6\",\"subunitcolor\":\"white\",\"showland\":true,\"showlakes\":true,\"lakecolor\":\"white\"},\"title\":{\"x\":0.05},\"mapbox\":{\"style\":\"light\"}}},\"xaxis\":{\"anchor\":\"y\",\"domain\":[0.0,1.0],\"matches\":\"x2\",\"showticklabels\":false,\"rangebreaks\":[{\"values\":[\"2022-04-02\",\"2022-04-03\",\"2022-04-09\",\"2022-04-10\",\"2022-04-16\",\"2022-04-17\",\"2022-04-23\",\"2022-04-24\",\"2022-04-29\",\"2022-04-30\",\"2022-05-01\",\"2022-05-03\",\"2022-05-04\",\"2022-05-05\",\"2022-05-07\",\"2022-05-08\",\"2022-05-14\",\"2022-05-15\",\"2022-05-21\",\"2022-05-22\",\"2022-05-28\",\"2022-05-29\",\"2022-06-04\",\"2022-06-05\",\"2022-06-11\",\"2022-06-12\",\"2022-06-18\",\"2022-06-19\",\"2022-06-25\",\"2022-06-26\",\"2022-07-02\",\"2022-07-03\",\"2022-07-09\",\"2022-07-10\",\"2022-07-16\",\"2022-07-17\",\"2022-07-18\",\"2022-07-23\",\"2022-07-24\",\"2022-07-30\",\"2022-07-31\",\"2022-08-06\",\"2022-08-07\",\"2022-08-11\",\"2022-08-13\",\"2022-08-14\",\"2022-08-20\",\"2022-08-21\",\"2022-08-27\",\"2022-08-28\",\"2022-09-03\",\"2022-09-04\",\"2022-09-10\",\"2022-09-11\",\"2022-09-17\",\"2022-09-18\",\"2022-09-19\",\"2022-09-23\",\"2022-09-24\",\"2022-09-25\",\"2022-10-01\",\"2022-10-02\",\"2022-10-08\",\"2022-10-09\",\"2022-10-10\",\"2022-10-15\",\"2022-10-16\",\"2022-10-22\",\"2022-10-23\",\"2022-10-29\",\"2022-10-30\",\"2022-11-03\",\"2022-11-05\",\"2022-11-06\",\"2022-11-12\",\"2022-11-13\",\"2022-11-19\",\"2022-11-20\",\"2022-11-23\",\"2022-11-26\",\"2022-11-27\",\"2022-12-03\",\"2022-12-04\",\"2022-12-10\",\"2022-12-11\",\"2022-12-17\",\"2022-12-18\",\"2022-12-24\",\"2022-12-25\",\"2022-12-31\",\"2023-01-01\",\"2023-01-02\",\"2023-01-03\",\"2023-01-07\",\"2023-01-08\",\"2023-01-09\",\"2023-01-14\",\"2023-01-15\",\"2023-01-21\",\"2023-01-22\",\"2023-01-28\",\"2023-01-29\",\"2023-02-04\",\"2023-02-05\",\"2023-02-11\",\"2023-02-12\",\"2023-02-18\",\"2023-02-19\",\"2023-02-23\",\"2023-02-25\",\"2023-02-26\",\"2023-03-04\",\"2023-03-05\",\"2023-03-11\",\"2023-03-12\",\"2023-03-18\",\"2023-03-19\",\"2023-03-21\"]}],\"tickformat\":\"%Y/%m/%d\",\"rangeslider\":{\"visible\":false}},\"yaxis\":{\"anchor\":\"x\",\"domain\":[0.2611111111111111,1.0],\"title\":{\"text\":\"\\u682a\\u4fa1\"},\"separatethousands\":true},\"xaxis2\":{\"anchor\":\"y2\",\"domain\":[0.0,1.0],\"rangebreaks\":[{\"values\":[\"2022-04-02\",\"2022-04-03\",\"2022-04-09\",\"2022-04-10\",\"2022-04-16\",\"2022-04-17\",\"2022-04-23\",\"2022-04-24\",\"2022-04-29\",\"2022-04-30\",\"2022-05-01\",\"2022-05-03\",\"2022-05-04\",\"2022-05-05\",\"2022-05-07\",\"2022-05-08\",\"2022-05-14\",\"2022-05-15\",\"2022-05-21\",\"2022-05-22\",\"2022-05-28\",\"2022-05-29\",\"2022-06-04\",\"2022-06-05\",\"2022-06-11\",\"2022-06-12\",\"2022-06-18\",\"2022-06-19\",\"2022-06-25\",\"2022-06-26\",\"2022-07-02\",\"2022-07-03\",\"2022-07-09\",\"2022-07-10\",\"2022-07-16\",\"2022-07-17\",\"2022-07-18\",\"2022-07-23\",\"2022-07-24\",\"2022-07-30\",\"2022-07-31\",\"2022-08-06\",\"2022-08-07\",\"2022-08-11\",\"2022-08-13\",\"2022-08-14\",\"2022-08-20\",\"2022-08-21\",\"2022-08-27\",\"2022-08-28\",\"2022-09-03\",\"2022-09-04\",\"2022-09-10\",\"2022-09-11\",\"2022-09-17\",\"2022-09-18\",\"2022-09-19\",\"2022-09-23\",\"2022-09-24\",\"2022-09-25\",\"2022-10-01\",\"2022-10-02\",\"2022-10-08\",\"2022-10-09\",\"2022-10-10\",\"2022-10-15\",\"2022-10-16\",\"2022-10-22\",\"2022-10-23\",\"2022-10-29\",\"2022-10-30\",\"2022-11-03\",\"2022-11-05\",\"2022-11-06\",\"2022-11-12\",\"2022-11-13\",\"2022-11-19\",\"2022-11-20\",\"2022-11-23\",\"2022-11-26\",\"2022-11-27\",\"2022-12-03\",\"2022-12-04\",\"2022-12-10\",\"2022-12-11\",\"2022-12-17\",\"2022-12-18\",\"2022-12-24\",\"2022-12-25\",\"2022-12-31\",\"2023-01-01\",\"2023-01-02\",\"2023-01-03\",\"2023-01-07\",\"2023-01-08\",\"2023-01-09\",\"2023-01-14\",\"2023-01-15\",\"2023-01-21\",\"2023-01-22\",\"2023-01-28\",\"2023-01-29\",\"2023-02-04\",\"2023-02-05\",\"2023-02-11\",\"2023-02-12\",\"2023-02-18\",\"2023-02-19\",\"2023-02-23\",\"2023-02-25\",\"2023-02-26\",\"2023-03-04\",\"2023-03-05\",\"2023-03-11\",\"2023-03-12\",\"2023-03-18\",\"2023-03-19\",\"2023-03-21\"]}],\"tickformat\":\"%Y/%m/%d\"},\"yaxis2\":{\"anchor\":\"x2\",\"domain\":[0.0,0.21111111111111114],\"title\":{\"text\":\"\\u51fa\\u6765\\u9ad8\"}},\"annotations\":[{\"font\":{\"size\":16},\"showarrow\":false,\"text\":\"Date\",\"x\":0.5,\"xanchor\":\"center\",\"xref\":\"paper\",\"y\":0,\"yanchor\":\"top\",\"yref\":\"paper\",\"yshift\":-30}],\"title\":{\"text\":\"SoftBank(9984)\\u306e\\u65e5\\u8db3\\u30c1\\u30e3\\u30fc\\u30c8\",\"y\":0.9,\"x\":0.5}},                        {\"responsive\": true}                    ).then(function(){\n",
              "                            \n",
              "var gd = document.getElementById('c64401ff-1a89-4077-8c43-6de8b7159127');\n",
              "var x = new MutationObserver(function (mutations, observer) {{\n",
              "        var display = window.getComputedStyle(gd).display;\n",
              "        if (!display || display === 'none') {{\n",
              "            console.log([gd, 'removed!']);\n",
              "            Plotly.purge(gd);\n",
              "            observer.disconnect();\n",
              "        }}\n",
              "}});\n",
              "\n",
              "// Listen for the removal of the full notebook cells\n",
              "var notebookContainer = gd.closest('#notebook-container');\n",
              "if (notebookContainer) {{\n",
              "    x.observe(notebookContainer, {childList: true});\n",
              "}}\n",
              "\n",
              "// Listen for the clearing of the current output cell\n",
              "var outputEl = gd.closest('.output');\n",
              "if (outputEl) {{\n",
              "    x.observe(outputEl, {childList: true});\n",
              "}}\n",
              "\n",
              "                        })                };                            </script>        </div>\n",
              "</body>\n",
              "</html>"
            ]
          },
          "metadata": {}
        }
      ]
    },
    {
      "cell_type": "code",
      "source": [],
      "metadata": {
        "id": "EgWbTS7tcbA9"
      },
      "execution_count": null,
      "outputs": []
    }
  ]
}