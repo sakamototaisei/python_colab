{
  "nbformat": 4,
  "nbformat_minor": 0,
  "metadata": {
    "colab": {
      "provenance": [],
      "toc_visible": true,
      "authorship_tag": "ABX9TyNryBwFCQ/+84Xbb564pDNn",
      "include_colab_link": true
    },
    "kernelspec": {
      "name": "python3",
      "display_name": "Python 3"
    },
    "language_info": {
      "name": "python"
    }
  },
  "cells": [
    {
      "cell_type": "markdown",
      "metadata": {
        "id": "view-in-github",
        "colab_type": "text"
      },
      "source": [
        "<a href=\"https://colab.research.google.com/github/sakamototaisei/python_colab/blob/main/ChatGPT%2BSonicPi.ipynb\" target=\"_parent\"><img src=\"https://colab.research.google.com/assets/colab-badge.svg\" alt=\"Open In Colab\"/></a>"
      ]
    },
    {
      "cell_type": "markdown",
      "source": [
        "# **Sonic Piの使い方**"
      ],
      "metadata": {
        "id": "dX_qKv6uDkfx"
      }
    },
    {
      "cell_type": "markdown",
      "source": [
        "## **Sonic Piの概要**"
      ],
      "metadata": {
        "id": "WiJlog7PE6wF"
      }
    },
    {
      "cell_type": "markdown",
      "source": [
        "\n",
        "\n",
        "*   「音」を扱うオープンソースのプログラミング環境\n",
        "*   デジタルプログラミングシンセサイザー\n",
        "*   プログラミング言語Rubyをベースにした記法\n",
        "*   ライブコーディングによる演奏が可能\n",
        "\n",
        "https://sonic-pi.net/\n",
        "\n"
      ],
      "metadata": {
        "id": "qv5M_Y6HE-RG"
      }
    },
    {
      "cell_type": "markdown",
      "source": [
        "\n",
        "**ライブコーディングによる演奏**\n",
        "\n",
        "```\n",
        "live_loop :flibble do\n",
        "    sample :bd_haus, rate: 1\n",
        "    # sample :ambi_choir, rate:0.3\n",
        "    sleep 0.5\n",
        "end\n",
        "```\n",
        "\n",
        "\n",
        "\n"
      ],
      "metadata": {
        "id": "pR9d5bAVHPgB"
      }
    },
    {
      "cell_type": "markdown",
      "source": [
        "## **シンプルな作曲**"
      ],
      "metadata": {
        "id": "ElpegoLzIfIi"
      }
    },
    {
      "cell_type": "markdown",
      "source": [
        "楽譜の代わりにコードを使って曲を作る\n",
        "\n",
        "ChatGPT：プロンプト\n",
        "\n",
        "```\n",
        "「夜のひと時」をテーマにした曲を作曲して\n",
        "Sonic Piのコードで記述してください\n",
        "```\n",
        "\n",
        "出力\n",
        "\n",
        "\n",
        "```\n",
        "# 「夜のひと時」をテーマにした曲\n",
        "\n",
        "use_bpm 60\n",
        "\n",
        "# メロディー\n",
        "live_loop :melody do\n",
        "  use_synth :piano\n",
        "  play_pattern_timed [:C4, :D4, :E4, :F4, :G4, :A4, :B4, :C5], [0.5, 0.5, 0.5, 0.5, 0.5, 0.5, 0.5, 0.5], amp: 0.5\n",
        "  sleep 4\n",
        "end\n",
        "\n",
        "# ベース\n",
        "live_loop :bass, sync: :melody do\n",
        "  use_synth :fm\n",
        "  play_pattern_timed [:C2, :E2, :G2, :B2], [2, 2, 2, 2], amp: 0.25\n",
        "  sleep 4\n",
        "end\n",
        "\n",
        "# ドラム\n",
        "live_loop :drums, sync: :melody do\n",
        "  sample :bd_haus, rate: 1, amp: 0.25\n",
        "  sleep 1\n",
        "  sample :sn_generic, rate: 1, amp: 0.25\n",
        "  sleep 1\n",
        "  sample :bd_haus, rate: 1, amp: 0.25\n",
        "  sleep 1\n",
        "  sample :sn_generic, rate: 1, amp: 0.25\n",
        "  sleep 1\n",
        "end\n",
        "\n",
        "# パッド\n",
        "live_loop :pads, sync: :melody do\n",
        "  use_synth :pad\n",
        "  play_chord chord(:C3, :minor), attack: 2, sustain: 2, release: 2, amp: 0.2\n",
        "  sleep 4\n",
        "end\n",
        "\n",
        "\n",
        "```\n",
        "\n"
      ],
      "metadata": {
        "id": "cZ4MZAgRJPQ7"
      }
    },
    {
      "cell_type": "markdown",
      "source": [
        "\n",
        "\n",
        "```\n",
        "# 中世風RPGのダンジョンのBGM\n",
        "\n",
        "use_bpm 90\n",
        "\n",
        "# メロディ\n",
        "live_loop :melody do\n",
        "  use_synth :prophet\n",
        "  play_pattern_timed [:C4, :E4, :D4, :A4, :G4, :D4, :E4, :C4], [0.5, 0.5, 0.5, 0.5, 0.5, 0.5, 0.5, 0.5], amp: 0.6\n",
        "  sleep 2\n",
        "end\n",
        "\n",
        "# ベース\n",
        "live_loop :bass, sync: :melody do\n",
        "  use_synth :fm\n",
        "  play_pattern_timed [:C2, :C2, :A2, :A2], [2, 2, 2, 2], amp: 0.4\n",
        "end\n",
        "\n",
        "# パーカッション\n",
        "live_loop :percussion, sync: :melody do\n",
        "  sample :perc_bell, rate: 0.5, amp: 0.3\n",
        "  sleep 1\n",
        "  sample :perc_bell, rate: 0.4, amp: 0.3\n",
        "  sleep 1\n",
        "end\n",
        "\n",
        "# パッド\n",
        "live_loop :pads, sync: :melody do\n",
        "  use_synth :dark_ambience\n",
        "  play_chord chord(:C3, :minor), attack: 2, sustain: 2, release: 2, amp: 0.3\n",
        "  sleep 4\n",
        "end\n",
        "\n",
        "```\n",
        "\n"
      ],
      "metadata": {
        "id": "sE_s-VZdM-jB"
      }
    },
    {
      "cell_type": "markdown",
      "source": [
        "## **Sonic Piの基礎**"
      ],
      "metadata": {
        "id": "L4Q_oJBMN-2t"
      }
    },
    {
      "cell_type": "code",
      "execution_count": null,
      "metadata": {
        "id": "OUQKcdZ2DdRK"
      },
      "outputs": [],
      "source": []
    }
  ]
}