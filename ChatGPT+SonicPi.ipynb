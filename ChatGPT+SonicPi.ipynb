{
  "nbformat": 4,
  "nbformat_minor": 0,
  "metadata": {
    "colab": {
      "provenance": [],
      "toc_visible": true,
      "authorship_tag": "ABX9TyNv0m4K0BpUJvhh0F5LFG2e",
      "include_colab_link": true
    },
    "kernelspec": {
      "name": "python3",
      "display_name": "Python 3"
    },
    "language_info": {
      "name": "python"
    }
  },
  "cells": [
    {
      "cell_type": "markdown",
      "metadata": {
        "id": "view-in-github",
        "colab_type": "text"
      },
      "source": [
        "<a href=\"https://colab.research.google.com/github/sakamototaisei/python_colab/blob/main/ChatGPT%2BSonicPi.ipynb\" target=\"_parent\"><img src=\"https://colab.research.google.com/assets/colab-badge.svg\" alt=\"Open In Colab\"/></a>"
      ]
    },
    {
      "cell_type": "markdown",
      "source": [
        "# **Sonic Piの使い方**"
      ],
      "metadata": {
        "id": "dX_qKv6uDkfx"
      }
    },
    {
      "cell_type": "markdown",
      "source": [
        "## **Sonic Piの概要**"
      ],
      "metadata": {
        "id": "WiJlog7PE6wF"
      }
    },
    {
      "cell_type": "markdown",
      "source": [
        "\n",
        "\n",
        "*   「音」を扱うオープンソースのプログラミング環境\n",
        "*   デジタルプログラミングシンセサイザー\n",
        "*   プログラミング言語Rubyをベースにした記法\n",
        "*   ライブコーディングによる演奏が可能\n",
        "\n",
        "https://sonic-pi.net/\n",
        "\n"
      ],
      "metadata": {
        "id": "qv5M_Y6HE-RG"
      }
    },
    {
      "cell_type": "markdown",
      "source": [
        "\n",
        "**ライブコーディングによる演奏**\n",
        "\n",
        "```\n",
        "live_loop :flibble do\n",
        "    sample :bd_haus, rate: 1\n",
        "    # sample :ambi_choir, rate:0.3\n",
        "    sleep 0.5\n",
        "end\n",
        "```\n",
        "\n",
        "\n",
        "\n"
      ],
      "metadata": {
        "id": "pR9d5bAVHPgB"
      }
    },
    {
      "cell_type": "markdown",
      "source": [
        "## **シンプルな作曲**"
      ],
      "metadata": {
        "id": "ElpegoLzIfIi"
      }
    },
    {
      "cell_type": "markdown",
      "source": [
        "楽譜の代わりにコードを使って曲を作る\n",
        "\n",
        "ChatGPT：プロンプト\n",
        "\n",
        "```\n",
        "「夜のひと時」をテーマにした曲を作曲して\n",
        "Sonic Piのコードで記述してください\n",
        "```\n",
        "\n",
        "出力\n",
        "\n",
        "\n",
        "```\n",
        "# 「夜のひと時」をテーマにした曲\n",
        "\n",
        "use_bpm 60\n",
        "\n",
        "# メロディー\n",
        "live_loop :melody do\n",
        "  use_synth :piano\n",
        "  play_pattern_timed [:C4, :D4, :E4, :F4, :G4, :A4, :B4, :C5], [0.5, 0.5, 0.5, 0.5, 0.5, 0.5, 0.5, 0.5], amp: 0.5\n",
        "  sleep 4\n",
        "end\n",
        "\n",
        "# ベース\n",
        "live_loop :bass, sync: :melody do\n",
        "  use_synth :fm\n",
        "  play_pattern_timed [:C2, :E2, :G2, :B2], [2, 2, 2, 2], amp: 0.25\n",
        "  sleep 4\n",
        "end\n",
        "\n",
        "# ドラム\n",
        "live_loop :drums, sync: :melody do\n",
        "  sample :bd_haus, rate: 1, amp: 0.25\n",
        "  sleep 1\n",
        "  sample :sn_generic, rate: 1, amp: 0.25\n",
        "  sleep 1\n",
        "  sample :bd_haus, rate: 1, amp: 0.25\n",
        "  sleep 1\n",
        "  sample :sn_generic, rate: 1, amp: 0.25\n",
        "  sleep 1\n",
        "end\n",
        "\n",
        "# パッド\n",
        "live_loop :pads, sync: :melody do\n",
        "  use_synth :pad\n",
        "  play_chord chord(:C3, :minor), attack: 2, sustain: 2, release: 2, amp: 0.2\n",
        "  sleep 4\n",
        "end\n",
        "\n",
        "\n",
        "```\n",
        "\n"
      ],
      "metadata": {
        "id": "cZ4MZAgRJPQ7"
      }
    },
    {
      "cell_type": "markdown",
      "source": [
        "\n",
        "\n",
        "```\n",
        "# 中世風RPGのダンジョンのBGM\n",
        "\n",
        "use_bpm 90\n",
        "\n",
        "# メロディ\n",
        "live_loop :melody do\n",
        "  use_synth :prophet\n",
        "  play_pattern_timed [:C4, :E4, :D4, :A4, :G4, :D4, :E4, :C4], [0.5, 0.5, 0.5, 0.5, 0.5, 0.5, 0.5, 0.5], amp: 0.6\n",
        "  sleep 2\n",
        "end\n",
        "\n",
        "# ベース\n",
        "live_loop :bass, sync: :melody do\n",
        "  use_synth :fm\n",
        "  play_pattern_timed [:C2, :C2, :A2, :A2], [2, 2, 2, 2], amp: 0.4\n",
        "end\n",
        "\n",
        "# パーカッション\n",
        "live_loop :percussion, sync: :melody do\n",
        "  sample :perc_bell, rate: 0.5, amp: 0.3\n",
        "  sleep 1\n",
        "  sample :perc_bell, rate: 0.4, amp: 0.3\n",
        "  sleep 1\n",
        "end\n",
        "\n",
        "# パッド\n",
        "live_loop :pads, sync: :melody do\n",
        "  use_synth :dark_ambience\n",
        "  play_chord chord(:C3, :minor), attack: 2, sustain: 2, release: 2, amp: 0.3\n",
        "  sleep 4\n",
        "end\n",
        "\n",
        "```\n",
        "\n"
      ],
      "metadata": {
        "id": "sE_s-VZdM-jB"
      }
    },
    {
      "cell_type": "markdown",
      "source": [
        "## **Sonic Piの基礎**"
      ],
      "metadata": {
        "id": "L4Q_oJBMN-2t"
      }
    },
    {
      "cell_type": "markdown",
      "source": [
        "ChatGPT：プロンプト\n",
        "\n",
        "Sonic Piを学びたいのですが、作曲やプログラミングに関して初心者です。\n",
        "\n",
        "Sonic Piの使い方を、初歩的なコードと共に教えてください。"
      ],
      "metadata": {
        "id": "vmwr0HVakSQN"
      }
    },
    {
      "cell_type": "markdown",
      "source": [
        "ChatGPTプロンプト：MIDIノート番号とは何ですか？\n",
        "\n",
        "\n",
        "\n",
        "```\n",
        "MIDIノート番号は、MIDI（Musical Instrument Digital Interface）の規格に基づいて各音符を特定の数値で表したものです。MIDI規格では、0から127までの範囲の整数がそれぞれ異なる音高に対応しています。\n",
        "\n",
        "具体的には、60は中央のC（C4）を表し、これを基準にして各音符に番号が振られます。つまり、60より大きい番号はC4より高い音を、60より小さい番号はC4より低い音を表します。MIDIノート番号が1つ増えるごとに、音高は半音ずつ上がります。たとえば、61はC#4（またはDb4）、62はD4となります。\n",
        "\n",
        "MIDIノート番号は、キーボードやその他のMIDIコントローラーを使って音楽を演奏したり、生成したりする際に、具体的な音高をプログラムで指定するのに使用されます。この規格があるおかげで、MIDI互換の機器間で情報が交換でき、さまざまな音源や音楽ソフトウェアで演奏を再現することが可能になっています。\n",
        "\n",
        "なお、Sonic PiではMIDIノート番号を使ってplay関数で演奏する音の高さを指定することができます。例えばplay 60は中央のCを、play 62はD4を演奏します。\n",
        "```\n",
        "\n"
      ],
      "metadata": {
        "id": "6XZR9wirnLLG"
      }
    },
    {
      "cell_type": "markdown",
      "source": [
        "ChatGPT：プロンプト\n",
        "\n",
        "Sonic Piのシンセについて解説してください\n",
        "\n",
        "\n",
        "\n",
        "```\n",
        "Sonic Piでは、さまざまな種類のシンセサイザー（シンセ）を使うことができます。シンセは音色を生成するための方法で、ピアノ、ギター、フルートなど、様々な楽器の音を模倣することができます。また、一部のシンセは、自然の音や人工的な音を生成することも可能です。\n",
        "\n",
        "use_synth関数を使って、Sonic Piで使用するシンセを選択できます。たとえば、以下のコードはピアノの音色で音を出します。\n",
        "\n",
        "use_synth :piano\n",
        "play 60\n",
        "以下は、Sonic Piで使用できる主なシンセの一部です（2021年9月時点）。\n",
        "\n",
        ":beep - 簡単なビープ音\n",
        ":tri - 三角波\n",
        ":saw - 鋸波\n",
        ":pulse - パルス波（長方形波）\n",
        ":square - 四角波\n",
        ":sine - 正弦波\n",
        ":noise - ホワイトノイズ\n",
        ":piano - ピアノの音色\n",
        ":pluck - 弦を弾く音（ギターやハープのような音色）\n",
        ":blade - 電子音\n",
        ":fm - FMシンセサイザー\n",
        ":prophet - Prophetシンセサイザーを模倣したもの\n",
        "Sonic Piのドキュメンテーション（https://sonic-pi.net/tutorial.html）には、これらのシンセの詳細や他のシンセについても説明されています。それぞれのシンセには、音色や振幅、エンベロープなどを制御するためのオプションがあります。\n",
        "\n",
        "実際に様々なシンセを試してみて、あなたの音楽に最適な音色を見つけてみてください！\n",
        "```\n",
        "\n"
      ],
      "metadata": {
        "id": "ORXAZmvppQCD"
      }
    },
    {
      "cell_type": "markdown",
      "source": [
        "ChatGPT：プロンプト\n",
        "\n",
        "Sonic Piのサンプルについて解説してください\n",
        "\n",
        "```\n",
        "Sonic Piでは、プレ録音されたオーディオクリップ、つまり「サンプル」を再生することができます。Sonic Piには多くの内蔵サンプルがあり、ドラムビート、パーカッション、ループ、さまざまな楽器の音など、多種多様な音色を使用することが可能です。\n",
        "\n",
        "サンプルを再生するためには、sample関数を使用します。以下は、Sonic Piに内蔵されているドラムビートを再生するコードの一例です。\n",
        "\n",
        "sample :loop_amen\n",
        ":loop_amenはSonic Piに内蔵されている有名なAmen Breakというドラムループのサンプルです。\n",
        "\n",
        "サンプルの再生速度や音量など、さまざまなパラメータを調整することができます。以下のコードは、再生速度を半分にしてAmen Breakを再生します。\n",
        "\n",
        "sample :loop_amen, rate: 0.5\n",
        "ここで、:rateオプションは再生速度を制御します。1は原曲の速度で、2は2倍速、0.5は半分の速度となります。\n",
        "\n",
        "また、sleep関数を使用して、複数のサンプルを順番に再生することも可能です。以下のコードは、キックドラムとスネアドラムのサンプルを交互に再生します。\n",
        "\n",
        "2.times do\n",
        "  sample :bd_haus\n",
        "  sleep 0.5\n",
        "  sample :drum_snare_hard\n",
        "  sleep 0.5\n",
        "end\n",
        "上記のコードは、ハウスミュージックのキックドラム（:bd_haus）とハードスネアドラム（:drum_snare_hard）をそれぞれ0.5秒間隔で2回再生します。\n",
        "\n",
        "これらはSonic Piでサンプルを使用する基本的な例です。サンプルを使って音楽を作成する際には、さまざまなパラメータを調整して、自分だけの独特なサウンドを作り出すことができます。\n",
        "```\n",
        "\n"
      ],
      "metadata": {
        "id": "sI7ut75hqTC-"
      }
    },
    {
      "cell_type": "markdown",
      "source": [
        "# **対話AIによる作曲のテクニック**"
      ],
      "metadata": {
        "id": "YLsepZwHtiTE"
      }
    },
    {
      "cell_type": "markdown",
      "source": [
        "## ***ジャンルを指定する***"
      ],
      "metadata": {
        "id": "_MZmS5PWtvmC"
      }
    },
    {
      "cell_type": "markdown",
      "source": [
        "ChatGPTプロンプト：リラックスできるアンビエイトな曲を、Sonic Piで作ってください。"
      ],
      "metadata": {
        "id": "RXMBGtQUt0ws"
      }
    },
    {
      "cell_type": "markdown",
      "source": [
        "# **楽曲の仕上げ**"
      ],
      "metadata": {
        "id": "r5mPvf4f0TDd"
      }
    },
    {
      "cell_type": "markdown",
      "source": [
        "## **曲の仕上げ**"
      ],
      "metadata": {
        "id": "Ya7ic1IX0YdO"
      }
    },
    {
      "cell_type": "markdown",
      "source": [
        "\n",
        "\n",
        "*   Audacityのダウンロード、インストール→https://www.audacityteam.org/\n",
        "*   無音部分の削除\n",
        "*   エフェクト付与\n",
        "*   フェードイン、フェードアウト\n",
        "*   etc...\n",
        "\n"
      ],
      "metadata": {
        "id": "hk3fTqDp0drS"
      }
    },
    {
      "cell_type": "markdown",
      "source": [
        "##**Text-to-Musicによる作曲**"
      ],
      "metadata": {
        "id": "dDDgqPCi7qSe"
      }
    },
    {
      "cell_type": "markdown",
      "source": [
        "**Mubert**\n",
        "\n",
        "→テキストの指示により音楽を生成する音楽生成AI\n",
        "\n",
        "→https://mubert.com/"
      ],
      "metadata": {
        "id": "-HeLYhtN7xpQ"
      }
    },
    {
      "cell_type": "code",
      "source": [],
      "metadata": {
        "id": "tfpXEPPX79w5"
      },
      "execution_count": null,
      "outputs": []
    }
  ]
}