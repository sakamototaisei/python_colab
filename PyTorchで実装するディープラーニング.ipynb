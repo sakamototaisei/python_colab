{
  "nbformat": 4,
  "nbformat_minor": 0,
  "metadata": {
    "colab": {
      "provenance": [],
      "collapsed_sections": [
        "d9lnjSKGrxq9",
        "sUwlS_e5r0fq",
        "IKDgWAoNvj7_",
        "3TMoSkV2xOUb",
        "Ttnc_dx3avtS"
      ],
      "toc_visible": true,
      "authorship_tag": "ABX9TyNOYFDnbZ50PJxlitx/s5tk",
      "include_colab_link": true
    },
    "kernelspec": {
      "name": "python3",
      "display_name": "Python 3"
    },
    "language_info": {
      "name": "python"
    }
  },
  "cells": [
    {
      "cell_type": "markdown",
      "metadata": {
        "id": "view-in-github",
        "colab_type": "text"
      },
      "source": [
        "<a href=\"https://colab.research.google.com/github/sakamototaisei/python_colab/blob/main/PyTorch%E3%81%A7%E5%AE%9F%E8%A3%85%E3%81%99%E3%82%8B%E3%83%87%E3%82%A3%E3%83%BC%E3%83%97%E3%83%A9%E3%83%BC%E3%83%8B%E3%83%B3%E3%82%B0.ipynb\" target=\"_parent\"><img src=\"https://colab.research.google.com/assets/colab-badge.svg\" alt=\"Open In Colab\"/></a>"
      ]
    },
    {
      "cell_type": "markdown",
      "source": [
        "# **イントロダクション**"
      ],
      "metadata": {
        "id": "d9lnjSKGrxq9"
      }
    },
    {
      "cell_type": "markdown",
      "source": [
        "## **ディープラーニングとは**"
      ],
      "metadata": {
        "id": "sUwlS_e5r0fq"
      }
    },
    {
      "cell_type": "markdown",
      "source": [
        "**人工ニューロン**\n",
        "\n",
        "*   ニューロンへの入力に重みをかけた値を統ベて足し合わせて、バイアスを加える\n",
        "*   重みはシナプスの伝達効率\n",
        "*   バイアスはニューロンの感度\n",
        "*   上記の値を活性化関数で処理し出力とする\n",
        "*   活性化関数は、値を信号に変換する関数\n",
        "\n"
      ],
      "metadata": {
        "id": "KQ-fjaISsYiX"
      }
    },
    {
      "cell_type": "markdown",
      "source": [
        "**人工ニューラルネットワーク**\n",
        "\n",
        "*   ニューロンを層状に並べたもの\n",
        "*   数値を入力し、情報を伝播させ結果を出力する\n",
        "*   出力は確率などの予測値として解釈可能で、ネットワークにより予測を行うことが可能\n",
        "*   ニューロンや層の数を増やすことによって、高い表現力を発揮するようになる\n",
        "\n"
      ],
      "metadata": {
        "id": "AVIUuFLQtvJo"
      }
    },
    {
      "cell_type": "markdown",
      "source": [
        "**バックプロパゲーションによる学習**\n",
        "\n",
        "*   ニューラルネットワークは、出力と正解の誤差が小さくなる様に重みとバイアスを調整することで学習することができる\n",
        "*   一層ずつ遡るように誤差を伝播させて重みとバイアスを更新するが、このアルゴリズムは、バックプロパゲーション(誤差逆伝播報)と呼ばれる\n",
        "\n"
      ],
      "metadata": {
        "id": "G_XDAqkCufP7"
      }
    },
    {
      "cell_type": "markdown",
      "source": [
        "**ディープラーニングとは**\n",
        "\n",
        "*   多数の層からなるニューラルネットワークの学習のことを、ディープラーニング(深層学習)と呼ぶ\n",
        "*   ヒトの知能に部分的に迫る高い性能をしばしば発揮する\n",
        "\n"
      ],
      "metadata": {
        "id": "A1g8JDC5vNEl"
      }
    },
    {
      "cell_type": "markdown",
      "source": [
        "## **PyTorchとは**"
      ],
      "metadata": {
        "id": "IKDgWAoNvj7_"
      }
    },
    {
      "cell_type": "markdown",
      "source": [
        "\n",
        "\n",
        "*   Define by Run方式を採用し、データを流しながらネットワークの定義と演算を行う\n",
        "*   Numpyと類似した操作のTensorクラスによりデータを扱う\n",
        "\n"
      ],
      "metadata": {
        "id": "pnqCz7_-wCzc"
      }
    },
    {
      "cell_type": "markdown",
      "source": [
        "**各モジュール**\n",
        "\n",
        "\n",
        "*   autograd：Tensorの各要素による微分を自動で行う機能\n",
        "*   optim：様々な最適化アルゴリズムを実装したモジュール\n",
        "*   nn：モデルを構築するためによく使われている層を集めたモジュール\n",
        "\n"
      ],
      "metadata": {
        "id": "ymCv2_ZUwfbN"
      }
    },
    {
      "cell_type": "markdown",
      "source": [
        "## **Tensorについて**"
      ],
      "metadata": {
        "id": "3TMoSkV2xOUb"
      }
    },
    {
      "cell_type": "code",
      "execution_count": null,
      "metadata": {
        "id": "eDXj2r9JnA1A"
      },
      "outputs": [],
      "source": [
        "!pip list"
      ]
    },
    {
      "cell_type": "code",
      "source": [
        "import torch\n",
        "\n",
        "a = torch.tensor([1, 2, 3])\n",
        "print(a, type(a))"
      ],
      "metadata": {
        "colab": {
          "base_uri": "https://localhost:8080/"
        },
        "id": "tRbKvtfSxcYZ",
        "outputId": "d55af536-4e9a-473d-a4ff-b1c209f1a467"
      },
      "execution_count": 3,
      "outputs": [
        {
          "output_type": "stream",
          "name": "stdout",
          "text": [
            "tensor([1, 2, 3]) <class 'torch.Tensor'>\n"
          ]
        }
      ]
    },
    {
      "cell_type": "code",
      "source": [
        "# 2中のリストから生成\n",
        "b = torch.tensor([[1, 2],\n",
        "                  [3, 4]])\n",
        "print(b)\n",
        "\n",
        "# dtypeを指定し、倍精度のTensorにする\n",
        "c = torch.tensor([[1, 2],\n",
        "                  [3, 4]], dtype=torch.float64)\n",
        "print(c)\n",
        "\n",
        "# 0から9までの数値で初期化\n",
        "d = torch.arange(0, 10)\n",
        "print(d)\n",
        "\n",
        "# 全ての値が0の、2x3のTensor\n",
        "e = torch.zeros(2, 3)\n",
        "print(e)\n",
        "\n",
        "# 全ての値が乱数の、2x3のTensor\n",
        "f = torch.rand(2, 3)\n",
        "print(f)\n",
        "\n",
        "# Tensorの形状はsizeメソッドで取得\n",
        "print(f.size())"
      ],
      "metadata": {
        "colab": {
          "base_uri": "https://localhost:8080/"
        },
        "id": "skJzb6XJx0jo",
        "outputId": "d377bcf2-93aa-48ce-ebe9-5f7d8b886276"
      },
      "execution_count": 4,
      "outputs": [
        {
          "output_type": "stream",
          "name": "stdout",
          "text": [
            "tensor([[1, 2],\n",
            "        [3, 4]])\n",
            "tensor([[1., 2.],\n",
            "        [3., 4.]], dtype=torch.float64)\n",
            "tensor([0, 1, 2, 3, 4, 5, 6, 7, 8, 9])\n",
            "tensor([[0., 0., 0.],\n",
            "        [0., 0., 0.]])\n",
            "tensor([[0.7646, 0.7821, 0.4529],\n",
            "        [0.7776, 0.4118, 0.1279]])\n",
            "torch.Size([2, 3])\n"
          ]
        }
      ]
    },
    {
      "cell_type": "markdown",
      "source": [
        "**TensorとNumPyの配列の変換**\n",
        "\n",
        "numpy()メソッドでTensorをNumPyの配列に変換することができる\n",
        "\n",
        "また、from_numpy()関数でNumPyの配列をTensorに変換することができます"
      ],
      "metadata": {
        "id": "WaMPI8uozeg6"
      }
    },
    {
      "cell_type": "code",
      "source": [
        "# Tensor → NumPy\n",
        "a = torch.tensor([[1, 2],\n",
        "                  [3, 4]])\n",
        "b = a.numpy()\n",
        "print(b, type(b))\n",
        "\n",
        "# NumPy　→ Tensor\n",
        "c = torch.from_numpy(b)\n",
        "print(c, type(c))"
      ],
      "metadata": {
        "colab": {
          "base_uri": "https://localhost:8080/"
        },
        "id": "6tCtqmq8zKRw",
        "outputId": "befb35f3-8d85-4e9e-f9b9-31bbbcf51dd1"
      },
      "execution_count": 5,
      "outputs": [
        {
          "output_type": "stream",
          "name": "stdout",
          "text": [
            "[[1 2]\n",
            " [3 4]] <class 'numpy.ndarray'>\n",
            "tensor([[1, 2],\n",
            "        [3, 4]]) <class 'torch.Tensor'>\n"
          ]
        }
      ]
    },
    {
      "cell_type": "code",
      "source": [
        "a = torch.tensor([[1, 2, 3],\n",
        "                  [4, 5, 6]])\n",
        "\n",
        "# 2つのインデックスを指定\n",
        "print(a[0, 1])\n",
        "\n",
        "# 範囲の指定\n",
        "print(a[1:2, :2])\n",
        "\n",
        "# リストで複数のインデックスを指定\n",
        "print(a[:, [0, 2]])\n",
        "\n",
        "# 3より大きい要素のみを指定\n",
        "print(a[a > 3])\n",
        "\n",
        "# 要素の変更\n",
        "a[0, 2] = 11\n",
        "print(a)\n",
        "\n",
        "# 要素の一括変更\n",
        "a[:, 1] = 22\n",
        "print(a)\n",
        "\n",
        "# 10より大きい要素のみ変更\n",
        "a[a>10] = 33\n",
        "print(a)"
      ],
      "metadata": {
        "colab": {
          "base_uri": "https://localhost:8080/"
        },
        "id": "bJv0JDVk0M_3",
        "outputId": "cc0fab62-24c8-4bd0-8e3f-0936ff2d05e7"
      },
      "execution_count": 6,
      "outputs": [
        {
          "output_type": "stream",
          "name": "stdout",
          "text": [
            "tensor(2)\n",
            "tensor([[4, 5]])\n",
            "tensor([[1, 3],\n",
            "        [4, 6]])\n",
            "tensor([4, 5, 6])\n",
            "tensor([[ 1,  2, 11],\n",
            "        [ 4,  5,  6]])\n",
            "tensor([[ 1, 22, 11],\n",
            "        [ 4, 22,  6]])\n",
            "tensor([[ 1, 33, 33],\n",
            "        [ 4, 33,  6]])\n"
          ]
        }
      ]
    },
    {
      "cell_type": "markdown",
      "source": [
        "**Tensorの演算**\n",
        "\n",
        "Tensorによりベクトルや行列を表現することができる\n",
        "\n",
        "これらの演算は、一定のルールに基づき行われる"
      ],
      "metadata": {
        "id": "boplVS_2XLI8"
      }
    },
    {
      "cell_type": "code",
      "source": [
        "# ベクトル\n",
        "a = torch.tensor([1, 2, 3])\n",
        "b = torch.tensor([4, 5, 6])\n",
        "\n",
        "# 行列\n",
        "c = torch.tensor([[6, 5, 4],\n",
        "                  [3, 2, 1]])\n",
        "\n",
        "# ベクトルとスカラーの演算\n",
        "print(a + 3)\n",
        "\n",
        "# ベクトル同士の演算\n",
        "print(a + b)\n",
        "\n",
        "# 行列とスカラーの演算\n",
        "print(c + 2)\n",
        "\n",
        "# 行列とベクトルの演算(ブロードキャスト)\n",
        "print(c + a)\n",
        "\n",
        "# 行列通しの演算\n",
        "print(c + c)"
      ],
      "metadata": {
        "colab": {
          "base_uri": "https://localhost:8080/"
        },
        "id": "aZdzrFwxWidq",
        "outputId": "e19f0a34-09cc-490e-e14b-56e099e5a29c"
      },
      "execution_count": 8,
      "outputs": [
        {
          "output_type": "stream",
          "name": "stdout",
          "text": [
            "tensor([4, 5, 6])\n",
            "tensor([5, 7, 9])\n",
            "tensor([[8, 7, 6],\n",
            "        [5, 4, 3]])\n",
            "tensor([[7, 7, 7],\n",
            "        [4, 4, 4]])\n",
            "tensor([[12, 10,  8],\n",
            "        [ 6,  4,  2]])\n"
          ]
        }
      ]
    },
    {
      "cell_type": "markdown",
      "source": [
        "**様々な値の計算**\n",
        "\n",
        "平均値、合計値、最大値、最小値、などの様々な値を計算する関数とメソッドが用意されている"
      ],
      "metadata": {
        "id": "t1l6lrLeYUv8"
      }
    },
    {
      "cell_type": "code",
      "source": [
        "a = torch.tensor([[1, 2, 3],\n",
        "                  [4, 5, 6]],\n",
        "                 dtype=torch.float64)\n",
        "\n",
        "# 平均値を求める関数\n",
        "m = torch.mean(a)\n",
        "print(m.item()) # item()で値を取り出す\n",
        "\n",
        "# 平均値を求めるメソッド\n",
        "m = a.mean()\n",
        "print(m.item())\n",
        "\n",
        "# 列ごとの平均値(0で列1で行)\n",
        "print(a.mean(0))\n",
        "\n",
        "# 合計値\n",
        "print(torch.sum(a).item())\n",
        "\n",
        "# 最大値\n",
        "print(torch.max(a).item())\n",
        "\n",
        "# 最小値\n",
        "print(torch.min(a).item())"
      ],
      "metadata": {
        "colab": {
          "base_uri": "https://localhost:8080/"
        },
        "id": "LU5AKR71X_Ay",
        "outputId": "0682cdf8-4eaa-497d-e683-107c5547ca9d"
      },
      "execution_count": 12,
      "outputs": [
        {
          "output_type": "stream",
          "name": "stdout",
          "text": [
            "3.5\n",
            "3.5\n",
            "tensor([2.5000, 3.5000, 4.5000], dtype=torch.float64)\n",
            "21.0\n",
            "6.0\n",
            "1.0\n"
          ]
        }
      ]
    },
    {
      "cell_type": "markdown",
      "source": [
        "# **PyTorchで実装する簡単なディープラーニング**"
      ],
      "metadata": {
        "id": "9TgLZXx5alqs"
      }
    },
    {
      "cell_type": "markdown",
      "source": [
        "## **勾配効果法**"
      ],
      "metadata": {
        "id": "Ttnc_dx3avtS"
      }
    },
    {
      "cell_type": "markdown",
      "source": [
        "**勾配降下法とは**\n",
        "\n",
        "\n",
        "\n",
        "*   ニューラルネットワークの学習に使われる\n",
        "*   出力と正解の間の誤差を、曲線を滑り落ちる様にして最小化する\n",
        "\n"
      ],
      "metadata": {
        "id": "l9o-y4D1bcO_"
      }
    },
    {
      "cell_type": "markdown",
      "source": [
        "$$w ← w - \\eta \\frac{\\partial E}{\\partial w}$$\n",
        "\n",
        "$w$：重み\n",
        "\n",
        "$\\eta$：学習係数\n",
        "\n",
        "$E$：誤差"
      ],
      "metadata": {
        "id": "01vsA4qfcMny"
      }
    },
    {
      "cell_type": "markdown",
      "source": [
        "## **活性化関数と損失関数**"
      ],
      "metadata": {
        "id": "uNkFENAKeHJD"
      }
    },
    {
      "cell_type": "markdown",
      "source": [
        "**活性化関数**\n",
        "\n",
        "*   ニューロンの興奮/抑制状態を決める関数\n",
        "*   関数への入力を、興奮/抑制状態を表す値に変換する\n",
        "\n",
        "**シグモイド関数**\n",
        "\n",
        "$$y = \\frac{1}{1 + exp(-x)}$$\n",
        "\n",
        "最近使われているのがR**eLU関数**\n",
        "\n",
        "$$y = \\begin{Bmatrix}\n",
        "   0 (x≦0)\\\\\n",
        "   x (x > 0)\n",
        "\\end{Bmatrix}$$\n",
        "\n",
        "\n",
        "\n",
        "\n",
        "**損失関数(誤差関数)**\n",
        "\n",
        "*   出力と正解の間の誤差を定義する関数\n",
        "\n",
        "**二乗和誤差**\n",
        "\n",
        "$$E = \\frac{1}{2}\\sum_{k=1}^n(y_k - t_k)^2$$\n",
        "\n",
        "$$n：出力層のニューロン数$$\n",
        "\n",
        "**交差エントロピー誤差**\n",
        "\n",
        "*   多クラス分類問題でよく使われる損失関数\n",
        "*   多クラス分類問題では、正解は1つだけ1で残りは0\n",
        "\n",
        "$$E = -log(y) = -log(\\frac{exp(x)}{\\sum_{k=1}^nexp(x_k)})$$\n",
        "\n",
        "$$x：活性化関数への入力$$\n",
        "\n",
        "$$n：出力層のニューロン数$$"
      ],
      "metadata": {
        "id": "sMcO8e9neNGx"
      }
    },
    {
      "cell_type": "markdown",
      "source": [
        "## **最適化アルゴリズム**"
      ],
      "metadata": {
        "id": "xwqSR2UlivM4"
      }
    },
    {
      "cell_type": "code",
      "source": [],
      "metadata": {
        "id": "17cZ_nNQZuy6"
      },
      "execution_count": null,
      "outputs": []
    }
  ]
}