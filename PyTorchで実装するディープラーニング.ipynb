{
  "nbformat": 4,
  "nbformat_minor": 0,
  "metadata": {
    "colab": {
      "provenance": [],
      "collapsed_sections": [
        "d9lnjSKGrxq9",
        "sUwlS_e5r0fq",
        "IKDgWAoNvj7_",
        "3TMoSkV2xOUb",
        "9TgLZXx5alqs",
        "Ttnc_dx3avtS",
        "uNkFENAKeHJD",
        "xwqSR2UlivM4",
        "7arqKmM-oCjM",
        "A_jDWApn372n",
        "OrIsvivZc5eq"
      ],
      "toc_visible": true,
      "gpuType": "T4",
      "authorship_tag": "ABX9TyP5XTe20j5mgTLWD58J4zEl",
      "include_colab_link": true
    },
    "kernelspec": {
      "name": "python3",
      "display_name": "Python 3"
    },
    "language_info": {
      "name": "python"
    },
    "accelerator": "GPU",
    "gpuClass": "standard"
  },
  "cells": [
    {
      "cell_type": "markdown",
      "metadata": {
        "id": "view-in-github",
        "colab_type": "text"
      },
      "source": [
        "<a href=\"https://colab.research.google.com/github/sakamototaisei/python_colab/blob/main/PyTorch%E3%81%A7%E5%AE%9F%E8%A3%85%E3%81%99%E3%82%8B%E3%83%87%E3%82%A3%E3%83%BC%E3%83%97%E3%83%A9%E3%83%BC%E3%83%8B%E3%83%B3%E3%82%B0.ipynb\" target=\"_parent\"><img src=\"https://colab.research.google.com/assets/colab-badge.svg\" alt=\"Open In Colab\"/></a>"
      ]
    },
    {
      "cell_type": "markdown",
      "source": [
        "# **イントロダクション**"
      ],
      "metadata": {
        "id": "d9lnjSKGrxq9"
      }
    },
    {
      "cell_type": "markdown",
      "source": [
        "## **ディープラーニングとは**"
      ],
      "metadata": {
        "id": "sUwlS_e5r0fq"
      }
    },
    {
      "cell_type": "markdown",
      "source": [
        "**人工ニューロン**\n",
        "\n",
        "*   ニューロンへの入力に重みをかけた値を統ベて足し合わせて、バイアスを加える\n",
        "*   重みはシナプスの伝達効率\n",
        "*   バイアスはニューロンの感度\n",
        "*   上記の値を活性化関数で処理し出力とする\n",
        "*   活性化関数は、値を信号に変換する関数\n",
        "\n"
      ],
      "metadata": {
        "id": "KQ-fjaISsYiX"
      }
    },
    {
      "cell_type": "markdown",
      "source": [
        "**人工ニューラルネットワーク**\n",
        "\n",
        "*   ニューロンを層状に並べたもの\n",
        "*   数値を入力し、情報を伝播させ結果を出力する\n",
        "*   出力は確率などの予測値として解釈可能で、ネットワークにより予測を行うことが可能\n",
        "*   ニューロンや層の数を増やすことによって、高い表現力を発揮するようになる\n",
        "\n"
      ],
      "metadata": {
        "id": "AVIUuFLQtvJo"
      }
    },
    {
      "cell_type": "markdown",
      "source": [
        "**バックプロパゲーションによる学習**\n",
        "\n",
        "*   ニューラルネットワークは、出力と正解の誤差が小さくなる様に重みとバイアスを調整することで学習することができる\n",
        "*   一層ずつ遡るように誤差を伝播させて重みとバイアスを更新するが、このアルゴリズムは、バックプロパゲーション(誤差逆伝播報)と呼ばれる\n",
        "\n"
      ],
      "metadata": {
        "id": "G_XDAqkCufP7"
      }
    },
    {
      "cell_type": "markdown",
      "source": [
        "**ディープラーニングとは**\n",
        "\n",
        "*   多数の層からなるニューラルネットワークの学習のことを、ディープラーニング(深層学習)と呼ぶ\n",
        "*   ヒトの知能に部分的に迫る高い性能をしばしば発揮する\n",
        "\n"
      ],
      "metadata": {
        "id": "A1g8JDC5vNEl"
      }
    },
    {
      "cell_type": "markdown",
      "source": [
        "## **PyTorchとは**"
      ],
      "metadata": {
        "id": "IKDgWAoNvj7_"
      }
    },
    {
      "cell_type": "markdown",
      "source": [
        "\n",
        "\n",
        "*   Define by Run方式を採用し、データを流しながらネットワークの定義と演算を行う\n",
        "*   Numpyと類似した操作のTensorクラスによりデータを扱う\n",
        "\n"
      ],
      "metadata": {
        "id": "pnqCz7_-wCzc"
      }
    },
    {
      "cell_type": "markdown",
      "source": [
        "**各モジュール**\n",
        "\n",
        "\n",
        "*   autograd：Tensorの各要素による微分を自動で行う機能\n",
        "*   optim：様々な最適化アルゴリズムを実装したモジュール\n",
        "*   nn：モデルを構築するためによく使われている層を集めたモジュール\n",
        "\n"
      ],
      "metadata": {
        "id": "ymCv2_ZUwfbN"
      }
    },
    {
      "cell_type": "markdown",
      "source": [
        "## **Tensorについて**"
      ],
      "metadata": {
        "id": "3TMoSkV2xOUb"
      }
    },
    {
      "cell_type": "code",
      "execution_count": null,
      "metadata": {
        "id": "eDXj2r9JnA1A"
      },
      "outputs": [],
      "source": [
        "!pip list"
      ]
    },
    {
      "cell_type": "code",
      "source": [
        "import torch\n",
        "\n",
        "a = torch.tensor([1, 2, 3])\n",
        "print(a, type(a))"
      ],
      "metadata": {
        "colab": {
          "base_uri": "https://localhost:8080/"
        },
        "id": "tRbKvtfSxcYZ",
        "outputId": "d55af536-4e9a-473d-a4ff-b1c209f1a467"
      },
      "execution_count": null,
      "outputs": [
        {
          "output_type": "stream",
          "name": "stdout",
          "text": [
            "tensor([1, 2, 3]) <class 'torch.Tensor'>\n"
          ]
        }
      ]
    },
    {
      "cell_type": "code",
      "source": [
        "# 2中のリストから生成\n",
        "b = torch.tensor([[1, 2],\n",
        "                  [3, 4]])\n",
        "print(b)\n",
        "\n",
        "# dtypeを指定し、倍精度のTensorにする\n",
        "c = torch.tensor([[1, 2],\n",
        "                  [3, 4]], dtype=torch.float64)\n",
        "print(c)\n",
        "\n",
        "# 0から9までの数値で初期化\n",
        "d = torch.arange(0, 10)\n",
        "print(d)\n",
        "\n",
        "# 全ての値が0の、2x3のTensor\n",
        "e = torch.zeros(2, 3)\n",
        "print(e)\n",
        "\n",
        "# 全ての値が乱数の、2x3のTensor\n",
        "f = torch.rand(2, 3)\n",
        "print(f)\n",
        "\n",
        "# Tensorの形状はsizeメソッドで取得\n",
        "print(f.size())"
      ],
      "metadata": {
        "colab": {
          "base_uri": "https://localhost:8080/"
        },
        "id": "skJzb6XJx0jo",
        "outputId": "d377bcf2-93aa-48ce-ebe9-5f7d8b886276"
      },
      "execution_count": null,
      "outputs": [
        {
          "output_type": "stream",
          "name": "stdout",
          "text": [
            "tensor([[1, 2],\n",
            "        [3, 4]])\n",
            "tensor([[1., 2.],\n",
            "        [3., 4.]], dtype=torch.float64)\n",
            "tensor([0, 1, 2, 3, 4, 5, 6, 7, 8, 9])\n",
            "tensor([[0., 0., 0.],\n",
            "        [0., 0., 0.]])\n",
            "tensor([[0.7646, 0.7821, 0.4529],\n",
            "        [0.7776, 0.4118, 0.1279]])\n",
            "torch.Size([2, 3])\n"
          ]
        }
      ]
    },
    {
      "cell_type": "markdown",
      "source": [
        "**TensorとNumPyの配列の変換**\n",
        "\n",
        "numpy()メソッドでTensorをNumPyの配列に変換することができる\n",
        "\n",
        "また、from_numpy()関数でNumPyの配列をTensorに変換することができます"
      ],
      "metadata": {
        "id": "WaMPI8uozeg6"
      }
    },
    {
      "cell_type": "code",
      "source": [
        "# Tensor → NumPy\n",
        "a = torch.tensor([[1, 2],\n",
        "                  [3, 4]])\n",
        "b = a.numpy()\n",
        "print(b, type(b))\n",
        "\n",
        "# NumPy　→ Tensor\n",
        "c = torch.from_numpy(b)\n",
        "print(c, type(c))"
      ],
      "metadata": {
        "colab": {
          "base_uri": "https://localhost:8080/"
        },
        "id": "6tCtqmq8zKRw",
        "outputId": "befb35f3-8d85-4e9e-f9b9-31bbbcf51dd1"
      },
      "execution_count": null,
      "outputs": [
        {
          "output_type": "stream",
          "name": "stdout",
          "text": [
            "[[1 2]\n",
            " [3 4]] <class 'numpy.ndarray'>\n",
            "tensor([[1, 2],\n",
            "        [3, 4]]) <class 'torch.Tensor'>\n"
          ]
        }
      ]
    },
    {
      "cell_type": "code",
      "source": [
        "a = torch.tensor([[1, 2, 3],\n",
        "                  [4, 5, 6]])\n",
        "\n",
        "# 2つのインデックスを指定\n",
        "print(a[0, 1])\n",
        "\n",
        "# 範囲の指定\n",
        "print(a[1:2, :2])\n",
        "\n",
        "# リストで複数のインデックスを指定\n",
        "print(a[:, [0, 2]])\n",
        "\n",
        "# 3より大きい要素のみを指定\n",
        "print(a[a > 3])\n",
        "\n",
        "# 要素の変更\n",
        "a[0, 2] = 11\n",
        "print(a)\n",
        "\n",
        "# 要素の一括変更\n",
        "a[:, 1] = 22\n",
        "print(a)\n",
        "\n",
        "# 10より大きい要素のみ変更\n",
        "a[a>10] = 33\n",
        "print(a)"
      ],
      "metadata": {
        "colab": {
          "base_uri": "https://localhost:8080/"
        },
        "id": "bJv0JDVk0M_3",
        "outputId": "cc0fab62-24c8-4bd0-8e3f-0936ff2d05e7"
      },
      "execution_count": null,
      "outputs": [
        {
          "output_type": "stream",
          "name": "stdout",
          "text": [
            "tensor(2)\n",
            "tensor([[4, 5]])\n",
            "tensor([[1, 3],\n",
            "        [4, 6]])\n",
            "tensor([4, 5, 6])\n",
            "tensor([[ 1,  2, 11],\n",
            "        [ 4,  5,  6]])\n",
            "tensor([[ 1, 22, 11],\n",
            "        [ 4, 22,  6]])\n",
            "tensor([[ 1, 33, 33],\n",
            "        [ 4, 33,  6]])\n"
          ]
        }
      ]
    },
    {
      "cell_type": "markdown",
      "source": [
        "**Tensorの演算**\n",
        "\n",
        "Tensorによりベクトルや行列を表現することができる\n",
        "\n",
        "これらの演算は、一定のルールに基づき行われる"
      ],
      "metadata": {
        "id": "boplVS_2XLI8"
      }
    },
    {
      "cell_type": "code",
      "source": [
        "# ベクトル\n",
        "a = torch.tensor([1, 2, 3])\n",
        "b = torch.tensor([4, 5, 6])\n",
        "\n",
        "# 行列\n",
        "c = torch.tensor([[6, 5, 4],\n",
        "                  [3, 2, 1]])\n",
        "\n",
        "# ベクトルとスカラーの演算\n",
        "print(a + 3)\n",
        "\n",
        "# ベクトル同士の演算\n",
        "print(a + b)\n",
        "\n",
        "# 行列とスカラーの演算\n",
        "print(c + 2)\n",
        "\n",
        "# 行列とベクトルの演算(ブロードキャスト)\n",
        "print(c + a)\n",
        "\n",
        "# 行列通しの演算\n",
        "print(c + c)"
      ],
      "metadata": {
        "colab": {
          "base_uri": "https://localhost:8080/"
        },
        "id": "aZdzrFwxWidq",
        "outputId": "e19f0a34-09cc-490e-e14b-56e099e5a29c"
      },
      "execution_count": null,
      "outputs": [
        {
          "output_type": "stream",
          "name": "stdout",
          "text": [
            "tensor([4, 5, 6])\n",
            "tensor([5, 7, 9])\n",
            "tensor([[8, 7, 6],\n",
            "        [5, 4, 3]])\n",
            "tensor([[7, 7, 7],\n",
            "        [4, 4, 4]])\n",
            "tensor([[12, 10,  8],\n",
            "        [ 6,  4,  2]])\n"
          ]
        }
      ]
    },
    {
      "cell_type": "markdown",
      "source": [
        "**様々な値の計算**\n",
        "\n",
        "平均値、合計値、最大値、最小値、などの様々な値を計算する関数とメソッドが用意されている"
      ],
      "metadata": {
        "id": "t1l6lrLeYUv8"
      }
    },
    {
      "cell_type": "code",
      "source": [
        "a = torch.tensor([[1, 2, 3],\n",
        "                  [4, 5, 6]],\n",
        "                 dtype=torch.float64)\n",
        "\n",
        "# 平均値を求める関数\n",
        "m = torch.mean(a)\n",
        "print(m.item()) # item()で値を取り出す\n",
        "\n",
        "# 平均値を求めるメソッド\n",
        "m = a.mean()\n",
        "print(m.item())\n",
        "\n",
        "# 列ごとの平均値(0で列1で行)\n",
        "print(a.mean(0))\n",
        "\n",
        "# 合計値\n",
        "print(torch.sum(a).item())\n",
        "\n",
        "# 最大値\n",
        "print(torch.max(a).item())\n",
        "\n",
        "# 最小値\n",
        "print(torch.min(a).item())"
      ],
      "metadata": {
        "colab": {
          "base_uri": "https://localhost:8080/"
        },
        "id": "LU5AKR71X_Ay",
        "outputId": "0682cdf8-4eaa-497d-e683-107c5547ca9d"
      },
      "execution_count": null,
      "outputs": [
        {
          "output_type": "stream",
          "name": "stdout",
          "text": [
            "3.5\n",
            "3.5\n",
            "tensor([2.5000, 3.5000, 4.5000], dtype=torch.float64)\n",
            "21.0\n",
            "6.0\n",
            "1.0\n"
          ]
        }
      ]
    },
    {
      "cell_type": "markdown",
      "source": [
        "# **PyTorchで実装する簡単なディープラーニング**"
      ],
      "metadata": {
        "id": "9TgLZXx5alqs"
      }
    },
    {
      "cell_type": "markdown",
      "source": [
        "## **勾配効果法**"
      ],
      "metadata": {
        "id": "Ttnc_dx3avtS"
      }
    },
    {
      "cell_type": "markdown",
      "source": [
        "**勾配降下法とは**\n",
        "\n",
        "\n",
        "\n",
        "*   ニューラルネットワークの学習に使われる\n",
        "*   出力と正解の間の誤差を、曲線を滑り落ちる様にして最小化する\n",
        "\n"
      ],
      "metadata": {
        "id": "l9o-y4D1bcO_"
      }
    },
    {
      "cell_type": "markdown",
      "source": [
        "$$w ← w - \\eta \\frac{\\partial E}{\\partial w}$$\n",
        "\n",
        "$$w：重み$$\n",
        "\n",
        "$$\\eta：学習係数$$\n",
        "\n",
        "$$E：誤差$$"
      ],
      "metadata": {
        "id": "01vsA4qfcMny"
      }
    },
    {
      "cell_type": "markdown",
      "source": [
        "## **活性化関数と損失関数**"
      ],
      "metadata": {
        "id": "uNkFENAKeHJD"
      }
    },
    {
      "cell_type": "markdown",
      "source": [
        "**活性化関数**\n",
        "\n",
        "*   ニューロンの興奮/抑制状態を決める関数\n",
        "*   関数への入力を、興奮/抑制状態を表す値に変換する\n",
        "\n",
        "**シグモイド関数**\n",
        "\n",
        "$$y = \\frac{1}{1 + exp(-x)}$$\n",
        "\n",
        "最近使われているのがR**eLU関数**\n",
        "\n",
        "$$y = \\begin{Bmatrix}\n",
        "   0 (x≦0)\\\\\n",
        "   x (x > 0)\n",
        "\\end{Bmatrix}$$\n",
        "\n",
        "\n",
        "\n",
        "\n",
        "**損失関数(誤差関数)**\n",
        "\n",
        "*   出力と正解の間の誤差を定義する関数\n",
        "\n",
        "**二乗和誤差**\n",
        "\n",
        "$$E = \\frac{1}{2}\\sum_{k=1}^n(y_k - t_k)^2$$\n",
        "\n",
        "$$n：出力層のニューロン数$$\n",
        "\n",
        "**交差エントロピー誤差**\n",
        "\n",
        "*   多クラス分類問題でよく使われる損失関数\n",
        "*   多クラス分類問題では、正解は1つだけ1で残りは0\n",
        "\n",
        "$$E = -log(y) = -log(\\frac{exp(x)}{\\sum_{k=1}^nexp(x_k)})$$\n",
        "\n",
        "$$x：活性化関数への入力$$\n",
        "\n",
        "$$n：出力層のニューロン数$$"
      ],
      "metadata": {
        "id": "sMcO8e9neNGx"
      }
    },
    {
      "cell_type": "markdown",
      "source": [
        "## **最適化アルゴリズム**"
      ],
      "metadata": {
        "id": "xwqSR2UlivM4"
      }
    },
    {
      "cell_type": "markdown",
      "source": [
        "\n",
        "\n",
        "*   パラメータを調整し誤差を最小化するためのアルゴリズム\n",
        "*   ex)夜の山岳地帯で谷底を目指すためのアルゴリズム\n",
        "\n"
      ],
      "metadata": {
        "id": "2_etA74PkSQA"
      }
    },
    {
      "cell_type": "markdown",
      "source": [
        "**SGD(確率的勾配降下法)**\n",
        "\n",
        "訓練データからランダムにデータを取り出すため確率的\n",
        "\n",
        "$$w ← w - \\eta \\frac{\\partial E}{\\partial w}$$\n",
        "\n",
        "$$w：重み$$\n",
        "\n",
        "$$\\eta：学習係数$$\n",
        "\n",
        "$$E：誤差$$"
      ],
      "metadata": {
        "id": "5tPJ8Ps4kwVA"
      }
    },
    {
      "cell_type": "markdown",
      "source": [
        "**AdaGrad**\n",
        "\n",
        "\n",
        "*   学習が進むとともにパラメータの更新量が低下\n",
        "*   最初を広い領域で探索し、次第に探索範囲を絞る\n",
        "\n",
        "$$h ← h + (\\frac{\\partial E}{\\partial w})^2$$\n",
        "\n",
        "$$w ← w - \\eta \\frac{1}{\\sqrt{h}}\\frac{\\partial E}{\\partial w}$$\n",
        "\n",
        "$$w：重み$$\n",
        "\n",
        "$$\\eta：学習係数$$\n",
        "\n",
        "$$E：誤差$$"
      ],
      "metadata": {
        "id": "6eSI_BB-lkb_"
      }
    },
    {
      "cell_type": "markdown",
      "source": [
        " **Adam**\n",
        "\n",
        "*   学習の進行度合いや過去の履歴に基づき、更新量が調整される\n",
        "\n",
        "\n"
      ],
      "metadata": {
        "id": "MnLJrY9enjW2"
      }
    },
    {
      "cell_type": "markdown",
      "source": [
        "## **簡単なディープラーニングの実装**"
      ],
      "metadata": {
        "id": "7arqKmM-oCjM"
      }
    },
    {
      "cell_type": "markdown",
      "source": [
        "手描き文字画像の確認"
      ],
      "metadata": {
        "id": "7bGerilaoOHu"
      }
    },
    {
      "cell_type": "code",
      "source": [
        "import numpy as np\n",
        "import matplotlib.pyplot as plt\n",
        "from sklearn import datasets\n",
        "\n",
        "digits_data = datasets.load_digits()\n",
        "\n",
        "n_img = 10 # 表示する画像の数\n",
        "plt.figure(figsize=(10, 4))\n",
        "\n",
        "for i in range(n_img):\n",
        "    ax = plt.subplot(2, 5, i+1)\n",
        "    plt.imshow(digits_data.data[i].reshape(8, 8), cmap='Greys_r')\n",
        "    ax.get_xaxis().set_visible(False) # 軸を非表示に\n",
        "    ax.get_yaxis().set_visible(False)\n",
        "plt.show()\n",
        "\n",
        "print('データの形状：', digits_data.data.shape)\n",
        "print('ラベル：', digits_data.target[:n_img])"
      ],
      "metadata": {
        "colab": {
          "base_uri": "https://localhost:8080/",
          "height": 373
        },
        "id": "eWJdC1ltoCZN",
        "outputId": "1cf71791-ea6a-4f32-ce62-c1bea7982868"
      },
      "execution_count": 4,
      "outputs": [
        {
          "output_type": "display_data",
          "data": {
            "text/plain": [
              "<Figure size 1000x400 with 10 Axes>"
            ],
            "image/png": "[encoded data removed]"
          },
          "metadata": {}
        },
        {
          "output_type": "stream",
          "name": "stdout",
          "text": [
            "データの形状： (1797, 64)\n",
            "ラベル： [0 1 2 3 4 5 6 7 8 9]\n"
          ]
        }
      ]
    },
    {
      "cell_type": "markdown",
      "source": [
        "データを訓練用とテスト用に分割"
      ],
      "metadata": {
        "id": "eN-efHDnsQdF"
      }
    },
    {
      "cell_type": "code",
      "source": [
        "import torch\n",
        "from sklearn.model_selection import train_test_split\n",
        "\n",
        "digit_images = digits_data.data\n",
        "labels = digits_data.target\n",
        "x_train, x_test, t_train, t_test = train_test_split(digit_images, labels) # 25%がテスト用\n",
        "\n",
        "# Tensorに変換\n",
        "x_train = torch.tensor(x_train, dtype=torch.float32)\n",
        "t_train = torch.tensor(t_train, dtype=torch.int64)\n",
        "x_test = torch.tensor(x_test, dtype=torch.float32)\n",
        "t_test = torch.tensor(t_test, dtype=torch.int64)"
      ],
      "metadata": {
        "id": "17cZ_nNQZuy6"
      },
      "execution_count": 5,
      "outputs": []
    },
    {
      "cell_type": "markdown",
      "source": [
        "モデルを構築\n",
        "\n",
        "nnモジュールのSequentialクラスによりモデルを構築する"
      ],
      "metadata": {
        "id": "bcke4c0wtv1j"
      }
    },
    {
      "cell_type": "code",
      "source": [
        "from torch import nn\n",
        "\n",
        "net = nn.Sequential(\n",
        "    nn.Linear(64, 32), # 全結合層\n",
        "    nn.ReLU(),\n",
        "    nn.Linear(32, 16),\n",
        "    nn.ReLU(),\n",
        "    nn.Linear(16, 10) # 0~9の分類をするため出力は10となる\n",
        ")\n",
        "print(net)"
      ],
      "metadata": {
        "colab": {
          "base_uri": "https://localhost:8080/"
        },
        "id": "Kfxe5cWKtrio",
        "outputId": "54cf6ec8-25f2-4bca-f0e1-943a0861b0ec"
      },
      "execution_count": 6,
      "outputs": [
        {
          "output_type": "stream",
          "name": "stdout",
          "text": [
            "Sequential(\n",
            "  (0): Linear(in_features=64, out_features=32, bias=True)\n",
            "  (1): ReLU()\n",
            "  (2): Linear(in_features=32, out_features=16, bias=True)\n",
            "  (3): ReLU()\n",
            "  (4): Linear(in_features=16, out_features=10, bias=True)\n",
            ")\n"
          ]
        }
      ]
    },
    {
      "cell_type": "markdown",
      "source": [
        "学習\n",
        "\n",
        "モデルを訓練する\n",
        "\n",
        "今回は、損失関数に交差エントロピー誤差を、最適化アルゴリズムにSGD(確率的勾配降下法)を設定する\n",
        "\n",
        "順伝播は訓練データ、テストデータ両者で行い誤差を計算する\n",
        "\n",
        "逆伝播を行うのは、訓練データのみ"
      ],
      "metadata": {
        "id": "KGkm9dCpu1qn"
      }
    },
    {
      "cell_type": "code",
      "source": [
        "from torch import optim\n",
        "\n",
        "# 交差エントロピー誤差関数\n",
        "loss_fnc = nn.CrossEntropyLoss()\n",
        "\n",
        "# SGD\n",
        "optimizer = optim.SGD(net.parameters(), lr=0.01) # 学習率は0.01\n",
        "\n",
        "# 損失のログ\n",
        "record_loss_train = []\n",
        "record_loss_test = []\n",
        "\n",
        "# 1000エポック学習\n",
        "for i in range(1000):\n",
        "    # 勾配を0に\n",
        "    optimizer.zero_grad()\n",
        "\n",
        "    # 順伝播\n",
        "    y_train = net(x_train)\n",
        "    y_test = net(x_test)\n",
        "\n",
        "    # 誤差を求める\n",
        "    loss_train = loss_fnc(y_train, t_train)\n",
        "    loss_test = loss_fnc(y_test, t_test)\n",
        "    record_loss_train.append(loss_train.item())\n",
        "    record_loss_test.append(loss_test.item())\n",
        "\n",
        "    # 逆伝播(勾配を求める)\n",
        "    loss_train.backward()\n",
        "\n",
        "    # パラメータの更新\n",
        "    optimizer.step()\n",
        "\n",
        "    if i % 100 == 0:\n",
        "        print('Epoch:', i, 'Loss_Train:', loss_train.item(), 'Loss_Test:', loss_test.item())"
      ],
      "metadata": {
        "colab": {
          "base_uri": "https://localhost:8080/"
        },
        "id": "lnrYi57auvuG",
        "outputId": "c35cef65-c82d-4de5-c5f9-15e64fedcfab"
      },
      "execution_count": 7,
      "outputs": [
        {
          "output_type": "stream",
          "name": "stdout",
          "text": [
            "Epoch: 0 Loss_Train: 2.519376039505005 Loss_Test: 2.4164841175079346\n",
            "Epoch: 100 Loss_Train: 1.115484356880188 Loss_Test: 1.1585962772369385\n",
            "Epoch: 200 Loss_Train: 0.5136207342147827 Loss_Test: 0.6007373332977295\n",
            "Epoch: 300 Loss_Train: 0.3060990273952484 Loss_Test: 0.4001491069793701\n",
            "Epoch: 400 Loss_Train: 0.21064098179340363 Loss_Test: 0.30333393812179565\n",
            "Epoch: 500 Loss_Train: 0.1610938459634781 Loss_Test: 0.25424349308013916\n",
            "Epoch: 600 Loss_Train: 0.1311330646276474 Loss_Test: 0.22710195183753967\n",
            "Epoch: 700 Loss_Train: 0.11102744936943054 Loss_Test: 0.2100570946931839\n",
            "Epoch: 800 Loss_Train: 0.09633415192365646 Loss_Test: 0.19861185550689697\n",
            "Epoch: 900 Loss_Train: 0.08503606170415878 Loss_Test: 0.1905619204044342\n"
          ]
        }
      ]
    },
    {
      "cell_type": "markdown",
      "source": [
        "誤差の推移\n",
        "\n",
        "訓練データ、テストデータで誤差の推移をグラフ化する"
      ],
      "metadata": {
        "id": "A5qcvZ_o0tLO"
      }
    },
    {
      "cell_type": "code",
      "source": [
        "plt.plot(range(len(record_loss_train)), record_loss_train, label='Train')\n",
        "plt.plot(range(len(record_loss_test)), record_loss_test, label='Test')\n",
        "plt.legend()\n",
        "\n",
        "plt.xlabel('Epochs')\n",
        "plt.ylabel('Error')\n",
        "plt.show()"
      ],
      "metadata": {
        "colab": {
          "base_uri": "https://localhost:8080/",
          "height": 449
        },
        "id": "v_AjE_gozx09",
        "outputId": "c85009d4-9409-40cf-a493-97ccfbe58a9e"
      },
      "execution_count": 8,
      "outputs": [
        {
          "output_type": "display_data",
          "data": {
            "text/plain": [
              "<Figure size 640x480 with 1 Axes>"
            ],
            "image/png": "[encoded data removed]"
          },
          "metadata": {}
        }
      ]
    },
    {
      "cell_type": "markdown",
      "source": [
        "正解率\n",
        "\n",
        "モデルの性能を把握するために、テストデータを使い正解率を測定する"
      ],
      "metadata": {
        "id": "u18A3Ycs1Z6L"
      }
    },
    {
      "cell_type": "code",
      "source": [
        "y_test = net(x_test)\n",
        "count = (y_test.argmax(1) == t_test).sum().item()\n",
        "print(count)\n",
        "print(len(y_test))\n",
        "print('正解率：', str(count/len(y_test)*100) + '%')"
      ],
      "metadata": {
        "colab": {
          "base_uri": "https://localhost:8080/"
        },
        "id": "h3_8HNMy1bVG",
        "outputId": "ee2eeb45-4c3d-453f-8286-134197709cbd"
      },
      "execution_count": 12,
      "outputs": [
        {
          "output_type": "stream",
          "name": "stdout",
          "text": [
            "427\n",
            "450\n",
            "正解率： 94.88888888888889%\n"
          ]
        }
      ]
    },
    {
      "cell_type": "markdown",
      "source": [
        "訓練済みのモデルを使った予測\n",
        "\n",
        "訓練済みのモデルを使って画像を入力し、モデルが機能していることを確かめる"
      ],
      "metadata": {
        "id": "yQ_ADgVf2dQG"
      }
    },
    {
      "cell_type": "code",
      "source": [
        "img_id = 8\n",
        "x_pred = digit_images[img_id]\n",
        "image = x_pred.reshape(8, 8)\n",
        "plt.imshow(image, cmap='Greys_r')\n",
        "plt.show()\n",
        "\n",
        "x_pred = torch.tensor(x_pred, dtype=torch.float32)\n",
        "y_pred = net(x_pred)\n",
        "print('正解：', labels[img_id], '予測結果:', y_pred.argmax().item())"
      ],
      "metadata": {
        "colab": {
          "base_uri": "https://localhost:8080/",
          "height": 447
        },
        "id": "qD_7w4sf1bSO",
        "outputId": "1ef17680-1dea-462d-e776-01e74cdd92cc"
      },
      "execution_count": 15,
      "outputs": [
        {
          "output_type": "display_data",
          "data": {
            "text/plain": [
              "<Figure size 640x480 with 1 Axes>"
            ],
            "image/png": "[encoded data removed]"
          },
          "metadata": {}
        },
        {
          "output_type": "stream",
          "name": "stdout",
          "text": [
            "正解： 8 予測結果: 8\n"
          ]
        }
      ]
    },
    {
      "cell_type": "markdown",
      "source": [
        "# **PyTorchの様々な機能**"
      ],
      "metadata": {
        "id": "DHQN32Cx33Eb"
      }
    },
    {
      "cell_type": "markdown",
      "source": [
        "## **自動微分**"
      ],
      "metadata": {
        "id": "A_jDWApn372n"
      }
    },
    {
      "cell_type": "markdown",
      "source": [
        "**Autograd(自動微分)**\n",
        "\n",
        "\n",
        "*   Tensorの各要素による微分を自動で行う機能\n",
        "*   演算内容と経路(計算グラフ)が保持され、順伝播の経路を遡って「勾配」が計算される\n",
        "*   複雑な計算グラフであっても簡単に勾配を計算することができる\n",
        "\n"
      ],
      "metadata": {
        "id": "xAHo1ezSV8S_"
      }
    },
    {
      "cell_type": "markdown",
      "source": [
        "Tensorは、requires_grad属性をTrueに設定することで計算過程が記録される様になる"
      ],
      "metadata": {
        "id": "KKdXMFfsXQrV"
      }
    },
    {
      "cell_type": "code",
      "source": [
        "import torch\n",
        "\n",
        "x = torch.ones(2, 3, requires_grad=True)\n",
        "print(x)"
      ],
      "metadata": {
        "colab": {
          "base_uri": "https://localhost:8080/"
        },
        "id": "6q9EryF1V8D5",
        "outputId": "fda9f522-cc26-4a0c-d1f6-d6a9e8c1b85e"
      },
      "execution_count": 1,
      "outputs": [
        {
          "output_type": "stream",
          "name": "stdout",
          "text": [
            "tensor([[1., 1., 1.],\n",
            "        [1., 1., 1.]], requires_grad=True)\n"
          ]
        }
      ]
    },
    {
      "cell_type": "markdown",
      "source": [
        "Tensorの演算と自動微分\n",
        "\n",
        "requires_grad属性がTrueであれば、演算によりgrad_fnが記録される\n",
        "\n",
        "grad_fnは、このTensorを作った演算です\n",
        "\n",
        "以下は、xに足し算を行って得られたyのgrad_fnを表示している"
      ],
      "metadata": {
        "id": "IzFR6Vt5XwiJ"
      }
    },
    {
      "cell_type": "code",
      "source": [
        "y = x + 2\n",
        "print(y)\n",
        "print(y.grad_fn)"
      ],
      "metadata": {
        "colab": {
          "base_uri": "https://localhost:8080/"
        },
        "id": "yB2b1DzJ1bP1",
        "outputId": "528e3e29-8947-4f70-b9cd-d2838daff0d9"
      },
      "execution_count": 2,
      "outputs": [
        {
          "output_type": "stream",
          "name": "stdout",
          "text": [
            "tensor([[3., 3., 3.],\n",
            "        [3., 3., 3.]], grad_fn=<AddBackward0>)\n",
            "<AddBackward0 object at 0x7f569840a680>\n"
          ]
        }
      ]
    },
    {
      "cell_type": "markdown",
      "source": [
        "掛け算、mean関数などの演算も、grad_fnに記録される"
      ],
      "metadata": {
        "id": "Lf-PHsrqYgQ9"
      }
    },
    {
      "cell_type": "code",
      "source": [
        "z = y * 3\n",
        "print(z)\n",
        "\n",
        "out = z.mean()\n",
        "print(out)"
      ],
      "metadata": {
        "colab": {
          "base_uri": "https://localhost:8080/"
        },
        "id": "ihY7KoQ71bNP",
        "outputId": "d3dae8cf-b3b1-445c-c728-c5926be63825"
      },
      "execution_count": 3,
      "outputs": [
        {
          "output_type": "stream",
          "name": "stdout",
          "text": [
            "tensor([[9., 9., 9.],\n",
            "        [9., 9., 9.]], grad_fn=<MulBackward0>)\n",
            "tensor(9., grad_fn=<MeanBackward0>)\n"
          ]
        }
      ]
    },
    {
      "cell_type": "markdown",
      "source": [
        "**勾配の計算**\n",
        "\n",
        "backwardメソッドは、逆伝播により勾配を計算する\n",
        "\n",
        "その際に、記録されている演算と経路が使用されている\n",
        "\n",
        "以下の例では、aに2をかけてかけてbとしていますが、backwardによりaの変化に対するbの変化の割合、すなわち勾配が計算される"
      ],
      "metadata": {
        "id": "J-zHMwWxYxvT"
      }
    },
    {
      "cell_type": "code",
      "source": [
        "a = torch.tensor([1.0], requires_grad=True)\n",
        "b = a * 2 # bの変化量はaの2倍\n",
        "b.backward() # 逆伝播\n",
        "print(a.grad) # aの勾配(aの変化に対するbの変化の割合)"
      ],
      "metadata": {
        "colab": {
          "base_uri": "https://localhost:8080/"
        },
        "id": "_VT6DLNb1bKX",
        "outputId": "99626652-fc29-4bf6-91f3-c987b9c6f1d0"
      },
      "execution_count": 5,
      "outputs": [
        {
          "output_type": "stream",
          "name": "stdout",
          "text": [
            "tensor([2.])\n"
          ]
        }
      ]
    },
    {
      "cell_type": "markdown",
      "source": [
        "より複雑な経路を持つ演算でも、backwardにより勾配を計算することができます"
      ],
      "metadata": {
        "id": "r_Be1OXmaFml"
      }
    },
    {
      "cell_type": "code",
      "source": [
        "def calc(a):\n",
        "    b = a*2 + 1\n",
        "    c = b*b\n",
        "    d = c/(c + 2)\n",
        "    e = d.mean()\n",
        "    return e\n",
        "\n",
        "x = [1.0, 2.0, 3.0]\n",
        "x = torch.tensor(x, requires_grad=True)\n",
        "y = calc(x)\n",
        "y.backward()\n",
        "print(x.grad.tolist()) # xの勾配(xの各値の変化に対するyの変化の割合)"
      ],
      "metadata": {
        "colab": {
          "base_uri": "https://localhost:8080/"
        },
        "id": "fwRC_nwM1bHg",
        "outputId": "eb364332-e954-4a8a-f521-c6742d5dd056"
      },
      "execution_count": 8,
      "outputs": [
        {
          "output_type": "stream",
          "name": "stdout",
          "text": [
            "[0.06611569225788116, 0.01828990876674652, 0.007176725193858147]\n"
          ]
        }
      ]
    },
    {
      "cell_type": "markdown",
      "source": [
        "cの各値付近における勾配が計算できました\n",
        "\n",
        "勾配が正しく計算できていることを確認する\n",
        "\n",
        "xを微小変化させて、xの微小変化に対するyの微小変化の割合を求める"
      ],
      "metadata": {
        "id": "XUnoxzS4bJ6s"
      }
    },
    {
      "cell_type": "code",
      "source": [
        "delta = 0.001 # xの微小変化\n",
        "\n",
        "x = [1.0, 2.0, 3.0]\n",
        "x = torch.tensor(x, requires_grad=True)\n",
        "y = calc(x).item()\n",
        "\n",
        "x_1 = [1.0+delta, 2.0, 3.0]\n",
        "x_1 = torch.tensor(x_1, requires_grad=True)\n",
        "y_1 = calc(x_1).item()\n",
        "\n",
        "x_2 = [1.0, 2.0+delta, 3.0]\n",
        "x_2 = torch.tensor(x_2, requires_grad=True)\n",
        "y_2 = calc(x_2).item()\n",
        "\n",
        "x_3 = [1.0, 2.0, 3.0+delta]\n",
        "x_3 = torch.tensor(x_3, requires_grad=True)\n",
        "y_3 = calc(x_3).item()\n",
        "\n",
        "# 勾配の計算\n",
        "grad_1 = (y_1 - y) / delta\n",
        "grad_2 = (y_2 - y) / delta\n",
        "grad_3 = (y_3 - y) / delta\n",
        "\n",
        "print(grad_1, grad_2, grad_3)"
      ],
      "metadata": {
        "colab": {
          "base_uri": "https://localhost:8080/"
        },
        "id": "Yq66FPYgaRCG",
        "outputId": "b9eee35f-e459-48d3-ae93-53860f8f1cbb"
      },
      "execution_count": 9,
      "outputs": [
        {
          "output_type": "stream",
          "name": "stdout",
          "text": [
            "0.06604194641113281 0.018298625946044922 0.007152557373046875\n"
          ]
        }
      ]
    },
    {
      "cell_type": "markdown",
      "source": [
        "xの微小変化を0.001と小さい値にしましたが、yの微小変化との割合は、backwardによる計算結果とほぼ同じになる\n",
        "\n",
        "backwardにより正しく勾配を計算できていることが確認できました"
      ],
      "metadata": {
        "id": "5s7KUEg8cg5-"
      }
    },
    {
      "cell_type": "markdown",
      "source": [
        "## **エポックとバッチ**"
      ],
      "metadata": {
        "id": "OrIsvivZc5eq"
      }
    },
    {
      "cell_type": "markdown",
      "source": [
        "**エポック(epoch)**\n",
        "\n",
        "*   全ての訓練(学習)データを一回学習することを、1エポックと数える\n",
        "*   1エポックで、訓練データを全て使い切る\n",
        "\n",
        "**バッチ(batch)**\n",
        "\n",
        "*   入力と正解のペア(ここではサンプルと呼ぶ)の集合\n",
        "*   バッチごとに学習が行われる\n",
        "*   「バッチサイズ」はバッチに含まれるサンプルの数\n",
        "*   1エポック分の訓練データは、複数のバッチに分割される\n",
        "\n",
        "\n",
        "\n"
      ],
      "metadata": {
        "id": "fpsIdNepdAcL"
      }
    },
    {
      "cell_type": "markdown",
      "source": [
        "**バッチと学習方法**\n",
        "\n",
        "バッチ学習\n",
        "\n",
        "*   バッチサイズは訓練データの数に等しい\n",
        "*   全ての訓練データを一度の学習で使い切る\n",
        "\n",
        "オンライン学習\n",
        "\n",
        "*   バッチサイズは1で、1エポックの学習回数は訓練データの数に等しい\n",
        "\n",
        "ミニバッチ学習\n",
        "\n",
        "*   訓練データを小さなサイズのバッチに分割し、バッチごとに学習する\n",
        "\n",
        "\n",
        "\n",
        "\n",
        "\n"
      ],
      "metadata": {
        "id": "EF6dL6eWiItB"
      }
    },
    {
      "cell_type": "markdown",
      "source": [
        "**ミニバッチ学習の例**\n",
        "\n",
        "訓練データのサンプル数が1000の場合\n",
        "\n",
        "*   1000のサンプルを全て使い切ると1エポック\n",
        "*   ミニバッチ学習の場合、例えばバッチサイズを50に設定すると、1エポックあたり20回学習が行われる\n",
        "\n"
      ],
      "metadata": {
        "id": "2r9s0f_zjBd6"
      }
    },
    {
      "cell_type": "markdown",
      "source": [
        "## **DataLoader**"
      ],
      "metadata": {
        "id": "rMFAUIRyj2xw"
      }
    },
    {
      "cell_type": "markdown",
      "source": [
        "\n",
        "\n",
        "*   データセットからデータをバッチサイズごとにまとめて返す\n",
        "*   バッチはランダムに取得することが可能\n",
        "*   データを読み込み、前処理、ミニバッチ法を簡単に実装することができる\n",
        "\n"
      ],
      "metadata": {
        "id": "yfzDj3f7kmPr"
      }
    },
    {
      "cell_type": "markdown",
      "source": [
        "データの読み込み\n",
        "\n",
        "torchvision.datasetsを使って手書き文字のデータを読み込み、DataLoderを設定する\n",
        "\n",
        "torchvision.datasetsにはMNISTの他にも様々なデータセットが用意されている"
      ],
      "metadata": {
        "id": "hG_6HcXxmyns"
      }
    },
    {
      "cell_type": "code",
      "source": [
        "import torch\n",
        "from torchvision.datasets import MNIST\n",
        "from torchvision import transforms\n",
        "from torch.utils.data import DataLoader\n",
        "\n",
        "# 訓練データを取得\n",
        "mnist_train = MNIST('./data',\n",
        "                    train=True, download=True,\n",
        "                    transform=transforms.ToTensor())\n",
        "\n",
        "# テストデータの取得\n",
        "mnist_test = MNIST('./data',\n",
        "                   train=False, download=True,\n",
        "                   transform=transforms.ToTensor())\n",
        "print('訓練データの数：', len(mnist_train), 'テストデータの数：', len(mnist_test))\n",
        "\n",
        "# DataLoaderの設定\n",
        "img_size = 28\n",
        "batch_size = 256\n",
        "train_loader = DataLoader(mnist_train,\n",
        "                          batch_size=batch_size,\n",
        "                          shuffle=True)\n",
        "test_loader = DataLoader(mnist_test,\n",
        "                          batch_size=batch_size,\n",
        "                          shuffle=False)"
      ],
      "metadata": {
        "colab": {
          "base_uri": "https://localhost:8080/"
        },
        "id": "HQpTREGVj2qq",
        "outputId": "abef79b0-df3b-447a-c5d0-5f6d4ab42be7"
      },
      "execution_count": 1,
      "outputs": [
        {
          "output_type": "stream",
          "name": "stdout",
          "text": [
            "Downloading http://yann.lecun.com/exdb/mnist/train-images-idx3-ubyte.gz\n",
            "Downloading http://yann.lecun.com/exdb/mnist/train-images-idx3-ubyte.gz to ./data/MNIST/raw/train-images-idx3-ubyte.gz\n"
          ]
        },
        {
          "output_type": "stream",
          "name": "stderr",
          "text": [
            "100%|██████████| 9912422/9912422 [00:00<00:00, 148744454.58it/s]"
          ]
        },
        {
          "output_type": "stream",
          "name": "stdout",
          "text": [
            "Extracting ./data/MNIST/raw/train-images-idx3-ubyte.gz to ./data/MNIST/raw\n"
          ]
        },
        {
          "output_type": "stream",
          "name": "stderr",
          "text": [
            "\n"
          ]
        },
        {
          "output_type": "stream",
          "name": "stdout",
          "text": [
            "\n",
            "Downloading http://yann.lecun.com/exdb/mnist/train-labels-idx1-ubyte.gz\n",
            "Downloading http://yann.lecun.com/exdb/mnist/train-labels-idx1-ubyte.gz to ./data/MNIST/raw/train-labels-idx1-ubyte.gz\n"
          ]
        },
        {
          "output_type": "stream",
          "name": "stderr",
          "text": [
            "100%|██████████| 28881/28881 [00:00<00:00, 70142266.26it/s]\n"
          ]
        },
        {
          "output_type": "stream",
          "name": "stdout",
          "text": [
            "Extracting ./data/MNIST/raw/train-labels-idx1-ubyte.gz to ./data/MNIST/raw\n",
            "\n",
            "Downloading http://yann.lecun.com/exdb/mnist/t10k-images-idx3-ubyte.gz\n",
            "Downloading http://yann.lecun.com/exdb/mnist/t10k-images-idx3-ubyte.gz to ./data/MNIST/raw/t10k-images-idx3-ubyte.gz\n"
          ]
        },
        {
          "output_type": "stream",
          "name": "stderr",
          "text": [
            "100%|██████████| 1648877/1648877 [00:00<00:00, 43331838.35it/s]"
          ]
        },
        {
          "output_type": "stream",
          "name": "stdout",
          "text": [
            "Extracting ./data/MNIST/raw/t10k-images-idx3-ubyte.gz to ./data/MNIST/raw\n"
          ]
        },
        {
          "output_type": "stream",
          "name": "stderr",
          "text": [
            "\n"
          ]
        },
        {
          "output_type": "stream",
          "name": "stdout",
          "text": [
            "\n",
            "Downloading http://yann.lecun.com/exdb/mnist/t10k-labels-idx1-ubyte.gz\n",
            "Downloading http://yann.lecun.com/exdb/mnist/t10k-labels-idx1-ubyte.gz to ./data/MNIST/raw/t10k-labels-idx1-ubyte.gz\n"
          ]
        },
        {
          "output_type": "stream",
          "name": "stderr",
          "text": [
            "100%|██████████| 4542/4542 [00:00<00:00, 18899334.10it/s]\n"
          ]
        },
        {
          "output_type": "stream",
          "name": "stdout",
          "text": [
            "Extracting ./data/MNIST/raw/t10k-labels-idx1-ubyte.gz to ./data/MNIST/raw\n",
            "\n",
            "訓練データの数： 60000 テストデータの数： 10000\n"
          ]
        }
      ]
    },
    {
      "cell_type": "markdown",
      "source": [
        "モデルの構築\n",
        "\n",
        "今回は、nn.Moduleモジュールを継承したクラスとして、モデルを構築する\n",
        "\n",
        ".cuda()により、モデルの計算はGPU上で行われるようになる"
      ],
      "metadata": {
        "id": "M9322bTUpb6-"
      }
    },
    {
      "cell_type": "code",
      "source": [
        "import torch.nn as nn\n",
        "import torch.nn.functional as F\n",
        "\n",
        "class Net(nn.Module):\n",
        "    def __init__(self):\n",
        "        super().__init__()\n",
        "        self.fc1 = nn.Linear(img_size*img_size, 1024) # 全結合層\n",
        "        self.fc2 = nn.Linear(1024, 512)\n",
        "        self.fc3 = nn.Linear(512, 10)\n",
        "\n",
        "    def forward(self, x):\n",
        "        x = x.view(-1, img_size*img_size) # バッチサイズx入力の数\n",
        "        x = F.relu(self.fc1(x))\n",
        "        x = F.relu(self.fc2(x))\n",
        "        x = self.fc3(x)\n",
        "        return x\n",
        "\n",
        "net = Net()\n",
        "net.cuda() # GPU対応\n",
        "print(net)"
      ],
      "metadata": {
        "colab": {
          "base_uri": "https://localhost:8080/"
        },
        "id": "e9dJRZC2aQ_a",
        "outputId": "ef7387d9-8919-4fb6-e002-c43dd36c2a00"
      },
      "execution_count": 2,
      "outputs": [
        {
          "output_type": "stream",
          "name": "stdout",
          "text": [
            "Net(\n",
            "  (fc1): Linear(in_features=784, out_features=1024, bias=True)\n",
            "  (fc2): Linear(in_features=1024, out_features=512, bias=True)\n",
            "  (fc3): Linear(in_features=512, out_features=10, bias=True)\n",
            ")\n"
          ]
        }
      ]
    },
    {
      "cell_type": "markdown",
      "source": [
        "学習\n",
        "\n",
        "モデルを訓練する\n",
        "\n",
        "DataLoaderを使い、ミニバッチを取り出して訓練及び評価を行う\n",
        "\n",
        "1エポックの中で何度もミニバッチを使って訓練が行われるので、ミニバッチ法が実装されていることになる"
      ],
      "metadata": {
        "id": "JcV3tMV_rt2w"
      }
    },
    {
      "cell_type": "code",
      "source": [
        "from torch import optim\n",
        "import time\n",
        "\n",
        "# 交差エントロピー誤差関数\n",
        "loss_fnc = nn.CrossEntropyLoss()\n",
        "\n",
        "# SGD\n",
        "optimizer = optim.SGD(net.parameters(), lr=0.01)\n",
        "\n",
        "# 損失関数\n",
        "record_loss_train = []\n",
        "record_loss_test = []\n",
        "\n",
        "# 学習\n",
        "for i in range(10): # 10エポック学習\n",
        "    net.train() # 訓練モード\n",
        "    loss_train = 0\n",
        "    for j, (x, t) in enumerate(train_loader): # ミニバッチ(x, t)を取り出す\n",
        "        x, t = x.cuda(), t.cuda() # GPU対応\n",
        "        y = net(x)\n",
        "        loss = loss_fnc(y, t)\n",
        "        loss_train += loss.item()\n",
        "        optimizer.zero_grad()\n",
        "        loss.backward()\n",
        "        optimizer.step()\n",
        "    loss_train /= j+1\n",
        "    record_loss_train.append(loss_train)\n",
        "\n",
        "    net.eval() # 評価モード\n",
        "    loss_test = 0\n",
        "    for j, (x, t) in enumerate(test_loader): # ミニバッチ(x, t)を取り出す\n",
        "        x, t = x.cuda(), t.cuda() # GPU対応\n",
        "        y = net(x)\n",
        "        loss = loss_fnc(y, t)\n",
        "        loss_test += loss.item()\n",
        "    loss_test /= j+1\n",
        "    record_loss_test.append(loss_test)\n",
        "\n",
        "    if i % 1 == 0:\n",
        "        print('Epoch:', i, 'Loss_Train:', loss_train, 'Loss_Test:', loss_test)"
      ],
      "metadata": {
        "colab": {
          "base_uri": "https://localhost:8080/"
        },
        "id": "AQ-XaiFQaQ6f",
        "outputId": "eebc6f26-d737-46dd-fd2c-696818427518"
      },
      "execution_count": 4,
      "outputs": [
        {
          "output_type": "stream",
          "name": "stdout",
          "text": [
            "Epoch: 0 Loss_Train: 2.2193265214879463 Loss_Test: 2.0964136898517607\n",
            "Epoch: 1 Loss_Train: 1.8359672576823134 Loss_Test: 1.4513470619916915\n",
            "Epoch: 2 Loss_Train: 1.1214571549537333 Loss_Test: 0.8309093475341797\n",
            "Epoch: 3 Loss_Train: 0.7228957335999672 Loss_Test: 0.5995000131428242\n",
            "Epoch: 4 Loss_Train: 0.5646989718396613 Loss_Test: 0.4946844562888145\n",
            "Epoch: 5 Loss_Train: 0.4856303133863084 Loss_Test: 0.4365241900086403\n",
            "Epoch: 6 Loss_Train: 0.4380945626725542 Loss_Test: 0.39858580343425276\n",
            "Epoch: 7 Loss_Train: 0.40587723001520687 Loss_Test: 0.37190169766545295\n",
            "Epoch: 8 Loss_Train: 0.38244466287024476 Loss_Test: 0.35209347018972037\n",
            "Epoch: 9 Loss_Train: 0.36479106177674964 Loss_Test: 0.3370453060604632\n"
          ]
        }
      ]
    },
    {
      "cell_type": "markdown",
      "source": [
        "誤差の推移"
      ],
      "metadata": {
        "id": "m0LC1nMAxwDG"
      }
    },
    {
      "cell_type": "code",
      "source": [
        "import matplotlib.pyplot as plt\n",
        "\n",
        "plt.plot(range(len(record_loss_train)), record_loss_train, label='Train')\n",
        "plt.plot(range(len(record_loss_test)), record_loss_test, label='Test')\n",
        "plt.legend()\n",
        "\n",
        "plt.xlabel('Epochs')\n",
        "plt.ylabel('Error')\n",
        "plt.show()"
      ],
      "metadata": {
        "colab": {
          "base_uri": "https://localhost:8080/",
          "height": 449
        },
        "id": "a-iWX50_aQt9",
        "outputId": "49ad33fc-43a2-4e8e-8cc5-ce9d1020326a"
      },
      "execution_count": 6,
      "outputs": [
        {
          "output_type": "display_data",
          "data": {
            "text/plain": [
              "<Figure size 640x480 with 1 Axes>"
            ],
            "image/png": "[encoded data removed]"
          },
          "metadata": {}
        }
      ]
    },
    {
      "cell_type": "markdown",
      "source": [
        "**正解率**\n",
        "\n",
        "モデルの性能を把握するため、テストデータを使い正解率を測定する"
      ],
      "metadata": {
        "id": "eake-LsZyc64"
      }
    },
    {
      "cell_type": "code",
      "source": [
        "correct = 0\n",
        "total = 0\n",
        "for i, (x, t) in enumerate(test_loader):\n",
        "    x, t = x.cuda(), t.cuda()\n",
        "    x = x.view(-1, img_size*img_size)\n",
        "    y = net(x)\n",
        "    correct += (y.argmax(1) == t).sum().item()\n",
        "    total += len(x)\n",
        "print('正解率:', str(correct/total*100) + '%')"
      ],
      "metadata": {
        "colab": {
          "base_uri": "https://localhost:8080/"
        },
        "id": "KoTB7u0oaQnA",
        "outputId": "a86ce798-021a-4aa2-c932-80861cd958a6"
      },
      "execution_count": 7,
      "outputs": [
        {
          "output_type": "stream",
          "name": "stdout",
          "text": [
            "正解率: 90.32%\n"
          ]
        }
      ]
    },
    {
      "cell_type": "markdown",
      "source": [
        "# **畳み込みニューラルネットワーク(CNN)**"
      ],
      "metadata": {
        "id": "BVE8ylWBzMtv"
      }
    },
    {
      "cell_type": "markdown",
      "source": [
        "## **CNNの概要**"
      ],
      "metadata": {
        "id": "a7NFQK9kzWZd"
      }
    },
    {
      "cell_type": "code",
      "source": [],
      "metadata": {
        "id": "ILrLKrx-aQks"
      },
      "execution_count": null,
      "outputs": []
    },
    {
      "cell_type": "code",
      "source": [],
      "metadata": {
        "id": "vUH7kwbqaQip"
      },
      "execution_count": null,
      "outputs": []
    },
    {
      "cell_type": "code",
      "source": [],
      "metadata": {
        "id": "8TKGryezaQf5"
      },
      "execution_count": null,
      "outputs": []
    },
    {
      "cell_type": "code",
      "source": [],
      "metadata": {
        "id": "OyeBjUrr1a6w"
      },
      "execution_count": null,
      "outputs": []
    },
    {
      "cell_type": "code",
      "source": [],
      "metadata": {
        "id": "xZSPCoXg1a4L"
      },
      "execution_count": null,
      "outputs": []
    },
    {
      "cell_type": "code",
      "source": [],
      "metadata": {
        "id": "IK9VkkBy1ac0"
      },
      "execution_count": null,
      "outputs": []
    },
    {
      "cell_type": "code",
      "source": [],
      "metadata": {
        "id": "YQLvtTuvzxyZ"
      },
      "execution_count": null,
      "outputs": []
    },
    {
      "cell_type": "code",
      "source": [],
      "metadata": {
        "id": "KSpiMWy1zxwE"
      },
      "execution_count": null,
      "outputs": []
    },
    {
      "cell_type": "code",
      "source": [],
      "metadata": {
        "id": "AVVycQTDzxtp"
      },
      "execution_count": null,
      "outputs": []
    },
    {
      "cell_type": "code",
      "source": [],
      "metadata": {
        "id": "RqZFO-6szxou"
      },
      "execution_count": null,
      "outputs": []
    }
  ]
}