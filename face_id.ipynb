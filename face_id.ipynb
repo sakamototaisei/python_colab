{
  "nbformat": 4,
  "nbformat_minor": 0,
  "metadata": {
    "colab": {
      "provenance": [],
      "toc_visible": true,
      "authorship_tag": "ABX9TyNCmqS8zedqthg0fIk7fOn9",
      "include_colab_link": true
    },
    "kernelspec": {
      "name": "python3",
      "display_name": "Python 3"
    },
    "language_info": {
      "name": "python"
    }
  },
  "cells": [
    {
      "cell_type": "markdown",
      "metadata": {
        "id": "view-in-github",
        "colab_type": "text"
      },
      "source": [
        "<a href=\"https://colab.research.google.com/github/sakamototaisei/python_colab/blob/main/face_id.ipynb\" target=\"_parent\"><img src=\"https://colab.research.google.com/assets/colab-badge.svg\" alt=\"Open In Colab\"/></a>"
      ]
    },
    {
      "cell_type": "markdown",
      "source": [
        "# **顔認識の仕組み**"
      ],
      "metadata": {
        "id": "MXq1xV0wCsYT"
      }
    },
    {
      "cell_type": "markdown",
      "source": [
        "## 画像認識とは"
      ],
      "metadata": {
        "id": "YOt0EgIYERCd"
      }
    },
    {
      "cell_type": "markdown",
      "source": [
        "*   画像認識とは、その画像が特定のカテゴリーのどれを表しているか識別すること\n",
        "*   SVM：決定教会を用いて分類する\n",
        "*   デープラーニングによる分類機で分類\n"
      ],
      "metadata": {
        "id": "6VxF47AlDtNW"
      }
    },
    {
      "cell_type": "markdown",
      "source": [
        "## 顔認識の方法"
      ],
      "metadata": {
        "id": "bekupZqMETyG"
      }
    },
    {
      "cell_type": "markdown",
      "source": [
        "\n",
        "\n",
        "*   顔認識は、デジタル写真から検出された顔画像を、登録された人物と照合させて識別すること\n",
        "*   顔認証は、画像の人物が登録された人物と同一人物であるか判定して、公の期間が証明すること\n",
        "\n"
      ],
      "metadata": {
        "id": "a_dkaDZgEYI4"
      }
    },
    {
      "cell_type": "markdown",
      "source": [
        "**顔認識の処理フロー**\n",
        "\n"
      ],
      "metadata": {
        "id": "hNbxXBTWFVAb"
      }
    },
    {
      "cell_type": "markdown",
      "source": [
        "## 顔の見分け方：ランドマーク"
      ],
      "metadata": {
        "id": "xJIhAHUcF-7p"
      }
    },
    {
      "cell_type": "markdown",
      "source": [
        "\n",
        "\n",
        "*   顔の特徴を学習して距離を測る(目、眉、鼻、口、顎、etc...)\n",
        "*   68個のランドマークがある\n",
        "*   ランドマークの距離を測り比較し顔判定する\n",
        "\n",
        "\n"
      ],
      "metadata": {
        "id": "PSSp4n7KGGYd"
      }
    },
    {
      "cell_type": "markdown",
      "source": [
        "# **顔検出の種類**"
      ],
      "metadata": {
        "id": "v8TMYZCMHHUz"
      }
    },
    {
      "cell_type": "markdown",
      "source": [
        "## Haar-like特徴量"
      ],
      "metadata": {
        "id": "0oIS7gG1HMCJ"
      }
    },
    {
      "cell_type": "markdown",
      "source": [
        "\n",
        "\n",
        "*   白と黒のパターンを組み合わせて特徴量を取得する\n",
        "*   長所：CPUでほぼリアルタイムに操作、画像サイズに関係なく顔を検出できる\n",
        "*   短所：顔でない場所も検出してしまう、露出の多い画像や正面画像以外は機能しない\n",
        "\n",
        "\n"
      ],
      "metadata": {
        "id": "xP7nKa8rHuIg"
      }
    },
    {
      "cell_type": "markdown",
      "source": [
        "## Deep Neural Network"
      ],
      "metadata": {
        "id": "VOef-v7PI6op"
      }
    },
    {
      "cell_type": "markdown",
      "source": [
        "\n",
        "\n",
        "*   長所：他のモデルよりも正確、CPUでリアルタイムに実行、様々な顔向きに対応\n",
        "*   短所：処理が遅い、SSDで構成されているがソースは未公開\n",
        "\n"
      ],
      "metadata": {
        "id": "W75hMycxI_OF"
      }
    },
    {
      "cell_type": "markdown",
      "source": [
        "## HoG特徴量"
      ],
      "metadata": {
        "id": "Pstxlgf2KVFQ"
      }
    },
    {
      "cell_type": "markdown",
      "source": [
        "顔の部品(HoG特徴)を抽出\n",
        "\n",
        "*   分割されたセルから勾配の大きさと方向を計算\n",
        "*   ヒストグラムで特徴抽出\n",
        "*   抽出されたHoG特徴から、SVMで分類\n",
        "*   輝度の勾配方向をヒストグラム化した特徴量、物体の輪郭部分が強調されて確認できる\n",
        "\n"
      ],
      "metadata": {
        "id": "E_GGvjlkKafB"
      }
    },
    {
      "cell_type": "markdown",
      "source": [
        "HoG特徴量\n",
        "\n",
        "*   Histograms of Oriented Gradientsは、画像の物体検出で使われる特徴記述子\n",
        "*   セルグリッド上から画像の局所的な輝度と輝度の勾配方向を計算\n",
        "*   その勾配方向を輝度分布のヒストグラムにしたものを特徴量とする\n",
        "*   画像スケールに対してロバスト\n",
        "\n"
      ],
      "metadata": {
        "id": "vAMf27d2LL5-"
      }
    },
    {
      "cell_type": "markdown",
      "source": [
        "\n",
        "*   画像を31x31に区切る\n",
        "*   セル領域ごとに勾配を計算\n",
        "*   入力画像を水平方向、垂直方向に一次微微分フィルターで微分\n",
        "*   アークタンジェントでラジアンを算出して勾配方向を求める\n",
        "\n",
        "\n"
      ],
      "metadata": {
        "id": "0AD5Wfo9MDUV"
      }
    },
    {
      "cell_type": "markdown",
      "source": [
        "度数変換：一次微分で微分された行と列の値をアークタンジェントでラジアンを計算\n",
        "\n",
        "ラジアンを角度に変換、角度を180度で割った時の余りを新しい角度とする"
      ],
      "metadata": {
        "id": "7PVjiLUsObtk"
      }
    },
    {
      "cell_type": "markdown",
      "source": [
        "水平方向、垂直方向に微分した値のノルムをとって、勾配の規模(強度)とする\n",
        "\n",
        "0~180度まで20度、9方向に分割"
      ],
      "metadata": {
        "id": "p4A087auPMS0"
      }
    },
    {
      "cell_type": "markdown",
      "source": [
        "\n",
        "\n",
        "*   長所：CPUで動作しDNNより高速、斜めでも機能する、軽量モデル、をしゅつの強い画像でも動作\n",
        "\n",
        "*   短所：最小の顔サイズが80x80で訓練される、下向きや上向きなどには機能しない\n",
        "\n"
      ],
      "metadata": {
        "id": "ahxBl4vAQHHi"
      }
    },
    {
      "cell_type": "markdown",
      "source": [
        "# **ブラウザで確認してみよう**"
      ],
      "metadata": {
        "id": "jVXMugmuRBjB"
      }
    },
    {
      "cell_type": "code",
      "source": [],
      "metadata": {
        "id": "Jrl95kXsKxJR"
      },
      "execution_count": null,
      "outputs": []
    },
    {
      "cell_type": "code",
      "source": [],
      "metadata": {
        "id": "lFQ0_Hn5KxG7"
      },
      "execution_count": null,
      "outputs": []
    },
    {
      "cell_type": "code",
      "execution_count": null,
      "metadata": {
        "id": "dQSx-ZyVBcOv"
      },
      "outputs": [],
      "source": []
    }
  ]
}