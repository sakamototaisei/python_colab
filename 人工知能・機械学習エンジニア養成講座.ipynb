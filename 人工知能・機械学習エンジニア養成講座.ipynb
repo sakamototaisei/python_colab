{
  "nbformat": 4,
  "nbformat_minor": 0,
  "metadata": {
    "colab": {
      "provenance": [],
      "toc_visible": true,
      "authorship_tag": "ABX9TyPUaYp/aQjUFgyEYOwZo8sp",
      "include_colab_link": true
    },
    "kernelspec": {
      "name": "python3",
      "display_name": "Python 3"
    },
    "language_info": {
      "name": "python"
    }
  },
  "cells": [
    {
      "cell_type": "markdown",
      "metadata": {
        "id": "view-in-github",
        "colab_type": "text"
      },
      "source": [
        "<a href=\"https://colab.research.google.com/github/sakamototaisei/python_colab/blob/main/%E4%BA%BA%E5%B7%A5%E7%9F%A5%E8%83%BD%E3%83%BB%E6%A9%9F%E6%A2%B0%E5%AD%A6%E7%BF%92%E3%82%A8%E3%83%B3%E3%82%B8%E3%83%8B%E3%82%A2%E9%A4%8A%E6%88%90%E8%AC%9B%E5%BA%A7.ipynb\" target=\"_parent\"><img src=\"https://colab.research.google.com/assets/colab-badge.svg\" alt=\"Open In Colab\"/></a>"
      ]
    },
    {
      "cell_type": "markdown",
      "source": [
        "# **機械学習とは**"
      ],
      "metadata": {
        "id": "nre0xHn-NKWb"
      }
    },
    {
      "cell_type": "markdown",
      "source": [
        "## 機械学習の定義"
      ],
      "metadata": {
        "id": "wis2Bs0gNRx2"
      }
    },
    {
      "cell_type": "markdown",
      "source": [
        "\n",
        "\n",
        "*   明示的にプログラムしなくても、コンピューターが自ら学習することができるようにするためにどうすれば良いかを考える学習分野\n",
        "*   タスクTに関し、経験Eと正答率Pから学ぶようなコンピュータープログラムである。そして、正答率Pで測定されるタスクTが経験Eによって改善されるようなプログラムである\n",
        "\n"
      ],
      "metadata": {
        "id": "rJvSJKKUNXiy"
      }
    },
    {
      "cell_type": "markdown",
      "source": [
        "**エンジニア的な考え方**\n",
        "\n",
        "機械学習は、データによって学習する数学的モデルを構築するもの。すなわち、機械学習の手法は数学的モデルの構築方法と考える"
      ],
      "metadata": {
        "id": "CEwAl9TOPP_S"
      }
    },
    {
      "cell_type": "markdown",
      "source": [
        "**人工知能と機械学習の違いについて**\n",
        "\n",
        "ex)\n",
        "\n",
        "迷惑メール分類：機械学習\n",
        "\n",
        "メールの文面から感情を分析してアドバイスをするなど：人工知能"
      ],
      "metadata": {
        "id": "MXetAqwoULtk"
      }
    },
    {
      "cell_type": "markdown",
      "source": [
        "# **単回帰分析**"
      ],
      "metadata": {
        "id": "_W4HFJV9X56y"
      }
    },
    {
      "cell_type": "code",
      "execution_count": null,
      "metadata": {
        "id": "il7N7uh7vPXT"
      },
      "outputs": [],
      "source": []
    }
  ]
}