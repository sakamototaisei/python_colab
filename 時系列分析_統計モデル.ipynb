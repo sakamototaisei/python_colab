{
  "nbformat": 4,
  "nbformat_minor": 0,
  "metadata": {
    "colab": {
      "provenance": [],
      "toc_visible": true,
      "authorship_tag": "ABX9TyMu/lNlGDDhszr1ut4Fweo1",
      "include_colab_link": true
    },
    "kernelspec": {
      "name": "python3",
      "display_name": "Python 3"
    },
    "language_info": {
      "name": "python"
    }
  },
  "cells": [
    {
      "cell_type": "markdown",
      "metadata": {
        "id": "view-in-github",
        "colab_type": "text"
      },
      "source": [
        "<a href=\"https://colab.research.google.com/github/sakamototaisei/python_colab/blob/main/%E6%99%82%E7%B3%BB%E5%88%97%E5%88%86%E6%9E%90_%E7%B5%B1%E8%A8%88%E3%83%A2%E3%83%87%E3%83%AB.ipynb\" target=\"_parent\"><img src=\"https://colab.research.google.com/assets/colab-badge.svg\" alt=\"Open In Colab\"/></a>"
      ]
    },
    {
      "cell_type": "markdown",
      "source": [
        "# **時系列データ処理の基礎**"
      ],
      "metadata": {
        "id": "HZ6BbsBT1CGm"
      }
    },
    {
      "cell_type": "markdown",
      "source": [
        "## **時系列データの特徴**"
      ],
      "metadata": {
        "id": "n-Zn70OP1Kys"
      }
    },
    {
      "cell_type": "markdown",
      "source": [
        "\n",
        "\n",
        "*   時系列データは一度しか観測されない\n",
        "*   観測値から平均や分散などを推定することはできない\n",
        "*   時系列分析では、時系列データをある性質や構造を仮定した確率変数列からの実現値であるとみなす\n",
        "\n"
      ],
      "metadata": {
        "id": "PEPiRQEy1O8p"
      }
    },
    {
      "cell_type": "markdown",
      "source": [
        "## **移動平均**"
      ],
      "metadata": {
        "id": "J7gjNa3J1rSU"
      }
    },
    {
      "cell_type": "markdown",
      "source": [
        "\n",
        "\n",
        "*   データをずらしながら平均値を計算する\n",
        "*   小さな変動を除去することができる→時系列のトレンドがわかりやすくなる\n",
        "\n"
      ],
      "metadata": {
        "id": "H3v-i4TK2hAT"
      }
    },
    {
      "cell_type": "markdown",
      "source": [
        "## **基本統計量**"
      ],
      "metadata": {
        "id": "5CU1k8_p1uVn"
      }
    },
    {
      "cell_type": "markdown",
      "source": [
        "\n",
        "\n",
        "*   平均\n",
        "*   分散\n",
        "*   自己共分散\n",
        "*   自己相関\n",
        "\n"
      ],
      "metadata": {
        "id": "t3cA7Zfz3WeL"
      }
    },
    {
      "cell_type": "markdown",
      "source": [
        "自己共分散：$r_{kt} = Cov(y_t, y_{t-k})$\n",
        "\n",
        "*   大きければ、t時点とt-k時点の変動傾向が近い\n",
        "*   自己共分散の最大・最小データにより異なる\n",
        "\n",
        "自己相関：$p_{kt} = \\frac{Cov(y_t, y_{t-k})}{\\sqrt{V[y_t]V[y_{t-k}]}}$\n",
        "\n",
        "*   -1 ~ 1の範囲になる\n",
        "*   1に近ければ、t時点とt-k時点の変動傾向が近い\n"
      ],
      "metadata": {
        "id": "1Hu2pKGe3eJR"
      }
    },
    {
      "cell_type": "markdown",
      "source": [
        "**自己相関とコレログラム**\n",
        "\n",
        "*   自己相関係数のkを変数として、関数のように見たものを自己相関関数という\n",
        "*   自己相関関数をグラフにしたものをコレログラムという\n",
        "*   何時点前のデータと相関があるかを把握することができる\n",
        "\n"
      ],
      "metadata": {
        "id": "lQGSJm_l6hro"
      }
    },
    {
      "cell_type": "markdown",
      "source": [
        "## **偏自己相関**"
      ],
      "metadata": {
        "id": "ZA34BAB41wlW"
      }
    },
    {
      "cell_type": "markdown",
      "source": [
        "\n",
        "\n",
        "*   k時点前との自己相関は、本当にk時点前との関係を表しているのか？\n",
        "*   k時点前との関係には1,2...,k-1,2...,k~1時点前との関係もある様に見える\n",
        "*   1,2...,k-1時点前との関係を排除して排除して、k時点前との自己相関を計算した方が良いのではないか？\n",
        "\n",
        "→偏自己相関：$P_{kt} = \\frac{Cov(y_t - \\widehat{y}_t, y_{t-k} - \\widehat{y}_{t-k})}{\\sqrt{V[y_t - \\widehat{y}_t]V[y_{t-k} - \\widehat{y}_{t-k}]}}$\n",
        "\n"
      ],
      "metadata": {
        "id": "F62swe_p7R4-"
      }
    },
    {
      "cell_type": "markdown",
      "source": [
        "## **iid系列**"
      ],
      "metadata": {
        "id": "azEYHxIY11s7"
      }
    },
    {
      "cell_type": "markdown",
      "source": [
        "\n",
        "\n",
        "*   各時点のデータがお互いに独立でかつ同一の分布に従う系列をiid系列と呼ぶ\n",
        "*   期待値：$μ$、分散：$σ^2$のiid系列を$y_t ~ iid(μ, σ)$と書く\n",
        "*   期待値：0のiid系列の仮定を弱めたものが、時系列モデルでは擾乱行としてよく用いられる(ホワイトノイズ)\n",
        "*   期待値：0、分散：$σ^2$の正規分布に従うホワイトノイズがよく使われる(iid系列)"
      ],
      "metadata": {
        "id": "1JyX-lps4GBu"
      }
    },
    {
      "cell_type": "markdown",
      "source": [
        "## **ホワイトノイズ**"
      ],
      "metadata": {
        "id": "lRG3-93w14pt"
      }
    },
    {
      "cell_type": "markdown",
      "source": [
        "\n",
        "\n",
        "*   期待値：０\n",
        "*   分散：一定\n",
        "*   自己相関を持たない\n",
        "*   「何も傾向がなく平均の周りをランダムに変動する系列」\n",
        "\n"
      ],
      "metadata": {
        "id": "KdOhA5WJ5jVx"
      }
    },
    {
      "cell_type": "code",
      "execution_count": null,
      "metadata": {
        "id": "SDwlLCRvfoQe"
      },
      "outputs": [],
      "source": []
    },
    {
      "cell_type": "markdown",
      "source": [
        "# **定常性**"
      ],
      "metadata": {
        "id": "B--qFxdT6FOw"
      }
    },
    {
      "cell_type": "markdown",
      "source": [
        "## **定常性**"
      ],
      "metadata": {
        "id": "2boIkdPg6J20"
      }
    },
    {
      "cell_type": "markdown",
      "source": [
        "**弱定常性**\n",
        "\n",
        "*   平均(期待値)が一定：$E[y_i] = μ$\n",
        "*   自己共分散が時間差のみに依存する：$Cov[y_t, y_{t-k}] = E[(y_t - μ)(y_{t-k} - μ)] = r_k$\n",
        "*   上記でk＝０の場合は分散になるので、分散は時点によらず一定\n"
      ],
      "metadata": {
        "id": "nsJ5-1oZ6po7"
      }
    },
    {
      "cell_type": "markdown",
      "source": [
        "## **差分系列**"
      ],
      "metadata": {
        "id": "5ADxV1pr6Mz2"
      }
    },
    {
      "cell_type": "markdown",
      "source": [
        "\n",
        "\n",
        "*   分析しやすうよう、非定常な原系列データを定常データに変換したい\n",
        "*   一時点離れた値との差をとる差分系列が、非定常な系列を定常に変換できることがある\n",
        "\n",
        "$$Δy_t = y_t - y_{t-1}$$\n",
        "\n"
      ],
      "metadata": {
        "id": "8TGYBBNy79Ih"
      }
    },
    {
      "cell_type": "markdown",
      "source": [
        "## **対数変換**"
      ],
      "metadata": {
        "id": "RnCX5coH6Pf9"
      }
    },
    {
      "cell_type": "markdown",
      "source": [
        "\n",
        "\n",
        "*   原系列に対数をとった系列を対数系列といい、その変換を対数変換という\n",
        "*   対数変換をすることでデータのばらつき(分散)が一定になることがある\n"
      ],
      "metadata": {
        "id": "uvwQXys4812i"
      }
    },
    {
      "cell_type": "markdown",
      "source": [
        "## **単位根過程**"
      ],
      "metadata": {
        "id": "GkS0qIEq6UV1"
      }
    },
    {
      "cell_type": "markdown",
      "source": [
        "\n",
        "\n",
        "*   原系列が非定常過程であり、その差分系列：$Δy_t = y_t - y_{t-1}$ が定常過程になる時に、その過程を**単位根過程**という\n",
        "*   特に、d-1階差分をとった系列が非定常過程で、d階差分を取ると定常過程になる場合、「**d次和分過程**」といい、**I(d)**と書く\n",
        "*   ADF検定(拡張ディッキー・フラー検定)で単位根を持つかどうかを検定できる\n",
        "\n"
      ],
      "metadata": {
        "id": "U0z-pWfg9ffT"
      }
    },
    {
      "cell_type": "markdown",
      "source": [
        "## **定常過程を分析対象に**"
      ],
      "metadata": {
        "id": "ljobL_0p6Z8G"
      }
    },
    {
      "cell_type": "markdown",
      "source": [
        "なぜ定常過程を対象とするk？\n",
        "\n",
        "*   平均や分散が一定のため、ある時点のデータの平均や分散がそのまま未来の平均や分散の推定値として使えるから\n",
        "\n",
        "時系列データを定常にする手法\n",
        "\n",
        "*   トレントの除去\n",
        "*   差分系列に変換\n",
        "*   対数変換\n",
        "*   季節調整\n",
        "\n"
      ],
      "metadata": {
        "id": "WJW_Semu-sdg"
      }
    },
    {
      "cell_type": "markdown",
      "source": [
        "# **ARIMAモデル**"
      ],
      "metadata": {
        "id": "ujk1CLhe6d2V"
      }
    },
    {
      "cell_type": "markdown",
      "source": [
        "## **ARIMAモデル**"
      ],
      "metadata": {
        "id": "aVNXnMBI_RBT"
      }
    },
    {
      "cell_type": "markdown",
      "source": [
        "\n",
        "\n",
        "*   ARMAモデルでは定常データに対しては説明能力が良いが、非定常なデータには使えない\n",
        "*   差分系列をとって定常過程に変換してから、ARMAモデルを適用することを考える\n",
        "*   差分系列へARMAモデルを適用する場合、d次和分過程をI(d)と書くので、真ん中に入れてARIMAと呼ばれる\n",
        "\n",
        "AR過程 + 和分過程 + MA過程 = AR + I + MA\n",
        "\n",
        "アリマ\n"
      ],
      "metadata": {
        "id": "tSzoxZ7gALkw"
      }
    },
    {
      "cell_type": "markdown",
      "source": [
        "## **ARモデル**"
      ],
      "metadata": {
        "id": "ET3gINRI_af_"
      }
    },
    {
      "cell_type": "markdown",
      "source": [],
      "metadata": {
        "id": "Q6AYfTcdBRVA"
      }
    },
    {
      "cell_type": "markdown",
      "source": [
        "## **AR(1)過程**"
      ],
      "metadata": {
        "id": "fk6OH2vf_dAg"
      }
    },
    {
      "cell_type": "markdown",
      "source": [
        "## **AR過程の性質**"
      ],
      "metadata": {
        "id": "TaXZNhKd_gxx"
      }
    },
    {
      "cell_type": "markdown",
      "source": [
        "## **MAモデル**"
      ],
      "metadata": {
        "id": "fNY2lGei_j7V"
      }
    },
    {
      "cell_type": "markdown",
      "source": [
        "## **MA過程の性質**"
      ],
      "metadata": {
        "id": "BRAGOL4c_nbw"
      }
    },
    {
      "cell_type": "markdown",
      "source": [
        "## **ARMA過程の定常性**"
      ],
      "metadata": {
        "id": "mSutkwH8_rsH"
      }
    },
    {
      "cell_type": "markdown",
      "source": [
        "## **ARIMAモデル**"
      ],
      "metadata": {
        "id": "qUExff2R_rmZ"
      }
    },
    {
      "cell_type": "markdown",
      "source": [
        "## **ARIMAXモデル**"
      ],
      "metadata": {
        "id": "YVeerP50_0Kv"
      }
    },
    {
      "cell_type": "markdown",
      "source": [
        "## **SARIMAモデル**"
      ],
      "metadata": {
        "id": "zuhM0JGV_7TO"
      }
    },
    {
      "cell_type": "markdown",
      "source": [
        "## **時系列データの構造**"
      ],
      "metadata": {
        "id": "bS-Pg50B__R4"
      }
    },
    {
      "cell_type": "code",
      "source": [],
      "metadata": {
        "id": "Qi5AnCvo6Ib0"
      },
      "execution_count": null,
      "outputs": []
    }
  ]
}