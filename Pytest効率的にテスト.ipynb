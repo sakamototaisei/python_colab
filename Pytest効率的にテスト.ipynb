{
  "nbformat": 4,
  "nbformat_minor": 0,
  "metadata": {
    "colab": {
      "provenance": [],
      "collapsed_sections": [
        "eoBrZKgJnYL4",
        "vjOZPdjjned6",
        "vYRZpgGLqbSB",
        "e-uqlqUmAn_t",
        "gQuiphjmE7gU",
        "pCn_J8MPsee9",
        "pnf_rWWbFLPB",
        "fDwQKrtNFLK_",
        "d9oh3LR4LF1z",
        "kNmrUyT8LFxK",
        "8lttF2fhSKTa",
        "I7mqkrA_LghC",
        "OyvhutnpODf6",
        "HRRCwdE6QUN7",
        "H-1NH2q7Tkdt",
        "HHhNy5NfshwU",
        "-frnL1mDVNXt",
        "whvXbsHdwFop",
        "24mnvICWyd0d",
        "hbS7MJRJ0BvV",
        "XVrKamQX1NSW"
      ],
      "authorship_tag": "ABX9TyMSCodM8aB5M/5XbRk85mam",
      "include_colab_link": true
    },
    "kernelspec": {
      "name": "python3",
      "display_name": "Python 3"
    },
    "language_info": {
      "name": "python"
    }
  },
  "cells": [
    {
      "cell_type": "markdown",
      "metadata": {
        "id": "view-in-github",
        "colab_type": "text"
      },
      "source": [
        "<a href=\"https://colab.research.google.com/github/sakamototaisei/python_colab/blob/main/Pytest%E5%8A%B9%E7%8E%87%E7%9A%84%E3%81%AB%E3%83%86%E3%82%B9%E3%83%88.ipynb\" target=\"_parent\"><img src=\"https://colab.research.google.com/assets/colab-badge.svg\" alt=\"Open In Colab\"/></a>"
      ]
    },
    {
      "cell_type": "markdown",
      "source": [
        "# **Pytest基礎**"
      ],
      "metadata": {
        "id": "eoBrZKgJnYL4"
      }
    },
    {
      "cell_type": "markdown",
      "source": [
        "## pytestインストール"
      ],
      "metadata": {
        "id": "vjOZPdjjned6"
      }
    },
    {
      "cell_type": "markdown",
      "source": [
        "pip install pytest"
      ],
      "metadata": {
        "id": "MUp1Y_oYqLYt"
      }
    },
    {
      "cell_type": "code",
      "execution_count": null,
      "metadata": {
        "colab": {
          "base_uri": "https://localhost:8080/"
        },
        "id": "GyntopgLmcCL",
        "outputId": "bcefe726-2878-4105-f3bc-2cc2e3968ecd"
      },
      "outputs": [
        {
          "output_type": "stream",
          "name": "stdout",
          "text": [
            "Looking in indexes: https://pypi.org/simple, https://us-python.pkg.dev/colab-wheels/public/simple/\n",
            "Requirement already satisfied: pytest in /usr/local/lib/python3.8/dist-packages (3.6.4)\n",
            "Requirement already satisfied: six>=1.10.0 in /usr/local/lib/python3.8/dist-packages (from pytest) (1.15.0)\n",
            "Requirement already satisfied: py>=1.5.0 in /usr/local/lib/python3.8/dist-packages (from pytest) (1.11.0)\n",
            "Requirement already satisfied: pluggy<0.8,>=0.5 in /usr/local/lib/python3.8/dist-packages (from pytest) (0.7.1)\n",
            "Requirement already satisfied: setuptools in /usr/local/lib/python3.8/dist-packages (from pytest) (57.4.0)\n",
            "Requirement already satisfied: more-itertools>=4.0.0 in /usr/local/lib/python3.8/dist-packages (from pytest) (9.0.0)\n",
            "Requirement already satisfied: attrs>=17.4.0 in /usr/local/lib/python3.8/dist-packages (from pytest) (22.2.0)\n",
            "Requirement already satisfied: atomicwrites>=1.0 in /usr/local/lib/python3.8/dist-packages (from pytest) (1.4.1)\n"
          ]
        }
      ],
      "source": [
        "!pip install pytest"
      ]
    },
    {
      "cell_type": "markdown",
      "source": [
        "## 簡単な関数でテストを実行"
      ],
      "metadata": {
        "id": "vYRZpgGLqbSB"
      }
    },
    {
      "cell_type": "code",
      "source": [
        "def test_hello_word():\n",
        "    print('hello')"
      ],
      "metadata": {
        "id": "_D3HF2WPqQSP",
        "colab": {
          "base_uri": "https://localhost:8080/"
        },
        "outputId": "72b8dcbd-a6de-4319-edc0-8e31bb5755aa"
      },
      "execution_count": null,
      "outputs": [
        {
          "output_type": "stream",
          "name": "stdout",
          "text": [
            "hello\n"
          ]
        }
      ]
    },
    {
      "cell_type": "markdown",
      "source": [
        "ターミナルで実行する\n",
        "\n",
        "```\n",
        "pytest pythonファイル名.py\n",
        "\n",
        "pytest pythonファイル名.py -s\n",
        "# -sで返却の値も表示される\n",
        "\n",
        "pytest\n",
        "```\n",
        "指定ファイル内の関数がテストされる\n",
        "注意：関数名にtest_が必要となる\n",
        "\n",
        "pytestだけでも実行可能\n",
        "その場合はpythonファイル名にtest_のファイルの中の関数test_をテストする\n",
        "\n"
      ],
      "metadata": {
        "id": "d-Tm568F9eOc"
      }
    },
    {
      "cell_type": "markdown",
      "source": [
        "## assert文の使い方"
      ],
      "metadata": {
        "id": "e-uqlqUmAn_t"
      }
    },
    {
      "cell_type": "markdown",
      "source": [
        "\n",
        "\n",
        "*   アサート分\n",
        "*   条件をテストするための構文\n",
        "\n"
      ],
      "metadata": {
        "id": "IeXFKGiTAx85"
      }
    },
    {
      "cell_type": "markdown",
      "source": [
        "\n",
        "\n",
        "```\n",
        "def test_example():\n",
        "    assert True\n",
        "\n",
        "def test_example():\n",
        "    assert False\n",
        "\n",
        "def test_example():\n",
        "    result = 5 * 2\n",
        "    assert result == 10\n",
        "\n",
        "pytest -v\n",
        "```\n",
        "assert True or False でテスト失敗になるかどうか変えられる\n",
        "\n",
        "assert 条件式で様々なテストを行える\n",
        "\n",
        "-v：テストの詳細を表示することができる\n"
      ],
      "metadata": {
        "id": "vBakipTmBdSR"
      }
    },
    {
      "cell_type": "markdown",
      "source": [
        "## メソッドのテスト"
      ],
      "metadata": {
        "id": "gQuiphjmE7gU"
      }
    },
    {
      "cell_type": "markdown",
      "source": [
        "\n",
        "\n",
        "```\n",
        "class TestExample():\n",
        "    def test_example(self):\n",
        "        assert True\n",
        "\n",
        "    def test_example2(self):\n",
        "        True\n",
        "```\n",
        "クラス名にもTestと先頭に名前を入れなければいけない\n"
      ],
      "metadata": {
        "id": "K643MEoiFCjD"
      }
    },
    {
      "cell_type": "markdown",
      "source": [
        "# **前処理後処理**"
      ],
      "metadata": {
        "id": "pCn_J8MPsee9"
      }
    },
    {
      "cell_type": "markdown",
      "source": [
        "## 関数に対する前処理&後処理の実行"
      ],
      "metadata": {
        "id": "pnf_rWWbFLPB"
      }
    },
    {
      "cell_type": "markdown",
      "source": [
        "\n",
        "\n",
        "```\n",
        "# 前処理&後処理の関数の作成\n",
        "\n",
        "# 前処理\n",
        "def setup_function(function):\n",
        "    print('setup_function')\n",
        "\n",
        "# 後処理\n",
        "def teardown_function(function):\n",
        "    print('teardown')\n",
        "\n",
        "def test_hello_world():\n",
        "    print('hello world')\n",
        "\n",
        "def test_pytest():\n",
        "    print('pytest')\n",
        "```\n",
        "\n",
        "setup_function(function):\n",
        "teardown_function(function):\n",
        "\n",
        "を設定することで、テストしたい関数の前後にそれぞれ前処理関数と後処理関数を実行する\n"
      ],
      "metadata": {
        "id": "8-vZMhcSFLNM"
      }
    },
    {
      "cell_type": "markdown",
      "source": [
        "## メソッドに対する前処理後処理の実行"
      ],
      "metadata": {
        "id": "fDwQKrtNFLK_"
      }
    },
    {
      "cell_type": "markdown",
      "source": [
        "\n",
        "\n",
        "```\n",
        "class TestExample():\n",
        "    # 前処理メソッド\n",
        "    def setup_method(self, method):\n",
        "        print('setup_method')\n",
        "    # 後処理メソッド\n",
        "    def teardown_method(self, method):\n",
        "        print('teardown_method')\n",
        "\n",
        "    def test_example(self):\n",
        "        print('hello world')\n",
        "\n",
        "    def test_example2(self):\n",
        "        print('pytest')\n",
        "```\n",
        "関数と同じようにメソッド名を\n",
        "setup_method\n",
        "teardown_method\n",
        "にするとそれぞれテストメソッドの前後に実行がなされるようになる\n"
      ],
      "metadata": {
        "id": "saW3GDYVFLIh"
      }
    },
    {
      "cell_type": "markdown",
      "source": [
        "## クラスに対する前処理後処理の実行"
      ],
      "metadata": {
        "id": "d9oh3LR4LF1z"
      }
    },
    {
      "cell_type": "markdown",
      "source": [
        "\n",
        "\n",
        "```\n",
        "class TestExample():\n",
        "    # 前処理最初に実行される\n",
        "    @classmethod\n",
        "    def setup_class(cls):\n",
        "        print('setup_method')\n",
        "    # 後処理最後に実行される\n",
        "    @classmethod\n",
        "    def teardown_class(cls):\n",
        "        print('teardown_method')\n",
        "\n",
        "    def test_example(self):\n",
        "        print('hello world')\n",
        "\n",
        "    def test_example2(self):\n",
        "        print('pytest')\n",
        "```\n",
        "@classmethodを定義し\n",
        "メソッド名をsetup_class\n",
        "teardown_classにすることで前処理を最初のみに実行し、後処理を最後のみ実行することができる\n"
      ],
      "metadata": {
        "id": "-4or9ltiLFzM"
      }
    },
    {
      "cell_type": "markdown",
      "source": [
        "## モジュールに対する前処理後処理"
      ],
      "metadata": {
        "id": "kNmrUyT8LFxK"
      }
    },
    {
      "cell_type": "markdown",
      "source": [
        "\n",
        "\n",
        "```\n",
        "# 前処理\n",
        "def setup_module(module):\n",
        "    print('setup_module')\n",
        "# 後処理\n",
        "def teardown_module(module):\n",
        "    print('teardown_module')\n",
        "\n",
        "def test_hello_world():\n",
        "    print('hello world')\n",
        "\n",
        "def test_pytest():\n",
        "    print('pytest')\n",
        "\n",
        "class TestExample():\n",
        "    def test_hello_world(self):\n",
        "        print('hello world')\n",
        "\n",
        "    def test_pytest(self):\n",
        "        print('pytest')\n",
        "```\n",
        "メソッド名を\n",
        "\n",
        "setup_module(module)\n",
        "\n",
        "teardown_module(module)\n",
        "\n",
        "にすることでモジュール全体に対して前処理を実行し最後に後処理を実行する"
      ],
      "metadata": {
        "id": "32Wg1ZeJRpsG"
      }
    },
    {
      "cell_type": "markdown",
      "source": [
        "## fixtureによる関数の前処理後処理の代替"
      ],
      "metadata": {
        "id": "8lttF2fhSKTa"
      }
    },
    {
      "cell_type": "markdown",
      "source": [
        "fixtureとはテストの前処理&後処理を行うpytestの機能\n",
        "\n",
        "前処理&後処理を実行するテスト用関数を選択できるようになる"
      ],
      "metadata": {
        "id": "TbjOIkF4SKKk"
      }
    },
    {
      "cell_type": "markdown",
      "source": [
        "\n",
        "\n",
        "```\n",
        "# fixtureの利用\n",
        "import pytest\n",
        "\n",
        "# # 前処理\n",
        "# def setup_function(fnc):\n",
        "#     print('setup_function')\n",
        "\n",
        "# # 後処理\n",
        "# def teardown_function(fnc):\n",
        "#     print('teardown_function')\n",
        "\n",
        "@pytest.fixture()\n",
        "# 前処理\n",
        "def setup_processing(request):\n",
        "    print('前処理:setup_processing')\n",
        "    # 後処理\n",
        "    def teardown_processing():\n",
        "        print('後処理:teardown_processing')\n",
        "    request.addfinalizer(teardown_processing)\n",
        "\n",
        "def test_hello(setup_processing):\n",
        "    print('hello')\n",
        "\n",
        "def test_goodmorning():\n",
        "    print('goodmorning')\n",
        "\n",
        "def test_goodafternoon(setup_processing):\n",
        "    print('goodafternoon')\n",
        "```\n",
        "\n"
      ],
      "metadata": {
        "id": "zxh8qS9WSKHt"
      }
    },
    {
      "cell_type": "markdown",
      "source": [
        "前処理後処理を入れたい関数の引数に定義した前処理関数名を入れてあげれば、入れた関数のみ前処理後処理をすることができる\n",
        "\n",
        "後処理が不要な場合は定義せずに前処理のみでも可能\n",
        "\n",
        "後処理飲みが良い場合は前処理の処理内容記述しなければOK"
      ],
      "metadata": {
        "id": "FBaOxkijKz5t"
      }
    },
    {
      "cell_type": "markdown",
      "source": [
        "## fixtureによるメソッドの前処理後処理の代替"
      ],
      "metadata": {
        "id": "I7mqkrA_LghC"
      }
    },
    {
      "cell_type": "markdown",
      "source": [
        "\n",
        "\n",
        "```\n",
        "import pytest\n",
        "\n",
        "@pytest.fixture()\n",
        "# 前処理\n",
        "def setup_processing(request):\n",
        "    print('前処理:setup_processing')\n",
        "    # 後処理\n",
        "    def teardown_processing():\n",
        "        print('後処理:teardown_processing')\n",
        "    request.addfinalizer(teardown_processing)\n",
        "\n",
        "# 前処理後処理メソッドの作成\n",
        "class TestExample():\n",
        "\n",
        "    def test_hello(self, setup_processing):\n",
        "        print('hello')\n",
        "\n",
        "    def test_goodmorning(self):\n",
        "        print('goodmorning')\n",
        "\n",
        "    def test_goodafternoon(self, setup_processing):\n",
        "        print('goodafternoon')\n",
        "```\n",
        "\n",
        "関数同様にメソッドに対しても同じように指定できる\n"
      ],
      "metadata": {
        "id": "U0uK-ZbELu-b"
      }
    },
    {
      "cell_type": "markdown",
      "source": [
        "## fixtureによるクラスの前処理後処理の代替"
      ],
      "metadata": {
        "id": "OyvhutnpODf6"
      }
    },
    {
      "cell_type": "markdown",
      "source": [
        "\n",
        "\n",
        "```\n",
        "# fixtureによるクラスの前処理後処理の代替\n",
        "import pytest\n",
        "\n",
        "# scopeはフィクスチャ関数が実行される粒度を指定\n",
        "@pytest.fixture(scope='class')\n",
        "# 前処理\n",
        "def setup_processing(request):\n",
        "    print('前処理:setup_processing')\n",
        "    # 後処理\n",
        "    def teardown_processing():\n",
        "        print('後処理:teardown_processing')\n",
        "    request.addfinalizer(teardown_processing)\n",
        "\n",
        "\n",
        "# クラスに対する前処理後処理\n",
        "class TestExample():\n",
        "    def test_example1(self, setup_processing):\n",
        "        print('hello world')\n",
        "\n",
        "    def test_example2(self, setup_processing):\n",
        "        print('pytest')\n",
        "```\n",
        "\n",
        "@pytest.fixtuer()の引数にscope='class'と指定する\n",
        "\n",
        "デフォルトはscope='function'\n"
      ],
      "metadata": {
        "id": "tHGmZalZOYIT"
      }
    },
    {
      "cell_type": "markdown",
      "source": [
        "## fixtureによるモジュールの前処理後処理の代替"
      ],
      "metadata": {
        "id": "HRRCwdE6QUN7"
      }
    },
    {
      "cell_type": "markdown",
      "source": [
        "\n",
        "\n",
        "```\n",
        "# fixtureによるモジュールの前処理後処理の代替\n",
        "import pytest\n",
        "\n",
        "# scopeはフィクスチャ関数が実行される粒度を指定\n",
        "@pytest.fixture(scope='module')\n",
        "# 前処理\n",
        "def setup_module(request):\n",
        "    print('前処理:setup_module')\n",
        "    # 後処理\n",
        "    def teardown_module():\n",
        "        print('後処理:teardown_module')\n",
        "    request.addfinalizer(teardown_module)\n",
        "\n",
        "@pytest.fixture(scope='function')\n",
        "# 前処理\n",
        "def setup_function(request):\n",
        "    print('前処理:setup_function')\n",
        "    # 後処理\n",
        "    def teardown_function():\n",
        "        print('後処理:teardown_function')\n",
        "    request.addfinalizer(teardown_function)\n",
        "\n",
        "def test_hello_world(setup_module, setup_function):\n",
        "    print('hello world')\n",
        "\n",
        "def test_pytest(setup_module):\n",
        "    print('pytest')\n",
        "\n",
        "class TestExample():\n",
        "    def test_hello_world(self, setup_module):\n",
        "        print('hello world')\n",
        "\n",
        "    def test_pytest(self, setup_module):\n",
        "        print('pytest')\n",
        "\n",
        "```\n",
        "\n",
        "モジュールも同じように@pytest.fixture(scope='module')に引数を指定する\n",
        "\n",
        "scope='function'も追加で記述して合わせることもできる\n",
        "\n"
      ],
      "metadata": {
        "id": "fZTvOxwOQagN"
      }
    },
    {
      "cell_type": "markdown",
      "source": [
        "## fixtureのautouse設定"
      ],
      "metadata": {
        "id": "H-1NH2q7Tkdt"
      }
    },
    {
      "cell_type": "markdown",
      "source": [
        "\n",
        "\n",
        "```\n",
        "# fixtureのautouse設定\n",
        "import pytest\n",
        "\n",
        "# scopeはフィクスチャ関数が実行される粒度を指定\n",
        "@pytest.fixture(autouse=True)\n",
        "# 前処理\n",
        "def setup_processing(request):\n",
        "    print('前処理:setup_processing')\n",
        "    # 後処理\n",
        "    def teardown_processing():\n",
        "        print('後処理:teardown_processing')\n",
        "    request.addfinalizer(teardown_processing)\n",
        "\n",
        "class TestExample():\n",
        "    def test_hello_world(self):\n",
        "        print('hello world')\n",
        "\n",
        "    def test_pytest(self):\n",
        "        print('pytest')\n",
        "\n",
        "```\n",
        "\n",
        "@pytest.fixture(autouse=True)を記述することでメソッドの引数に前処理関数名を記述しなくても実行されるようになる\n",
        "\n",
        "デフォルトはFalse\n"
      ],
      "metadata": {
        "id": "5LY4gKbBTr6u"
      }
    },
    {
      "cell_type": "markdown",
      "source": [
        "# **テストのスキップ**"
      ],
      "metadata": {
        "id": "HHhNy5NfshwU"
      }
    },
    {
      "cell_type": "markdown",
      "source": [
        "## pytest.mark.skipによるテストのスキップ"
      ],
      "metadata": {
        "id": "-frnL1mDVNXt"
      }
    },
    {
      "cell_type": "markdown",
      "source": [
        "\n",
        "\n",
        "```\n",
        "# テストのスキップ\n",
        "import pytest\n",
        "\n",
        "def test_hello():\n",
        "    print('hello')\n",
        "\n",
        "# 引数のreason='ここにスキップする理由を記載する')\n",
        "@pytest.mark.skip(reason='write reason')\n",
        "def test_goodmorning():\n",
        "    print('good morning')\n",
        "\n",
        "def test_goodafternoon():\n",
        "    print('good afternoon')\n",
        "```\n",
        "\n",
        "テスト実行時-vで引数記入した内容まで表示させることができる\n"
      ],
      "metadata": {
        "id": "0sh57bNuv0pS"
      }
    },
    {
      "cell_type": "markdown",
      "source": [
        "## グループかによるテストのスキップ"
      ],
      "metadata": {
        "id": "whvXbsHdwFop"
      }
    },
    {
      "cell_type": "markdown",
      "source": [
        "\n",
        "\n",
        "```\n",
        "# テストのスキップ\n",
        "import pytest\n",
        "\n",
        "def test_hello():\n",
        "    print('hello')\n",
        "\n",
        "# @pytest.mark.グループ名　でグルーピングできる\n",
        "@pytest.mark.morning\n",
        "def test_goodmorning():\n",
        "    print('good morning')\n",
        "\n",
        "def test_goodafternoon():\n",
        "    print('good afternoon')\n",
        "```\n",
        "\n",
        "テストを実行するとき-m　\"グループ名\"で実行するとグルーピングしたものをテスト実行できる\n",
        "\n",
        "この際にワーニングが表示されてしまうので下記ファイルを新規作成し以下内容を記述する\n",
        "\n",
        "\n",
        "ファイル名：pytest.ini\n",
        "```\n",
        "[pytest]\n",
        "markers =\n",
        "    morning\n",
        "```\n",
        "これでワーニングが消える\n",
        "\n",
        "テスト実行時に-m 'not グループ名' でグループ以外のものをテスト実行できる\n",
        "\n",
        "またグループは複数指定することも可能\n",
        "\n"
      ],
      "metadata": {
        "id": "NfukF74HwSk9"
      }
    },
    {
      "cell_type": "markdown",
      "source": [
        "## 関数名、メソッド名によるテストのスキップ"
      ],
      "metadata": {
        "id": "24mnvICWyd0d"
      }
    },
    {
      "cell_type": "markdown",
      "source": [
        "\n",
        "\n",
        "```\n",
        "# テストのスキップ\n",
        "import pytest\n",
        "\n",
        "def test_hello1():\n",
        "    print('hello1')\n",
        "\n",
        "def test_hello2():\n",
        "    print('hello2')\n",
        "\n",
        "def test_goodafternoon1():\n",
        "    print('afternoon1')\n",
        "```\n",
        "\n",
        "関数名によるテスト指定\n",
        "\n",
        "pytest test_pytest16.py -k '関数名' -s\n",
        "\n",
        "指定した文字列を含む関数を全て実行する\n",
        "\n",
        "-k 'not 関数名'　でそれ以外を行うことも可能\n"
      ],
      "metadata": {
        "id": "wpnqVVkBysOo"
      }
    },
    {
      "cell_type": "markdown",
      "source": [
        "# **mockの使い方**"
      ],
      "metadata": {
        "id": "_GGtYGUGz2KQ"
      }
    },
    {
      "cell_type": "markdown",
      "source": [
        "## pytest -mockをインスストール"
      ],
      "metadata": {
        "id": "hbS7MJRJ0BvV"
      }
    },
    {
      "cell_type": "markdown",
      "source": [
        "モックとは関数Aをテストしたい場合関数Bを参照している(Bから返り値をもらっている)が関数Bはまだ完成していないので関数Aはテストできない\n",
        "\n",
        "この時のMock:代替物がモックということになるなるモックで返り値を指定してAに送ってげることでAをテストする\n"
      ],
      "metadata": {
        "id": "Z2njDuXk0KT_"
      }
    },
    {
      "cell_type": "code",
      "source": [
        "pip install googletrans==4.0.0-rc1"
      ],
      "metadata": {
        "id": "mbnp3H5wz_7u"
      },
      "execution_count": null,
      "outputs": []
    },
    {
      "cell_type": "markdown",
      "source": [
        "## 基本スクリプトの説明"
      ],
      "metadata": {
        "id": "XVrKamQX1NSW"
      }
    },
    {
      "cell_type": "markdown",
      "source": [
        "pip install googletrans==4.0.0-rc1\n",
        "\n",
        "Google翻訳のライブラリインストール方法"
      ],
      "metadata": {
        "id": "9Ev-YmhO4m4s"
      }
    },
    {
      "cell_type": "code",
      "source": [
        "from googletrans import Translator\n",
        "\n",
        "class GoogleTranslator():\n",
        "    def __init__(self):\n",
        "        self.translator = Translator()\n",
        "\n",
        "    def get_language_id(sefl, language_name):\n",
        "        languages = {\n",
        "            '日本語': 'ja',\n",
        "            '英語': 'en',\n",
        "            '中国語': 'zh-cn',\n",
        "            'フランス語': 'fr',\n",
        "            'ドイツ語': 'de',\n",
        "            'ヒンディー語': 'hi',\n",
        "            'イタリア語': 'it',\n",
        "            '韓国語': 'ko',\n",
        "            'ロシア語': 'ru',\n",
        "            'スペイン語': 'es'\n",
        "        }\n",
        "        return languages[language_name]\n",
        "\n",
        "    def convert(self, text_original, language_original_name, language_translated_name):\n",
        "        language_original_id = self.get_language_id(language_original_name)\n",
        "        language_translated_id = self.get_language_id(language_translated_name)\n",
        "        text_translated = self.translator.translate(text_original, src=language_original_id, dest=language_translated_id)\n",
        "        return text_translated.text"
      ],
      "metadata": {
        "id": "nbqxaeuu03iS"
      },
      "execution_count": null,
      "outputs": []
    },
    {
      "cell_type": "code",
      "source": [
        "trans = GoogleTranslator()\n",
        "text_translated = trans.convert('私の名前はsakataiです。', '日本語', '英語')\n",
        "print(text_translated)"
      ],
      "metadata": {
        "colab": {
          "base_uri": "https://localhost:8080/"
        },
        "id": "Erak6CvY9elA",
        "outputId": "4c766f06-cbb8-417b-fa3d-828efbfc710b"
      },
      "execution_count": null,
      "outputs": [
        {
          "output_type": "stream",
          "name": "stdout",
          "text": [
            "My name is SAKATAI.\n"
          ]
        }
      ]
    },
    {
      "cell_type": "markdown",
      "source": [
        "## 関数とメソッドの返り値をmock"
      ],
      "metadata": {
        "id": "UO5j-op_B4zi"
      }
    },
    {
      "cell_type": "markdown",
      "source": [
        "\n",
        "\n",
        "```\n",
        "# translator.pyのGoogleTranslatorを呼び出してテスト\n",
        "from translator import GoogleTranslator\n",
        "import pytest\n",
        "\n",
        "# 前処理の設定\n",
        "\n",
        "\n",
        "@pytest.fixture(scope='module')\n",
        "def trans():\n",
        "    t = GoogleTranslator()\n",
        "    print('create Translator')\n",
        "    return t\n",
        "\n",
        "\n",
        "def test_japanese_to_english(trans, mocker):\n",
        "    # 引数にモックにする関数名を記述する,返り値も指定する\n",
        "    mocker.patch('translator.GoogleTranslator.convert', return_value='hello world')\n",
        "\n",
        "    text_translated = trans.convert('私の名前はsakataiです。', '日本語', '英語')\n",
        "    print(text_translated)\n",
        "    # assert text_translated == 'My name is SAKATAI.'\n",
        "\n",
        "\n",
        "def test_english_to_japanese(trans, mocker):\n",
        "    # 返り値をjaに設定していることで日本語を日本語に翻訳することになる\n",
        "    mocker.patch('translator.GoogleTranslator.get_language_id', return_value='ja')\n",
        "    text_translated = trans.convert('私の名前はsakataiです。', '日本語', '英語')\n",
        "    print(text_translated)\n",
        "    # assert text_translated == '私の名前はサカタイです。'\n",
        "\n",
        "```\n",
        "\n"
      ],
      "metadata": {
        "id": "_gVKRIgVWmJG"
      }
    },
    {
      "cell_type": "markdown",
      "source": [
        "mocker.patch('モックに設定する関数名', return_value='返り値設定')"
      ],
      "metadata": {
        "id": "pSV7VSP3WqW2"
      }
    },
    {
      "cell_type": "markdown",
      "source": [
        "## 引数によって返り値を複数パターン設定"
      ],
      "metadata": {
        "id": "u8BxGdLJW4gP"
      }
    },
    {
      "cell_type": "markdown",
      "source": [
        "\n",
        "\n",
        "```\n",
        "# 引数によって返り値を複数設定する\n",
        "# translator.pyのGoogleTranslatorを呼び出してテスト\n",
        "from translator import GoogleTranslator\n",
        "import pytest\n",
        "\n",
        "# 前処理の設定\n",
        "@pytest.fixture(scope='module')\n",
        "def trans():\n",
        "    t = GoogleTranslator()\n",
        "    print('create Translator')\n",
        "    return t\n",
        "\n",
        "\n",
        "def test_japanese_to_english(trans, mocker):\n",
        "    # 返り値のパターン生成\n",
        "    def param_select(param):\n",
        "        if param == '日本語':\n",
        "            return 'ja'\n",
        "        else:\n",
        "            return 'fr'\n",
        "    # side_effect=param_selectで関数定義することにより引数のパターンを作成できる\n",
        "    mocker.patch('translator.GoogleTranslator.get_language_id', side_effect = param_select)\n",
        "    text_translated = trans.convert('私の名前は佐藤です。', '日本語', '英語')\n",
        "    print(text_translated)\n",
        "```\n",
        "\n",
        "mocker.patch('translator.GoogleTranslator.get_language_id', side_effect = param_select)\n",
        "\n",
        "side_effect = 返り値パターン関数名\n"
      ],
      "metadata": {
        "id": "qKRoHZIkazdC"
      }
    },
    {
      "cell_type": "markdown",
      "source": [
        "## mockに渡された引数の確認"
      ],
      "metadata": {
        "id": "fPfMjYP_bBaL"
      }
    },
    {
      "cell_type": "markdown",
      "source": [
        "\n",
        "\n",
        "```\n",
        "# 引数によって返り値を複数設定する\n",
        "# translator.pyのGoogleTranslatorを呼び出してテスト\n",
        "from translator import GoogleTranslator\n",
        "import pytest\n",
        "\n",
        "# 前処理の設定\n",
        "@pytest.fixture(scope='module')\n",
        "def trans():\n",
        "    t = GoogleTranslator()\n",
        "    print('create Translator')\n",
        "    return t\n",
        "\n",
        "\n",
        "def test_japanese_to_english(trans, mocker):\n",
        "    # 返り値のパターン生成\n",
        "    def param_select(param):\n",
        "        if param == '日本語':\n",
        "            return 'ja'\n",
        "        else:\n",
        "            return 'fr'\n",
        "    # side_effect=param_selectで関数定義することにより引数のパターンを作成できる\n",
        "    mock_obj = mocker.patch('translator.GoogleTranslator.get_language_id')\n",
        "    mock_obj.side_effect = param_select\n",
        "\n",
        "    text_translated = trans.convert('私の名前は佐藤です。', '日本語', '英語')\n",
        "    print(text_translated)\n",
        "    # mock_obj変数の引数の一覧を取得している\n",
        "    mock_args = mock_obj.call_args_list\n",
        "    print(mock_args)\n",
        "    # assert mock_args[0][0][0] == '日本語' # 引数1\n",
        "    # assert mock_args[1][0][0] == '英語' # 引数2\n",
        "\n",
        "```\n",
        "\n",
        "mock_args_listで設定されている引数を確認することができる\n",
        "\n"
      ],
      "metadata": {
        "id": "nk91qOzobJGU"
      }
    },
    {
      "cell_type": "markdown",
      "source": [
        "## 例外発出時にテストをpassする方法"
      ],
      "metadata": {
        "id": "iUoXKTvBcuVD"
      }
    },
    {
      "cell_type": "markdown",
      "source": [
        "\n",
        "\n",
        "```\n",
        "# 例外処理の実行\n",
        "from translator import GoogleTranslator\n",
        "import pytest\n",
        "\n",
        "\n",
        "# ポルトガル語は設定していないのでキーエラーとなるのでこれをクリアしたい\n",
        "def test_convert():\n",
        "    with pytest.raises(Exception):\n",
        "        trans = GoogleTranslator()\n",
        "        trans.convert('私の名前は佐藤です。', '日本語', 'ポルトガル語')\n",
        "```\n",
        "\n",
        "\n",
        "with pytest.raises(Exception):\n",
        "\n",
        "の下にインデントしてエラーが発生する関数の処理を記述するとたとえエラーでもクリアされる\n",
        "\n",
        "引数にエラーの内容を指定できる\n",
        "\n",
        "Exceptionは全部だが、TypeError ValueError KryErrorなどなど"
      ],
      "metadata": {
        "id": "jNLyghhaeTKj"
      }
    },
    {
      "cell_type": "markdown",
      "source": [
        "## mockで意図的に例外を発生させる"
      ],
      "metadata": {
        "id": "tLgIp3XDe-mJ"
      }
    },
    {
      "cell_type": "markdown",
      "source": [
        "\n",
        "\n",
        "```\n",
        "# 例外処理の実行\n",
        "from translator import GoogleTranslator\n",
        "import pytest\n",
        "\n",
        "\n",
        "def test_mock_exception(mocker):\n",
        "    # 意図的に例外を発生させる\n",
        "    mock_obj = mocker.patch('translator.GoogleTranslator.get_language_id')\n",
        "    mock_obj.side_effect = Exception('ConvertException') # 例外を設定\n",
        "\n",
        "    with pytest.raises(Exception) as e: # 例外オブジェクトをeと指定取得\n",
        "        trans = GoogleTranslator()\n",
        "        text_translated = trans.convert('私の名前は佐藤です。', '日本語', '英語')\n",
        "        print(text_translated)\n",
        "    # eで例外を取得しているのでvalue.args[0]に具体的なエラーの中身が入っている\n",
        "    print(e.value.args[0])\n",
        "```\n",
        "\n"
      ],
      "metadata": {
        "id": "N9RX9imtiRsR"
      }
    },
    {
      "cell_type": "markdown",
      "source": [
        "# **複数のパラメータでテストを実行**"
      ],
      "metadata": {
        "id": "jy54w8Kcianj"
      }
    },
    {
      "cell_type": "markdown",
      "source": [
        "# parametrizeの使い方"
      ],
      "metadata": {
        "id": "wA9dLaQOih0c"
      }
    },
    {
      "cell_type": "markdown",
      "source": [
        "\n",
        "\n",
        "```\n",
        "# テスト関数に様々なデータを渡してテストを実行\n",
        "from translator import GoogleTranslator\n",
        "import pytest\n",
        "\n",
        "# リストの中にタプルで格納する\n",
        "input_data =[\n",
        "    ('私の名前は佐藤です。', '日本語', '英語', 'My name is Sato.'),\n",
        "    ('こんにちは', '日本語', '英語', 'hello'),\n",
        "    ('おはよう', '日本語', '英語', 'Good morning')\n",
        "]\n",
        "\n",
        "# 前処理の設定\n",
        "@pytest.fixture(scope='module')\n",
        "def trans():\n",
        "    t = GoogleTranslator()\n",
        "    print('create Translator')\n",
        "    return t\n",
        "\n",
        "# パタメータの設定, fixtureの上ではエラーとなってしまう\n",
        "@pytest.mark.parametrize('input_a, input_b, input_c, input_d', input_data)\n",
        "\n",
        "def test_convert(input_a, input_b, input_c, input_d, trans):\n",
        "    print(f'input_a:{input_a}')\n",
        "    print(f'input_b:{input_b}')\n",
        "    print(f'input_c:{input_c}')\n",
        "    print(f'input_d:{input_d}')\n",
        "    text_translated = trans.convert(input_a, input_b, input_c)\n",
        "    assert text_translated == input_d\n",
        "\n",
        "```\n",
        "\n"
      ],
      "metadata": {
        "id": "imu0Daeail3A"
      }
    }
  ]
}