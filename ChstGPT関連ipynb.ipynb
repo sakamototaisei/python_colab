{
  "nbformat": 4,
  "nbformat_minor": 0,
  "metadata": {
    "colab": {
      "provenance": [],
      "toc_visible": true,
      "authorship_tag": "ABX9TyOrdR7/U1kL/y6dnSTAx5sU",
      "include_colab_link": true
    },
    "kernelspec": {
      "name": "python3",
      "display_name": "Python 3"
    },
    "language_info": {
      "name": "python"
    }
  },
  "cells": [
    {
      "cell_type": "markdown",
      "metadata": {
        "id": "view-in-github",
        "colab_type": "text"
      },
      "source": [
        "<a href=\"https://colab.research.google.com/github/sakamototaisei/python_colab/blob/main/ChstGPT%E9%96%A2%E9%80%A3ipynb.ipynb\" target=\"_parent\"><img src=\"https://colab.research.google.com/assets/colab-badge.svg\" alt=\"Open In Colab\"/></a>"
      ]
    },
    {
      "cell_type": "markdown",
      "source": [
        "# **セクション1：イントロ**"
      ],
      "metadata": {
        "id": "gXtuGKS2wic1"
      }
    },
    {
      "cell_type": "markdown",
      "source": [
        "## **OpenAIの簡単な歴史**"
      ],
      "metadata": {
        "id": "yf7igo1C0zme"
      }
    },
    {
      "cell_type": "markdown",
      "source": [
        "\n",
        "\n",
        "*   2015年に非営利団体として設立された→現在は営利団体企業となり大きな転換をする\n",
        "*   最先端の機械学習やAIの研究を行っている、GPT-4やDALL-E、Whisperのような非常に複雑なモデルを構築してる、フレームワークやAPIも開発\n",
        "*   2018年12月OpenAIは大規模言語モデルであるGPT-2を発表\n",
        "*   2019年営利企業へと変化する\n",
        "*   2020年6月にGPT-3をリリースする\n",
        "*   2020年12月にDALL-Eをリリース、画像生成モデル\n",
        "*   2022年11月にChat-GPTをリリース\n",
        "*   2023年3月にはChat APIを公開した\n",
        "\n"
      ],
      "metadata": {
        "id": "moEioPmS06Z1"
      }
    },
    {
      "cell_type": "markdown",
      "source": [
        "## **GPTについて**"
      ],
      "metadata": {
        "id": "PLOEg5Nu3yUx"
      }
    },
    {
      "cell_type": "markdown",
      "source": [
        "*   テキストを渡してテキストを出力として得ることができる\n",
        "*   次の単語を予測するように学習されている"
      ],
      "metadata": {
        "id": "jsQUsEVY32E3"
      }
    },
    {
      "cell_type": "markdown",
      "source": [
        "## **Transoformerアーキテクチャ**"
      ],
      "metadata": {
        "id": "LEdAlOHZ5i9B"
      }
    },
    {
      "cell_type": "markdown",
      "source": [],
      "metadata": {
        "id": "TnHrIJCf5rw-"
      }
    },
    {
      "cell_type": "code",
      "source": [],
      "metadata": {
        "id": "VKp49np30zWL"
      },
      "execution_count": null,
      "outputs": []
    },
    {
      "cell_type": "code",
      "source": [],
      "metadata": {
        "id": "iNDU3uk000le"
      },
      "execution_count": null,
      "outputs": []
    },
    {
      "cell_type": "code",
      "source": [],
      "metadata": {
        "id": "5hSfPT5F00jI"
      },
      "execution_count": null,
      "outputs": []
    },
    {
      "cell_type": "code",
      "source": [],
      "metadata": {
        "id": "zNNWpB_Y00gy"
      },
      "execution_count": null,
      "outputs": []
    },
    {
      "cell_type": "code",
      "source": [],
      "metadata": {
        "id": "tcAq3WSC00eM"
      },
      "execution_count": null,
      "outputs": []
    },
    {
      "cell_type": "code",
      "source": [],
      "metadata": {
        "id": "qWMR34ju00cG"
      },
      "execution_count": null,
      "outputs": []
    },
    {
      "cell_type": "code",
      "source": [],
      "metadata": {
        "id": "K0LOX-mW00Zf"
      },
      "execution_count": null,
      "outputs": []
    },
    {
      "cell_type": "code",
      "source": [],
      "metadata": {
        "id": "O7nKWr8000XJ"
      },
      "execution_count": null,
      "outputs": []
    },
    {
      "cell_type": "code",
      "source": [],
      "metadata": {
        "id": "SRBeVqEf00Uj"
      },
      "execution_count": null,
      "outputs": []
    },
    {
      "cell_type": "code",
      "source": [],
      "metadata": {
        "id": "JBF4YYYY00SN"
      },
      "execution_count": null,
      "outputs": []
    },
    {
      "cell_type": "code",
      "source": [],
      "metadata": {
        "id": "Ow6s1tdU00P6"
      },
      "execution_count": null,
      "outputs": []
    },
    {
      "cell_type": "code",
      "source": [],
      "metadata": {
        "id": "ijv4xTFK00Nh"
      },
      "execution_count": null,
      "outputs": []
    },
    {
      "cell_type": "code",
      "source": [],
      "metadata": {
        "id": "IdKo17LR00LL"
      },
      "execution_count": null,
      "outputs": []
    },
    {
      "cell_type": "code",
      "source": [],
      "metadata": {
        "id": "vTHEUBWf00JG"
      },
      "execution_count": null,
      "outputs": []
    },
    {
      "cell_type": "code",
      "source": [],
      "metadata": {
        "id": "6lCsBqjg00Gw"
      },
      "execution_count": null,
      "outputs": []
    },
    {
      "cell_type": "code",
      "source": [],
      "metadata": {
        "id": "-kcwqKAJ00EJ"
      },
      "execution_count": null,
      "outputs": []
    },
    {
      "cell_type": "code",
      "execution_count": null,
      "metadata": {
        "id": "g2IRYaeLwK-m"
      },
      "outputs": [],
      "source": []
    },
    {
      "cell_type": "code",
      "source": [],
      "metadata": {
        "id": "LEK2bwadwbm4"
      },
      "execution_count": null,
      "outputs": []
    }
  ]
}