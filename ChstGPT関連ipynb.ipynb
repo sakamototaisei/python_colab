{
  "nbformat": 4,
  "nbformat_minor": 0,
  "metadata": {
    "colab": {
      "provenance": [],
      "toc_visible": true,
      "authorship_tag": "ABX9TyPua3cBnPa4tAAasnyWX7c6",
      "include_colab_link": true
    },
    "kernelspec": {
      "name": "python3",
      "display_name": "Python 3"
    },
    "language_info": {
      "name": "python"
    }
  },
  "cells": [
    {
      "cell_type": "markdown",
      "metadata": {
        "id": "view-in-github",
        "colab_type": "text"
      },
      "source": [
        "<a href=\"https://colab.research.google.com/github/sakamototaisei/python_colab/blob/main/ChstGPT%E9%96%A2%E9%80%A3ipynb.ipynb\" target=\"_parent\"><img src=\"https://colab.research.google.com/assets/colab-badge.svg\" alt=\"Open In Colab\"/></a>"
      ]
    },
    {
      "cell_type": "markdown",
      "source": [
        "# **セクション1：イントロ**"
      ],
      "metadata": {
        "id": "gXtuGKS2wic1"
      }
    },
    {
      "cell_type": "markdown",
      "source": [
        "## **OpenAIの簡単な歴史**"
      ],
      "metadata": {
        "id": "yf7igo1C0zme"
      }
    },
    {
      "cell_type": "markdown",
      "source": [
        "\n",
        "\n",
        "*   2015年に非営利団体として設立された→現在は営利団体企業となり大きな転換をする\n",
        "*   最先端の機械学習やAIの研究を行っている、GPT-4やDALL-E、Whisperのような非常に複雑なモデルを構築してる、フレームワークやAPIも開発\n",
        "*   2018年12月OpenAIは大規模言語モデルであるGPT-2を発表\n",
        "*   2019年営利企業へと変化する\n",
        "*   2020年6月にGPT-3をリリースする\n",
        "*   2020年12月にDALL-Eをリリース、画像生成モデル\n",
        "*   2022年11月にChat-GPTをリリース\n",
        "*   2023年3月にはChat APIを公開した\n",
        "\n"
      ],
      "metadata": {
        "id": "moEioPmS06Z1"
      }
    },
    {
      "cell_type": "markdown",
      "source": [
        "## **GPTについて**"
      ],
      "metadata": {
        "id": "PLOEg5Nu3yUx"
      }
    },
    {
      "cell_type": "markdown",
      "source": [
        "*   テキストを渡してテキストを出力として得ることができる\n",
        "*   次の単語を予測するように学習されている"
      ],
      "metadata": {
        "id": "jsQUsEVY32E3"
      }
    },
    {
      "cell_type": "markdown",
      "source": [
        "## **Transoformerアーキテクチャ**"
      ],
      "metadata": {
        "id": "LEdAlOHZ5i9B"
      }
    },
    {
      "cell_type": "markdown",
      "source": [
        "**ChatGPT4に聞いてみた**\n",
        "\n",
        "**Transformerアーキテクチャとは？**\n",
        "\n",
        "Transformerは、自然言語処理のタスク、特に文章の翻訳や文章の生成などにおいて非常に優れた性能を示すニューラルネットワークの一種です。このアーキテクチャは「Attention Is All You Need」という論文で初めて紹介されました。名前が示す通り、「Attention」という概念が中心になっています。\n",
        "\n",
        "**Attention メカニズム**\n",
        "\n",
        "Attentionは、入力データのどの部分に注目すべきかをモデルに教える役割を持っています。たとえば、英語の文をフランス語に翻訳する際、Transformerは特定のフランス語の単語を生成するのに、英語の文のどの部分が重要かを判断します。\n",
        "\n",
        "**Transformerの主要な要素**\n",
        "\n",
        "1.  Encoder: Encoderは、入力データ（例：英語の文）をベクトルの形式で表現します。これにより、モデルが入力データの意味や構造を理解できるようになります。\n",
        "\n",
        "2.  Decoder: Decoderは、Encoderの出力を受け取り、ターゲットデータ（例：フランス語の文）を生成します。\n",
        "\n",
        "**どのように動作するのか？**\n",
        "\n",
        "1. Input Embedding: 入力文は単語ごとにベクトルに変換されます。これを埋め込みベクトルと呼びます。\n",
        "\n",
        "2. Positional Encoding: Transformerは、系列データの順序を理解する必要がありますが、自身には順序を表す情報がないため、位置情報を追加します。これがPositional Encodingです。\n",
        "\n",
        "3. Encoder Layers: これらのベクトルはEncoderに入ります。Encoderは複数の層で構成され、各層はSelf-AttentionとFeed Forward Neural Networkからなります。\n",
        "\n",
        "4. Decoder Layers: Encoderの出力はDecoderに送られます。Decoderも複数の層で構成されており、Encoderからの出力に注目しながら新しい単語を生成します。\n",
        "\n",
        "5. Output Linear Layer: Decoderの最後の層は、ターゲット言語の単語を生成します。\n",
        "\n",
        "**なぜTransformerは重要か？**\n",
        "\n",
        "Transformerアーキテクチャは並列処理に優れており、RNN(Recurrent Neural Networks) や LSTM (Long Short-Term Memory) と比べて、大規模なデータセットで高速に学習することができます。これにより、より大規模で複雑なNLPタスクに取り組むことができるようになりました。\n",
        "\n",
        "また、Attentionメカニズムによって、Transformerは系列データの中での関連性や依存関係を捉える能力が非常に高くなります。これにより、文の翻訳や文章生成において文脈や意味を考慮した結果を出力することができます。\n",
        "\n",
        "**Transformerを利用したモデル**\n",
        "\n",
        "Transformerアーキテクチャは非常に影響力があり、その後の多くのモデルの基盤となりました。代表的なものには以下のようなものがあります。\n",
        "\n",
        "* BERT (Bidirectional Encoder Representations from Transformers): BERTはTransformerのEncoderのみを使用し、テキストデータを深く理解することに焦点を当てています。BERTはテキストの分類、名前付きエンティティ認識、質問応答など、多くのNLPタスクで高い性能を発揮します。\n",
        "\n",
        "* GPT (Generative Pre-trained Transformer): GPTはTransformerのDecoder部分を使用して、テキストを生成することに特化しています。GPTは文章生成、文章の補完、文章の要約などのタスクで広く使用されています。\n",
        "\n",
        "**まとめ**\n",
        "\n",
        "Transformerアーキテクチャは、Attentionメカニズムを中心に、大規模なテキストデータを効率的に処理し、深い文脈理解を実現するためのニューラルネットワークです。これにより、NLPの分野における多くの進歩がもたらされ、BERTやGPTのような派生モデルも開発されました。これらのモデルは、自然言語処理の分野で広く使用され、高い性能を発揮しています。\n",
        "\n",
        "\n",
        "\n",
        "\n",
        "\n"
      ],
      "metadata": {
        "id": "TnHrIJCf5rw-"
      }
    },
    {
      "cell_type": "markdown",
      "source": [
        "\n",
        "\n",
        "---\n",
        "\n",
        "\n",
        "\n",
        "\n"
      ],
      "metadata": {
        "id": "3912u2KdIbQT"
      }
    },
    {
      "cell_type": "markdown",
      "source": [
        "# **セクション2：始めよう**"
      ],
      "metadata": {
        "id": "MDxrfUKtIhEH"
      }
    },
    {
      "cell_type": "markdown",
      "source": [
        "## **初めてのCompletionリクエスト**"
      ],
      "metadata": {
        "id": "Qbd-aaOHNXmZ"
      }
    },
    {
      "cell_type": "code",
      "source": [
        "pip install openai"
      ],
      "metadata": {
        "id": "VKp49np30zWL",
        "colab": {
          "base_uri": "https://localhost:8080/"
        },
        "outputId": "89dd2812-6a5b-4c3a-ac4a-bd188e8769b8"
      },
      "execution_count": 8,
      "outputs": [
        {
          "output_type": "stream",
          "name": "stdout",
          "text": [
            "Requirement already satisfied: openai in /usr/local/lib/python3.10/dist-packages (0.27.8)\n",
            "Requirement already satisfied: requests>=2.20 in /usr/local/lib/python3.10/dist-packages (from openai) (2.27.1)\n",
            "Requirement already satisfied: tqdm in /usr/local/lib/python3.10/dist-packages (from openai) (4.65.0)\n",
            "Requirement already satisfied: aiohttp in /usr/local/lib/python3.10/dist-packages (from openai) (3.8.4)\n",
            "Requirement already satisfied: urllib3<1.27,>=1.21.1 in /usr/local/lib/python3.10/dist-packages (from requests>=2.20->openai) (1.26.16)\n",
            "Requirement already satisfied: certifi>=2017.4.17 in /usr/local/lib/python3.10/dist-packages (from requests>=2.20->openai) (2023.5.7)\n",
            "Requirement already satisfied: charset-normalizer~=2.0.0 in /usr/local/lib/python3.10/dist-packages (from requests>=2.20->openai) (2.0.12)\n",
            "Requirement already satisfied: idna<4,>=2.5 in /usr/local/lib/python3.10/dist-packages (from requests>=2.20->openai) (3.4)\n",
            "Requirement already satisfied: attrs>=17.3.0 in /usr/local/lib/python3.10/dist-packages (from aiohttp->openai) (23.1.0)\n",
            "Requirement already satisfied: multidict<7.0,>=4.5 in /usr/local/lib/python3.10/dist-packages (from aiohttp->openai) (6.0.4)\n",
            "Requirement already satisfied: async-timeout<5.0,>=4.0.0a3 in /usr/local/lib/python3.10/dist-packages (from aiohttp->openai) (4.0.2)\n",
            "Requirement already satisfied: yarl<2.0,>=1.0 in /usr/local/lib/python3.10/dist-packages (from aiohttp->openai) (1.9.2)\n",
            "Requirement already satisfied: frozenlist>=1.1.1 in /usr/local/lib/python3.10/dist-packages (from aiohttp->openai) (1.3.3)\n",
            "Requirement already satisfied: aiosignal>=1.1.2 in /usr/local/lib/python3.10/dist-packages (from aiohttp->openai) (1.3.1)\n"
          ]
        }
      ]
    },
    {
      "cell_type": "markdown",
      "source": [
        "## **APIキーを隠そう**"
      ],
      "metadata": {
        "id": "EV_YrgTE1mcQ"
      }
    },
    {
      "cell_type": "markdown",
      "source": [
        "\n",
        "\n",
        "*   環境変数に入れる\n",
        "*   .envのような隠しファイルに入れる\n",
        "\n"
      ],
      "metadata": {
        "id": "btyfSp3M1y_U"
      }
    },
    {
      "cell_type": "code",
      "source": [
        "pip install python-dotenv"
      ],
      "metadata": {
        "id": "zNNWpB_Y00gy",
        "colab": {
          "base_uri": "https://localhost:8080/"
        },
        "outputId": "eda6094a-7d6b-41d6-c94e-41be323c811b"
      },
      "execution_count": 1,
      "outputs": [
        {
          "output_type": "stream",
          "name": "stdout",
          "text": [
            "Collecting python-dotenv\n",
            "  Downloading python_dotenv-1.0.0-py3-none-any.whl (19 kB)\n",
            "Installing collected packages: python-dotenv\n",
            "Successfully installed python-dotenv-1.0.0\n"
          ]
        }
      ]
    },
    {
      "cell_type": "code",
      "source": [
        "from dotenv import dotenv_values"
      ],
      "metadata": {
        "id": "tcAq3WSC00eM"
      },
      "execution_count": 2,
      "outputs": []
    },
    {
      "cell_type": "code",
      "source": [
        "import openai"
      ],
      "metadata": {
        "id": "CFBvg-Uv4W_2"
      },
      "execution_count": 5,
      "outputs": []
    },
    {
      "cell_type": "code",
      "source": [
        "config = dotenv_values('test.env')"
      ],
      "metadata": {
        "id": "qWMR34ju00cG"
      },
      "execution_count": 6,
      "outputs": []
    },
    {
      "cell_type": "code",
      "source": [
        "openai.api_key = config['OPENAI_API_KEY']"
      ],
      "metadata": {
        "id": "O7nKWr8000XJ",
        "colab": {
          "base_uri": "https://localhost:8080/",
          "height": 170
        },
        "outputId": "c3cea6a4-e5a8-46ae-a0a3-1228837240d8"
      },
      "execution_count": 7,
      "outputs": [
        {
          "output_type": "error",
          "ename": "KeyError",
          "evalue": "ignored",
          "traceback": [
            "\u001b[0;31m---------------------------------------------------------------------------\u001b[0m",
            "\u001b[0;31mKeyError\u001b[0m                                  Traceback (most recent call last)",
            "\u001b[0;32m<ipython-input-7-e79ac60c3b1e>\u001b[0m in \u001b[0;36m<cell line: 1>\u001b[0;34m()\u001b[0m\n\u001b[0;32m----> 1\u001b[0;31m \u001b[0mopenai\u001b[0m\u001b[0;34m.\u001b[0m\u001b[0mapi_key\u001b[0m \u001b[0;34m=\u001b[0m \u001b[0mconfig\u001b[0m\u001b[0;34m[\u001b[0m\u001b[0;34m'OPENAI_API_KEY'\u001b[0m\u001b[0;34m]\u001b[0m\u001b[0;34m\u001b[0m\u001b[0;34m\u001b[0m\u001b[0m\n\u001b[0m",
            "\u001b[0;31mKeyError\u001b[0m: 'OPENAI_API_KEY'"
          ]
        }
      ]
    },
    {
      "cell_type": "code",
      "source": [
        "openai.Completion.create(\n",
        "    model='text-davinci-003',\n",
        "    prompt='Happy Birthday '\n",
        ")"
      ],
      "metadata": {
        "id": "SRBeVqEf00Uj"
      },
      "execution_count": null,
      "outputs": []
    },
    {
      "cell_type": "markdown",
      "source": [
        "## **トークンについて**"
      ],
      "metadata": {
        "id": "bBM3YA2W5V7J"
      }
    },
    {
      "cell_type": "markdown",
      "source": [
        "*   英語で4文字程度に分割される\n",
        "*   モデルに渡すトークン数が課金と関わる点が重要\n",
        "*   入力のトークン数と出力のトークン数の総数の合計を課金対象とする\n",
        "*   モデルによって価格は違い性能の良いモデルの方が高くなる"
      ],
      "metadata": {
        "id": "h2wBQcvlX1hA"
      }
    },
    {
      "cell_type": "markdown",
      "source": [
        "## **max_tokens**"
      ],
      "metadata": {
        "id": "95aSIzjyZhFt"
      }
    },
    {
      "cell_type": "code",
      "source": [],
      "metadata": {
        "id": "JBF4YYYY00SN"
      },
      "execution_count": null,
      "outputs": []
    },
    {
      "cell_type": "code",
      "source": [],
      "metadata": {
        "id": "EC5DDO1ac3BT"
      },
      "execution_count": null,
      "outputs": []
    },
    {
      "cell_type": "code",
      "source": [],
      "metadata": {
        "id": "TDFTvylOc2-m"
      },
      "execution_count": null,
      "outputs": []
    },
    {
      "cell_type": "code",
      "source": [],
      "metadata": {
        "id": "ZOlk7OT7c274"
      },
      "execution_count": null,
      "outputs": []
    },
    {
      "cell_type": "code",
      "source": [],
      "metadata": {
        "id": "iD2rzmh1c25j"
      },
      "execution_count": null,
      "outputs": []
    },
    {
      "cell_type": "code",
      "source": [],
      "metadata": {
        "id": "fJ6tFZmrc22X"
      },
      "execution_count": null,
      "outputs": []
    },
    {
      "cell_type": "code",
      "source": [],
      "metadata": {
        "id": "EeEiTaXMc2Nk"
      },
      "execution_count": null,
      "outputs": []
    },
    {
      "cell_type": "code",
      "source": [],
      "metadata": {
        "id": "D_kqBCzWc2LA"
      },
      "execution_count": null,
      "outputs": []
    },
    {
      "cell_type": "code",
      "source": [],
      "metadata": {
        "id": "YXy4Afo0c2H8"
      },
      "execution_count": null,
      "outputs": []
    },
    {
      "cell_type": "code",
      "source": [],
      "metadata": {
        "id": "7xqBvNjic2FK"
      },
      "execution_count": null,
      "outputs": []
    },
    {
      "cell_type": "code",
      "source": [],
      "metadata": {
        "id": "H5XlmO9_c2Ck"
      },
      "execution_count": null,
      "outputs": []
    },
    {
      "cell_type": "code",
      "source": [],
      "metadata": {
        "id": "7TcYlISrc1_8"
      },
      "execution_count": null,
      "outputs": []
    },
    {
      "cell_type": "code",
      "source": [],
      "metadata": {
        "id": "K6kzGVlyc19V"
      },
      "execution_count": null,
      "outputs": []
    },
    {
      "cell_type": "code",
      "source": [],
      "metadata": {
        "id": "cR0Kx5uRc1y8"
      },
      "execution_count": null,
      "outputs": []
    },
    {
      "cell_type": "code",
      "source": [],
      "metadata": {
        "id": "Ow6s1tdU00P6"
      },
      "execution_count": null,
      "outputs": []
    },
    {
      "cell_type": "code",
      "source": [],
      "metadata": {
        "id": "ijv4xTFK00Nh"
      },
      "execution_count": null,
      "outputs": []
    },
    {
      "cell_type": "code",
      "source": [],
      "metadata": {
        "id": "IdKo17LR00LL"
      },
      "execution_count": null,
      "outputs": []
    },
    {
      "cell_type": "code",
      "source": [],
      "metadata": {
        "id": "vTHEUBWf00JG"
      },
      "execution_count": null,
      "outputs": []
    },
    {
      "cell_type": "code",
      "source": [],
      "metadata": {
        "id": "6lCsBqjg00Gw"
      },
      "execution_count": null,
      "outputs": []
    },
    {
      "cell_type": "code",
      "source": [],
      "metadata": {
        "id": "-kcwqKAJ00EJ"
      },
      "execution_count": null,
      "outputs": []
    },
    {
      "cell_type": "code",
      "execution_count": null,
      "metadata": {
        "id": "g2IRYaeLwK-m"
      },
      "outputs": [],
      "source": []
    },
    {
      "cell_type": "code",
      "source": [],
      "metadata": {
        "id": "LEK2bwadwbm4"
      },
      "execution_count": null,
      "outputs": []
    }
  ]
}