{
  "nbformat": 4,
  "nbformat_minor": 0,
  "metadata": {
    "colab": {
      "provenance": [],
      "collapsed_sections": [
        "vANlud7mQa_C",
        "Qt7trfwAR9UC",
        "PNlaEU-iZBH4"
      ],
      "toc_visible": true,
      "authorship_tag": "ABX9TyN+e+khT0iWi5aWdlI8Pt4z",
      "include_colab_link": true
    },
    "kernelspec": {
      "name": "python3",
      "display_name": "Python 3"
    },
    "language_info": {
      "name": "python"
    }
  },
  "cells": [
    {
      "cell_type": "markdown",
      "metadata": {
        "id": "view-in-github",
        "colab_type": "text"
      },
      "source": [
        "<a href=\"https://colab.research.google.com/github/sakamototaisei/python_colab/blob/main/Python3.ipynb\" target=\"_parent\"><img src=\"https://colab.research.google.com/assets/colab-badge.svg\" alt=\"Open In Colab\"/></a>"
      ]
    },
    {
      "cell_type": "markdown",
      "source": [
        "# **Pythonで扱う基本的なデータ**"
      ],
      "metadata": {
        "id": "YtcUsNpNPl_M"
      }
    },
    {
      "cell_type": "markdown",
      "source": [
        "## **Pythonで扱う数値 1**"
      ],
      "metadata": {
        "id": "vANlud7mQa_C"
      }
    },
    {
      "cell_type": "code",
      "source": [
        "2**1000"
      ],
      "metadata": {
        "colab": {
          "base_uri": "https://localhost:8080/"
        },
        "id": "zYzEZDtkRTOp",
        "outputId": "3460c8d8-2fd8-4333-d24d-dbd2d8174c94"
      },
      "execution_count": null,
      "outputs": [
        {
          "output_type": "execute_result",
          "data": {
            "text/plain": [
              "10715086071862673209484250490600018105614048117055336074437503883703510511249361224931983788156958581275946729175531468251871452856923140435984577574698574803934567774824230985421074605062371141877954182153046474983581941267398767559165543946077062914571196477686542167660429831652624386837205668069376"
            ]
          },
          "metadata": {},
          "execution_count": 3
        }
      ]
    },
    {
      "cell_type": "code",
      "source": [
        "1/3"
      ],
      "metadata": {
        "colab": {
          "base_uri": "https://localhost:8080/"
        },
        "id": "oKpN7mPSRfbU",
        "outputId": "e47c74b5-3550-4c18-c3cb-b4ead305bdad"
      },
      "execution_count": null,
      "outputs": [
        {
          "output_type": "execute_result",
          "data": {
            "text/plain": [
              "0.3333333333333333"
            ]
          },
          "metadata": {},
          "execution_count": 4
        }
      ]
    },
    {
      "cell_type": "code",
      "source": [
        "import math"
      ],
      "metadata": {
        "id": "WMurlVGIRj4e"
      },
      "execution_count": null,
      "outputs": []
    },
    {
      "cell_type": "code",
      "source": [
        "math.cos(0)"
      ],
      "metadata": {
        "colab": {
          "base_uri": "https://localhost:8080/"
        },
        "id": "jJeJxR3WRmme",
        "outputId": "09de80a6-093c-4992-93b9-182a17a94765"
      },
      "execution_count": null,
      "outputs": [
        {
          "output_type": "execute_result",
          "data": {
            "text/plain": [
              "1.0"
            ]
          },
          "metadata": {},
          "execution_count": 6
        }
      ]
    },
    {
      "cell_type": "code",
      "source": [
        "math.pi"
      ],
      "metadata": {
        "colab": {
          "base_uri": "https://localhost:8080/"
        },
        "id": "xKQtAgMNRu3b",
        "outputId": "ba8a4f5d-0d84-4e34-b442-29a8d2bda759"
      },
      "execution_count": null,
      "outputs": [
        {
          "output_type": "execute_result",
          "data": {
            "text/plain": [
              "3.141592653589793"
            ]
          },
          "metadata": {},
          "execution_count": 7
        }
      ]
    },
    {
      "cell_type": "code",
      "source": [
        "math.cos(math.pi)"
      ],
      "metadata": {
        "colab": {
          "base_uri": "https://localhost:8080/"
        },
        "id": "cePZZ3qARyAK",
        "outputId": "f581259c-5528-45b4-c90b-78a591ad4f3b"
      },
      "execution_count": null,
      "outputs": [
        {
          "output_type": "execute_result",
          "data": {
            "text/plain": [
              "-1.0"
            ]
          },
          "metadata": {},
          "execution_count": 8
        }
      ]
    },
    {
      "cell_type": "markdown",
      "source": [
        "## **Pythonでのパッケージの扱い**"
      ],
      "metadata": {
        "id": "Qt7trfwAR9UC"
      }
    },
    {
      "cell_type": "code",
      "source": [
        "# 多倍長精度演算パッケージ\n",
        "pip install mpmath"
      ],
      "metadata": {
        "colab": {
          "base_uri": "https://localhost:8080/"
        },
        "id": "5mkdDGh7R4jk",
        "outputId": "96ac19e4-0196-42c7-8577-6e75907f539e"
      },
      "execution_count": null,
      "outputs": [
        {
          "output_type": "stream",
          "name": "stdout",
          "text": [
            "Looking in indexes: https://pypi.org/simple, https://us-python.pkg.dev/colab-wheels/public/simple/\n",
            "Requirement already satisfied: mpmath in /usr/local/lib/python3.9/dist-packages (1.3.0)\n"
          ]
        }
      ]
    },
    {
      "cell_type": "code",
      "source": [
        "from mpmath import mp"
      ],
      "metadata": {
        "id": "o9rtPCCfW1aT"
      },
      "execution_count": null,
      "outputs": []
    },
    {
      "cell_type": "markdown",
      "source": [
        "## **Pythoで扱う数値 2**"
      ],
      "metadata": {
        "id": "PNlaEU-iZBH4"
      }
    },
    {
      "cell_type": "code",
      "source": [
        "mp.pi"
      ],
      "metadata": {
        "colab": {
          "base_uri": "https://localhost:8080/"
        },
        "id": "SKlEq4CSXZle",
        "outputId": "e171aa3a-1505-4609-a5a5-b9499960e99e"
      },
      "execution_count": null,
      "outputs": [
        {
          "output_type": "execute_result",
          "data": {
            "text/plain": [
              "<pi: 3.14159~>"
            ]
          },
          "metadata": {},
          "execution_count": 11
        }
      ]
    },
    {
      "cell_type": "code",
      "source": [
        "print(mp.pi)"
      ],
      "metadata": {
        "colab": {
          "base_uri": "https://localhost:8080/"
        },
        "id": "qwFMKkmfXb6i",
        "outputId": "1cb3f5dd-eca7-48a3-8b02-96965f13f133"
      },
      "execution_count": null,
      "outputs": [
        {
          "output_type": "stream",
          "name": "stdout",
          "text": [
            "3.14159265358979\n"
          ]
        }
      ]
    },
    {
      "cell_type": "code",
      "source": [
        "# 桁数を設定\n",
        "mp.dps = 100"
      ],
      "metadata": {
        "id": "JQsyHVJWXnjh"
      },
      "execution_count": null,
      "outputs": []
    },
    {
      "cell_type": "code",
      "source": [
        "print(mp.pi)"
      ],
      "metadata": {
        "colab": {
          "base_uri": "https://localhost:8080/"
        },
        "id": "aPdxub8DXu1h",
        "outputId": "92ac8515-e6b9-43f1-abd5-eb17931832dd"
      },
      "execution_count": null,
      "outputs": [
        {
          "output_type": "stream",
          "name": "stdout",
          "text": [
            "3.141592653589793238462643383279502884197169399375105820974944592307816406286208998628034825342117068\n"
          ]
        }
      ]
    },
    {
      "cell_type": "code",
      "source": [
        "a = float(mp.pi)\n",
        "a"
      ],
      "metadata": {
        "colab": {
          "base_uri": "https://localhost:8080/"
        },
        "id": "ikRSa_OkXw4S",
        "outputId": "7eeeba77-20da-4a7a-fdbf-1c3ee50ebdc4"
      },
      "execution_count": null,
      "outputs": [
        {
          "output_type": "execute_result",
          "data": {
            "text/plain": [
              "3.141592653589793"
            ]
          },
          "metadata": {},
          "execution_count": 18
        }
      ]
    },
    {
      "cell_type": "code",
      "source": [
        "b = mp.mpf(2)\n",
        "b"
      ],
      "metadata": {
        "colab": {
          "base_uri": "https://localhost:8080/"
        },
        "id": "vH0ccAk5X9le",
        "outputId": "cc7d76ca-940a-45b0-a03d-895ccd4a248a"
      },
      "execution_count": null,
      "outputs": [
        {
          "output_type": "execute_result",
          "data": {
            "text/plain": [
              "mpf('2.0')"
            ]
          },
          "metadata": {},
          "execution_count": 19
        }
      ]
    },
    {
      "cell_type": "code",
      "source": [
        "b**0.5"
      ],
      "metadata": {
        "colab": {
          "base_uri": "https://localhost:8080/"
        },
        "id": "j0-wwVh4YUDV",
        "outputId": "9f7c4790-ba94-4514-dc98-5baa83a609c1"
      },
      "execution_count": null,
      "outputs": [
        {
          "output_type": "execute_result",
          "data": {
            "text/plain": [
              "mpf('1.414213562373095048801688724209698078569671875376948073176679737990732478462107038850387534327641572735')"
            ]
          },
          "metadata": {},
          "execution_count": 20
        }
      ]
    },
    {
      "cell_type": "code",
      "source": [
        "4**0.5"
      ],
      "metadata": {
        "colab": {
          "base_uri": "https://localhost:8080/"
        },
        "id": "-iJ7QXJoYZtn",
        "outputId": "eafa0834-b367-474f-a22b-87fb70762801"
      },
      "execution_count": null,
      "outputs": [
        {
          "output_type": "execute_result",
          "data": {
            "text/plain": [
              "2.0"
            ]
          },
          "metadata": {},
          "execution_count": 21
        }
      ]
    },
    {
      "cell_type": "markdown",
      "source": [
        "## **文字列の扱い**"
      ],
      "metadata": {
        "id": "2ckkXfjxY8UI"
      }
    },
    {
      "cell_type": "code",
      "source": [
        "# エスケープシーケンス\n",
        "s = 'Pythonを\\n学びましょう'\n",
        "print(s)"
      ],
      "metadata": {
        "colab": {
          "base_uri": "https://localhost:8080/"
        },
        "id": "rMshHCuzYzGh",
        "outputId": "bc3dd6d7-d96c-400c-e4db-0ac653418d28"
      },
      "execution_count": null,
      "outputs": [
        {
          "output_type": "stream",
          "name": "stdout",
          "text": [
            "Pythonを\n",
            "学びましょう\n"
          ]
        }
      ]
    },
    {
      "cell_type": "code",
      "source": [
        "# 文字コード\n",
        "s = '\\u8a00\\u8a9e'\n",
        "print(s)"
      ],
      "metadata": {
        "colab": {
          "base_uri": "https://localhost:8080/"
        },
        "id": "b9vMYqYlaGs-",
        "outputId": "ac5c6cd9-bece-45ce-cf7e-e78b67e4e73e"
      },
      "execution_count": null,
      "outputs": [
        {
          "output_type": "stream",
          "name": "stdout",
          "text": [
            "言語\n"
          ]
        }
      ]
    },
    {
      "cell_type": "code",
      "source": [
        "s = 'これは\\\\n改行ではありません'\n",
        "print(s)"
      ],
      "metadata": {
        "colab": {
          "base_uri": "https://localhost:8080/"
        },
        "id": "UxAK7-ChagBI",
        "outputId": "142e3982-c678-4816-b0f7-299f01a7904f"
      },
      "execution_count": null,
      "outputs": [
        {
          "output_type": "stream",
          "name": "stdout",
          "text": [
            "これは\\n改行ではありません\n"
          ]
        }
      ]
    },
    {
      "cell_type": "code",
      "source": [
        "# raw文字列\n",
        "s = r'Pythonを\\nを学びましょう'\n",
        "print(s)"
      ],
      "metadata": {
        "colab": {
          "base_uri": "https://localhost:8080/"
        },
        "id": "Jg4luK5ua6pg",
        "outputId": "890a5b6e-b5f2-42de-e211-a3d6568d1887"
      },
      "execution_count": null,
      "outputs": [
        {
          "output_type": "stream",
          "name": "stdout",
          "text": [
            "Pythonを\\nを学びましょう\n"
          ]
        }
      ]
    },
    {
      "cell_type": "code",
      "source": [
        "ord('A')"
      ],
      "metadata": {
        "colab": {
          "base_uri": "https://localhost:8080/"
        },
        "id": "N0BEorS_bNEs",
        "outputId": "bebf4bf2-77cb-491f-f591-b9dc9230a37e"
      },
      "execution_count": null,
      "outputs": [
        {
          "output_type": "execute_result",
          "data": {
            "text/plain": [
              "65"
            ]
          },
          "metadata": {},
          "execution_count": 42
        }
      ]
    },
    {
      "cell_type": "code",
      "source": [
        "print(ord('大'))\n",
        "print(ord('成'))"
      ],
      "metadata": {
        "colab": {
          "base_uri": "https://localhost:8080/"
        },
        "id": "vsFa91ulb4G0",
        "outputId": "6d6555ff-e475-43a5-e8c8-879db749bc05"
      },
      "execution_count": null,
      "outputs": [
        {
          "output_type": "stream",
          "name": "stdout",
          "text": [
            "22823\n",
            "25104\n"
          ]
        }
      ]
    },
    {
      "cell_type": "code",
      "source": [
        "chr(65)"
      ],
      "metadata": {
        "colab": {
          "base_uri": "https://localhost:8080/",
          "height": 35
        },
        "id": "8UPJdMTSb-_z",
        "outputId": "d59b0e34-e6cc-49a3-bb2d-6ccb6f33f922"
      },
      "execution_count": null,
      "outputs": [
        {
          "output_type": "execute_result",
          "data": {
            "text/plain": [
              "'A'"
            ],
            "application/vnd.google.colaboratory.intrinsic+json": {
              "type": "string"
            }
          },
          "metadata": {},
          "execution_count": 43
        }
      ]
    },
    {
      "cell_type": "code",
      "source": [
        "print(chr(22823), end='')\n",
        "print(chr(25104))"
      ],
      "metadata": {
        "colab": {
          "base_uri": "https://localhost:8080/"
        },
        "id": "GV42SBDKccbg",
        "outputId": "3745dc74-7b88-4c01-f903-22a8e7f089cc"
      },
      "execution_count": null,
      "outputs": [
        {
          "output_type": "stream",
          "name": "stdout",
          "text": [
            "大成\n"
          ]
        }
      ]
    },
    {
      "cell_type": "code",
      "source": [
        "# 文字列の分解\n",
        "s = 'a.b.c.d.e'\n",
        "a = s.split('.')\n",
        "print(a)"
      ],
      "metadata": {
        "id": "8iDYLRRFcfTs",
        "colab": {
          "base_uri": "https://localhost:8080/"
        },
        "outputId": "e0f9ff7a-2371-411e-8e6e-cc557801e8a6"
      },
      "execution_count": 8,
      "outputs": [
        {
          "output_type": "stream",
          "name": "stdout",
          "text": [
            "['a', 'b', 'c', 'd', 'e']\n"
          ]
        }
      ]
    },
    {
      "cell_type": "code",
      "source": [
        "# 文字列の結合\n",
        "s2 = '.'.join(a)\n",
        "print(s2)"
      ],
      "metadata": {
        "colab": {
          "base_uri": "https://localhost:8080/"
        },
        "id": "Kh8RZPIUH2nN",
        "outputId": "637bd218-accd-4680-f3e1-ffe17c7fdf76"
      },
      "execution_count": 9,
      "outputs": [
        {
          "output_type": "stream",
          "name": "stdout",
          "text": [
            "a.b.c.d.e\n"
          ]
        }
      ]
    },
    {
      "cell_type": "code",
      "source": [
        "# 文字列の置換\n",
        "s = 'C言語を勉強しています。C言語は楽しいです。'\n",
        "s2 = s.replace('C', 'Pyrhon')\n",
        "print(s)\n",
        "print(s2)"
      ],
      "metadata": {
        "colab": {
          "base_uri": "https://localhost:8080/"
        },
        "id": "rjm-dx6eIe-j",
        "outputId": "5cc66d1b-2cc8-4b73-bf78-cbe7d1e6bc0f"
      },
      "execution_count": 13,
      "outputs": [
        {
          "output_type": "stream",
          "name": "stdout",
          "text": [
            "C言語を勉強しています。C言語は楽しいです。\n",
            "Pyrhon言語を勉強しています。Pyrhon言語は楽しいです。\n"
          ]
        }
      ]
    },
    {
      "cell_type": "code",
      "source": [
        "# 変換表を作成\n",
        "tr = str.maketrans('ab', 'AB')\n",
        "\n",
        "s = 'abcdcba'\n",
        "print(s.translate(tr))"
      ],
      "metadata": {
        "colab": {
          "base_uri": "https://localhost:8080/"
        },
        "id": "71h4Hy-oJH4p",
        "outputId": "1dfba7e2-5d60-4e66-ce29-31658d7166d0"
      },
      "execution_count": 19,
      "outputs": [
        {
          "output_type": "stream",
          "name": "stdout",
          "text": [
            "ABcdcBA\n"
          ]
        }
      ]
    },
    {
      "cell_type": "markdown",
      "source": [
        "# **データ構造**"
      ],
      "metadata": {
        "id": "AYnTmTewKNEj"
      }
    },
    {
      "cell_type": "markdown",
      "source": [
        "## **データ構造**"
      ],
      "metadata": {
        "id": "8xNBkcs-MqXQ"
      }
    },
    {
      "cell_type": "code",
      "source": [
        "lst = [0, 1, 2, 3, 4, 5]"
      ],
      "metadata": {
        "id": "zhDNTf3OJuX8"
      },
      "execution_count": 26,
      "outputs": []
    },
    {
      "cell_type": "code",
      "source": [
        "# 指定して追加\n",
        "lst.insert(2, 'sakatai')\n",
        "print(lst)"
      ],
      "metadata": {
        "colab": {
          "base_uri": "https://localhost:8080/"
        },
        "id": "8GvcwUIFOZav",
        "outputId": "1027c0da-7f86-4aef-90e1-94c6e4a565be"
      },
      "execution_count": 27,
      "outputs": [
        {
          "output_type": "stream",
          "name": "stdout",
          "text": [
            "[0, 1, 'sakatai', 2, 3, 4, 5]\n"
          ]
        }
      ]
    },
    {
      "cell_type": "code",
      "source": [
        "# 末尾に追加\n",
        "lst.extend([6, 7, 8])\n",
        "print(lst)"
      ],
      "metadata": {
        "colab": {
          "base_uri": "https://localhost:8080/"
        },
        "id": "2xXO9fCFOmOi",
        "outputId": "379cdbaa-065d-45e2-b241-afb4cc86e1c5"
      },
      "execution_count": 29,
      "outputs": [
        {
          "output_type": "stream",
          "name": "stdout",
          "text": [
            "[0, 1, 'sakatai', 2, 3, 4, 5, 6, 7, 8]\n"
          ]
        }
      ]
    },
    {
      "cell_type": "code",
      "source": [
        "# 指定して削除\n",
        "del lst[2]\n",
        "print(lst)"
      ],
      "metadata": {
        "colab": {
          "base_uri": "https://localhost:8080/"
        },
        "id": "-6bzNkx3Oyvu",
        "outputId": "074745a1-3ef7-45ce-fc56-fd6f9a000125"
      },
      "execution_count": 30,
      "outputs": [
        {
          "output_type": "stream",
          "name": "stdout",
          "text": [
            "[0, 1, 2, 3, 4, 5, 6, 7, 8]\n"
          ]
        }
      ]
    },
    {
      "cell_type": "code",
      "source": [
        "# 要素を含むか判定\n",
        "'x' in lst"
      ],
      "metadata": {
        "colab": {
          "base_uri": "https://localhost:8080/"
        },
        "id": "OAW4n7vhPE5p",
        "outputId": "9a3d6e49-a38f-4d4c-9831-77bcdb20fc53"
      },
      "execution_count": 31,
      "outputs": [
        {
          "output_type": "execute_result",
          "data": {
            "text/plain": [
              "False"
            ]
          },
          "metadata": {},
          "execution_count": 31
        }
      ]
    },
    {
      "cell_type": "code",
      "source": [
        "len(lst)"
      ],
      "metadata": {
        "colab": {
          "base_uri": "https://localhost:8080/"
        },
        "id": "ZzmRTDhhPL1d",
        "outputId": "eaddad43-2d8a-46c4-f68b-be26e58a27ad"
      },
      "execution_count": 32,
      "outputs": [
        {
          "output_type": "execute_result",
          "data": {
            "text/plain": [
              "9"
            ]
          },
          "metadata": {},
          "execution_count": 32
        }
      ]
    },
    {
      "cell_type": "code",
      "source": [
        "a1 = [0, 1, 2]\n",
        "a2 = [4, 5, 6]\n",
        "a3 = a1 + a2\n",
        "print(a3)"
      ],
      "metadata": {
        "colab": {
          "base_uri": "https://localhost:8080/"
        },
        "id": "6rgX3f41PW_q",
        "outputId": "7059f7f9-0a74-487d-99f2-f67b1c5011f0"
      },
      "execution_count": 33,
      "outputs": [
        {
          "output_type": "stream",
          "name": "stdout",
          "text": [
            "[0, 1, 2, 4, 5, 6]\n"
          ]
        }
      ]
    },
    {
      "cell_type": "code",
      "source": [
        "['x'] * 10"
      ],
      "metadata": {
        "colab": {
          "base_uri": "https://localhost:8080/"
        },
        "id": "q50sM6otPoOT",
        "outputId": "12a5bbc9-d42d-4465-e453-a155ce210487"
      },
      "execution_count": 34,
      "outputs": [
        {
          "output_type": "execute_result",
          "data": {
            "text/plain": [
              "['x', 'x', 'x', 'x', 'x', 'x', 'x', 'x', 'x', 'x']"
            ]
          },
          "metadata": {},
          "execution_count": 34
        }
      ]
    },
    {
      "cell_type": "code",
      "source": [],
      "metadata": {
        "id": "P89wfL9hP_O2"
      },
      "execution_count": null,
      "outputs": []
    }
  ]
}